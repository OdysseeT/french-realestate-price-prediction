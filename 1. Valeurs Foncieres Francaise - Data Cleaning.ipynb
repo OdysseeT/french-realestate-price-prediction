{
 "cells": [
  {
   "cell_type": "markdown",
   "metadata": {},
   "source": [
    "# Etudes des valeurs foncières Française\n",
    "Liens: https://www.data.gouv.fr/fr/datasets/demandes-de-valeurs-foncieres/"
   ]
  },
  {
   "cell_type": "code",
   "execution_count": null,
   "metadata": {
    "ExecuteTime": {
     "end_time": "2020-03-21T00:25:18.823632Z",
     "start_time": "2020-03-21T00:25:18.820051Z"
    }
   },
   "outputs": [],
   "source": [
    "# Gather Latitude Longitude from Google Map (time/cost consuming)\n",
    "add_lat_long = False"
   ]
  },
  {
   "cell_type": "code",
   "execution_count": null,
   "metadata": {
    "ExecuteTime": {
     "end_time": "2020-03-21T00:25:21.132578Z",
     "start_time": "2020-03-21T00:25:19.753331Z"
    }
   },
   "outputs": [],
   "source": [
    "import numpy as np\n",
    "import pandas as pd\n",
    "import missingno as msno\n",
    "import glob\n",
    "from datetime import datetime"
   ]
  },
  {
   "cell_type": "markdown",
   "metadata": {},
   "source": [
    "## Chargement du fichiers des valeurs foncières"
   ]
  },
  {
   "cell_type": "code",
   "execution_count": null,
   "metadata": {
    "ExecuteTime": {
     "end_time": "2020-03-21T00:43:08.786265Z",
     "start_time": "2020-03-21T00:39:26.214452Z"
    }
   },
   "outputs": [],
   "source": [
    "dateparse = lambda x: datetime.strptime(x, '%d/%m/%Y') # 03/01/2018\n",
    "def_types = {'Code postal': 'category',\n",
    "             'B/T/Q': 'category',\n",
    "             'Nature mutation': 'category',\n",
    "             'Type de voie': 'category',\n",
    "             'Voie': 'category',\n",
    "             'Commune': 'category',\n",
    "             'Code departement': 'category',\n",
    "             'Type local': 'category',\n",
    "             'Nature culture': 'category',\n",
    "             'Nature culture speciale': 'category',\n",
    "             \n",
    "             'No voie': 'Int64',\n",
    "             'Surface Carrez du 1er lot':'Float16',\n",
    "             'Surface Carrez du 2eme lot':'Float16',\n",
    "             'Surface Carrez du 3eme lot':'Float16',\n",
    "             'Surface Carrez du 4eme lot':'Float16',\n",
    "             'Surface Carrez du 5eme lot':'Float16',\n",
    "             'Nombre de lots':'Int16',\n",
    "             'Nombre de lots':'Int16',\n",
    "             'Surface reelle bati': 'Float32',\n",
    "             'Nombre pieces principales': 'Int8',\n",
    "             'Surface terrain':'Float32'\n",
    "             #'Date mutation':'datetime64'\n",
    "            }\n",
    "col_exclude = ['Prefixe de section', 'Section', 'No plan',\n",
    "               'No Volume','No disposition','Code type local', 'Code voie', \n",
    "               '5eme lot', '4eme lot', '3eme lot', '2eme lot', '1er lot']\n",
    "all_files = glob.glob(\"data/*.txt\")\n",
    "df = pd.concat((pd.read_csv(f, sep='|', decimal=\",\", dtype=def_types, parse_dates=['Date mutation'], date_parser=dateparse, usecols=lambda col: col not in col_exclude) for f in all_files))\n",
    "#df = pd.read_csv('data/valeursfoncieres-2018.txt', sep='|', decimal=\",\", dtype=def_types, parse_dates=['Date mutation'], date_parser=dateparse)"
   ]
  },
  {
   "cell_type": "markdown",
   "metadata": {},
   "source": [
    "## Suppression des colonnes sans intérêt pour notre étude"
   ]
  },
  {
   "cell_type": "code",
   "execution_count": null,
   "metadata": {
    "ExecuteTime": {
     "end_time": "2020-03-21T00:45:06.966669Z",
     "start_time": "2020-03-21T00:44:49.755233Z"
    }
   },
   "outputs": [],
   "source": [
    "#df.drop(['voie', 'b/t/q'],axis=1, inplace=True)\n",
    "\n",
    "# Référence cadastrale de la parcelle\n",
    "df.drop(['Prefixe de section', 'Section', 'No plan', 'No Volume'],axis=1, inplace=True, errors='ignore') # Garde 'Code commune'\n",
    "\n",
    "# No de disposition\n",
    "df.drop(['No disposition'],axis=1, inplace=True, errors='ignore')\n",
    "\n",
    "# Nature culture (référence à un document externe)\n",
    "#df.drop(['nature_culture_speciale', 'nature_culture'],axis=1, inplace=True)\n",
    "\n",
    "# Suppression du 'Type local' en doublon avec le 'Code Type Local'\n",
    "df.drop(['Code type local'],axis=1, inplace=True, errors='ignore')\n",
    "\n",
    "# Suppression du 'Code voie'\n",
    "df.drop(['Code voie'],axis=1, inplace=True, errors='ignore')\n",
    "\n",
    "# Suppression du 'No voie'\n",
    "#df.drop(['no_voie'],axis=1, inplace=True)\n",
    "\n",
    "# Suppression de la 'Date mutation'\n",
    "#df.drop(['date_mutation'],axis=1, inplace=True)\n",
    "\n",
    "# Suppression de la 'Code commune' en doublon avec la categorie 'Commune'\n",
    "#df.drop(['code_commune'],axis=1, inplace=True)\n",
    "# Suppression de 'Commune' en doublon avec Commune\n",
    "#df.drop(['code_postal'],axis=1, inplace=True)\n",
    "\n",
    "# Suppression des 'lot'\n",
    "df.drop(['5eme lot'],axis=1, inplace=True, errors='ignore')\n",
    "df.drop(['4eme lot'],axis=1, inplace=True, errors='ignore')\n",
    "df.drop(['3eme lot'],axis=1, inplace=True, errors='ignore')\n",
    "df.drop(['2eme lot'],axis=1, inplace=True, errors='ignore')\n",
    "df.drop(['1er lot'],axis=1, inplace=True, errors='ignore')"
   ]
  },
  {
   "cell_type": "markdown",
   "metadata": {},
   "source": [
    "## Supression des colonnes sans données"
   ]
  },
  {
   "cell_type": "code",
   "execution_count": null,
   "metadata": {
    "ExecuteTime": {
     "end_time": "2020-03-21T00:45:24.822494Z",
     "start_time": "2020-03-21T00:45:18.946354Z"
    }
   },
   "outputs": [],
   "source": [
    "# Drop NaN columns\n",
    "orig_col = df.columns\n",
    "df.dropna(how='all', axis=1, inplace=True)\n",
    "print(\"Suppression de {} colonnes sans données:\".format(len(orig_col)-len(df.columns)))\n",
    "print([item for item in orig_col if item not in df.columns])"
   ]
  },
  {
   "cell_type": "code",
   "execution_count": null,
   "metadata": {
    "ExecuteTime": {
     "end_time": "2020-03-21T00:45:47.325460Z",
     "start_time": "2020-03-21T00:45:40.581317Z"
    }
   },
   "outputs": [],
   "source": [
    "# Suppression des lignes où il n'y a pas de 'valeurs foncières'\n",
    "indexNames = df[df['Valeur fonciere'].isnull()].index\n",
    "df.drop(indexNames, inplace=True)"
   ]
  },
  {
   "cell_type": "markdown",
   "metadata": {},
   "source": [
    "## Suppression des doublons"
   ]
  },
  {
   "cell_type": "code",
   "execution_count": null,
   "metadata": {
    "ExecuteTime": {
     "end_time": "2020-03-21T00:46:01.953097Z",
     "start_time": "2020-03-21T00:46:01.950089Z"
    }
   },
   "outputs": [],
   "source": [
    "#df[df.duplicated(keep=False)]"
   ]
  },
  {
   "cell_type": "code",
   "execution_count": null,
   "metadata": {
    "ExecuteTime": {
     "end_time": "2020-03-21T00:46:46.119580Z",
     "start_time": "2020-03-21T00:46:16.774910Z"
    }
   },
   "outputs": [],
   "source": [
    "# Drop duplicates\n",
    "initial_length = len(df)\n",
    "df.drop_duplicates(inplace=True)\n",
    "print(\"Suppression des doublons: {}\".format(initial_length-len(df)))"
   ]
  },
  {
   "cell_type": "markdown",
   "metadata": {},
   "source": [
    "#### Renomme les colonnes"
   ]
  },
  {
   "cell_type": "code",
   "execution_count": null,
   "metadata": {
    "ExecuteTime": {
     "end_time": "2020-03-21T00:47:00.899747Z",
     "start_time": "2020-03-21T00:46:59.926934Z"
    }
   },
   "outputs": [],
   "source": [
    "import unidecode\n",
    "\n",
    "columns = {}\n",
    "for index, column_name in enumerate(df.columns):\n",
    "    columns[column_name] = unidecode.unidecode(column_name.replace(' ','_').replace('\\'','_').lower())\n",
    "df.rename(columns=columns, inplace=True)"
   ]
  },
  {
   "cell_type": "markdown",
   "metadata": {},
   "source": [
    "#### Analyse"
   ]
  },
  {
   "cell_type": "code",
   "execution_count": null,
   "metadata": {
    "ExecuteTime": {
     "end_time": "2020-03-21T00:47:38.612738Z",
     "start_time": "2020-03-21T00:47:14.368800Z"
    },
    "scrolled": true
   },
   "outputs": [],
   "source": [
    "df.describe()"
   ]
  },
  {
   "cell_type": "code",
   "execution_count": null,
   "metadata": {
    "ExecuteTime": {
     "end_time": "2020-03-21T00:50:11.800300Z",
     "start_time": "2020-03-21T00:47:52.265201Z"
    }
   },
   "outputs": [],
   "source": [
    "df.info(verbose=False, memory_usage=\"deep\")"
   ]
  },
  {
   "cell_type": "markdown",
   "metadata": {},
   "source": [
    "## Nettoyage des données simple"
   ]
  },
  {
   "cell_type": "code",
   "execution_count": null,
   "metadata": {
    "ExecuteTime": {
     "end_time": "2020-03-21T00:50:25.289208Z",
     "start_time": "2020-03-21T00:50:25.282187Z"
    }
   },
   "outputs": [],
   "source": [
    "def missing_values_assessment(df):\n",
    "    nan_values = df.isnull().sum().sum()\n",
    "    print('Nombre d\\'observations: {:,}'.format(len(df)))\n",
    "    print('Nombre de valeurs: {:,}'.format(df.size))\n",
    "    print('Valeurs manquantes: {:,}'.format(nan_values))\n",
    "    print('Qualité des données: {}%'.format(100-round((nan_values/df.size)*100,2)))\n",
    "    print('Type de données:\\n {}%'.format(df.dtypes.value_counts()))\n",
    "    analysis = {'Manquant': df.isnull().sum(),\n",
    "                'Manquant %':round((df.isnull().sum()/len(df))*100, 2),\n",
    "                'Type':df.dtypes\n",
    "               }\n",
    "    return pd.DataFrame(analysis)"
   ]
  },
  {
   "cell_type": "markdown",
   "metadata": {},
   "source": [
    "#### Analyse des données manquantes"
   ]
  },
  {
   "cell_type": "code",
   "execution_count": null,
   "metadata": {
    "ExecuteTime": {
     "end_time": "2020-03-21T00:58:57.001675Z",
     "start_time": "2020-03-21T00:58:47.291559Z"
    },
    "scrolled": false
   },
   "outputs": [],
   "source": [
    "missing_values_assessment(df).sort_values('Manquant %', ascending=False)"
   ]
  },
  {
   "cell_type": "code",
   "execution_count": null,
   "metadata": {
    "ExecuteTime": {
     "end_time": "2020-03-21T00:51:01.841944Z",
     "start_time": "2020-03-21T00:51:01.491895Z"
    }
   },
   "outputs": [],
   "source": [
    "# Remplissage des mètres Carrez manquant avec zéro\n",
    "#df = df[df['Nombre de lots']<=5].dropna(how='all', axis=1)\n",
    "df['surface_carrez_du_5eme_lot'].fillna(0, inplace=True)\n",
    "df['surface_carrez_du_4eme_lot'].fillna(0, inplace=True)\n",
    "df['surface_carrez_du_3eme_lot'].fillna(0, inplace=True)\n",
    "df['surface_carrez_du_2eme_lot'].fillna(0, inplace=True)\n",
    "df['surface_carrez_du_1er_lot'].fillna(0, inplace=True)\n",
    "df['surface_reelle_bati'].fillna(0, inplace=True)\n",
    "df['surface_terrain'].fillna(0, inplace=True)\n",
    "df['nombre_pieces_principales'].fillna(0, inplace=True)"
   ]
  },
  {
   "cell_type": "code",
   "execution_count": null,
   "metadata": {},
   "outputs": [],
   "source": []
  },
  {
   "cell_type": "markdown",
   "metadata": {},
   "source": [
    "#### Analyse graphique des données manquantes"
   ]
  },
  {
   "cell_type": "code",
   "execution_count": null,
   "metadata": {
    "ExecuteTime": {
     "end_time": "2020-03-21T00:51:58.236568Z",
     "start_time": "2020-03-21T00:51:49.000658Z"
    }
   },
   "outputs": [],
   "source": [
    "msno.bar(df, sort='ascending')"
   ]
  },
  {
   "cell_type": "code",
   "execution_count": null,
   "metadata": {
    "ExecuteTime": {
     "end_time": "2020-03-21T00:55:33.209524Z",
     "start_time": "2020-03-21T00:52:12.506120Z"
    }
   },
   "outputs": [],
   "source": [
    "msno.matrix(df, sort='ascending')"
   ]
  },
  {
   "cell_type": "markdown",
   "metadata": {},
   "source": [
    "## Nettoyage de données fonctionnelles"
   ]
  },
  {
   "cell_type": "code",
   "execution_count": null,
   "metadata": {
    "ExecuteTime": {
     "end_time": "2020-03-21T00:59:52.740702Z",
     "start_time": "2020-03-21T00:59:51.901584Z"
    }
   },
   "outputs": [],
   "source": [
    "# Colonne 'B/T/Q'\n",
    "df.loc[df['b/t/q'].isin([',','/','*',\"'\",'-','.']), ['b/t/q']] = np.NaN"
   ]
  },
  {
   "cell_type": "code",
   "execution_count": null,
   "metadata": {
    "ExecuteTime": {
     "end_time": "2020-03-21T01:02:16.573518Z",
     "start_time": "2020-03-21T01:02:16.567163Z"
    }
   },
   "outputs": [],
   "source": [
    "df['code_departement'].dtypes"
   ]
  },
  {
   "cell_type": "code",
   "execution_count": null,
   "metadata": {
    "ExecuteTime": {
     "end_time": "2020-03-21T01:13:23.560489Z",
     "start_time": "2020-03-21T01:13:23.554161Z"
    }
   },
   "outputs": [],
   "source": [
    "df['code_departement'].dtype"
   ]
  },
  {
   "cell_type": "code",
   "execution_count": null,
   "metadata": {
    "ExecuteTime": {
     "end_time": "2020-03-21T01:17:34.259401Z",
     "start_time": "2020-03-21T01:17:25.735339Z"
    }
   },
   "outputs": [],
   "source": [
    "# Colonne Code Département\n",
    "df['code_departement'] = df['code_departement'].astype('str')\n",
    "df.loc[df['code_departement']=='2A', ['code_departement']] = '120'\n",
    "df.loc[df['code_departement']=='2B', ['code_departement']] = '121'\n",
    "df['code_departement'] = df['code_departement'].astype(np.int16) # Converti en int16 pour la mémoire"
   ]
  },
  {
   "cell_type": "code",
   "execution_count": null,
   "metadata": {
    "ExecuteTime": {
     "end_time": "2020-03-21T01:17:49.183043Z",
     "start_time": "2020-03-21T01:17:49.010640Z"
    }
   },
   "outputs": [],
   "source": [
    "# Colonne code commune\n",
    "df['code_commune'] = df['code_commune'].astype(np.int16)"
   ]
  },
  {
   "cell_type": "code",
   "execution_count": null,
   "metadata": {
    "ExecuteTime": {
     "end_time": "2020-03-21T01:18:19.989578Z",
     "start_time": "2020-03-21T01:18:16.666908Z"
    }
   },
   "outputs": [],
   "source": [
    "## Formatage du code postal\n",
    "df.code_postal=df.code_postal.apply(lambda x: '0{}'.format(x) if len(str(x))==4 else x)"
   ]
  },
  {
   "cell_type": "code",
   "execution_count": null,
   "metadata": {
    "ExecuteTime": {
     "end_time": "2020-03-21T01:18:35.464652Z",
     "start_time": "2020-03-21T01:18:34.784931Z"
    }
   },
   "outputs": [],
   "source": [
    "category_cols = df.select_dtypes(include=['object','category'])"
   ]
  },
  {
   "cell_type": "code",
   "execution_count": null,
   "metadata": {
    "ExecuteTime": {
     "end_time": "2020-03-21T01:18:49.748334Z",
     "start_time": "2020-03-21T01:18:49.722036Z"
    }
   },
   "outputs": [],
   "source": [
    "category_cols"
   ]
  },
  {
   "cell_type": "code",
   "execution_count": null,
   "metadata": {
    "ExecuteTime": {
     "end_time": "2020-03-21T01:19:08.687830Z",
     "start_time": "2020-03-21T01:19:04.590171Z"
    }
   },
   "outputs": [],
   "source": [
    "for cat in category_cols.columns:\n",
    "    cat_val = df[cat].unique()\n",
    "    print('{} ({}):'.format(cat,len(cat_val)))\n",
    "    print('{}\\n'.format(cat_val))"
   ]
  },
  {
   "cell_type": "code",
   "execution_count": null,
   "metadata": {
    "ExecuteTime": {
     "end_time": "2020-03-21T01:24:52.447360Z",
     "start_time": "2020-03-21T01:24:50.126160Z"
    }
   },
   "outputs": [],
   "source": [
    "df.info()"
   ]
  },
  {
   "cell_type": "markdown",
   "metadata": {},
   "source": [
    "### Feature engineering Address"
   ]
  },
  {
   "cell_type": "code",
   "execution_count": null,
   "metadata": {
    "ExecuteTime": {
     "end_time": "2020-03-21T01:24:24.982268Z",
     "start_time": "2020-03-21T01:24:20.492457Z"
    }
   },
   "outputs": [],
   "source": [
    "df['address']=(df['no_voie'].map(str).replace('nan','') +  ' ' + \\\n",
    "    df['b/t/q'].fillna('') +  ' ' + \\\n",
    "    df['type_de_voie'].fillna('') +  ' ' + \\\n",
    "    df['voie'].fillna('') +  ', ' + \\\n",
    "    df['code_postal'].astype('str').replace('nan','') +  ' ' + \\\n",
    "    df['commune'].fillna('')).str.strip()"
   ]
  },
  {
   "cell_type": "code",
   "execution_count": null,
   "metadata": {
    "ExecuteTime": {
     "end_time": "2020-03-19T18:49:52.314891Z",
     "start_time": "2020-03-19T18:49:46.854733Z"
    }
   },
   "outputs": [],
   "source": [
    "# Supprime les colonnes qu'on ne réutilisera pas\n",
    "df.drop(['no_voie', 'b/t/q', 'voie', 'commune'],axis=1, inplace=True)"
   ]
  },
  {
   "cell_type": "code",
   "execution_count": null,
   "metadata": {
    "ExecuteTime": {
     "end_time": "2020-03-19T18:49:53.519236Z",
     "start_time": "2020-03-19T18:49:52.316626Z"
    },
    "scrolled": true
   },
   "outputs": [],
   "source": [
    "from geopy.exc import GeocoderTimedOut\n",
    "from geopy.geocoders import GoogleV3\n",
    "\n",
    "cache_file = 'data/cache.dat'\n",
    "\n",
    "def save_locations(df):\n",
    "    df.to_csv(cache_file, index = None, header=True)\n",
    "\n",
    "def load_locations():\n",
    "    try:\n",
    "        return pd.read_csv(cache_file)\n",
    "    except:\n",
    "        print('{} doesn\\'t exist or is empty - creating a new dataframe'.format(cache_file))\n",
    "        return pd.DataFrame(columns=['latitude','longitude','address', 'address_unformatted'])\n",
    "\n",
    "with open('google_api_key.txt') as f:\n",
    "    google_api_key = f.readline()\n",
    "\n",
    "def add_locations(df, location, address):\n",
    "    return df.append({'latitude':location.latitude,\n",
    "               'longitude':location.longitude,\n",
    "               'address':location.address,\n",
    "                'address_unformatted':address},\n",
    "              ignore_index=True)\n",
    "    \n",
    "def get_geocode(df, address):\n",
    "    location = df[df['address_unformatted']==address]\n",
    "    if not location.empty :\n",
    "        return df, location\n",
    "    #print('Address not in cache, requesting GeoPy')\n",
    "    geopy = GoogleV3(api_key=google_api_key)\n",
    "    try:\n",
    "        location = geopy.geocode(address)\n",
    "        df = add_locations(df, location, address)\n",
    "    except Exception as e:\n",
    "        print('Exception on address: {}'.format(address))\n",
    "        traceback.print_exc()\n",
    "    return df, location"
   ]
  },
  {
   "cell_type": "code",
   "execution_count": null,
   "metadata": {
    "ExecuteTime": {
     "end_time": "2020-03-19T18:49:53.525886Z",
     "start_time": "2020-03-19T18:49:53.522205Z"
    }
   },
   "outputs": [],
   "source": [
    "if add_lat_long: \n",
    "    df['latitude'] = np.nan\n",
    "    df.latitude = df.latitude.astype('float')\n",
    "    df['longitude'] = np.nan\n",
    "    df.longitude = df.longitude.astype('float')\n",
    "    df['address_formatted'] = np.nan"
   ]
  },
  {
   "cell_type": "code",
   "execution_count": null,
   "metadata": {
    "ExecuteTime": {
     "end_time": "2020-03-19T18:49:53.534061Z",
     "start_time": "2020-03-19T18:49:53.528145Z"
    },
    "scrolled": true
   },
   "outputs": [],
   "source": [
    "if add_lat_long:\n",
    "    for index, row in df.iterrows():\n",
    "        address = row['address']\n",
    "        #print('Searching address:{}'.format(row['address']))\n",
    "        geolocation_df, location = get_geocode(geolocation_df, address)\n",
    "        try:\n",
    "            if location is not None:\n",
    "                df.at[index, 'latitude'] = location.latitude\n",
    "                df.at[index, 'longitude'] = location.longitude\n",
    "                df.at[index, 'address_formatted'] = location.address\n",
    "        except Exception as e:\n",
    "            print('Exception on address [{}]: {}'.format(index, row['address']))\n",
    "            traceback.print_exc()\n",
    "        if index%100==0:\n",
    "            print('Saving - index: {}'.format(index))\n",
    "            save_locations(geolocation_df)"
   ]
  },
  {
   "cell_type": "code",
   "execution_count": null,
   "metadata": {
    "ExecuteTime": {
     "end_time": "2020-03-19T18:50:04.209023Z",
     "start_time": "2020-03-19T18:49:53.536757Z"
    }
   },
   "outputs": [],
   "source": [
    "missing_values_assessment(df).sort_values('Manquant %', ascending=False)"
   ]
  },
  {
   "cell_type": "code",
   "execution_count": null,
   "metadata": {},
   "outputs": [],
   "source": []
  },
  {
   "cell_type": "code",
   "execution_count": null,
   "metadata": {},
   "outputs": [],
   "source": []
  },
  {
   "cell_type": "code",
   "execution_count": null,
   "metadata": {},
   "outputs": [],
   "source": []
  },
  {
   "cell_type": "code",
   "execution_count": null,
   "metadata": {},
   "outputs": [],
   "source": []
  },
  {
   "cell_type": "code",
   "execution_count": null,
   "metadata": {},
   "outputs": [],
   "source": []
  },
  {
   "cell_type": "markdown",
   "metadata": {},
   "source": [
    "### Catégories"
   ]
  },
  {
   "cell_type": "code",
   "execution_count": null,
   "metadata": {
    "ExecuteTime": {
     "end_time": "2020-03-21T01:23:49.618208Z",
     "start_time": "2020-03-21T01:23:36.459798Z"
    }
   },
   "outputs": [],
   "source": [
    "df = pd.get_dummies(df, columns=['nature_mutation'])\n",
    "df = pd.get_dummies(df, columns=['b/t/q'])\n",
    "#df = pd.get_dummies(df, columns=['type_de_voie'])\n",
    "df = pd.get_dummies(df, columns=['type_local'])\n",
    "df = pd.get_dummies(df, columns=['nature_culture'])\n",
    "df = pd.get_dummies(df, columns=['nature_culture_speciale'])"
   ]
  },
  {
   "cell_type": "markdown",
   "metadata": {},
   "source": [
    "#### Ajout des données INSEE"
   ]
  },
  {
   "cell_type": "code",
   "execution_count": null,
   "metadata": {
    "ExecuteTime": {
     "end_time": "2020-03-20T09:35:28.768244Z",
     "start_time": "2020-03-20T09:19:28.813385Z"
    }
   },
   "outputs": [],
   "source": [
    "df = df.merge(df_commune, how='left', left_on=['Code postal'], right_on=['Code Postal'])"
   ]
  },
  {
   "cell_type": "code",
   "execution_count": null,
   "metadata": {},
   "outputs": [],
   "source": [
    "# Clean up a bit before merging\n",
    "df_commune.drop(['Statut','geo_shape','ID Geofla','Code Commune','Code Département','Département','Région', 'Commune', 'Code INSEE'],axis=1, inplace=True)"
   ]
  },
  {
   "cell_type": "code",
   "execution_count": null,
   "metadata": {
    "ExecuteTime": {
     "end_time": "2020-03-20T09:14:38.529533Z",
     "start_time": "2020-03-20T09:14:38.000368Z"
    }
   },
   "outputs": [],
   "source": [
    "file_insee = 'data/correspondance-code-insee-code-postal.csv'\n",
    "df_commune = pd.read_csv(file_insee, sep=';', decimal=\".\")"
   ]
  },
  {
   "cell_type": "markdown",
   "metadata": {},
   "source": [
    "## Save the file"
   ]
  },
  {
   "cell_type": "code",
   "execution_count": null,
   "metadata": {
    "ExecuteTime": {
     "end_time": "2020-03-19T18:52:59.048933Z",
     "start_time": "2020-03-19T18:50:04.211312Z"
    }
   },
   "outputs": [],
   "source": [
    "df.to_csv(r'data/valeursfoncieres-clean-df.csv', index = None, header=True)"
   ]
  },
  {
   "cell_type": "code",
   "execution_count": null,
   "metadata": {},
   "outputs": [],
   "source": []
  },
  {
   "cell_type": "code",
   "execution_count": null,
   "metadata": {},
   "outputs": [],
   "source": []
  },
  {
   "cell_type": "code",
   "execution_count": null,
   "metadata": {},
   "outputs": [],
   "source": []
  },
  {
   "cell_type": "code",
   "execution_count": null,
   "metadata": {},
   "outputs": [],
   "source": []
  },
  {
   "cell_type": "code",
   "execution_count": null,
   "metadata": {
    "ExecuteTime": {
     "end_time": "2020-03-19T22:53:04.652944Z",
     "start_time": "2020-03-19T22:52:54.322029Z"
    }
   },
   "outputs": [],
   "source": [
    "df['code_departement'] = df['code_departement'].astype(str)\n",
    "df[\"code_commune\"] = df['code_commune'].astype(str)\n",
    "df['code_departement'] = df['code_departement'].apply(lambda x: '0'+x if len(x)==1 else x)\n",
    "df['code_commune'] = df['code_commune'].apply(lambda x: x+'0' if len(x)==2 else x)\n",
    "df['code_commune'] = df['code_commune'].apply(lambda x: x+'00' if len(x)==1 else x)"
   ]
  },
  {
   "cell_type": "code",
   "execution_count": null,
   "metadata": {
    "ExecuteTime": {
     "end_time": "2020-03-19T22:53:44.284344Z",
     "start_time": "2020-03-19T22:53:39.816997Z"
    }
   },
   "outputs": [],
   "source": [
    "df[\"code_commune_long\"] = df[\"code_departement\"] + df[\"code_commune\"]"
   ]
  },
  {
   "cell_type": "code",
   "execution_count": null,
   "metadata": {
    "ExecuteTime": {
     "end_time": "2020-03-19T22:54:21.084820Z",
     "start_time": "2020-03-19T22:54:21.073009Z"
    }
   },
   "outputs": [],
   "source": [
    "df['code_commune_long'].sort_values"
   ]
  },
  {
   "cell_type": "code",
   "execution_count": null,
   "metadata": {
    "ExecuteTime": {
     "end_time": "2020-03-19T22:54:56.145602Z",
     "start_time": "2020-03-19T22:54:55.418014Z"
    }
   },
   "outputs": [],
   "source": [
    "from numpy import savetxt\n",
    "code_commune_long = df['code_commune_long'].unique()"
   ]
  },
  {
   "cell_type": "markdown",
   "metadata": {},
   "source": [
    "### Suppression des données  plus utilisés"
   ]
  },
  {
   "cell_type": "code",
   "execution_count": null,
   "metadata": {},
   "outputs": [],
   "source": [
    "# Nous n'avons plus besoin du code postal car nous avons le code commune et le code département\n",
    "df.drop(['code_postal'],axis=1, inplace=True)\n"
   ]
  },
  {
   "cell_type": "code",
   "execution_count": null,
   "metadata": {
    "ExecuteTime": {
     "end_time": "2020-03-19T22:55:29.631110Z",
     "start_time": "2020-03-19T22:55:29.577206Z"
    }
   },
   "outputs": [],
   "source": [
    "savetxt('data/code_commune.csv', code_commune_long, delimiter=',', fmt='\"%s\"')"
   ]
  },
  {
   "cell_type": "code",
   "execution_count": null,
   "metadata": {},
   "outputs": [],
   "source": []
  }
 ],
 "metadata": {
  "kernelspec": {
   "display_name": "Python 3",
   "language": "python",
   "name": "python3"
  },
  "language_info": {
   "codemirror_mode": {
    "name": "ipython",
    "version": 3
   },
   "file_extension": ".py",
   "mimetype": "text/x-python",
   "name": "python",
   "nbconvert_exporter": "python",
   "pygments_lexer": "ipython3",
   "version": "3.7.5"
  },
  "toc": {
   "base_numbering": 1,
   "nav_menu": {
    "height": "438px",
    "width": "631px"
   },
   "number_sections": true,
   "sideBar": true,
   "skip_h1_title": false,
   "title_cell": "Table of Contents",
   "title_sidebar": "Contents",
   "toc_cell": false,
   "toc_position": {
    "height": "calc(100% - 180px)",
    "left": "10px",
    "top": "150px",
    "width": "257px"
   },
   "toc_section_display": true,
   "toc_window_display": false
  },
  "varInspector": {
   "cols": {
    "lenName": 16,
    "lenType": 16,
    "lenVar": 40
   },
   "kernels_config": {
    "python": {
     "delete_cmd_postfix": "",
     "delete_cmd_prefix": "del ",
     "library": "var_list.py",
     "varRefreshCmd": "print(var_dic_list())"
    },
    "r": {
     "delete_cmd_postfix": ") ",
     "delete_cmd_prefix": "rm(",
     "library": "var_list.r",
     "varRefreshCmd": "cat(var_dic_list()) "
    }
   },
   "types_to_exclude": [
    "module",
    "function",
    "builtin_function_or_method",
    "instance",
    "_Feature"
   ],
   "window_display": false
  }
 },
 "nbformat": 4,
 "nbformat_minor": 2
}
