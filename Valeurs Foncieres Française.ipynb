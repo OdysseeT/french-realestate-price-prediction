{
 "cells": [
  {
   "cell_type": "markdown",
   "metadata": {},
   "source": [
    "# Etudes des valeurs foncières Française\n",
    "### Liens: https://www.data.gouv.fr/fr/datasets/demandes-de-valeurs-foncieres/"
   ]
  },
  {
   "cell_type": "code",
   "execution_count": 81,
   "metadata": {},
   "outputs": [],
   "source": [
    "import numpy as np\n",
    "from sklearn import datasets\n",
    "import matplotlib.pyplot as plt\n",
    "from sklearn.neighbors import KNeighborsClassifier\n",
    "from sklearn.model_selection import train_test_split\n",
    "import pandas as pd\n",
    "import seaborn as sns\n",
    "import missingno as msno"
   ]
  },
  {
   "cell_type": "markdown",
   "metadata": {},
   "source": [
    "#### Chargement du fichiers des valeurs foncières de 2018"
   ]
  },
  {
   "cell_type": "code",
   "execution_count": 82,
   "metadata": {},
   "outputs": [
    {
     "name": "stderr",
     "output_type": "stream",
     "text": [
      "/Users/odyssee/opt/anaconda3/lib/python3.7/site-packages/IPython/core/interactiveshell.py:3051: DtypeWarning: Columns (18,23,24,26,28,32,41) have mixed types. Specify dtype option on import or set low_memory=False.\n",
      "  interactivity=interactivity, compiler=compiler, result=result)\n"
     ]
    }
   ],
   "source": [
    "dateparse = lambda x: pd.datetime.strptime(x, '%d/%m/%Y') # 03/01/2018\n",
    "types = {'No voie':'category', \n",
    "         'Type de voie':'category',\n",
    "         'Code postal': 'category',\n",
    "         'Nature mutation': 'category',\n",
    "         'Commune':'category'\n",
    "        }\n",
    "\n",
    "\n",
    "df = pd.read_csv('valeursfoncieres-2018.txt', sep='|', decimal=\",\", parse_dates=['Date mutation'], date_parser=dateparse,\n",
    "                 dtype=types)"
   ]
  },
  {
   "cell_type": "code",
   "execution_count": 83,
   "metadata": {
    "scrolled": true
   },
   "outputs": [
    {
     "data": {
      "text/html": [
       "<div>\n",
       "<style scoped>\n",
       "    .dataframe tbody tr th:only-of-type {\n",
       "        vertical-align: middle;\n",
       "    }\n",
       "\n",
       "    .dataframe tbody tr th {\n",
       "        vertical-align: top;\n",
       "    }\n",
       "\n",
       "    .dataframe thead th {\n",
       "        text-align: right;\n",
       "    }\n",
       "</style>\n",
       "<table border=\"1\" class=\"dataframe\">\n",
       "  <thead>\n",
       "    <tr style=\"text-align: right;\">\n",
       "      <th></th>\n",
       "      <th>Code service CH</th>\n",
       "      <th>Reference document</th>\n",
       "      <th>1 Articles CGI</th>\n",
       "      <th>2 Articles CGI</th>\n",
       "      <th>3 Articles CGI</th>\n",
       "      <th>4 Articles CGI</th>\n",
       "      <th>5 Articles CGI</th>\n",
       "      <th>No disposition</th>\n",
       "      <th>Valeur fonciere</th>\n",
       "      <th>Code commune</th>\n",
       "      <th>...</th>\n",
       "      <th>Surface Carrez du 3eme lot</th>\n",
       "      <th>4eme lot</th>\n",
       "      <th>Surface Carrez du 4eme lot</th>\n",
       "      <th>Surface Carrez du 5eme lot</th>\n",
       "      <th>Nombre de lots</th>\n",
       "      <th>Code type local</th>\n",
       "      <th>Identifiant local</th>\n",
       "      <th>Surface reelle bati</th>\n",
       "      <th>Nombre pieces principales</th>\n",
       "      <th>Surface terrain</th>\n",
       "    </tr>\n",
       "  </thead>\n",
       "  <tbody>\n",
       "    <tr>\n",
       "      <th>count</th>\n",
       "      <td>0.0</td>\n",
       "      <td>0.0</td>\n",
       "      <td>0.0</td>\n",
       "      <td>0.0</td>\n",
       "      <td>0.0</td>\n",
       "      <td>0.0</td>\n",
       "      <td>0.0</td>\n",
       "      <td>3.059537e+06</td>\n",
       "      <td>3.031420e+06</td>\n",
       "      <td>3.059537e+06</td>\n",
       "      <td>...</td>\n",
       "      <td>6335.000000</td>\n",
       "      <td>11113.000000</td>\n",
       "      <td>1679.000000</td>\n",
       "      <td>692.000000</td>\n",
       "      <td>3.059537e+06</td>\n",
       "      <td>1.600879e+06</td>\n",
       "      <td>0.0</td>\n",
       "      <td>1.598359e+06</td>\n",
       "      <td>1.598359e+06</td>\n",
       "      <td>2.113094e+06</td>\n",
       "    </tr>\n",
       "    <tr>\n",
       "      <th>mean</th>\n",
       "      <td>NaN</td>\n",
       "      <td>NaN</td>\n",
       "      <td>NaN</td>\n",
       "      <td>NaN</td>\n",
       "      <td>NaN</td>\n",
       "      <td>NaN</td>\n",
       "      <td>NaN</td>\n",
       "      <td>1.226614e+00</td>\n",
       "      <td>8.052352e+05</td>\n",
       "      <td>2.106752e+02</td>\n",
       "      <td>...</td>\n",
       "      <td>86.268249</td>\n",
       "      <td>161.796995</td>\n",
       "      <td>120.495747</td>\n",
       "      <td>124.533757</td>\n",
       "      <td>3.887990e-01</td>\n",
       "      <td>2.001269e+00</td>\n",
       "      <td>NaN</td>\n",
       "      <td>8.908261e+01</td>\n",
       "      <td>2.420266e+00</td>\n",
       "      <td>3.142064e+03</td>\n",
       "    </tr>\n",
       "    <tr>\n",
       "      <th>std</th>\n",
       "      <td>NaN</td>\n",
       "      <td>NaN</td>\n",
       "      <td>NaN</td>\n",
       "      <td>NaN</td>\n",
       "      <td>NaN</td>\n",
       "      <td>NaN</td>\n",
       "      <td>NaN</td>\n",
       "      <td>5.186802e+00</td>\n",
       "      <td>1.256333e+07</td>\n",
       "      <td>1.686545e+02</td>\n",
       "      <td>...</td>\n",
       "      <td>247.014792</td>\n",
       "      <td>2307.553061</td>\n",
       "      <td>370.563012</td>\n",
       "      <td>419.637928</td>\n",
       "      <td>8.309734e-01</td>\n",
       "      <td>9.494939e-01</td>\n",
       "      <td>NaN</td>\n",
       "      <td>7.226763e+02</td>\n",
       "      <td>2.095140e+00</td>\n",
       "      <td>1.470640e+04</td>\n",
       "    </tr>\n",
       "    <tr>\n",
       "      <th>min</th>\n",
       "      <td>NaN</td>\n",
       "      <td>NaN</td>\n",
       "      <td>NaN</td>\n",
       "      <td>NaN</td>\n",
       "      <td>NaN</td>\n",
       "      <td>NaN</td>\n",
       "      <td>NaN</td>\n",
       "      <td>1.000000e+00</td>\n",
       "      <td>1.500000e-01</td>\n",
       "      <td>1.000000e+00</td>\n",
       "      <td>...</td>\n",
       "      <td>0.400000</td>\n",
       "      <td>2.000000</td>\n",
       "      <td>0.400000</td>\n",
       "      <td>0.600000</td>\n",
       "      <td>0.000000e+00</td>\n",
       "      <td>1.000000e+00</td>\n",
       "      <td>NaN</td>\n",
       "      <td>0.000000e+00</td>\n",
       "      <td>0.000000e+00</td>\n",
       "      <td>0.000000e+00</td>\n",
       "    </tr>\n",
       "    <tr>\n",
       "      <th>25%</th>\n",
       "      <td>NaN</td>\n",
       "      <td>NaN</td>\n",
       "      <td>NaN</td>\n",
       "      <td>NaN</td>\n",
       "      <td>NaN</td>\n",
       "      <td>NaN</td>\n",
       "      <td>NaN</td>\n",
       "      <td>1.000000e+00</td>\n",
       "      <td>5.500000e+04</td>\n",
       "      <td>7.500000e+01</td>\n",
       "      <td>...</td>\n",
       "      <td>39.310000</td>\n",
       "      <td>7.000000</td>\n",
       "      <td>37.000000</td>\n",
       "      <td>30.707500</td>\n",
       "      <td>0.000000e+00</td>\n",
       "      <td>1.000000e+00</td>\n",
       "      <td>NaN</td>\n",
       "      <td>1.200000e+01</td>\n",
       "      <td>0.000000e+00</td>\n",
       "      <td>2.370000e+02</td>\n",
       "    </tr>\n",
       "    <tr>\n",
       "      <th>50%</th>\n",
       "      <td>NaN</td>\n",
       "      <td>NaN</td>\n",
       "      <td>NaN</td>\n",
       "      <td>NaN</td>\n",
       "      <td>NaN</td>\n",
       "      <td>NaN</td>\n",
       "      <td>NaN</td>\n",
       "      <td>1.000000e+00</td>\n",
       "      <td>1.420000e+05</td>\n",
       "      <td>1.740000e+02</td>\n",
       "      <td>...</td>\n",
       "      <td>61.690000</td>\n",
       "      <td>23.000000</td>\n",
       "      <td>67.000000</td>\n",
       "      <td>61.275000</td>\n",
       "      <td>0.000000e+00</td>\n",
       "      <td>2.000000e+00</td>\n",
       "      <td>NaN</td>\n",
       "      <td>6.000000e+01</td>\n",
       "      <td>3.000000e+00</td>\n",
       "      <td>6.280000e+02</td>\n",
       "    </tr>\n",
       "    <tr>\n",
       "      <th>75%</th>\n",
       "      <td>NaN</td>\n",
       "      <td>NaN</td>\n",
       "      <td>NaN</td>\n",
       "      <td>NaN</td>\n",
       "      <td>NaN</td>\n",
       "      <td>NaN</td>\n",
       "      <td>NaN</td>\n",
       "      <td>1.000000e+00</td>\n",
       "      <td>2.570000e+05</td>\n",
       "      <td>3.000000e+02</td>\n",
       "      <td>...</td>\n",
       "      <td>88.520000</td>\n",
       "      <td>67.000000</td>\n",
       "      <td>106.740000</td>\n",
       "      <td>113.175000</td>\n",
       "      <td>1.000000e+00</td>\n",
       "      <td>3.000000e+00</td>\n",
       "      <td>NaN</td>\n",
       "      <td>9.400000e+01</td>\n",
       "      <td>4.000000e+00</td>\n",
       "      <td>1.935000e+03</td>\n",
       "    </tr>\n",
       "    <tr>\n",
       "      <th>max</th>\n",
       "      <td>NaN</td>\n",
       "      <td>NaN</td>\n",
       "      <td>NaN</td>\n",
       "      <td>NaN</td>\n",
       "      <td>NaN</td>\n",
       "      <td>NaN</td>\n",
       "      <td>NaN</td>\n",
       "      <td>3.620000e+02</td>\n",
       "      <td>1.256966e+09</td>\n",
       "      <td>9.090000e+02</td>\n",
       "      <td>...</td>\n",
       "      <td>8284.000000</td>\n",
       "      <td>161313.000000</td>\n",
       "      <td>4331.400000</td>\n",
       "      <td>8188.000000</td>\n",
       "      <td>3.300000e+02</td>\n",
       "      <td>4.000000e+00</td>\n",
       "      <td>NaN</td>\n",
       "      <td>2.778140e+05</td>\n",
       "      <td>9.000000e+01</td>\n",
       "      <td>4.625500e+06</td>\n",
       "    </tr>\n",
       "  </tbody>\n",
       "</table>\n",
       "<p>8 rows × 24 columns</p>\n",
       "</div>"
      ],
      "text/plain": [
       "       Code service CH  Reference document  1 Articles CGI  2 Articles CGI  \\\n",
       "count              0.0                 0.0             0.0             0.0   \n",
       "mean               NaN                 NaN             NaN             NaN   \n",
       "std                NaN                 NaN             NaN             NaN   \n",
       "min                NaN                 NaN             NaN             NaN   \n",
       "25%                NaN                 NaN             NaN             NaN   \n",
       "50%                NaN                 NaN             NaN             NaN   \n",
       "75%                NaN                 NaN             NaN             NaN   \n",
       "max                NaN                 NaN             NaN             NaN   \n",
       "\n",
       "       3 Articles CGI  4 Articles CGI  5 Articles CGI  No disposition  \\\n",
       "count             0.0             0.0             0.0    3.059537e+06   \n",
       "mean              NaN             NaN             NaN    1.226614e+00   \n",
       "std               NaN             NaN             NaN    5.186802e+00   \n",
       "min               NaN             NaN             NaN    1.000000e+00   \n",
       "25%               NaN             NaN             NaN    1.000000e+00   \n",
       "50%               NaN             NaN             NaN    1.000000e+00   \n",
       "75%               NaN             NaN             NaN    1.000000e+00   \n",
       "max               NaN             NaN             NaN    3.620000e+02   \n",
       "\n",
       "       Valeur fonciere  Code commune  ...  Surface Carrez du 3eme lot  \\\n",
       "count     3.031420e+06  3.059537e+06  ...                 6335.000000   \n",
       "mean      8.052352e+05  2.106752e+02  ...                   86.268249   \n",
       "std       1.256333e+07  1.686545e+02  ...                  247.014792   \n",
       "min       1.500000e-01  1.000000e+00  ...                    0.400000   \n",
       "25%       5.500000e+04  7.500000e+01  ...                   39.310000   \n",
       "50%       1.420000e+05  1.740000e+02  ...                   61.690000   \n",
       "75%       2.570000e+05  3.000000e+02  ...                   88.520000   \n",
       "max       1.256966e+09  9.090000e+02  ...                 8284.000000   \n",
       "\n",
       "            4eme lot  Surface Carrez du 4eme lot  Surface Carrez du 5eme lot  \\\n",
       "count   11113.000000                 1679.000000                  692.000000   \n",
       "mean      161.796995                  120.495747                  124.533757   \n",
       "std      2307.553061                  370.563012                  419.637928   \n",
       "min         2.000000                    0.400000                    0.600000   \n",
       "25%         7.000000                   37.000000                   30.707500   \n",
       "50%        23.000000                   67.000000                   61.275000   \n",
       "75%        67.000000                  106.740000                  113.175000   \n",
       "max    161313.000000                 4331.400000                 8188.000000   \n",
       "\n",
       "       Nombre de lots  Code type local  Identifiant local  \\\n",
       "count    3.059537e+06     1.600879e+06                0.0   \n",
       "mean     3.887990e-01     2.001269e+00                NaN   \n",
       "std      8.309734e-01     9.494939e-01                NaN   \n",
       "min      0.000000e+00     1.000000e+00                NaN   \n",
       "25%      0.000000e+00     1.000000e+00                NaN   \n",
       "50%      0.000000e+00     2.000000e+00                NaN   \n",
       "75%      1.000000e+00     3.000000e+00                NaN   \n",
       "max      3.300000e+02     4.000000e+00                NaN   \n",
       "\n",
       "       Surface reelle bati  Nombre pieces principales  Surface terrain  \n",
       "count         1.598359e+06               1.598359e+06     2.113094e+06  \n",
       "mean          8.908261e+01               2.420266e+00     3.142064e+03  \n",
       "std           7.226763e+02               2.095140e+00     1.470640e+04  \n",
       "min           0.000000e+00               0.000000e+00     0.000000e+00  \n",
       "25%           1.200000e+01               0.000000e+00     2.370000e+02  \n",
       "50%           6.000000e+01               3.000000e+00     6.280000e+02  \n",
       "75%           9.400000e+01               4.000000e+00     1.935000e+03  \n",
       "max           2.778140e+05               9.000000e+01     4.625500e+06  \n",
       "\n",
       "[8 rows x 24 columns]"
      ]
     },
     "execution_count": 83,
     "metadata": {},
     "output_type": "execute_result"
    }
   ],
   "source": [
    "df.describe()"
   ]
  },
  {
   "cell_type": "code",
   "execution_count": 84,
   "metadata": {},
   "outputs": [
    {
     "name": "stdout",
     "output_type": "stream",
     "text": [
      "<class 'pandas.core.frame.DataFrame'>\n",
      "RangeIndex: 3059537 entries, 0 to 3059536\n",
      "Data columns (total 43 columns):\n",
      "Code service CH               float64\n",
      "Reference document            float64\n",
      "1 Articles CGI                float64\n",
      "2 Articles CGI                float64\n",
      "3 Articles CGI                float64\n",
      "4 Articles CGI                float64\n",
      "5 Articles CGI                float64\n",
      "No disposition                int64\n",
      "Date mutation                 datetime64[ns]\n",
      "Nature mutation               category\n",
      "Valeur fonciere               float64\n",
      "No voie                       category\n",
      "B/T/Q                         object\n",
      "Type de voie                  category\n",
      "Code voie                     object\n",
      "Voie                          object\n",
      "Code postal                   category\n",
      "Commune                       category\n",
      "Code departement              object\n",
      "Code commune                  int64\n",
      "Prefixe de section            float64\n",
      "Section                       object\n",
      "No plan                       int64\n",
      "No Volume                     object\n",
      "1er lot                       object\n",
      "Surface Carrez du 1er lot     float64\n",
      "2eme lot                      object\n",
      "Surface Carrez du 2eme lot    float64\n",
      "3eme lot                      object\n",
      "Surface Carrez du 3eme lot    float64\n",
      "4eme lot                      float64\n",
      "Surface Carrez du 4eme lot    float64\n",
      "5eme lot                      object\n",
      "Surface Carrez du 5eme lot    float64\n",
      "Nombre de lots                int64\n",
      "Code type local               float64\n",
      "Type local                    object\n",
      "Identifiant local             float64\n",
      "Surface reelle bati           float64\n",
      "Nombre pieces principales     float64\n",
      "Nature culture                object\n",
      "Nature culture speciale       object\n",
      "Surface terrain               float64\n",
      "dtypes: category(5), datetime64[ns](1), float64(20), int64(4), object(13)\n",
      "memory usage: 915.3+ MB\n"
     ]
    }
   ],
   "source": [
    "df.info()"
   ]
  },
  {
   "cell_type": "code",
   "execution_count": 85,
   "metadata": {},
   "outputs": [
    {
     "data": {
      "text/html": [
       "<div>\n",
       "<style scoped>\n",
       "    .dataframe tbody tr th:only-of-type {\n",
       "        vertical-align: middle;\n",
       "    }\n",
       "\n",
       "    .dataframe tbody tr th {\n",
       "        vertical-align: top;\n",
       "    }\n",
       "\n",
       "    .dataframe thead th {\n",
       "        text-align: right;\n",
       "    }\n",
       "</style>\n",
       "<table border=\"1\" class=\"dataframe\">\n",
       "  <thead>\n",
       "    <tr style=\"text-align: right;\">\n",
       "      <th></th>\n",
       "      <th>Code service CH</th>\n",
       "      <th>Reference document</th>\n",
       "      <th>1 Articles CGI</th>\n",
       "      <th>2 Articles CGI</th>\n",
       "      <th>3 Articles CGI</th>\n",
       "      <th>4 Articles CGI</th>\n",
       "      <th>5 Articles CGI</th>\n",
       "      <th>No disposition</th>\n",
       "      <th>Date mutation</th>\n",
       "      <th>Nature mutation</th>\n",
       "      <th>...</th>\n",
       "      <th>Surface Carrez du 5eme lot</th>\n",
       "      <th>Nombre de lots</th>\n",
       "      <th>Code type local</th>\n",
       "      <th>Type local</th>\n",
       "      <th>Identifiant local</th>\n",
       "      <th>Surface reelle bati</th>\n",
       "      <th>Nombre pieces principales</th>\n",
       "      <th>Nature culture</th>\n",
       "      <th>Nature culture speciale</th>\n",
       "      <th>Surface terrain</th>\n",
       "    </tr>\n",
       "  </thead>\n",
       "  <tbody>\n",
       "    <tr>\n",
       "      <th>0</th>\n",
       "      <td>NaN</td>\n",
       "      <td>NaN</td>\n",
       "      <td>NaN</td>\n",
       "      <td>NaN</td>\n",
       "      <td>NaN</td>\n",
       "      <td>NaN</td>\n",
       "      <td>NaN</td>\n",
       "      <td>1</td>\n",
       "      <td>2018-01-03</td>\n",
       "      <td>Vente</td>\n",
       "      <td>...</td>\n",
       "      <td>NaN</td>\n",
       "      <td>2</td>\n",
       "      <td>2.0</td>\n",
       "      <td>Appartement</td>\n",
       "      <td>NaN</td>\n",
       "      <td>73.0</td>\n",
       "      <td>4.0</td>\n",
       "      <td>NaN</td>\n",
       "      <td>NaN</td>\n",
       "      <td>NaN</td>\n",
       "    </tr>\n",
       "    <tr>\n",
       "      <th>1</th>\n",
       "      <td>NaN</td>\n",
       "      <td>NaN</td>\n",
       "      <td>NaN</td>\n",
       "      <td>NaN</td>\n",
       "      <td>NaN</td>\n",
       "      <td>NaN</td>\n",
       "      <td>NaN</td>\n",
       "      <td>1</td>\n",
       "      <td>2018-01-03</td>\n",
       "      <td>Vente</td>\n",
       "      <td>...</td>\n",
       "      <td>NaN</td>\n",
       "      <td>1</td>\n",
       "      <td>3.0</td>\n",
       "      <td>Dépendance</td>\n",
       "      <td>NaN</td>\n",
       "      <td>0.0</td>\n",
       "      <td>0.0</td>\n",
       "      <td>NaN</td>\n",
       "      <td>NaN</td>\n",
       "      <td>NaN</td>\n",
       "    </tr>\n",
       "    <tr>\n",
       "      <th>2</th>\n",
       "      <td>NaN</td>\n",
       "      <td>NaN</td>\n",
       "      <td>NaN</td>\n",
       "      <td>NaN</td>\n",
       "      <td>NaN</td>\n",
       "      <td>NaN</td>\n",
       "      <td>NaN</td>\n",
       "      <td>1</td>\n",
       "      <td>2018-01-04</td>\n",
       "      <td>Vente</td>\n",
       "      <td>...</td>\n",
       "      <td>NaN</td>\n",
       "      <td>0</td>\n",
       "      <td>1.0</td>\n",
       "      <td>Maison</td>\n",
       "      <td>NaN</td>\n",
       "      <td>163.0</td>\n",
       "      <td>4.0</td>\n",
       "      <td>S</td>\n",
       "      <td>NaN</td>\n",
       "      <td>949.0</td>\n",
       "    </tr>\n",
       "    <tr>\n",
       "      <th>3</th>\n",
       "      <td>NaN</td>\n",
       "      <td>NaN</td>\n",
       "      <td>NaN</td>\n",
       "      <td>NaN</td>\n",
       "      <td>NaN</td>\n",
       "      <td>NaN</td>\n",
       "      <td>NaN</td>\n",
       "      <td>1</td>\n",
       "      <td>2018-01-04</td>\n",
       "      <td>Vente</td>\n",
       "      <td>...</td>\n",
       "      <td>NaN</td>\n",
       "      <td>0</td>\n",
       "      <td>1.0</td>\n",
       "      <td>Maison</td>\n",
       "      <td>NaN</td>\n",
       "      <td>51.0</td>\n",
       "      <td>2.0</td>\n",
       "      <td>AG</td>\n",
       "      <td>JARD</td>\n",
       "      <td>420.0</td>\n",
       "    </tr>\n",
       "    <tr>\n",
       "      <th>4</th>\n",
       "      <td>NaN</td>\n",
       "      <td>NaN</td>\n",
       "      <td>NaN</td>\n",
       "      <td>NaN</td>\n",
       "      <td>NaN</td>\n",
       "      <td>NaN</td>\n",
       "      <td>NaN</td>\n",
       "      <td>1</td>\n",
       "      <td>2018-01-04</td>\n",
       "      <td>Vente</td>\n",
       "      <td>...</td>\n",
       "      <td>NaN</td>\n",
       "      <td>0</td>\n",
       "      <td>1.0</td>\n",
       "      <td>Maison</td>\n",
       "      <td>NaN</td>\n",
       "      <td>51.0</td>\n",
       "      <td>2.0</td>\n",
       "      <td>S</td>\n",
       "      <td>NaN</td>\n",
       "      <td>949.0</td>\n",
       "    </tr>\n",
       "  </tbody>\n",
       "</table>\n",
       "<p>5 rows × 43 columns</p>\n",
       "</div>"
      ],
      "text/plain": [
       "   Code service CH  Reference document  1 Articles CGI  2 Articles CGI  \\\n",
       "0              NaN                 NaN             NaN             NaN   \n",
       "1              NaN                 NaN             NaN             NaN   \n",
       "2              NaN                 NaN             NaN             NaN   \n",
       "3              NaN                 NaN             NaN             NaN   \n",
       "4              NaN                 NaN             NaN             NaN   \n",
       "\n",
       "   3 Articles CGI  4 Articles CGI  5 Articles CGI  No disposition  \\\n",
       "0             NaN             NaN             NaN               1   \n",
       "1             NaN             NaN             NaN               1   \n",
       "2             NaN             NaN             NaN               1   \n",
       "3             NaN             NaN             NaN               1   \n",
       "4             NaN             NaN             NaN               1   \n",
       "\n",
       "  Date mutation Nature mutation  ...  Surface Carrez du 5eme lot  \\\n",
       "0    2018-01-03           Vente  ...                         NaN   \n",
       "1    2018-01-03           Vente  ...                         NaN   \n",
       "2    2018-01-04           Vente  ...                         NaN   \n",
       "3    2018-01-04           Vente  ...                         NaN   \n",
       "4    2018-01-04           Vente  ...                         NaN   \n",
       "\n",
       "  Nombre de lots Code type local   Type local Identifiant local  \\\n",
       "0              2             2.0  Appartement               NaN   \n",
       "1              1             3.0   Dépendance               NaN   \n",
       "2              0             1.0       Maison               NaN   \n",
       "3              0             1.0       Maison               NaN   \n",
       "4              0             1.0       Maison               NaN   \n",
       "\n",
       "  Surface reelle bati Nombre pieces principales Nature culture  \\\n",
       "0                73.0                       4.0            NaN   \n",
       "1                 0.0                       0.0            NaN   \n",
       "2               163.0                       4.0              S   \n",
       "3                51.0                       2.0             AG   \n",
       "4                51.0                       2.0              S   \n",
       "\n",
       "  Nature culture speciale  Surface terrain  \n",
       "0                     NaN              NaN  \n",
       "1                     NaN              NaN  \n",
       "2                     NaN            949.0  \n",
       "3                    JARD            420.0  \n",
       "4                     NaN            949.0  \n",
       "\n",
       "[5 rows x 43 columns]"
      ]
     },
     "execution_count": 85,
     "metadata": {},
     "output_type": "execute_result"
    }
   ],
   "source": [
    "df.head()"
   ]
  },
  {
   "cell_type": "code",
   "execution_count": 86,
   "metadata": {},
   "outputs": [
    {
     "data": {
      "text/plain": [
       "float64           20\n",
       "object            13\n",
       "int64              4\n",
       "category           1\n",
       "datetime64[ns]     1\n",
       "category           1\n",
       "category           1\n",
       "category           1\n",
       "category           1\n",
       "dtype: int64"
      ]
     },
     "execution_count": 86,
     "metadata": {},
     "output_type": "execute_result"
    }
   ],
   "source": [
    "df.dtypes.value_counts()"
   ]
  },
  {
   "cell_type": "markdown",
   "metadata": {},
   "source": [
    "#### Analyse des données manquantes"
   ]
  },
  {
   "cell_type": "code",
   "execution_count": 87,
   "metadata": {},
   "outputs": [],
   "source": [
    "def missing_values_assessment(df):\n",
    "    nan_values = df.isnull().sum().sum()\n",
    "    print('Nombre d\\'observations: {:,}'.format(len(df)))\n",
    "    print('Nombre de valeurs: {:,}'.format(df.size))\n",
    "    print('Valeurs manquantes: {:,}'.format(nan_values))\n",
    "    print('Qualité des données: {}%'.format(100-round((nan_values/df.size)*100,2)))\n",
    "    print('Type de données:\\n {}%'.format(df.dtypes.value_counts()))\n",
    "    analysis = {'Manquant': df.isnull().sum(), 'Manquant %':round((df.isnull().sum()/len(df))*100, 2), 'Type':df.dtypes}\n",
    "    analysis_df = pd.DataFrame(analysis)\n",
    "    print(analysis_df.sort_values('Manquant %', ascending=False))\n",
    "    #sns.heatmap(df.isnull())\n",
    "\n",
    "def get_mixed_type(df):\n",
    "    for col in df.columns:\n",
    "        weird = (df[[col]].applymap(type) != df[[col]].iloc[0].apply(type)).any(axis=1)\n",
    "        if len(df[weird]) > 0:\n",
    "            print(col, df.columns.get_loc(col))"
   ]
  },
  {
   "cell_type": "code",
   "execution_count": 88,
   "metadata": {},
   "outputs": [
    {
     "name": "stdout",
     "output_type": "stream",
     "text": [
      "Nombre d'observations: 3,059,537\n",
      "Nombre de valeurs: 131,560,091\n",
      "Valeurs manquantes: 75,853,849\n",
      "Qualité des données: 42.34%\n",
      "Type de données:\n",
      " float64           20\n",
      "object            13\n",
      "int64              4\n",
      "category           1\n",
      "datetime64[ns]     1\n",
      "category           1\n",
      "category           1\n",
      "category           1\n",
      "category           1\n",
      "dtype: int64%\n",
      "                            Manquant  Manquant %            Type\n",
      "Code service CH              3059537      100.00         float64\n",
      "4 Articles CGI               3059537      100.00         float64\n",
      "Reference document           3059537      100.00         float64\n",
      "5 Articles CGI               3059537      100.00         float64\n",
      "Identifiant local            3059537      100.00         float64\n",
      "3 Articles CGI               3059537      100.00         float64\n",
      "2 Articles CGI               3059537      100.00         float64\n",
      "1 Articles CGI               3059537      100.00         float64\n",
      "Surface Carrez du 5eme lot   3058845       99.98         float64\n",
      "Surface Carrez du 4eme lot   3057858       99.95         float64\n",
      "5eme lot                     3054307       99.83          object\n",
      "Surface Carrez du 3eme lot   3053202       99.79         float64\n",
      "No Volume                    3050984       99.72          object\n",
      "4eme lot                     3048424       99.64         float64\n",
      "3eme lot                     3027692       98.96          object\n",
      "Surface Carrez du 2eme lot   2995607       97.91         float64\n",
      "B/T/Q                        2928605       95.72          object\n",
      "Prefixe de section           2922620       95.52         float64\n",
      "Nature culture speciale      2917530       95.36          object\n",
      "2eme lot                     2867895       93.74          object\n",
      "Surface Carrez du 1er lot    2796311       91.40         float64\n",
      "1er lot                      2127078       69.52          object\n",
      "Surface reelle bati          1461178       47.76         float64\n",
      "Nombre pieces principales    1461178       47.76         float64\n",
      "Type local                   1458658       47.68          object\n",
      "Code type local              1458658       47.68         float64\n",
      "Type de voie                 1329122       43.44        category\n",
      "No voie                      1290316       42.17        category\n",
      "Nature culture                946443       30.93          object\n",
      "Surface terrain               946443       30.93         float64\n",
      "Code postal                    30205        0.99        category\n",
      "Voie                           30120        0.98          object\n",
      "Code voie                      30070        0.98          object\n",
      "Valeur fonciere                28117        0.92         float64\n",
      "No plan                            0        0.00           int64\n",
      "Code commune                       0        0.00           int64\n",
      "Code departement                   0        0.00          object\n",
      "Commune                            0        0.00        category\n",
      "Nombre de lots                     0        0.00           int64\n",
      "Nature mutation                    0        0.00        category\n",
      "Date mutation                      0        0.00  datetime64[ns]\n",
      "No disposition                     0        0.00           int64\n",
      "Section                           87        0.00          object\n"
     ]
    }
   ],
   "source": [
    "missing_values_assessment(df)"
   ]
  },
  {
   "cell_type": "markdown",
   "metadata": {},
   "source": [
    "#### Supression des colonnes sans données"
   ]
  },
  {
   "cell_type": "code",
   "execution_count": 89,
   "metadata": {},
   "outputs": [
    {
     "name": "stdout",
     "output_type": "stream",
     "text": [
      "Suppression de 8 colonnes sans données\n"
     ]
    }
   ],
   "source": [
    "# Drop NaN columns\n",
    "initial_length = len(df.columns)\n",
    "df.dropna(how='all', axis=1, inplace=True)\n",
    "print(\"Suppression de {} colonnes sans données\".format(initial_length-len(df.columns)))"
   ]
  },
  {
   "cell_type": "markdown",
   "metadata": {},
   "source": [
    "#### Suppression des lignes en double"
   ]
  },
  {
   "cell_type": "code",
   "execution_count": 90,
   "metadata": {},
   "outputs": [
    {
     "name": "stdout",
     "output_type": "stream",
     "text": [
      "Suppression des doublons: 108687\n"
     ]
    }
   ],
   "source": [
    "# Drop duplicates\n",
    "initial_length = len(df)\n",
    "df.drop_duplicates(inplace=True)\n",
    "print(\"Suppression des doublons: {}\".format(initial_length-len(df)))"
   ]
  },
  {
   "cell_type": "markdown",
   "metadata": {},
   "source": [
    "#### Suppression des colonnes sans intérêt pour notre étude"
   ]
  },
  {
   "cell_type": "code",
   "execution_count": 91,
   "metadata": {},
   "outputs": [],
   "source": [
    "df.drop(['Voie', 'B/T/Q'],axis=1, inplace=True)\n",
    "\n",
    "# Référence cadastrale de la parcelle\n",
    "df.drop(['Code departement', 'Prefixe de section', 'Section', 'No plan'],axis=1, inplace=True) # Garde 'Code commune'\n",
    "\n",
    "# No de disposition\n",
    "df.drop(['No disposition'],axis=1, inplace=True)\n",
    "# No de volume\n",
    "df.drop(['No Volume'],axis=1, inplace=True)\n",
    "\n",
    "# Nature culture (référence à un document externe)\n",
    "df.drop(['Nature culture speciale', 'Nature culture'],axis=1, inplace=True)\n",
    "\n",
    "# Suppression du 'Type local' en doublon avec le 'Code Type Local'\n",
    "df.drop(['Type local'],axis=1, inplace=True)\n",
    "\n",
    "# Suppression du 'Code voie'\n",
    "df.drop(['Code voie'],axis=1, inplace=True)\n",
    "\n",
    "# Suppression du 'No voie'\n",
    "df.drop(['No voie'],axis=1, inplace=True)\n",
    "\n",
    "# Suppression de la 'Date mutation'\n",
    "df.drop(['Date mutation'],axis=1, inplace=True)\n",
    "\n",
    "# Suppression de la 'Code commune' en doublon avec la categorie 'Commune'\n",
    "df.drop(['Code commune'],axis=1, inplace=True)\n",
    "# Suppression de 'Commune' en doublon avec Code postal\n",
    "df.drop(['Commune'],axis=1, inplace=True)\n",
    "\n",
    "# Suppression des 'lot' - !! A reintroduire après une 1ére analyse\n",
    "df.drop(['5eme lot'],axis=1, inplace=True)\n",
    "df.drop(['4eme lot'],axis=1, inplace=True)\n",
    "df.drop(['3eme lot'],axis=1, inplace=True)\n",
    "df.drop(['2eme lot'],axis=1, inplace=True)\n",
    "df.drop(['1er lot'],axis=1, inplace=True)\n"
   ]
  },
  {
   "cell_type": "code",
   "execution_count": 92,
   "metadata": {},
   "outputs": [],
   "source": [
    "# Suppression des lignes où il n'y a pas de 'valeurs foncières'\n",
    "indexNames = df[df['Valeur fonciere'].isnull()].index\n",
    "df.drop(indexNames, inplace=True)"
   ]
  },
  {
   "cell_type": "code",
   "execution_count": 93,
   "metadata": {},
   "outputs": [],
   "source": [
    "# Remplissage des mètres Carrez manquant avec zéro\n",
    "#df = df[df['Nombre de lots']<=5].dropna(how='all', axis=1)\n",
    "df['Surface Carrez du 5eme lot'].fillna(0, inplace=True)\n",
    "df['Surface Carrez du 4eme lot'].fillna(0, inplace=True)\n",
    "df['Surface Carrez du 3eme lot'].fillna(0, inplace=True)\n",
    "df['Surface Carrez du 2eme lot'].fillna(0, inplace=True)\n",
    "df['Surface Carrez du 1er lot'].fillna(0, inplace=True)\n",
    "df['Surface reelle bati'].fillna(0, inplace=True)\n",
    "df['Surface terrain'].fillna(0, inplace=True)"
   ]
  },
  {
   "cell_type": "code",
   "execution_count": 94,
   "metadata": {},
   "outputs": [
    {
     "name": "stdout",
     "output_type": "stream",
     "text": [
      "Nombre d'observations: 2,927,795\n",
      "Nombre de valeurs: 40,989,130\n",
      "Valeurs manquantes: 4,183,725\n",
      "Qualité des données: 89.78999999999999%\n",
      "Type de données:\n",
      " float64     10\n",
      "category     1\n",
      "int64        1\n",
      "category     1\n",
      "category     1\n",
      "dtype: int64%\n",
      "                            Manquant  Manquant %      Type\n",
      "Nombre pieces principales    1430181       48.85   float64\n",
      "Code type local              1428119       48.78   float64\n",
      "Type de voie                 1295428       44.25  category\n",
      "Code postal                    29997        1.02  category\n",
      "Nature mutation                    0        0.00  category\n",
      "Valeur fonciere                    0        0.00   float64\n",
      "Surface Carrez du 1er lot          0        0.00   float64\n",
      "Surface Carrez du 2eme lot         0        0.00   float64\n",
      "Surface Carrez du 3eme lot         0        0.00   float64\n",
      "Surface Carrez du 4eme lot         0        0.00   float64\n",
      "Surface Carrez du 5eme lot         0        0.00   float64\n",
      "Nombre de lots                     0        0.00     int64\n",
      "Surface reelle bati                0        0.00   float64\n",
      "Surface terrain                    0        0.00   float64\n"
     ]
    }
   ],
   "source": [
    "missing_values_assessment(df)"
   ]
  },
  {
   "cell_type": "markdown",
   "metadata": {},
   "source": [
    "#### Analyse graphique des données manquantes"
   ]
  },
  {
   "cell_type": "code",
   "execution_count": 95,
   "metadata": {},
   "outputs": [
    {
     "data": {
      "text/plain": [
       "<matplotlib.axes._subplots.AxesSubplot at 0x1a35bfc1d0>"
      ]
     },
     "execution_count": 95,
     "metadata": {},
     "output_type": "execute_result"
    },
    {
     "data": {
      "image/png": "[encoded data removed]",
      "text/plain": [
       "<Figure size 1728x720 with 3 Axes>"
      ]
     },
     "metadata": {
      "needs_background": "light"
     },
     "output_type": "display_data"
    }
   ],
   "source": [
    "msno.bar(df, sort='ascending')"
   ]
  },
  {
   "cell_type": "code",
   "execution_count": 96,
   "metadata": {},
   "outputs": [
    {
     "data": {
      "text/plain": [
       "<matplotlib.axes._subplots.AxesSubplot at 0x1a78b87b50>"
      ]
     },
     "execution_count": 96,
     "metadata": {},
     "output_type": "execute_result"
    },
    {
     "data": {
      "image/png": "[encoded data removed]",
      "text/plain": [
       "<Figure size 1800x720 with 2 Axes>"
      ]
     },
     "metadata": {
      "needs_background": "light"
     },
     "output_type": "display_data"
    }
   ],
   "source": [
    "msno.matrix(df, sort='ascending')"
   ]
  },
  {
   "cell_type": "code",
   "execution_count": 97,
   "metadata": {},
   "outputs": [
    {
     "data": {
      "text/plain": [
       "<matplotlib.axes._subplots.AxesSubplot at 0x1a334b0a50>"
      ]
     },
     "execution_count": 97,
     "metadata": {},
     "output_type": "execute_result"
    },
    {
     "data": {
      "image/png": "[encoded data removed]",
      "text/plain": [
       "<Figure size 1800x720 with 1 Axes>"
      ]
     },
     "metadata": {
      "needs_background": "light"
     },
     "output_type": "display_data"
    }
   ],
   "source": [
    "msno.dendrogram(df)"
   ]
  },
  {
   "cell_type": "code",
   "execution_count": 98,
   "metadata": {},
   "outputs": [
    {
     "data": {
      "text/plain": [
       "<matplotlib.axes._subplots.AxesSubplot at 0x1a88be18d0>"
      ]
     },
     "execution_count": 98,
     "metadata": {},
     "output_type": "execute_result"
    },
    {
     "data": {
      "image/png": "[encoded data removed]",
      "text/plain": [
       "<Figure size 1440x864 with 2 Axes>"
      ]
     },
     "metadata": {
      "needs_background": "light"
     },
     "output_type": "display_data"
    }
   ],
   "source": [
    "msno.heatmap(df)"
   ]
  },
  {
   "cell_type": "markdown",
   "metadata": {},
   "source": [
    "## Nettoyage de données fonctionnels"
   ]
  },
  {
   "cell_type": "code",
   "execution_count": 99,
   "metadata": {},
   "outputs": [],
   "source": [
    "category_cols = df.select_dtypes(include=['object','category'])"
   ]
  },
  {
   "cell_type": "code",
   "execution_count": 100,
   "metadata": {},
   "outputs": [
    {
     "data": {
      "text/html": [
       "<div>\n",
       "<style scoped>\n",
       "    .dataframe tbody tr th:only-of-type {\n",
       "        vertical-align: middle;\n",
       "    }\n",
       "\n",
       "    .dataframe tbody tr th {\n",
       "        vertical-align: top;\n",
       "    }\n",
       "\n",
       "    .dataframe thead th {\n",
       "        text-align: right;\n",
       "    }\n",
       "</style>\n",
       "<table border=\"1\" class=\"dataframe\">\n",
       "  <thead>\n",
       "    <tr style=\"text-align: right;\">\n",
       "      <th></th>\n",
       "      <th>Nature mutation</th>\n",
       "      <th>Type de voie</th>\n",
       "      <th>Code postal</th>\n",
       "    </tr>\n",
       "  </thead>\n",
       "  <tbody>\n",
       "    <tr>\n",
       "      <th>0</th>\n",
       "      <td>Vente</td>\n",
       "      <td>RUE</td>\n",
       "      <td>1000</td>\n",
       "    </tr>\n",
       "    <tr>\n",
       "      <th>1</th>\n",
       "      <td>Vente</td>\n",
       "      <td>RUE</td>\n",
       "      <td>1000</td>\n",
       "    </tr>\n",
       "    <tr>\n",
       "      <th>2</th>\n",
       "      <td>Vente</td>\n",
       "      <td>RUE</td>\n",
       "      <td>1250</td>\n",
       "    </tr>\n",
       "    <tr>\n",
       "      <th>3</th>\n",
       "      <td>Vente</td>\n",
       "      <td>RUE</td>\n",
       "      <td>1250</td>\n",
       "    </tr>\n",
       "    <tr>\n",
       "      <th>4</th>\n",
       "      <td>Vente</td>\n",
       "      <td>RUE</td>\n",
       "      <td>1250</td>\n",
       "    </tr>\n",
       "    <tr>\n",
       "      <th>...</th>\n",
       "      <td>...</td>\n",
       "      <td>...</td>\n",
       "      <td>...</td>\n",
       "    </tr>\n",
       "    <tr>\n",
       "      <th>3059532</th>\n",
       "      <td>Vente</td>\n",
       "      <td>RUE</td>\n",
       "      <td>75004</td>\n",
       "    </tr>\n",
       "    <tr>\n",
       "      <th>3059533</th>\n",
       "      <td>Vente</td>\n",
       "      <td>PAS</td>\n",
       "      <td>75002</td>\n",
       "    </tr>\n",
       "    <tr>\n",
       "      <th>3059534</th>\n",
       "      <td>Vente</td>\n",
       "      <td>RUE</td>\n",
       "      <td>75002</td>\n",
       "    </tr>\n",
       "    <tr>\n",
       "      <th>3059535</th>\n",
       "      <td>Vente</td>\n",
       "      <td>RUE</td>\n",
       "      <td>75004</td>\n",
       "    </tr>\n",
       "    <tr>\n",
       "      <th>3059536</th>\n",
       "      <td>Adjudication</td>\n",
       "      <td>BD</td>\n",
       "      <td>75004</td>\n",
       "    </tr>\n",
       "  </tbody>\n",
       "</table>\n",
       "<p>2927795 rows × 3 columns</p>\n",
       "</div>"
      ],
      "text/plain": [
       "        Nature mutation Type de voie Code postal\n",
       "0                 Vente          RUE        1000\n",
       "1                 Vente          RUE        1000\n",
       "2                 Vente          RUE        1250\n",
       "3                 Vente          RUE        1250\n",
       "4                 Vente          RUE        1250\n",
       "...                 ...          ...         ...\n",
       "3059532           Vente          RUE       75004\n",
       "3059533           Vente          PAS       75002\n",
       "3059534           Vente          RUE       75002\n",
       "3059535           Vente          RUE       75004\n",
       "3059536    Adjudication           BD       75004\n",
       "\n",
       "[2927795 rows x 3 columns]"
      ]
     },
     "execution_count": 100,
     "metadata": {},
     "output_type": "execute_result"
    }
   ],
   "source": [
    "category_cols"
   ]
  },
  {
   "cell_type": "code",
   "execution_count": 101,
   "metadata": {},
   "outputs": [
    {
     "name": "stdout",
     "output_type": "stream",
     "text": [
      "Nature mutation (6):\n",
      "['Vente' \"Vente en l'état futur d'achèvement\" 'Echange'\n",
      " 'Vente terrain à bâtir' 'Adjudication' 'Expropriation']\n",
      "\n",
      "Type de voie (137):\n",
      "['RUE' 'ALL' 'AV' 'RTE' 'PL' 'QUAI' 'BD' 'SEN' 'CHE' 'IMP' 'CHEM' 'LOT'\n",
      " 'GR' 'CLOS' 'PAS' 'PROM' 'VC' 'RLE' 'CRS' 'MTE' 'MAIL' 'PLA' 'RES' 'COUR'\n",
      " 'VIA' 'VOIE' 'ESPA' 'PONT' 'HAM' 'D' 'CITE' 'N' 'ZA' 'PTR' 'CAR' 'PCH'\n",
      " 'FG' 'ZAC' 'CHS' 'RUET' 'PARC' 'SQ' 'RPE' 'CR' 'ESC' 'REM' 'VCHE' 'COTE'\n",
      " 'PTE' 'ZI' 'CD' 'RPT' 'DOM' 'VGE' 'QUA' 'PASS' 'TRA' 'DIG' 'TOUR' 'ESP'\n",
      " 'COR' 'ART' 'DSC' 'HLM' 'ILOT' 'ACH' 'CAMI' 'PAE' 'VALL' 'RAC' 'VAL'\n",
      " 'BRTL' 'CALL' 'PTTE' 'VTE' 'RTD' 'MRN' 'PLE' 'VEN' 'GPL' 'VLA' 'TRT'\n",
      " 'ENC' 'MAIS' 'TSSE' 'AUT' 'CAE' 'CTRE' 'ZONE' 'MAR' 'PLAG' 'RUIS' 'HAB'\n",
      " 'DRA' 'CHV' 'PLAN' 'EMBR' 'PORT' 'BSN' 'BRG' 'CPG' 'LEVE' 'CC' 'PRT'\n",
      " 'PLCI' 'PRV' 'VIL' 'RIVE' 'ANGL' 'ZAD' 'ROC' 'GAL' 'PTA' 'FOS' 'PIST'\n",
      " 'CHT' 'CTR' 'PKG' 'LIGN' 'FRM' 'BER' 'CRX' 'RULT' 'ZUP' 'CASR' 'CORO'\n",
      " 'BRE' 'NTE' 'CHL' 'VOY' 'LICE' 'COL' 'CF' 'VOIR' 'GARE' 'JARD' 'BORD']\n",
      "\n",
      "Code postal (5863):\n",
      "['1000' '1250' '1380' ... '75019' '75002' '75004']\n",
      "\n"
     ]
    }
   ],
   "source": [
    "for cat in category_cols.columns:\n",
    "    cat_val = df[cat].unique().categories.values\n",
    "    print('{} ({}):'.format(cat,len(cat_val)))\n",
    "    print('{}\\n'.format(cat_val))"
   ]
  },
  {
   "cell_type": "markdown",
   "metadata": {},
   "source": [
    "### Catégories"
   ]
  },
  {
   "cell_type": "code",
   "execution_count": 102,
   "metadata": {},
   "outputs": [],
   "source": [
    "def encode_cat(df, col):\n",
    "    df[col] = df[col].astype('category')\n",
    "    df = pd.get_dummies(df, prefix=encode_label(col), columns=col)\n",
    "    return df.drop(col,axis=1)\n",
    "\n",
    "def encode_label(label):\n",
    "    return label.replace(' ','_').lower()"
   ]
  },
  {
   "cell_type": "code",
   "execution_count": 103,
   "metadata": {},
   "outputs": [],
   "source": [
    "df = pd.get_dummies(df, columns=['Nature mutation'])\n",
    "df = pd.get_dummies(df, columns=['Type de voie'])"
   ]
  },
  {
   "cell_type": "code",
   "execution_count": 104,
   "metadata": {},
   "outputs": [
    {
     "data": {
      "text/html": [
       "<div>\n",
       "<style scoped>\n",
       "    .dataframe tbody tr th:only-of-type {\n",
       "        vertical-align: middle;\n",
       "    }\n",
       "\n",
       "    .dataframe tbody tr th {\n",
       "        vertical-align: top;\n",
       "    }\n",
       "\n",
       "    .dataframe thead th {\n",
       "        text-align: right;\n",
       "    }\n",
       "</style>\n",
       "<table border=\"1\" class=\"dataframe\">\n",
       "  <thead>\n",
       "    <tr style=\"text-align: right;\">\n",
       "      <th></th>\n",
       "      <th>Valeur fonciere</th>\n",
       "      <th>Code postal</th>\n",
       "      <th>Surface Carrez du 1er lot</th>\n",
       "      <th>Surface Carrez du 2eme lot</th>\n",
       "      <th>Surface Carrez du 3eme lot</th>\n",
       "      <th>Surface Carrez du 4eme lot</th>\n",
       "      <th>Surface Carrez du 5eme lot</th>\n",
       "      <th>Nombre de lots</th>\n",
       "      <th>Code type local</th>\n",
       "      <th>Surface reelle bati</th>\n",
       "      <th>...</th>\n",
       "      <th>Type de voie_NTE</th>\n",
       "      <th>Type de voie_CHL</th>\n",
       "      <th>Type de voie_VOY</th>\n",
       "      <th>Type de voie_LICE</th>\n",
       "      <th>Type de voie_COL</th>\n",
       "      <th>Type de voie_CF</th>\n",
       "      <th>Type de voie_VOIR</th>\n",
       "      <th>Type de voie_GARE</th>\n",
       "      <th>Type de voie_JARD</th>\n",
       "      <th>Type de voie_BORD</th>\n",
       "    </tr>\n",
       "  </thead>\n",
       "  <tbody>\n",
       "    <tr>\n",
       "      <th>0</th>\n",
       "      <td>109000.0</td>\n",
       "      <td>1000</td>\n",
       "      <td>0.0</td>\n",
       "      <td>0.0</td>\n",
       "      <td>0.0</td>\n",
       "      <td>0.0</td>\n",
       "      <td>0.0</td>\n",
       "      <td>2</td>\n",
       "      <td>2.0</td>\n",
       "      <td>73.0</td>\n",
       "      <td>...</td>\n",
       "      <td>0</td>\n",
       "      <td>0</td>\n",
       "      <td>0</td>\n",
       "      <td>0</td>\n",
       "      <td>0</td>\n",
       "      <td>0</td>\n",
       "      <td>0</td>\n",
       "      <td>0</td>\n",
       "      <td>0</td>\n",
       "      <td>0</td>\n",
       "    </tr>\n",
       "    <tr>\n",
       "      <th>1</th>\n",
       "      <td>109000.0</td>\n",
       "      <td>1000</td>\n",
       "      <td>0.0</td>\n",
       "      <td>0.0</td>\n",
       "      <td>0.0</td>\n",
       "      <td>0.0</td>\n",
       "      <td>0.0</td>\n",
       "      <td>1</td>\n",
       "      <td>3.0</td>\n",
       "      <td>0.0</td>\n",
       "      <td>...</td>\n",
       "      <td>0</td>\n",
       "      <td>0</td>\n",
       "      <td>0</td>\n",
       "      <td>0</td>\n",
       "      <td>0</td>\n",
       "      <td>0</td>\n",
       "      <td>0</td>\n",
       "      <td>0</td>\n",
       "      <td>0</td>\n",
       "      <td>0</td>\n",
       "    </tr>\n",
       "    <tr>\n",
       "      <th>2</th>\n",
       "      <td>239300.0</td>\n",
       "      <td>1250</td>\n",
       "      <td>0.0</td>\n",
       "      <td>0.0</td>\n",
       "      <td>0.0</td>\n",
       "      <td>0.0</td>\n",
       "      <td>0.0</td>\n",
       "      <td>0</td>\n",
       "      <td>1.0</td>\n",
       "      <td>163.0</td>\n",
       "      <td>...</td>\n",
       "      <td>0</td>\n",
       "      <td>0</td>\n",
       "      <td>0</td>\n",
       "      <td>0</td>\n",
       "      <td>0</td>\n",
       "      <td>0</td>\n",
       "      <td>0</td>\n",
       "      <td>0</td>\n",
       "      <td>0</td>\n",
       "      <td>0</td>\n",
       "    </tr>\n",
       "    <tr>\n",
       "      <th>3</th>\n",
       "      <td>239300.0</td>\n",
       "      <td>1250</td>\n",
       "      <td>0.0</td>\n",
       "      <td>0.0</td>\n",
       "      <td>0.0</td>\n",
       "      <td>0.0</td>\n",
       "      <td>0.0</td>\n",
       "      <td>0</td>\n",
       "      <td>1.0</td>\n",
       "      <td>51.0</td>\n",
       "      <td>...</td>\n",
       "      <td>0</td>\n",
       "      <td>0</td>\n",
       "      <td>0</td>\n",
       "      <td>0</td>\n",
       "      <td>0</td>\n",
       "      <td>0</td>\n",
       "      <td>0</td>\n",
       "      <td>0</td>\n",
       "      <td>0</td>\n",
       "      <td>0</td>\n",
       "    </tr>\n",
       "    <tr>\n",
       "      <th>4</th>\n",
       "      <td>239300.0</td>\n",
       "      <td>1250</td>\n",
       "      <td>0.0</td>\n",
       "      <td>0.0</td>\n",
       "      <td>0.0</td>\n",
       "      <td>0.0</td>\n",
       "      <td>0.0</td>\n",
       "      <td>0</td>\n",
       "      <td>1.0</td>\n",
       "      <td>51.0</td>\n",
       "      <td>...</td>\n",
       "      <td>0</td>\n",
       "      <td>0</td>\n",
       "      <td>0</td>\n",
       "      <td>0</td>\n",
       "      <td>0</td>\n",
       "      <td>0</td>\n",
       "      <td>0</td>\n",
       "      <td>0</td>\n",
       "      <td>0</td>\n",
       "      <td>0</td>\n",
       "    </tr>\n",
       "  </tbody>\n",
       "</table>\n",
       "<p>5 rows × 155 columns</p>\n",
       "</div>"
      ],
      "text/plain": [
       "   Valeur fonciere Code postal  Surface Carrez du 1er lot  \\\n",
       "0         109000.0        1000                        0.0   \n",
       "1         109000.0        1000                        0.0   \n",
       "2         239300.0        1250                        0.0   \n",
       "3         239300.0        1250                        0.0   \n",
       "4         239300.0        1250                        0.0   \n",
       "\n",
       "   Surface Carrez du 2eme lot  Surface Carrez du 3eme lot  \\\n",
       "0                         0.0                         0.0   \n",
       "1                         0.0                         0.0   \n",
       "2                         0.0                         0.0   \n",
       "3                         0.0                         0.0   \n",
       "4                         0.0                         0.0   \n",
       "\n",
       "   Surface Carrez du 4eme lot  Surface Carrez du 5eme lot  Nombre de lots  \\\n",
       "0                         0.0                         0.0               2   \n",
       "1                         0.0                         0.0               1   \n",
       "2                         0.0                         0.0               0   \n",
       "3                         0.0                         0.0               0   \n",
       "4                         0.0                         0.0               0   \n",
       "\n",
       "   Code type local  Surface reelle bati  ...  Type de voie_NTE  \\\n",
       "0              2.0                 73.0  ...                 0   \n",
       "1              3.0                  0.0  ...                 0   \n",
       "2              1.0                163.0  ...                 0   \n",
       "3              1.0                 51.0  ...                 0   \n",
       "4              1.0                 51.0  ...                 0   \n",
       "\n",
       "   Type de voie_CHL  Type de voie_VOY  Type de voie_LICE  Type de voie_COL  \\\n",
       "0                 0                 0                  0                 0   \n",
       "1                 0                 0                  0                 0   \n",
       "2                 0                 0                  0                 0   \n",
       "3                 0                 0                  0                 0   \n",
       "4                 0                 0                  0                 0   \n",
       "\n",
       "   Type de voie_CF  Type de voie_VOIR  Type de voie_GARE  Type de voie_JARD  \\\n",
       "0                0                  0                  0                  0   \n",
       "1                0                  0                  0                  0   \n",
       "2                0                  0                  0                  0   \n",
       "3                0                  0                  0                  0   \n",
       "4                0                  0                  0                  0   \n",
       "\n",
       "   Type de voie_BORD  \n",
       "0                  0  \n",
       "1                  0  \n",
       "2                  0  \n",
       "3                  0  \n",
       "4                  0  \n",
       "\n",
       "[5 rows x 155 columns]"
      ]
     },
     "execution_count": 104,
     "metadata": {},
     "output_type": "execute_result"
    }
   ],
   "source": [
    "df.head()"
   ]
  },
  {
   "cell_type": "markdown",
   "metadata": {},
   "source": [
    "#### Renomme les colonnes"
   ]
  },
  {
   "cell_type": "code",
   "execution_count": 105,
   "metadata": {},
   "outputs": [],
   "source": [
    "import unidecode\n",
    "\n",
    "columns = {}\n",
    "for index, column_name in enumerate(df.columns):\n",
    "    columns[column_name] = unidecode.unidecode(column_name.replace(' ','_').replace('\\'','_').lower())\n",
    "df.rename(columns=columns, inplace=True)"
   ]
  },
  {
   "cell_type": "code",
   "execution_count": 106,
   "metadata": {},
   "outputs": [
    {
     "data": {
      "text/html": [
       "<div>\n",
       "<style scoped>\n",
       "    .dataframe tbody tr th:only-of-type {\n",
       "        vertical-align: middle;\n",
       "    }\n",
       "\n",
       "    .dataframe tbody tr th {\n",
       "        vertical-align: top;\n",
       "    }\n",
       "\n",
       "    .dataframe thead th {\n",
       "        text-align: right;\n",
       "    }\n",
       "</style>\n",
       "<table border=\"1\" class=\"dataframe\">\n",
       "  <thead>\n",
       "    <tr style=\"text-align: right;\">\n",
       "      <th></th>\n",
       "      <th>valeur_fonciere</th>\n",
       "      <th>code_postal</th>\n",
       "      <th>surface_carrez_du_1er_lot</th>\n",
       "      <th>surface_carrez_du_2eme_lot</th>\n",
       "      <th>surface_carrez_du_3eme_lot</th>\n",
       "      <th>surface_carrez_du_4eme_lot</th>\n",
       "      <th>surface_carrez_du_5eme_lot</th>\n",
       "      <th>nombre_de_lots</th>\n",
       "      <th>code_type_local</th>\n",
       "      <th>surface_reelle_bati</th>\n",
       "      <th>...</th>\n",
       "      <th>type_de_voie_nte</th>\n",
       "      <th>type_de_voie_chl</th>\n",
       "      <th>type_de_voie_voy</th>\n",
       "      <th>type_de_voie_lice</th>\n",
       "      <th>type_de_voie_col</th>\n",
       "      <th>type_de_voie_cf</th>\n",
       "      <th>type_de_voie_voir</th>\n",
       "      <th>type_de_voie_gare</th>\n",
       "      <th>type_de_voie_jard</th>\n",
       "      <th>type_de_voie_bord</th>\n",
       "    </tr>\n",
       "  </thead>\n",
       "  <tbody>\n",
       "    <tr>\n",
       "      <th>0</th>\n",
       "      <td>109000.0</td>\n",
       "      <td>1000</td>\n",
       "      <td>0.0</td>\n",
       "      <td>0.0</td>\n",
       "      <td>0.0</td>\n",
       "      <td>0.0</td>\n",
       "      <td>0.0</td>\n",
       "      <td>2</td>\n",
       "      <td>2.0</td>\n",
       "      <td>73.0</td>\n",
       "      <td>...</td>\n",
       "      <td>0</td>\n",
       "      <td>0</td>\n",
       "      <td>0</td>\n",
       "      <td>0</td>\n",
       "      <td>0</td>\n",
       "      <td>0</td>\n",
       "      <td>0</td>\n",
       "      <td>0</td>\n",
       "      <td>0</td>\n",
       "      <td>0</td>\n",
       "    </tr>\n",
       "    <tr>\n",
       "      <th>1</th>\n",
       "      <td>109000.0</td>\n",
       "      <td>1000</td>\n",
       "      <td>0.0</td>\n",
       "      <td>0.0</td>\n",
       "      <td>0.0</td>\n",
       "      <td>0.0</td>\n",
       "      <td>0.0</td>\n",
       "      <td>1</td>\n",
       "      <td>3.0</td>\n",
       "      <td>0.0</td>\n",
       "      <td>...</td>\n",
       "      <td>0</td>\n",
       "      <td>0</td>\n",
       "      <td>0</td>\n",
       "      <td>0</td>\n",
       "      <td>0</td>\n",
       "      <td>0</td>\n",
       "      <td>0</td>\n",
       "      <td>0</td>\n",
       "      <td>0</td>\n",
       "      <td>0</td>\n",
       "    </tr>\n",
       "    <tr>\n",
       "      <th>2</th>\n",
       "      <td>239300.0</td>\n",
       "      <td>1250</td>\n",
       "      <td>0.0</td>\n",
       "      <td>0.0</td>\n",
       "      <td>0.0</td>\n",
       "      <td>0.0</td>\n",
       "      <td>0.0</td>\n",
       "      <td>0</td>\n",
       "      <td>1.0</td>\n",
       "      <td>163.0</td>\n",
       "      <td>...</td>\n",
       "      <td>0</td>\n",
       "      <td>0</td>\n",
       "      <td>0</td>\n",
       "      <td>0</td>\n",
       "      <td>0</td>\n",
       "      <td>0</td>\n",
       "      <td>0</td>\n",
       "      <td>0</td>\n",
       "      <td>0</td>\n",
       "      <td>0</td>\n",
       "    </tr>\n",
       "    <tr>\n",
       "      <th>3</th>\n",
       "      <td>239300.0</td>\n",
       "      <td>1250</td>\n",
       "      <td>0.0</td>\n",
       "      <td>0.0</td>\n",
       "      <td>0.0</td>\n",
       "      <td>0.0</td>\n",
       "      <td>0.0</td>\n",
       "      <td>0</td>\n",
       "      <td>1.0</td>\n",
       "      <td>51.0</td>\n",
       "      <td>...</td>\n",
       "      <td>0</td>\n",
       "      <td>0</td>\n",
       "      <td>0</td>\n",
       "      <td>0</td>\n",
       "      <td>0</td>\n",
       "      <td>0</td>\n",
       "      <td>0</td>\n",
       "      <td>0</td>\n",
       "      <td>0</td>\n",
       "      <td>0</td>\n",
       "    </tr>\n",
       "    <tr>\n",
       "      <th>4</th>\n",
       "      <td>239300.0</td>\n",
       "      <td>1250</td>\n",
       "      <td>0.0</td>\n",
       "      <td>0.0</td>\n",
       "      <td>0.0</td>\n",
       "      <td>0.0</td>\n",
       "      <td>0.0</td>\n",
       "      <td>0</td>\n",
       "      <td>1.0</td>\n",
       "      <td>51.0</td>\n",
       "      <td>...</td>\n",
       "      <td>0</td>\n",
       "      <td>0</td>\n",
       "      <td>0</td>\n",
       "      <td>0</td>\n",
       "      <td>0</td>\n",
       "      <td>0</td>\n",
       "      <td>0</td>\n",
       "      <td>0</td>\n",
       "      <td>0</td>\n",
       "      <td>0</td>\n",
       "    </tr>\n",
       "  </tbody>\n",
       "</table>\n",
       "<p>5 rows × 155 columns</p>\n",
       "</div>"
      ],
      "text/plain": [
       "   valeur_fonciere code_postal  surface_carrez_du_1er_lot  \\\n",
       "0         109000.0        1000                        0.0   \n",
       "1         109000.0        1000                        0.0   \n",
       "2         239300.0        1250                        0.0   \n",
       "3         239300.0        1250                        0.0   \n",
       "4         239300.0        1250                        0.0   \n",
       "\n",
       "   surface_carrez_du_2eme_lot  surface_carrez_du_3eme_lot  \\\n",
       "0                         0.0                         0.0   \n",
       "1                         0.0                         0.0   \n",
       "2                         0.0                         0.0   \n",
       "3                         0.0                         0.0   \n",
       "4                         0.0                         0.0   \n",
       "\n",
       "   surface_carrez_du_4eme_lot  surface_carrez_du_5eme_lot  nombre_de_lots  \\\n",
       "0                         0.0                         0.0               2   \n",
       "1                         0.0                         0.0               1   \n",
       "2                         0.0                         0.0               0   \n",
       "3                         0.0                         0.0               0   \n",
       "4                         0.0                         0.0               0   \n",
       "\n",
       "   code_type_local  surface_reelle_bati  ...  type_de_voie_nte  \\\n",
       "0              2.0                 73.0  ...                 0   \n",
       "1              3.0                  0.0  ...                 0   \n",
       "2              1.0                163.0  ...                 0   \n",
       "3              1.0                 51.0  ...                 0   \n",
       "4              1.0                 51.0  ...                 0   \n",
       "\n",
       "   type_de_voie_chl  type_de_voie_voy  type_de_voie_lice  type_de_voie_col  \\\n",
       "0                 0                 0                  0                 0   \n",
       "1                 0                 0                  0                 0   \n",
       "2                 0                 0                  0                 0   \n",
       "3                 0                 0                  0                 0   \n",
       "4                 0                 0                  0                 0   \n",
       "\n",
       "   type_de_voie_cf  type_de_voie_voir  type_de_voie_gare  type_de_voie_jard  \\\n",
       "0                0                  0                  0                  0   \n",
       "1                0                  0                  0                  0   \n",
       "2                0                  0                  0                  0   \n",
       "3                0                  0                  0                  0   \n",
       "4                0                  0                  0                  0   \n",
       "\n",
       "   type_de_voie_bord  \n",
       "0                  0  \n",
       "1                  0  \n",
       "2                  0  \n",
       "3                  0  \n",
       "4                  0  \n",
       "\n",
       "[5 rows x 155 columns]"
      ]
     },
     "execution_count": 106,
     "metadata": {},
     "output_type": "execute_result"
    }
   ],
   "source": [
    "df.head()"
   ]
  },
  {
   "cell_type": "code",
   "execution_count": 107,
   "metadata": {},
   "outputs": [],
   "source": [
    "### Temporaire\n",
    "df.drop(['code_postal'],axis=1, inplace=True) # Dois utiliser target encoder\n",
    "df.drop(['nombre_pieces_principales'],axis=1, inplace=True) # \n",
    "df.drop(['code_type_local'],axis=1, inplace=True)"
   ]
  },
  {
   "cell_type": "code",
   "execution_count": 108,
   "metadata": {},
   "outputs": [
    {
     "name": "stdout",
     "output_type": "stream",
     "text": [
      "Nombre d'observations: 2,927,795\n",
      "Nombre de valeurs: 445,024,840\n",
      "Valeurs manquantes: 0\n",
      "Qualité des données: 100.0%\n",
      "Type de données:\n",
      " uint8      143\n",
      "float64      8\n",
      "int64        1\n",
      "dtype: int64%\n",
      "                   Manquant  Manquant %     Type\n",
      "valeur_fonciere           0         0.0  float64\n",
      "type_de_voie_mar          0         0.0    uint8\n",
      "type_de_voie_aut          0         0.0    uint8\n",
      "type_de_voie_enc          0         0.0    uint8\n",
      "type_de_voie_mais         0         0.0    uint8\n",
      "...                     ...         ...      ...\n",
      "type_de_voie_pch          0         0.0    uint8\n",
      "type_de_voie_ptr          0         0.0    uint8\n",
      "type_de_voie_ruet         0         0.0    uint8\n",
      "type_de_voie_sq           0         0.0    uint8\n",
      "type_de_voie_bord         0         0.0    uint8\n",
      "\n",
      "[152 rows x 3 columns]\n"
     ]
    }
   ],
   "source": [
    "## Sanity Check\n",
    "missing_values_assessment(df)"
   ]
  },
  {
   "cell_type": "markdown",
   "metadata": {},
   "source": [
    "## Start ML"
   ]
  },
  {
   "cell_type": "markdown",
   "metadata": {},
   "source": [
    "#### Découpage des données pour l'entraînement et l'évaluation de l'apprentissage automatique"
   ]
  },
  {
   "cell_type": "code",
   "execution_count": 113,
   "metadata": {},
   "outputs": [
    {
     "name": "stdout",
     "output_type": "stream",
     "text": [
      "(1961622, 151)\n",
      "(1961622,)\n"
     ]
    }
   ],
   "source": [
    "from sklearn.model_selection import train_test_split\n",
    "\n",
    "y = df['valeur_fonciere']\n",
    "X = df.drop(['valeur_fonciere'],axis=1)\n",
    "\n",
    "X_train, X_test, y_train, y_test = train_test_split(X.values, y.values, test_size=0.33, random_state=42)\n",
    "\n",
    "print(X_train.shape)\n",
    "print(y_train.shape)"
   ]
  },
  {
   "cell_type": "markdown",
   "metadata": {},
   "source": [
    "#### Régression linéaire"
   ]
  },
  {
   "cell_type": "code",
   "execution_count": 225,
   "metadata": {},
   "outputs": [
    {
     "data": {
      "text/plain": [
       "LinearRegression(copy_X=True, fit_intercept=True, n_jobs=None, normalize=False)"
      ]
     },
     "execution_count": 225,
     "metadata": {},
     "output_type": "execute_result"
    }
   ],
   "source": [
    "from sklearn.linear_model import LinearRegression\n",
    "\n",
    "reg = LinearRegression()\n",
    "reg.fit(X_train,y_train)"
   ]
  },
  {
   "cell_type": "code",
   "execution_count": 231,
   "metadata": {
    "scrolled": true
   },
   "outputs": [
    {
     "data": {
      "text/plain": [
       "0.005956933019400258"
      ]
     },
     "execution_count": 231,
     "metadata": {},
     "output_type": "execute_result"
    }
   ],
   "source": [
    "y_pred = reg.predict(X_test)\n",
    "reg.score(X_test, y_test)"
   ]
  },
  {
   "cell_type": "markdown",
   "metadata": {},
   "source": [
    "#### Cross-validation"
   ]
  },
  {
   "cell_type": "code",
   "execution_count": null,
   "metadata": {
    "scrolled": true
   },
   "outputs": [],
   "source": [
    "from sklearn.model_selection import cross_val_score\n",
    "cv_reg = LinearRegression()\n",
    "cv_results = cross_val_score(cv_reg, X, y, cv=100)\n",
    "print(cv_results)"
   ]
  },
  {
   "cell_type": "code",
   "execution_count": null,
   "metadata": {},
   "outputs": [],
   "source": [
    "np.mean(cv_results)"
   ]
  },
  {
   "cell_type": "markdown",
   "metadata": {},
   "source": [
    "#### Régression linéaire avec Lasso"
   ]
  },
  {
   "cell_type": "code",
   "execution_count": 114,
   "metadata": {},
   "outputs": [
    {
     "data": {
      "text/plain": [
       "Lasso(alpha=0.4, copy_X=True, fit_intercept=True, max_iter=1000, normalize=True,\n",
       "      positive=False, precompute=False, random_state=None, selection='cyclic',\n",
       "      tol=0.0001, warm_start=False)"
      ]
     },
     "execution_count": 114,
     "metadata": {},
     "output_type": "execute_result"
    }
   ],
   "source": [
    "from sklearn.linear_model import Lasso\n",
    "\n",
    "lasso = Lasso(alpha=0.4, normalize=True)\n",
    "lasso.fit(X_train,y_train)"
   ]
  },
  {
   "cell_type": "markdown",
   "metadata": {},
   "source": [
    "#### Filtre sur l'importance des features"
   ]
  },
  {
   "cell_type": "code",
   "execution_count": 221,
   "metadata": {},
   "outputs": [],
   "source": [
    "lasso_df = pd.DataFrame(np.array([lasso.coef_]), columns=X.columns)\n",
    "\n",
    "for col in lasso_df.columns:\n",
    "    if lasso_df[col].iloc[0]<1000:\n",
    "        lasso_df.drop(col, axis=1, inplace=True)"
   ]
  },
  {
   "cell_type": "code",
   "execution_count": 222,
   "metadata": {},
   "outputs": [
    {
     "data": {
      "image/png": "[encoded data removed]",
      "text/plain": [
       "<Figure size 1440x720 with 1 Axes>"
      ]
     },
     "metadata": {
      "needs_background": "light"
     },
     "output_type": "display_data"
    }
   ],
   "source": [
    "col_rang = range(len(lasso_df.columns))\n",
    "\n",
    "plt.figure(figsize=(20,10))\n",
    "plt.bar(col_rang, lasso_df.iloc[0])\n",
    "plt.xticks(col_rang, lasso_df.columns, rotation=60)\n",
    "plt.margins(0.02)\n",
    "plt.show()"
   ]
  },
  {
   "cell_type": "code",
   "execution_count": null,
   "metadata": {},
   "outputs": [],
   "source": []
  }
 ],
 "metadata": {
  "kernelspec": {
   "display_name": "Python 3",
   "language": "python",
   "name": "python3"
  },
  "language_info": {
   "codemirror_mode": {
    "name": "ipython",
    "version": 3
   },
   "file_extension": ".py",
   "mimetype": "text/x-python",
   "name": "python",
   "nbconvert_exporter": "python",
   "pygments_lexer": "ipython3",
   "version": "3.7.5"
  }
 },
 "nbformat": 4,
 "nbformat_minor": 2
}
