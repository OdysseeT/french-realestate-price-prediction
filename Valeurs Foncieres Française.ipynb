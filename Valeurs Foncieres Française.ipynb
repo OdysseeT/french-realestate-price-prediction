{
 "cells": [
  {
   "cell_type": "markdown",
   "metadata": {},
   "source": [
    "# Etudes des valeurs foncières Française\n",
    "### Liens: https://www.data.gouv.fr/fr/datasets/demandes-de-valeurs-foncieres/\n",
    "\n",
    "Framework: Scikit Learn"
   ]
  },
  {
   "cell_type": "code",
   "execution_count": 1,
   "metadata": {},
   "outputs": [],
   "source": [
    "import numpy as np\n",
    "import pandas as pd\n",
    "\n",
    "import matplotlib.pyplot as plt\n",
    "import seaborn as sns\n",
    "import missingno as msno\n",
    "\n",
    "from sklearn import datasets\n",
    "from sklearn.neighbors import KNeighborsClassifier\n",
    "from sklearn.model_selection import train_test_split\n",
    "from sklearn.model_selection import train_test_split\n",
    "from sklearn.linear_model import LinearRegression"
   ]
  },
  {
   "cell_type": "markdown",
   "metadata": {},
   "source": [
    "#### Chargement du fichiers des valeurs foncières de 2018"
   ]
  },
  {
   "cell_type": "code",
   "execution_count": 2,
   "metadata": {},
   "outputs": [
    {
     "name": "stderr",
     "output_type": "stream",
     "text": [
      "/Users/odyssee/opt/anaconda3/lib/python3.7/site-packages/IPython/core/interactiveshell.py:3051: DtypeWarning: Columns (18,23,24,26,28,32,41) have mixed types. Specify dtype option on import or set low_memory=False.\n",
      "  interactivity=interactivity, compiler=compiler, result=result)\n"
     ]
    }
   ],
   "source": [
    "dateparse = lambda x: pd.datetime.strptime(x, '%d/%m/%Y') # 03/01/2018\n",
    "df = pd.read_csv('valeursfoncieres-2018.txt', sep='|', decimal=\",\", parse_dates=['Date mutation'], date_parser=dateparse)"
   ]
  },
  {
   "cell_type": "markdown",
   "metadata": {},
   "source": [
    "#### Analyse des données manquantes"
   ]
  },
  {
   "cell_type": "code",
   "execution_count": 36,
   "metadata": {},
   "outputs": [],
   "source": [
    "def missing_values_assessment(df):\n",
    "    nan_values = df.isnull().sum().sum()\n",
    "    print('Nombre d\\'observations: {:,}'.format(len(df)))\n",
    "    print('Nombre de valeurs: {:,}'.format(df.size))\n",
    "    print('Valeurs manquantes: {:,}'.format(nan_values))\n",
    "    print('Qualité des données: {}%'.format(100-round((nan_values/df.size)*100,2)))\n",
    "    print('Type de données:\\n {}%'.format(df.dtypes.value_counts()))\n",
    "    analysis = {'Manquant': df.isnull().sum(),\n",
    "                'Manquant %':round((df.isnull().sum()/len(df))*100, 2),\n",
    "                'Type':df.dtypes\n",
    "               }\n",
    "    return pd.DataFrame(analysis)"
   ]
  },
  {
   "cell_type": "code",
   "execution_count": 37,
   "metadata": {
    "scrolled": false
   },
   "outputs": [
    {
     "name": "stdout",
     "output_type": "stream",
     "text": [
      "Nombre d'observations: 2,927,795\n",
      "Nombre de valeurs: 102,472,825\n",
      "Valeurs manquantes: 49,336,267\n",
      "Qualité des données: 51.85%\n",
      "Type de données:\n",
      " object            16\n",
      "float64           14\n",
      "int64              4\n",
      "datetime64[ns]     1\n",
      "dtype: int64%\n"
     ]
    },
    {
     "data": {
      "text/html": [
       "<div>\n",
       "<style scoped>\n",
       "    .dataframe tbody tr th:only-of-type {\n",
       "        vertical-align: middle;\n",
       "    }\n",
       "\n",
       "    .dataframe tbody tr th {\n",
       "        vertical-align: top;\n",
       "    }\n",
       "\n",
       "    .dataframe thead th {\n",
       "        text-align: right;\n",
       "    }\n",
       "</style>\n",
       "<table border=\"1\" class=\"dataframe\">\n",
       "  <thead>\n",
       "    <tr style=\"text-align: right;\">\n",
       "      <th></th>\n",
       "      <th>Manquant</th>\n",
       "      <th>Manquant %</th>\n",
       "      <th>Type</th>\n",
       "    </tr>\n",
       "  </thead>\n",
       "  <tbody>\n",
       "    <tr>\n",
       "      <th>surface_carrez_du_5eme_lot</th>\n",
       "      <td>2927129</td>\n",
       "      <td>99.98</td>\n",
       "      <td>float64</td>\n",
       "    </tr>\n",
       "    <tr>\n",
       "      <th>surface_carrez_du_4eme_lot</th>\n",
       "      <td>2926152</td>\n",
       "      <td>99.94</td>\n",
       "      <td>float64</td>\n",
       "    </tr>\n",
       "    <tr>\n",
       "      <th>5eme_lot</th>\n",
       "      <td>2922697</td>\n",
       "      <td>99.83</td>\n",
       "      <td>object</td>\n",
       "    </tr>\n",
       "    <tr>\n",
       "      <th>surface_carrez_du_3eme_lot</th>\n",
       "      <td>2921553</td>\n",
       "      <td>99.79</td>\n",
       "      <td>float64</td>\n",
       "    </tr>\n",
       "    <tr>\n",
       "      <th>no_volume</th>\n",
       "      <td>2919541</td>\n",
       "      <td>99.72</td>\n",
       "      <td>object</td>\n",
       "    </tr>\n",
       "    <tr>\n",
       "      <th>4eme_lot</th>\n",
       "      <td>2916847</td>\n",
       "      <td>99.63</td>\n",
       "      <td>float64</td>\n",
       "    </tr>\n",
       "    <tr>\n",
       "      <th>3eme_lot</th>\n",
       "      <td>2896451</td>\n",
       "      <td>98.93</td>\n",
       "      <td>object</td>\n",
       "    </tr>\n",
       "    <tr>\n",
       "      <th>surface_carrez_du_2eme_lot</th>\n",
       "      <td>2864051</td>\n",
       "      <td>97.82</td>\n",
       "      <td>float64</td>\n",
       "    </tr>\n",
       "    <tr>\n",
       "      <th>b/t/q</th>\n",
       "      <td>2806805</td>\n",
       "      <td>95.87</td>\n",
       "      <td>object</td>\n",
       "    </tr>\n",
       "    <tr>\n",
       "      <th>prefixe_de_section</th>\n",
       "      <td>2796444</td>\n",
       "      <td>95.51</td>\n",
       "      <td>float64</td>\n",
       "    </tr>\n",
       "    <tr>\n",
       "      <th>nature_culture_speciale</th>\n",
       "      <td>2794298</td>\n",
       "      <td>95.44</td>\n",
       "      <td>object</td>\n",
       "    </tr>\n",
       "    <tr>\n",
       "      <th>2eme_lot</th>\n",
       "      <td>2737330</td>\n",
       "      <td>93.49</td>\n",
       "      <td>object</td>\n",
       "    </tr>\n",
       "    <tr>\n",
       "      <th>surface_carrez_du_1er_lot</th>\n",
       "      <td>2666078</td>\n",
       "      <td>91.06</td>\n",
       "      <td>float64</td>\n",
       "    </tr>\n",
       "    <tr>\n",
       "      <th>1er_lot</th>\n",
       "      <td>2002383</td>\n",
       "      <td>68.39</td>\n",
       "      <td>object</td>\n",
       "    </tr>\n",
       "    <tr>\n",
       "      <th>surface_reelle_bati</th>\n",
       "      <td>1430181</td>\n",
       "      <td>48.85</td>\n",
       "      <td>float64</td>\n",
       "    </tr>\n",
       "    <tr>\n",
       "      <th>nombre_pieces_principales</th>\n",
       "      <td>1430181</td>\n",
       "      <td>48.85</td>\n",
       "      <td>float64</td>\n",
       "    </tr>\n",
       "    <tr>\n",
       "      <th>type_local</th>\n",
       "      <td>1428119</td>\n",
       "      <td>48.78</td>\n",
       "      <td>object</td>\n",
       "    </tr>\n",
       "    <tr>\n",
       "      <th>code_type_local</th>\n",
       "      <td>1428119</td>\n",
       "      <td>48.78</td>\n",
       "      <td>float64</td>\n",
       "    </tr>\n",
       "    <tr>\n",
       "      <th>type_de_voie</th>\n",
       "      <td>1295428</td>\n",
       "      <td>44.25</td>\n",
       "      <td>object</td>\n",
       "    </tr>\n",
       "    <tr>\n",
       "      <th>no_voie</th>\n",
       "      <td>1260576</td>\n",
       "      <td>43.06</td>\n",
       "      <td>float64</td>\n",
       "    </tr>\n",
       "    <tr>\n",
       "      <th>nature_culture</th>\n",
       "      <td>938019</td>\n",
       "      <td>32.04</td>\n",
       "      <td>object</td>\n",
       "    </tr>\n",
       "    <tr>\n",
       "      <th>surface_terrain</th>\n",
       "      <td>938019</td>\n",
       "      <td>32.04</td>\n",
       "      <td>float64</td>\n",
       "    </tr>\n",
       "    <tr>\n",
       "      <th>code_postal</th>\n",
       "      <td>29997</td>\n",
       "      <td>1.02</td>\n",
       "      <td>float64</td>\n",
       "    </tr>\n",
       "    <tr>\n",
       "      <th>voie</th>\n",
       "      <td>29916</td>\n",
       "      <td>1.02</td>\n",
       "      <td>object</td>\n",
       "    </tr>\n",
       "    <tr>\n",
       "      <th>code_voie</th>\n",
       "      <td>29866</td>\n",
       "      <td>1.02</td>\n",
       "      <td>object</td>\n",
       "    </tr>\n",
       "    <tr>\n",
       "      <th>date_mutation</th>\n",
       "      <td>0</td>\n",
       "      <td>0.00</td>\n",
       "      <td>datetime64[ns]</td>\n",
       "    </tr>\n",
       "    <tr>\n",
       "      <th>no_plan</th>\n",
       "      <td>0</td>\n",
       "      <td>0.00</td>\n",
       "      <td>int64</td>\n",
       "    </tr>\n",
       "    <tr>\n",
       "      <th>section</th>\n",
       "      <td>87</td>\n",
       "      <td>0.00</td>\n",
       "      <td>object</td>\n",
       "    </tr>\n",
       "    <tr>\n",
       "      <th>code_commune</th>\n",
       "      <td>0</td>\n",
       "      <td>0.00</td>\n",
       "      <td>int64</td>\n",
       "    </tr>\n",
       "    <tr>\n",
       "      <th>code_departement</th>\n",
       "      <td>0</td>\n",
       "      <td>0.00</td>\n",
       "      <td>object</td>\n",
       "    </tr>\n",
       "    <tr>\n",
       "      <th>nombre_de_lots</th>\n",
       "      <td>0</td>\n",
       "      <td>0.00</td>\n",
       "      <td>int64</td>\n",
       "    </tr>\n",
       "    <tr>\n",
       "      <th>commune</th>\n",
       "      <td>0</td>\n",
       "      <td>0.00</td>\n",
       "      <td>object</td>\n",
       "    </tr>\n",
       "    <tr>\n",
       "      <th>valeur_fonciere</th>\n",
       "      <td>0</td>\n",
       "      <td>0.00</td>\n",
       "      <td>float64</td>\n",
       "    </tr>\n",
       "    <tr>\n",
       "      <th>nature_mutation</th>\n",
       "      <td>0</td>\n",
       "      <td>0.00</td>\n",
       "      <td>object</td>\n",
       "    </tr>\n",
       "    <tr>\n",
       "      <th>no_disposition</th>\n",
       "      <td>0</td>\n",
       "      <td>0.00</td>\n",
       "      <td>int64</td>\n",
       "    </tr>\n",
       "  </tbody>\n",
       "</table>\n",
       "</div>"
      ],
      "text/plain": [
       "                            Manquant  Manquant %            Type\n",
       "surface_carrez_du_5eme_lot   2927129       99.98         float64\n",
       "surface_carrez_du_4eme_lot   2926152       99.94         float64\n",
       "5eme_lot                     2922697       99.83          object\n",
       "surface_carrez_du_3eme_lot   2921553       99.79         float64\n",
       "no_volume                    2919541       99.72          object\n",
       "4eme_lot                     2916847       99.63         float64\n",
       "3eme_lot                     2896451       98.93          object\n",
       "surface_carrez_du_2eme_lot   2864051       97.82         float64\n",
       "b/t/q                        2806805       95.87          object\n",
       "prefixe_de_section           2796444       95.51         float64\n",
       "nature_culture_speciale      2794298       95.44          object\n",
       "2eme_lot                     2737330       93.49          object\n",
       "surface_carrez_du_1er_lot    2666078       91.06         float64\n",
       "1er_lot                      2002383       68.39          object\n",
       "surface_reelle_bati          1430181       48.85         float64\n",
       "nombre_pieces_principales    1430181       48.85         float64\n",
       "type_local                   1428119       48.78          object\n",
       "code_type_local              1428119       48.78         float64\n",
       "type_de_voie                 1295428       44.25          object\n",
       "no_voie                      1260576       43.06         float64\n",
       "nature_culture                938019       32.04          object\n",
       "surface_terrain               938019       32.04         float64\n",
       "code_postal                    29997        1.02         float64\n",
       "voie                           29916        1.02          object\n",
       "code_voie                      29866        1.02          object\n",
       "date_mutation                      0        0.00  datetime64[ns]\n",
       "no_plan                            0        0.00           int64\n",
       "section                           87        0.00          object\n",
       "code_commune                       0        0.00           int64\n",
       "code_departement                   0        0.00          object\n",
       "nombre_de_lots                     0        0.00           int64\n",
       "commune                            0        0.00          object\n",
       "valeur_fonciere                    0        0.00         float64\n",
       "nature_mutation                    0        0.00          object\n",
       "no_disposition                     0        0.00           int64"
      ]
     },
     "execution_count": 37,
     "metadata": {},
     "output_type": "execute_result"
    }
   ],
   "source": [
    "missing_values_assessment(df).sort_values('Manquant %', ascending=False)"
   ]
  },
  {
   "cell_type": "code",
   "execution_count": 83,
   "metadata": {},
   "outputs": [
    {
     "data": {
      "text/html": [
       "<div>\n",
       "<style scoped>\n",
       "    .dataframe tbody tr th:only-of-type {\n",
       "        vertical-align: middle;\n",
       "    }\n",
       "\n",
       "    .dataframe tbody tr th {\n",
       "        vertical-align: top;\n",
       "    }\n",
       "\n",
       "    .dataframe thead th {\n",
       "        text-align: right;\n",
       "    }\n",
       "</style>\n",
       "<table border=\"1\" class=\"dataframe\">\n",
       "  <thead>\n",
       "    <tr style=\"text-align: right;\">\n",
       "      <th></th>\n",
       "      <th>no_disposition</th>\n",
       "      <th>valeur_fonciere</th>\n",
       "      <th>no_voie</th>\n",
       "      <th>code_postal</th>\n",
       "      <th>code_commune</th>\n",
       "      <th>prefixe_de_section</th>\n",
       "      <th>no_plan</th>\n",
       "      <th>surface_carrez_du_1er_lot</th>\n",
       "      <th>surface_carrez_du_2eme_lot</th>\n",
       "      <th>surface_carrez_du_3eme_lot</th>\n",
       "      <th>4eme_lot</th>\n",
       "      <th>surface_carrez_du_4eme_lot</th>\n",
       "      <th>surface_carrez_du_5eme_lot</th>\n",
       "      <th>nombre_de_lots</th>\n",
       "      <th>code_type_local</th>\n",
       "      <th>surface_reelle_bati</th>\n",
       "      <th>nombre_pieces_principales</th>\n",
       "      <th>surface_terrain</th>\n",
       "    </tr>\n",
       "  </thead>\n",
       "  <tbody>\n",
       "    <tr>\n",
       "      <th>count</th>\n",
       "      <td>2.927795e+06</td>\n",
       "      <td>2.927795e+06</td>\n",
       "      <td>1.667219e+06</td>\n",
       "      <td>2.897798e+06</td>\n",
       "      <td>2.927795e+06</td>\n",
       "      <td>131351.000000</td>\n",
       "      <td>2.927795e+06</td>\n",
       "      <td>261717.000000</td>\n",
       "      <td>63744.000000</td>\n",
       "      <td>6242.000000</td>\n",
       "      <td>10948.000000</td>\n",
       "      <td>1643.000000</td>\n",
       "      <td>666.000000</td>\n",
       "      <td>2.927795e+06</td>\n",
       "      <td>1.499676e+06</td>\n",
       "      <td>1.497614e+06</td>\n",
       "      <td>1.497614e+06</td>\n",
       "      <td>1.989776e+06</td>\n",
       "    </tr>\n",
       "    <tr>\n",
       "      <th>mean</th>\n",
       "      <td>1.182682e+00</td>\n",
       "      <td>5.596755e+05</td>\n",
       "      <td>7.602432e+02</td>\n",
       "      <td>5.026230e+04</td>\n",
       "      <td>2.102814e+02</td>\n",
       "      <td>490.171434</td>\n",
       "      <td>4.137658e+02</td>\n",
       "      <td>62.801653</td>\n",
       "      <td>63.910438</td>\n",
       "      <td>86.755734</td>\n",
       "      <td>154.504932</td>\n",
       "      <td>121.791753</td>\n",
       "      <td>126.594745</td>\n",
       "      <td>4.029353e-01</td>\n",
       "      <td>1.972893e+00</td>\n",
       "      <td>9.194560e+01</td>\n",
       "      <td>2.481828e+00</td>\n",
       "      <td>2.962688e+03</td>\n",
       "    </tr>\n",
       "    <tr>\n",
       "      <th>std</th>\n",
       "      <td>4.236333e+00</td>\n",
       "      <td>9.717494e+06</td>\n",
       "      <td>2.089056e+03</td>\n",
       "      <td>2.724979e+04</td>\n",
       "      <td>1.680761e+02</td>\n",
       "      <td>323.399738</td>\n",
       "      <td>5.723709e+02</td>\n",
       "      <td>131.840463</td>\n",
       "      <td>54.737952</td>\n",
       "      <td>248.556270</td>\n",
       "      <td>2304.663516</td>\n",
       "      <td>374.435665</td>\n",
       "      <td>427.558724</td>\n",
       "      <td>8.385999e-01</td>\n",
       "      <td>9.571763e-01</td>\n",
       "      <td>7.420706e+02</td>\n",
       "      <td>2.108221e+00</td>\n",
       "      <td>1.421613e+04</td>\n",
       "    </tr>\n",
       "    <tr>\n",
       "      <th>min</th>\n",
       "      <td>1.000000e+00</td>\n",
       "      <td>1.500000e-01</td>\n",
       "      <td>1.000000e+00</td>\n",
       "      <td>1.000000e+03</td>\n",
       "      <td>1.000000e+00</td>\n",
       "      <td>1.000000</td>\n",
       "      <td>1.000000e+00</td>\n",
       "      <td>0.100000</td>\n",
       "      <td>0.100000</td>\n",
       "      <td>0.400000</td>\n",
       "      <td>2.000000</td>\n",
       "      <td>0.400000</td>\n",
       "      <td>0.600000</td>\n",
       "      <td>0.000000e+00</td>\n",
       "      <td>1.000000e+00</td>\n",
       "      <td>0.000000e+00</td>\n",
       "      <td>0.000000e+00</td>\n",
       "      <td>0.000000e+00</td>\n",
       "    </tr>\n",
       "    <tr>\n",
       "      <th>25%</th>\n",
       "      <td>1.000000e+00</td>\n",
       "      <td>5.497575e+04</td>\n",
       "      <td>9.000000e+00</td>\n",
       "      <td>2.962000e+04</td>\n",
       "      <td>7.600000e+01</td>\n",
       "      <td>180.000000</td>\n",
       "      <td>8.800000e+01</td>\n",
       "      <td>33.690000</td>\n",
       "      <td>42.960000</td>\n",
       "      <td>39.835000</td>\n",
       "      <td>7.000000</td>\n",
       "      <td>37.100000</td>\n",
       "      <td>31.400000</td>\n",
       "      <td>0.000000e+00</td>\n",
       "      <td>1.000000e+00</td>\n",
       "      <td>1.800000e+01</td>\n",
       "      <td>0.000000e+00</td>\n",
       "      <td>2.310000e+02</td>\n",
       "    </tr>\n",
       "    <tr>\n",
       "      <th>50%</th>\n",
       "      <td>1.000000e+00</td>\n",
       "      <td>1.400000e+05</td>\n",
       "      <td>2.600000e+01</td>\n",
       "      <td>4.900000e+04</td>\n",
       "      <td>1.730000e+02</td>\n",
       "      <td>418.000000</td>\n",
       "      <td>2.270000e+02</td>\n",
       "      <td>53.300000</td>\n",
       "      <td>61.080000</td>\n",
       "      <td>62.100000</td>\n",
       "      <td>23.000000</td>\n",
       "      <td>67.320000</td>\n",
       "      <td>60.750000</td>\n",
       "      <td>0.000000e+00</td>\n",
       "      <td>2.000000e+00</td>\n",
       "      <td>6.300000e+01</td>\n",
       "      <td>3.000000e+00</td>\n",
       "      <td>6.080000e+02</td>\n",
       "    </tr>\n",
       "    <tr>\n",
       "      <th>75%</th>\n",
       "      <td>1.000000e+00</td>\n",
       "      <td>2.496500e+05</td>\n",
       "      <td>9.900000e+01</td>\n",
       "      <td>7.501500e+04</td>\n",
       "      <td>3.000000e+02</td>\n",
       "      <td>831.000000</td>\n",
       "      <td>5.100000e+02</td>\n",
       "      <td>73.400000</td>\n",
       "      <td>76.510000</td>\n",
       "      <td>88.720000</td>\n",
       "      <td>66.000000</td>\n",
       "      <td>107.625000</td>\n",
       "      <td>112.737500</td>\n",
       "      <td>1.000000e+00</td>\n",
       "      <td>3.000000e+00</td>\n",
       "      <td>9.600000e+01</td>\n",
       "      <td>4.000000e+00</td>\n",
       "      <td>1.815000e+03</td>\n",
       "    </tr>\n",
       "    <tr>\n",
       "      <th>max</th>\n",
       "      <td>2.600000e+02</td>\n",
       "      <td>1.256966e+09</td>\n",
       "      <td>9.999000e+03</td>\n",
       "      <td>9.749000e+04</td>\n",
       "      <td>9.090000e+02</td>\n",
       "      <td>950.000000</td>\n",
       "      <td>9.721000e+03</td>\n",
       "      <td>9999.000000</td>\n",
       "      <td>8284.000000</td>\n",
       "      <td>8284.000000</td>\n",
       "      <td>161313.000000</td>\n",
       "      <td>4331.400000</td>\n",
       "      <td>8188.000000</td>\n",
       "      <td>3.300000e+02</td>\n",
       "      <td>4.000000e+00</td>\n",
       "      <td>2.778140e+05</td>\n",
       "      <td>9.000000e+01</td>\n",
       "      <td>4.625500e+06</td>\n",
       "    </tr>\n",
       "  </tbody>\n",
       "</table>\n",
       "</div>"
      ],
      "text/plain": [
       "       no_disposition  valeur_fonciere       no_voie   code_postal  \\\n",
       "count    2.927795e+06     2.927795e+06  1.667219e+06  2.897798e+06   \n",
       "mean     1.182682e+00     5.596755e+05  7.602432e+02  5.026230e+04   \n",
       "std      4.236333e+00     9.717494e+06  2.089056e+03  2.724979e+04   \n",
       "min      1.000000e+00     1.500000e-01  1.000000e+00  1.000000e+03   \n",
       "25%      1.000000e+00     5.497575e+04  9.000000e+00  2.962000e+04   \n",
       "50%      1.000000e+00     1.400000e+05  2.600000e+01  4.900000e+04   \n",
       "75%      1.000000e+00     2.496500e+05  9.900000e+01  7.501500e+04   \n",
       "max      2.600000e+02     1.256966e+09  9.999000e+03  9.749000e+04   \n",
       "\n",
       "       code_commune  prefixe_de_section       no_plan  \\\n",
       "count  2.927795e+06       131351.000000  2.927795e+06   \n",
       "mean   2.102814e+02          490.171434  4.137658e+02   \n",
       "std    1.680761e+02          323.399738  5.723709e+02   \n",
       "min    1.000000e+00            1.000000  1.000000e+00   \n",
       "25%    7.600000e+01          180.000000  8.800000e+01   \n",
       "50%    1.730000e+02          418.000000  2.270000e+02   \n",
       "75%    3.000000e+02          831.000000  5.100000e+02   \n",
       "max    9.090000e+02          950.000000  9.721000e+03   \n",
       "\n",
       "       surface_carrez_du_1er_lot  surface_carrez_du_2eme_lot  \\\n",
       "count              261717.000000                63744.000000   \n",
       "mean                   62.801653                   63.910438   \n",
       "std                   131.840463                   54.737952   \n",
       "min                     0.100000                    0.100000   \n",
       "25%                    33.690000                   42.960000   \n",
       "50%                    53.300000                   61.080000   \n",
       "75%                    73.400000                   76.510000   \n",
       "max                  9999.000000                 8284.000000   \n",
       "\n",
       "       surface_carrez_du_3eme_lot       4eme_lot  surface_carrez_du_4eme_lot  \\\n",
       "count                 6242.000000   10948.000000                 1643.000000   \n",
       "mean                    86.755734     154.504932                  121.791753   \n",
       "std                    248.556270    2304.663516                  374.435665   \n",
       "min                      0.400000       2.000000                    0.400000   \n",
       "25%                     39.835000       7.000000                   37.100000   \n",
       "50%                     62.100000      23.000000                   67.320000   \n",
       "75%                     88.720000      66.000000                  107.625000   \n",
       "max                   8284.000000  161313.000000                 4331.400000   \n",
       "\n",
       "       surface_carrez_du_5eme_lot  nombre_de_lots  code_type_local  \\\n",
       "count                  666.000000    2.927795e+06     1.499676e+06   \n",
       "mean                   126.594745    4.029353e-01     1.972893e+00   \n",
       "std                    427.558724    8.385999e-01     9.571763e-01   \n",
       "min                      0.600000    0.000000e+00     1.000000e+00   \n",
       "25%                     31.400000    0.000000e+00     1.000000e+00   \n",
       "50%                     60.750000    0.000000e+00     2.000000e+00   \n",
       "75%                    112.737500    1.000000e+00     3.000000e+00   \n",
       "max                   8188.000000    3.300000e+02     4.000000e+00   \n",
       "\n",
       "       surface_reelle_bati  nombre_pieces_principales  surface_terrain  \n",
       "count         1.497614e+06               1.497614e+06     1.989776e+06  \n",
       "mean          9.194560e+01               2.481828e+00     2.962688e+03  \n",
       "std           7.420706e+02               2.108221e+00     1.421613e+04  \n",
       "min           0.000000e+00               0.000000e+00     0.000000e+00  \n",
       "25%           1.800000e+01               0.000000e+00     2.310000e+02  \n",
       "50%           6.300000e+01               3.000000e+00     6.080000e+02  \n",
       "75%           9.600000e+01               4.000000e+00     1.815000e+03  \n",
       "max           2.778140e+05               9.000000e+01     4.625500e+06  "
      ]
     },
     "execution_count": 83,
     "metadata": {},
     "output_type": "execute_result"
    }
   ],
   "source": [
    "df.select_dtypes(exclude=['object']).describe()"
   ]
  },
  {
   "cell_type": "markdown",
   "metadata": {},
   "source": [
    "#### Renomme les colonnes"
   ]
  },
  {
   "cell_type": "code",
   "execution_count": 5,
   "metadata": {},
   "outputs": [],
   "source": [
    "import unidecode\n",
    "\n",
    "columns = {}\n",
    "for index, column_name in enumerate(df.columns):\n",
    "    columns[column_name] = unidecode.unidecode(column_name.replace(' ','_').replace('\\'','_').lower())\n",
    "df.rename(columns=columns, inplace=True)"
   ]
  },
  {
   "cell_type": "markdown",
   "metadata": {},
   "source": [
    "#### Supression des colonnes sans données"
   ]
  },
  {
   "cell_type": "code",
   "execution_count": 6,
   "metadata": {},
   "outputs": [
    {
     "name": "stdout",
     "output_type": "stream",
     "text": [
      "Suppression de 8 colonnes sans données\n"
     ]
    }
   ],
   "source": [
    "# Drop NaN columns\n",
    "initial_length = len(df.columns)\n",
    "df.dropna(how='all', axis=1, inplace=True)\n",
    "print(\"Suppression de {} colonnes sans données\".format(initial_length-len(df.columns)))"
   ]
  },
  {
   "cell_type": "markdown",
   "metadata": {},
   "source": [
    "#### Suppression des lignes en double"
   ]
  },
  {
   "cell_type": "code",
   "execution_count": 7,
   "metadata": {},
   "outputs": [
    {
     "name": "stdout",
     "output_type": "stream",
     "text": [
      "Suppression des doublons: 108687\n"
     ]
    }
   ],
   "source": [
    "# Drop duplicates\n",
    "initial_length = len(df)\n",
    "df.drop_duplicates(inplace=True)\n",
    "print(\"Suppression des doublons: {}\".format(initial_length-len(df)))"
   ]
  },
  {
   "cell_type": "code",
   "execution_count": 8,
   "metadata": {},
   "outputs": [],
   "source": [
    "# Suppression des lignes où il n'y a pas de 'valeurs foncières'\n",
    "indexNames = df[df.valeur_fonciere.isnull()].index\n",
    "df.drop(indexNames, inplace=True)"
   ]
  },
  {
   "cell_type": "markdown",
   "metadata": {},
   "source": [
    "### Supprime les données aberrantes"
   ]
  },
  {
   "cell_type": "code",
   "execution_count": 9,
   "metadata": {},
   "outputs": [],
   "source": [
    "def outliers(df, min_qtl, max_qtl):\n",
    "    q_inf = df.valeur_fonciere.quantile(min_qtl)\n",
    "    q_sup = df.valeur_fonciere.quantile(max_qtl)\n",
    "    df_no_out = df[(df.valeur_fonciere>q_inf) &\n",
    "                  (df.valeur_fonciere<q_sup)\n",
    "                  ]\n",
    "    return df_no_out"
   ]
  },
  {
   "cell_type": "markdown",
   "metadata": {},
   "source": [
    "##### Découpe les données entre 'Appartement' et 'Maison'"
   ]
  },
  {
   "cell_type": "code",
   "execution_count": 41,
   "metadata": {},
   "outputs": [
    {
     "name": "stdout",
     "output_type": "stream",
     "text": [
      "Nb de maison: 598446\n",
      "Nb d'appartement: 452858\n"
     ]
    }
   ],
   "source": [
    "# Maison\n",
    "maison_df = df[df.code_type_local==1]\n",
    "print('Nb de maison: {}'.format(len(maison_df)))\n",
    "# Appartement\n",
    "appart_df = df[df.code_type_local==2]\n",
    "print('Nb d\\'appartement: {}'.format(len(appart_df)))"
   ]
  },
  {
   "cell_type": "markdown",
   "metadata": {},
   "source": [
    "####  Recherche de données aberrantes"
   ]
  },
  {
   "cell_type": "code",
   "execution_count": 42,
   "metadata": {
    "scrolled": false
   },
   "outputs": [
    {
     "name": "stdout",
     "output_type": "stream",
     "text": [
      "Appartement:\n",
      "count    406630.000000\n",
      "mean     209248.563103\n",
      "std      160611.637993\n",
      "min       43002.000000\n",
      "25%      103000.000000\n",
      "50%      160000.000000\n",
      "75%      254789.750000\n",
      "max      999990.000000\n",
      "Name: valeur_fonciere, dtype: object\n",
      "\n",
      "Maison:\n",
      "count    538258.000000\n",
      "mean     200684.701320\n",
      "std      112998.432566\n",
      "min       40001.000000\n",
      "25%      118000.000000\n",
      "50%      175000.000000\n",
      "75%      260000.000000\n",
      "max      591970.000000\n",
      "Name: valeur_fonciere, dtype: object\n"
     ]
    }
   ],
   "source": [
    "# Suppression des valeurs foncières avec un quantile inférieur à 5% et supérieur à 95%\n",
    "appart_no_out = outliers(appart_df,.05,.95)\n",
    "print('Appartement:\\n{}'.format(appart_no_out.valeur_fonciere.describe().apply(lambda x: format(x, 'f'))))\n",
    "\n",
    "maison_no_out = outliers(maison_df,.05,.95)\n",
    "print('\\nMaison:\\n{}'.format(maison_no_out.valeur_fonciere.describe().apply(lambda x: format(x, 'f'))))"
   ]
  },
  {
   "cell_type": "markdown",
   "metadata": {},
   "source": [
    "On a gardé les quantiles entre 5% et 95% pour éviter les données aberrantes (ex.: un appartement à 1 Milliard)"
   ]
  },
  {
   "cell_type": "code",
   "execution_count": 43,
   "metadata": {},
   "outputs": [
    {
     "data": {
      "image/png": "[encoded data removed]",
      "text/plain": [
       "<Figure size 720x720 with 1 Axes>"
      ]
     },
     "metadata": {
      "needs_background": "light"
     },
     "output_type": "display_data"
    }
   ],
   "source": [
    "plt.figure(figsize=(10,10))\n",
    "plt.boxplot([appart_no_out.valeur_fonciere, maison_no_out.valeur_fonciere])\n",
    "plt.ylabel('Valeurs foncières')\n",
    "plt.xticks([1,2],['Appartement','Maison'])\n",
    "plt.show();"
   ]
  },
  {
   "cell_type": "markdown",
   "metadata": {},
   "source": [
    "#### Calcul du prix au m2"
   ]
  },
  {
   "cell_type": "markdown",
   "metadata": {},
   "source": [
    "Pour continuer la recherche de données aberrantes sur le prix et la surface, on créé un nouvel attribut du prix au mètre carré."
   ]
  },
  {
   "cell_type": "code",
   "execution_count": 44,
   "metadata": {},
   "outputs": [
    {
     "name": "stderr",
     "output_type": "stream",
     "text": [
      "/Users/odyssee/opt/anaconda3/lib/python3.7/site-packages/ipykernel_launcher.py:5: SettingWithCopyWarning: \n",
      "A value is trying to be set on a copy of a slice from a DataFrame.\n",
      "Try using .loc[row_indexer,col_indexer] = value instead\n",
      "\n",
      "See the caveats in the documentation: http://pandas.pydata.org/pandas-docs/stable/user_guide/indexing.html#returning-a-view-versus-a-copy\n",
      "  \"\"\"\n"
     ]
    }
   ],
   "source": [
    "appart_no_out['total_m2'] = np.maximum((appart_no_out.surface_carrez_du_1er_lot.fillna(0) + \\\n",
    "    appart_no_out.surface_carrez_du_2eme_lot.fillna(0) + \\\n",
    "    appart_no_out.surface_carrez_du_3eme_lot.fillna(0) + \\\n",
    "    appart_no_out.surface_carrez_du_4eme_lot.fillna(0) + \\\n",
    "    appart_no_out.surface_carrez_du_5eme_lot.fillna(0)),appart_no_out.surface_reelle_bati)\n",
    "\n",
    "appart_no_out = appart_no_out[appart_no_out.total_m2>0]\n",
    "appart_no_out['prix_m2'] = round(appart_no_out.valeur_fonciere/appart_no_out.total_m2,2)"
   ]
  },
  {
   "cell_type": "code",
   "execution_count": 45,
   "metadata": {
    "scrolled": true
   },
   "outputs": [
    {
     "data": {
      "text/plain": [
       "count    406612.000000\n",
       "mean       4258.237239\n",
       "std        5386.618498\n",
       "min           7.250000\n",
       "25%        1984.850000\n",
       "50%        3048.130000\n",
       "75%        4835.857500\n",
       "max      690000.000000\n",
       "Name: prix_m2, dtype: object"
      ]
     },
     "execution_count": 45,
     "metadata": {},
     "output_type": "execute_result"
    }
   ],
   "source": [
    "appart_no_out.prix_m2.describe().apply(lambda x: format(x, 'f'))"
   ]
  },
  {
   "cell_type": "markdown",
   "metadata": {},
   "source": [
    "On voit qu'il y a un appartement avec un prix à 690.000€ le m2 qui est de toute évidence une donnée aberrante.\n",
    "Donc on garde les quantiles entre 5% et 95%"
   ]
  },
  {
   "cell_type": "code",
   "execution_count": 46,
   "metadata": {
    "scrolled": true
   },
   "outputs": [
    {
     "name": "stdout",
     "output_type": "stream",
     "text": [
      "Appartement:\n",
      "count    365905.000000\n",
      "mean       3669.641465\n",
      "std        2174.811634\n",
      "min        1041.700000\n",
      "25%        2086.490000\n",
      "50%        3048.390000\n",
      "75%        4543.480000\n",
      "max       10759.490000\n",
      "Name: prix_m2, dtype: object\n"
     ]
    }
   ],
   "source": [
    "q_inf = appart_no_out.prix_m2.quantile(.05)\n",
    "q_sup = appart_no_out.prix_m2.quantile(.95)\n",
    "appart_no_out = appart_no_out[(appart_no_out.prix_m2>q_inf) & (appart_no_out.prix_m2<q_sup) ]\n",
    "print('Appartement:\\n{}'.format(appart_no_out.prix_m2.describe().apply(lambda x: format(x, 'f'))))"
   ]
  },
  {
   "cell_type": "markdown",
   "metadata": {},
   "source": [
    "Maintenant le prix au m2 maximum est de 10759€. Le minimum est de 1041€. Nous n'avons pas gardé des valeurs plus extrêmes car nous avons peu de biens pour en déduire un prix."
   ]
  },
  {
   "cell_type": "code",
   "execution_count": 47,
   "metadata": {},
   "outputs": [
    {
     "data": {
      "image/png": "[encoded data removed]",
      "text/plain": [
       "<Figure size 720x720 with 1 Axes>"
      ]
     },
     "metadata": {
      "needs_background": "light"
     },
     "output_type": "display_data"
    }
   ],
   "source": [
    "plt.figure(figsize=(10,10))\n",
    "plt.boxplot(appart_no_out.prix_m2)\n",
    "plt.ylabel('Prix m2')\n",
    "plt.show();"
   ]
  },
  {
   "cell_type": "markdown",
   "metadata": {},
   "source": [
    "#### Nombre de pièces principales"
   ]
  },
  {
   "cell_type": "markdown",
   "metadata": {},
   "source": [
    "Suppression des biens avec des nombres de pièces hors-norme (ex:63)"
   ]
  },
  {
   "cell_type": "code",
   "execution_count": 48,
   "metadata": {},
   "outputs": [
    {
     "name": "stdout",
     "output_type": "stream",
     "text": [
      "Appartement:\n",
      "count    365199.000000\n",
      "mean          2.597011\n",
      "std           1.094714\n",
      "min           0.000000\n",
      "25%           2.000000\n",
      "50%           3.000000\n",
      "75%           3.000000\n",
      "max           6.000000\n",
      "Name: nombre_pieces_principales, dtype: object\n"
     ]
    }
   ],
   "source": [
    "#q_inf = appart_no_out.nombre_pieces_principales.quantile(.05)\n",
    "q_sup = appart_no_out.nombre_pieces_principales.quantile(.999)\n",
    "appart_no_out = appart_no_out[appart_no_out.nombre_pieces_principales<q_sup]\n",
    "print('Appartement:\\n{}'.format(appart_no_out.nombre_pieces_principales.describe().apply(lambda x: format(x, 'f'))))"
   ]
  },
  {
   "cell_type": "code",
   "execution_count": 49,
   "metadata": {},
   "outputs": [
    {
     "data": {
      "image/png": "[encoded data removed]",
      "text/plain": [
       "<Figure size 720x720 with 1 Axes>"
      ]
     },
     "metadata": {
      "needs_background": "light"
     },
     "output_type": "display_data"
    }
   ],
   "source": [
    "plt.figure(figsize=(10,10))\n",
    "plt.boxplot(appart_no_out.nombre_pieces_principales)\n",
    "plt.ylabel('Nombre de pièces principales')\n",
    "plt.show();"
   ]
  },
  {
   "cell_type": "code",
   "execution_count": 50,
   "metadata": {},
   "outputs": [
    {
     "data": {
      "text/html": [
       "<div>\n",
       "<style scoped>\n",
       "    .dataframe tbody tr th:only-of-type {\n",
       "        vertical-align: middle;\n",
       "    }\n",
       "\n",
       "    .dataframe tbody tr th {\n",
       "        vertical-align: top;\n",
       "    }\n",
       "\n",
       "    .dataframe thead th {\n",
       "        text-align: right;\n",
       "    }\n",
       "</style>\n",
       "<table border=\"1\" class=\"dataframe\">\n",
       "  <thead>\n",
       "    <tr style=\"text-align: right;\">\n",
       "      <th></th>\n",
       "      <th>type_local</th>\n",
       "      <th>code_voie</th>\n",
       "      <th>no_voie</th>\n",
       "      <th>type_de_voie</th>\n",
       "      <th>voie</th>\n",
       "      <th>code_postal</th>\n",
       "      <th>commune</th>\n",
       "      <th>nombre_de_lots</th>\n",
       "      <th>nombre_pieces_principales</th>\n",
       "      <th>total_m2</th>\n",
       "      <th>prix_m2</th>\n",
       "      <th>valeur_fonciere</th>\n",
       "    </tr>\n",
       "  </thead>\n",
       "  <tbody>\n",
       "    <tr>\n",
       "      <th>3010395</th>\n",
       "      <td>Appartement</td>\n",
       "      <td>3598</td>\n",
       "      <td>7.0</td>\n",
       "      <td>CRS</td>\n",
       "      <td>DE LA FERME ST LAZARE</td>\n",
       "      <td>75010.0</td>\n",
       "      <td>PARIS 10</td>\n",
       "      <td>1</td>\n",
       "      <td>1.0</td>\n",
       "      <td>21.92</td>\n",
       "      <td>10759.49</td>\n",
       "      <td>235848.0</td>\n",
       "    </tr>\n",
       "    <tr>\n",
       "      <th>3012704</th>\n",
       "      <td>Appartement</td>\n",
       "      <td>8289</td>\n",
       "      <td>83.0</td>\n",
       "      <td>RUE</td>\n",
       "      <td>DE ROCHECHOUART</td>\n",
       "      <td>75009.0</td>\n",
       "      <td>PARIS 09</td>\n",
       "      <td>1</td>\n",
       "      <td>2.0</td>\n",
       "      <td>41.36</td>\n",
       "      <td>10759.19</td>\n",
       "      <td>445000.0</td>\n",
       "    </tr>\n",
       "    <tr>\n",
       "      <th>3046236</th>\n",
       "      <td>Appartement</td>\n",
       "      <td>8055</td>\n",
       "      <td>8.0</td>\n",
       "      <td>RUE</td>\n",
       "      <td>RAVIGNAN</td>\n",
       "      <td>75018.0</td>\n",
       "      <td>PARIS 18</td>\n",
       "      <td>2</td>\n",
       "      <td>2.0</td>\n",
       "      <td>36.25</td>\n",
       "      <td>10758.62</td>\n",
       "      <td>390000.0</td>\n",
       "    </tr>\n",
       "    <tr>\n",
       "      <th>3007221</th>\n",
       "      <td>Appartement</td>\n",
       "      <td>6369</td>\n",
       "      <td>22.0</td>\n",
       "      <td>RUE</td>\n",
       "      <td>MILTON</td>\n",
       "      <td>75009.0</td>\n",
       "      <td>PARIS 09</td>\n",
       "      <td>2</td>\n",
       "      <td>3.0</td>\n",
       "      <td>58.00</td>\n",
       "      <td>10758.62</td>\n",
       "      <td>624000.0</td>\n",
       "    </tr>\n",
       "    <tr>\n",
       "      <th>3038249</th>\n",
       "      <td>Appartement</td>\n",
       "      <td>0045</td>\n",
       "      <td>23.0</td>\n",
       "      <td>RUE</td>\n",
       "      <td>DES ACACIAS</td>\n",
       "      <td>75017.0</td>\n",
       "      <td>PARIS 17</td>\n",
       "      <td>2</td>\n",
       "      <td>1.0</td>\n",
       "      <td>29.00</td>\n",
       "      <td>10758.62</td>\n",
       "      <td>312000.0</td>\n",
       "    </tr>\n",
       "    <tr>\n",
       "      <th>2922395</th>\n",
       "      <td>Appartement</td>\n",
       "      <td>8180</td>\n",
       "      <td>5.0</td>\n",
       "      <td>RUE</td>\n",
       "      <td>DE ROSNY</td>\n",
       "      <td>94120.0</td>\n",
       "      <td>FONTENAY-SOUS-BOIS</td>\n",
       "      <td>0</td>\n",
       "      <td>3.0</td>\n",
       "      <td>77.00</td>\n",
       "      <td>10758.44</td>\n",
       "      <td>828400.0</td>\n",
       "    </tr>\n",
       "    <tr>\n",
       "      <th>2804168</th>\n",
       "      <td>Appartement</td>\n",
       "      <td>0712</td>\n",
       "      <td>31.0</td>\n",
       "      <td>RUE</td>\n",
       "      <td>DE BILLANCOURT</td>\n",
       "      <td>92100.0</td>\n",
       "      <td>BOULOGNE-BILLANCOURT</td>\n",
       "      <td>2</td>\n",
       "      <td>1.0</td>\n",
       "      <td>19.52</td>\n",
       "      <td>10758.20</td>\n",
       "      <td>210000.0</td>\n",
       "    </tr>\n",
       "    <tr>\n",
       "      <th>3011204</th>\n",
       "      <td>Appartement</td>\n",
       "      <td>0792</td>\n",
       "      <td>27.0</td>\n",
       "      <td>RUE</td>\n",
       "      <td>BEAUREPAIRE</td>\n",
       "      <td>75010.0</td>\n",
       "      <td>PARIS 10</td>\n",
       "      <td>2</td>\n",
       "      <td>3.0</td>\n",
       "      <td>55.00</td>\n",
       "      <td>10758.18</td>\n",
       "      <td>591700.0</td>\n",
       "    </tr>\n",
       "    <tr>\n",
       "      <th>3022032</th>\n",
       "      <td>Appartement</td>\n",
       "      <td>2047</td>\n",
       "      <td>12.0</td>\n",
       "      <td>RUE</td>\n",
       "      <td>DES CINQ DIAMANTS</td>\n",
       "      <td>75013.0</td>\n",
       "      <td>PARIS 13</td>\n",
       "      <td>1</td>\n",
       "      <td>1.0</td>\n",
       "      <td>17.02</td>\n",
       "      <td>10757.93</td>\n",
       "      <td>183100.0</td>\n",
       "    </tr>\n",
       "    <tr>\n",
       "      <th>3015096</th>\n",
       "      <td>Appartement</td>\n",
       "      <td>7401</td>\n",
       "      <td>32.0</td>\n",
       "      <td>BD</td>\n",
       "      <td>DE PICPUS</td>\n",
       "      <td>75012.0</td>\n",
       "      <td>PARIS 12</td>\n",
       "      <td>2</td>\n",
       "      <td>1.0</td>\n",
       "      <td>26.00</td>\n",
       "      <td>10757.69</td>\n",
       "      <td>279700.0</td>\n",
       "    </tr>\n",
       "  </tbody>\n",
       "</table>\n",
       "</div>"
      ],
      "text/plain": [
       "          type_local code_voie  no_voie type_de_voie                   voie  \\\n",
       "3010395  Appartement      3598      7.0          CRS  DE LA FERME ST LAZARE   \n",
       "3012704  Appartement      8289     83.0          RUE        DE ROCHECHOUART   \n",
       "3046236  Appartement      8055      8.0          RUE               RAVIGNAN   \n",
       "3007221  Appartement      6369     22.0          RUE                 MILTON   \n",
       "3038249  Appartement      0045     23.0          RUE            DES ACACIAS   \n",
       "2922395  Appartement      8180      5.0          RUE               DE ROSNY   \n",
       "2804168  Appartement      0712     31.0          RUE         DE BILLANCOURT   \n",
       "3011204  Appartement      0792     27.0          RUE            BEAUREPAIRE   \n",
       "3022032  Appartement      2047     12.0          RUE      DES CINQ DIAMANTS   \n",
       "3015096  Appartement      7401     32.0           BD              DE PICPUS   \n",
       "\n",
       "         code_postal               commune  nombre_de_lots  \\\n",
       "3010395      75010.0              PARIS 10               1   \n",
       "3012704      75009.0              PARIS 09               1   \n",
       "3046236      75018.0              PARIS 18               2   \n",
       "3007221      75009.0              PARIS 09               2   \n",
       "3038249      75017.0              PARIS 17               2   \n",
       "2922395      94120.0    FONTENAY-SOUS-BOIS               0   \n",
       "2804168      92100.0  BOULOGNE-BILLANCOURT               2   \n",
       "3011204      75010.0              PARIS 10               2   \n",
       "3022032      75013.0              PARIS 13               1   \n",
       "3015096      75012.0              PARIS 12               2   \n",
       "\n",
       "         nombre_pieces_principales  total_m2   prix_m2  valeur_fonciere  \n",
       "3010395                        1.0     21.92  10759.49         235848.0  \n",
       "3012704                        2.0     41.36  10759.19         445000.0  \n",
       "3046236                        2.0     36.25  10758.62         390000.0  \n",
       "3007221                        3.0     58.00  10758.62         624000.0  \n",
       "3038249                        1.0     29.00  10758.62         312000.0  \n",
       "2922395                        3.0     77.00  10758.44         828400.0  \n",
       "2804168                        1.0     19.52  10758.20         210000.0  \n",
       "3011204                        3.0     55.00  10758.18         591700.0  \n",
       "3022032                        1.0     17.02  10757.93         183100.0  \n",
       "3015096                        1.0     26.00  10757.69         279700.0  "
      ]
     },
     "execution_count": 50,
     "metadata": {},
     "output_type": "execute_result"
    }
   ],
   "source": [
    "pd.set_option('display.max_rows', 500)\n",
    "appart_no_out[[ \n",
    "          'type_local',\n",
    "          'code_voie',\n",
    "          'no_voie',\n",
    "          'type_de_voie',\n",
    "          'voie',\n",
    "          'code_postal',\n",
    "          'commune',\n",
    "          'nombre_de_lots',\n",
    "          'nombre_pieces_principales',\n",
    "#          'surface_carrez_du_1er_lot',\n",
    "#          '1er_lot',\n",
    "#          'surface_carrez_du_2eme_lot',\n",
    "#          '2eme_lot',\n",
    "#          'surface_carrez_du_3eme_lot',\n",
    "#          '3eme_lot',\n",
    "#          'surface_carrez_du_4eme_lot',\n",
    "#          'surface_carrez_du_5eme_lot',\n",
    "#         'surface_reelle_bati',\n",
    "         'total_m2',\n",
    "         'prix_m2',\n",
    "         'valeur_fonciere',\n",
    "          ]].sort_values('prix_m2', ascending=False).head(10)"
   ]
  },
  {
   "cell_type": "markdown",
   "metadata": {},
   "source": [
    "## Régression linéaire avec un seul attribut pour les appartements"
   ]
  },
  {
   "cell_type": "markdown",
   "metadata": {},
   "source": [
    "Nous utilisons un modèle de régression linaire pour prédire le prix d'un apparement. Le seul attribut utilisé est la surface totale"
   ]
  },
  {
   "cell_type": "code",
   "execution_count": 51,
   "metadata": {},
   "outputs": [],
   "source": [
    "y = appart_no_out.valeur_fonciere\n",
    "X = appart_no_out.total_m2"
   ]
  },
  {
   "cell_type": "code",
   "execution_count": 52,
   "metadata": {},
   "outputs": [
    {
     "data": {
      "image/png": "[encoded data removed]",
      "text/plain": [
       "<Figure size 1440x720 with 1 Axes>"
      ]
     },
     "metadata": {
      "needs_background": "light"
     },
     "output_type": "display_data"
    }
   ],
   "source": [
    "plt.figure(figsize=(20,10))\n",
    "plt.hist(X, bins=70)\n",
    "plt.ylabel('Nb d\\'appartement')\n",
    "plt.xlabel('Surface')\n",
    "plt.show();"
   ]
  },
  {
   "cell_type": "code",
   "execution_count": 53,
   "metadata": {},
   "outputs": [
    {
     "data": {
      "image/png": "[encoded data removed]",
      "text/plain": [
       "<Figure size 1440x720 with 1 Axes>"
      ]
     },
     "metadata": {
      "needs_background": "light"
     },
     "output_type": "display_data"
    }
   ],
   "source": [
    "plt.figure(figsize=(20,10))\n",
    "plt.hist(y, bins=50)\n",
    "plt.ylabel('Nb d\\'appartement')\n",
    "plt.xlabel('Valeurs foncières')\n",
    "plt.ticklabel_format(style='plain')\n",
    "plt.show();"
   ]
  },
  {
   "cell_type": "code",
   "execution_count": 54,
   "metadata": {},
   "outputs": [],
   "source": [
    "y_reg = y.values.reshape(-1, 1)\n",
    "X_reg = X.values.reshape(-1, 1)"
   ]
  },
  {
   "cell_type": "code",
   "execution_count": 55,
   "metadata": {},
   "outputs": [],
   "source": [
    "reg = LinearRegression()\n",
    "reg.fit(X_reg, y_reg)\n",
    "prediction_space = np.linspace(min(X_reg), max(X_reg)).reshape(-1, 1)"
   ]
  },
  {
   "cell_type": "code",
   "execution_count": 56,
   "metadata": {
    "scrolled": false
   },
   "outputs": [
    {
     "data": {
      "image/png": "[encoded data removed]",
      "text/plain": [
       "<Figure size 1440x720 with 1 Axes>"
      ]
     },
     "metadata": {
      "needs_background": "light"
     },
     "output_type": "display_data"
    }
   ],
   "source": [
    "plt.figure(figsize=(20,10))\n",
    "plt.scatter(X_reg, y_reg)\n",
    "plt.plot(prediction_space, reg.predict(prediction_space), color='red', linewidth=4)\n",
    "plt.ylabel('Valeurs foncières')\n",
    "plt.xlabel('Surface du 1er lot')\n",
    "plt.ticklabel_format(style='plain')\n",
    "plt.show()"
   ]
  },
  {
   "cell_type": "code",
   "execution_count": 57,
   "metadata": {},
   "outputs": [
    {
     "data": {
      "text/plain": [
       "0.22221950250560318"
      ]
     },
     "execution_count": 57,
     "metadata": {},
     "output_type": "execute_result"
    }
   ],
   "source": [
    "X_train, X_test, y_train, y_test = train_test_split(X.values.reshape(-1,1), y.values.reshape(-1,1), test_size=0.33, random_state=42)\n",
    "reg.score(X_test, y_test)"
   ]
  },
  {
   "cell_type": "markdown",
   "metadata": {},
   "source": [
    "En utilisant un seul attribut avec un modèle de regression linéaire, nous arrivons un score de prédiction relativement faible de 22.22%"
   ]
  },
  {
   "cell_type": "markdown",
   "metadata": {},
   "source": [
    "## Régression linéaire avec plusieurs attributs pour les appartements"
   ]
  },
  {
   "cell_type": "markdown",
   "metadata": {},
   "source": [
    "#### Rajout e plusieurs attributs qui peuvent influer sur le prix de l'appartement."
   ]
  },
  {
   "cell_type": "code",
   "execution_count": 126,
   "metadata": {},
   "outputs": [
    {
     "name": "stderr",
     "output_type": "stream",
     "text": [
      "/Users/odyssee/opt/anaconda3/lib/python3.7/site-packages/pandas/core/generic.py:6287: SettingWithCopyWarning: \n",
      "A value is trying to be set on a copy of a slice from a DataFrame\n",
      "\n",
      "See the caveats in the documentation: http://pandas.pydata.org/pandas-docs/stable/user_guide/indexing.html#returning-a-view-versus-a-copy\n",
      "  self._update_inplace(new_data)\n"
     ]
    }
   ],
   "source": [
    "appart_reglin = appart_no_out[[\n",
    "    'valeur_fonciere',\n",
    "    #'total_m2',\n",
    "    'nombre_pieces_principales',\n",
    "    'code_commune',\n",
    "    'code_departement',\n",
    "    'nombre_de_lots',\n",
    "    'surface_carrez_du_1er_lot',\n",
    "    'surface_carrez_du_2eme_lot',\n",
    "    'surface_carrez_du_3eme_lot',\n",
    "    'surface_carrez_du_4eme_lot',\n",
    "    'surface_carrez_du_5eme_lot',\n",
    "    'surface_reelle_bati'\n",
    "    ]]\n",
    "\n",
    "appart_reglin.surface_carrez_du_1er_lot.fillna(0, inplace=True)\n",
    "appart_reglin.surface_carrez_du_2eme_lot.fillna(0, inplace=True)\n",
    "appart_reglin.surface_carrez_du_3eme_lot.fillna(0, inplace=True)\n",
    "appart_reglin.surface_carrez_du_4eme_lot.fillna(0, inplace=True)\n",
    "appart_reglin.surface_carrez_du_5eme_lot.fillna(0, inplace=True)\n",
    "appart_reglin.surface_reelle_bati.fillna(0, inplace=True)\n",
    "#appart_reglin['Surface terrain'].fillna(0, inplace=True)"
   ]
  },
  {
   "cell_type": "code",
   "execution_count": 127,
   "metadata": {},
   "outputs": [
    {
     "name": "stdout",
     "output_type": "stream",
     "text": [
      "<class 'pandas.core.frame.DataFrame'>\n",
      "Int64Index: 365199 entries, 0 to 3059532\n",
      "Data columns (total 11 columns):\n",
      "valeur_fonciere               365199 non-null float64\n",
      "nombre_pieces_principales     365199 non-null float64\n",
      "code_commune                  365199 non-null int64\n",
      "code_departement              365199 non-null int64\n",
      "nombre_de_lots                365199 non-null int64\n",
      "surface_carrez_du_1er_lot     365199 non-null float64\n",
      "surface_carrez_du_2eme_lot    365199 non-null float64\n",
      "surface_carrez_du_3eme_lot    365199 non-null float64\n",
      "surface_carrez_du_4eme_lot    365199 non-null float64\n",
      "surface_carrez_du_5eme_lot    365199 non-null float64\n",
      "surface_reelle_bati           365199 non-null float64\n",
      "dtypes: float64(8), int64(3)\n",
      "memory usage: 33.4 MB\n"
     ]
    },
    {
     "name": "stderr",
     "output_type": "stream",
     "text": [
      "/Users/odyssee/opt/anaconda3/lib/python3.7/site-packages/pandas/core/generic.py:6786: SettingWithCopyWarning: \n",
      "A value is trying to be set on a copy of a slice from a DataFrame\n",
      "\n",
      "See the caveats in the documentation: http://pandas.pydata.org/pandas-docs/stable/user_guide/indexing.html#returning-a-view-versus-a-copy\n",
      "  self._update_inplace(new_data)\n"
     ]
    }
   ],
   "source": [
    "appart_reglin.code_departement.replace({'2A':201,'2B':202, '29':29}, inplace=True)\n",
    "appart_reglin.code_departement.astype('int32')\n",
    "appart_reglin.info()"
   ]
  },
  {
   "cell_type": "code",
   "execution_count": 128,
   "metadata": {},
   "outputs": [],
   "source": [
    "X = appart_reglin.drop('valeur_fonciere',axis=1)\n",
    "y = appart_reglin.valeur_fonciere"
   ]
  },
  {
   "cell_type": "code",
   "execution_count": 129,
   "metadata": {},
   "outputs": [
    {
     "name": "stdout",
     "output_type": "stream",
     "text": [
      "(244683, 10)\n",
      "(244683,)\n"
     ]
    }
   ],
   "source": [
    "X_train, X_test, y_train, y_test = train_test_split(X.values, y.values, test_size=0.33, random_state=42)\n",
    "\n",
    "print(X_train.shape)\n",
    "print(y_train.shape)"
   ]
  },
  {
   "cell_type": "code",
   "execution_count": 130,
   "metadata": {},
   "outputs": [
    {
     "data": {
      "text/plain": [
       "LinearRegression(copy_X=True, fit_intercept=True, n_jobs=None, normalize=False)"
      ]
     },
     "execution_count": 130,
     "metadata": {},
     "output_type": "execute_result"
    }
   ],
   "source": [
    "reg_all = LinearRegression()\n",
    "reg_all.fit(X_train, y_train)"
   ]
  },
  {
   "cell_type": "code",
   "execution_count": 131,
   "metadata": {},
   "outputs": [
    {
     "data": {
      "text/plain": [
       "0.22953800888398235"
      ]
     },
     "execution_count": 131,
     "metadata": {},
     "output_type": "execute_result"
    }
   ],
   "source": [
    "#y_pred = reg_all.predict(X_test)\n",
    "reg_all.score(X_test, y_test)"
   ]
  },
  {
   "cell_type": "markdown",
   "metadata": {},
   "source": [
    "#### Cross-validation"
   ]
  },
  {
   "cell_type": "code",
   "execution_count": 105,
   "metadata": {
    "scrolled": true
   },
   "outputs": [
    {
     "name": "stdout",
     "output_type": "stream",
     "text": [
      "[ 0.3319914   0.12423034  0.24383077 -0.06007977 -0.00956366  0.17288346\n",
      "  0.2504647   0.19620995  0.14109968 -0.83297905]\n"
     ]
    }
   ],
   "source": [
    "from sklearn.model_selection import cross_val_score\n",
    "cv_reg = LinearRegression()\n",
    "cv_results = cross_val_score(cv_reg, X.values, y.values, cv=len(X.columns))\n",
    "print(cv_results)"
   ]
  },
  {
   "cell_type": "code",
   "execution_count": 106,
   "metadata": {},
   "outputs": [
    {
     "data": {
      "text/plain": [
       "0.05580878206496519"
      ]
     },
     "execution_count": 106,
     "metadata": {},
     "output_type": "execute_result"
    }
   ],
   "source": [
    "np.mean(cv_results)"
   ]
  },
  {
   "cell_type": "markdown",
   "metadata": {},
   "source": [
    "#### Régression linéaire avec Lasso"
   ]
  },
  {
   "cell_type": "code",
   "execution_count": 110,
   "metadata": {},
   "outputs": [
    {
     "data": {
      "text/plain": [
       "Lasso(alpha=0.4, copy_X=True, fit_intercept=True, max_iter=1000, normalize=True,\n",
       "      positive=False, precompute=False, random_state=None, selection='cyclic',\n",
       "      tol=0.0001, warm_start=False)"
      ]
     },
     "execution_count": 110,
     "metadata": {},
     "output_type": "execute_result"
    }
   ],
   "source": [
    "from sklearn.linear_model import Lasso\n",
    "\n",
    "lasso = Lasso(alpha=0.4, normalize=True)\n",
    "lasso.fit(X_train,y_train)"
   ]
  },
  {
   "cell_type": "markdown",
   "metadata": {},
   "source": [
    "#### Filtre sur l'importance des features"
   ]
  },
  {
   "cell_type": "code",
   "execution_count": 111,
   "metadata": {},
   "outputs": [],
   "source": [
    "lasso_df = pd.DataFrame(np.array([lasso.coef_]), columns=X.columns)"
   ]
  },
  {
   "cell_type": "markdown",
   "metadata": {},
   "source": [
    "for col in lasso_df.columns:\n",
    "    if lasso_df[col].iloc[0]<1000:\n",
    "        lasso_df.drop(col, axis=1, inplace=True)"
   ]
  },
  {
   "cell_type": "code",
   "execution_count": 112,
   "metadata": {},
   "outputs": [
    {
     "data": {
      "image/png": "[encoded data removed]",
      "text/plain": [
       "<Figure size 1440x720 with 1 Axes>"
      ]
     },
     "metadata": {
      "needs_background": "light"
     },
     "output_type": "display_data"
    }
   ],
   "source": [
    "col_rang = range(len(lasso_df.columns))\n",
    "\n",
    "plt.figure(figsize=(20,10))\n",
    "plt.bar(col_rang, lasso_df.iloc[0])\n",
    "plt.xticks(col_rang, lasso_df.columns, rotation=60)\n",
    "plt.margins(0.02)\n",
    "plt.show()"
   ]
  },
  {
   "cell_type": "code",
   "execution_count": null,
   "metadata": {},
   "outputs": [],
   "source": []
  }
 ],
 "metadata": {
  "kernelspec": {
   "display_name": "Python 3",
   "language": "python",
   "name": "python3"
  },
  "language_info": {
   "codemirror_mode": {
    "name": "ipython",
    "version": 3
   },
   "file_extension": ".py",
   "mimetype": "text/x-python",
   "name": "python",
   "nbconvert_exporter": "python",
   "pygments_lexer": "ipython3",
   "version": "3.7.5"
  }
 },
 "nbformat": 4,
 "nbformat_minor": 2
}
