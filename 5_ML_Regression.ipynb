{
 "cells": [
  {
   "cell_type": "code",
   "execution_count": 1,
   "metadata": {
    "ExecuteTime": {
     "end_time": "2020-03-22T17:56:31.884062Z",
     "start_time": "2020-03-22T17:56:30.398028Z"
    }
   },
   "outputs": [],
   "source": [
    "import numpy as np\n",
    "import pandas as pd\n",
    "import missingno as msno\n",
    "import glob\n",
    "from datetime import datetime\n",
    "\n",
    "pd.options.display.max_columns = None"
   ]
  },
  {
   "cell_type": "code",
   "execution_count": 2,
   "metadata": {
    "ExecuteTime": {
     "end_time": "2020-03-22T17:56:31.929840Z",
     "start_time": "2020-03-22T17:56:31.886679Z"
    }
   },
   "outputs": [],
   "source": [
    "df = pd.read_csv('data/maisons_simples_ML_READY.csv')\n"
   ]
  },
  {
   "cell_type": "code",
   "execution_count": 3,
   "metadata": {
    "ExecuteTime": {
     "end_time": "2020-03-22T17:56:31.943341Z",
     "start_time": "2020-03-22T17:56:31.932955Z"
    }
   },
   "outputs": [
    {
     "name": "stdout",
     "output_type": "stream",
     "text": [
      "<class 'pandas.core.frame.DataFrame'>\n",
      "RangeIndex: 46577 entries, 0 to 46576\n",
      "Data columns (total 7 columns):\n",
      " #   Column                     Non-Null Count  Dtype  \n",
      "---  ------                     --------------  -----  \n",
      " 0   valeur_fonciere            46577 non-null  float64\n",
      " 1   code_postal                46577 non-null  float64\n",
      " 2   commune                    46577 non-null  object \n",
      " 3   code_departement           46577 non-null  int64  \n",
      " 4   surface_reelle_bati        46577 non-null  float64\n",
      " 5   nombre_pieces_principales  46577 non-null  int64  \n",
      " 6   surface_terrain            46577 non-null  float64\n",
      "dtypes: float64(4), int64(2), object(1)\n",
      "memory usage: 2.5+ MB\n"
     ]
    }
   ],
   "source": [
    "df.info()"
   ]
  },
  {
   "cell_type": "markdown",
   "metadata": {},
   "source": [
    "## Gestion des données catégoriques"
   ]
  },
  {
   "cell_type": "code",
   "execution_count": 4,
   "metadata": {
    "ExecuteTime": {
     "end_time": "2020-03-22T17:56:31.957788Z",
     "start_time": "2020-03-22T17:56:31.945864Z"
    }
   },
   "outputs": [
    {
     "data": {
      "text/html": [
       "<div>\n",
       "<style scoped>\n",
       "    .dataframe tbody tr th:only-of-type {\n",
       "        vertical-align: middle;\n",
       "    }\n",
       "\n",
       "    .dataframe tbody tr th {\n",
       "        vertical-align: top;\n",
       "    }\n",
       "\n",
       "    .dataframe thead th {\n",
       "        text-align: right;\n",
       "    }\n",
       "</style>\n",
       "<table border=\"1\" class=\"dataframe\">\n",
       "  <thead>\n",
       "    <tr style=\"text-align: right;\">\n",
       "      <th></th>\n",
       "      <th>commune</th>\n",
       "    </tr>\n",
       "  </thead>\n",
       "  <tbody>\n",
       "    <tr>\n",
       "      <th>0</th>\n",
       "      <td>SAINT-JULIEN-SUR-REYSSOUZE</td>\n",
       "    </tr>\n",
       "    <tr>\n",
       "      <th>1</th>\n",
       "      <td>LANCRANS</td>\n",
       "    </tr>\n",
       "    <tr>\n",
       "      <th>2</th>\n",
       "      <td>ABERGEMENT-DE-VAREY (L )</td>\n",
       "    </tr>\n",
       "    <tr>\n",
       "      <th>3</th>\n",
       "      <td>SAINTE-JULIE</td>\n",
       "    </tr>\n",
       "    <tr>\n",
       "      <th>4</th>\n",
       "      <td>GEX</td>\n",
       "    </tr>\n",
       "    <tr>\n",
       "      <th>...</th>\n",
       "      <td>...</td>\n",
       "    </tr>\n",
       "    <tr>\n",
       "      <th>46572</th>\n",
       "      <td>PARIS 19</td>\n",
       "    </tr>\n",
       "    <tr>\n",
       "      <th>46573</th>\n",
       "      <td>PARIS 19</td>\n",
       "    </tr>\n",
       "    <tr>\n",
       "      <th>46574</th>\n",
       "      <td>PARIS 20</td>\n",
       "    </tr>\n",
       "    <tr>\n",
       "      <th>46575</th>\n",
       "      <td>PARIS 19</td>\n",
       "    </tr>\n",
       "    <tr>\n",
       "      <th>46576</th>\n",
       "      <td>PARIS 20</td>\n",
       "    </tr>\n",
       "  </tbody>\n",
       "</table>\n",
       "<p>46577 rows × 1 columns</p>\n",
       "</div>"
      ],
      "text/plain": [
       "                          commune\n",
       "0      SAINT-JULIEN-SUR-REYSSOUZE\n",
       "1                        LANCRANS\n",
       "2        ABERGEMENT-DE-VAREY (L )\n",
       "3                    SAINTE-JULIE\n",
       "4                             GEX\n",
       "...                           ...\n",
       "46572                    PARIS 19\n",
       "46573                    PARIS 19\n",
       "46574                    PARIS 20\n",
       "46575                    PARIS 19\n",
       "46576                    PARIS 20\n",
       "\n",
       "[46577 rows x 1 columns]"
      ]
     },
     "execution_count": 4,
     "metadata": {},
     "output_type": "execute_result"
    }
   ],
   "source": [
    "category_cols = df.select_dtypes(include=['object','category'])\n",
    "category_cols"
   ]
  },
  {
   "cell_type": "code",
   "execution_count": 5,
   "metadata": {
    "ExecuteTime": {
     "end_time": "2020-03-22T17:56:31.968135Z",
     "start_time": "2020-03-22T17:56:31.959673Z"
    }
   },
   "outputs": [
    {
     "name": "stdout",
     "output_type": "stream",
     "text": [
      "commune (11947):\n",
      "['SAINT-JULIEN-SUR-REYSSOUZE' 'LANCRANS' 'ABERGEMENT-DE-VAREY (L )' ...\n",
      " 'PARIS 18' 'PARIS 19' 'PARIS 20']\n",
      "\n"
     ]
    }
   ],
   "source": [
    "for cat in category_cols.columns:\n",
    "    cat_val = df[cat].unique()\n",
    "    print('{} ({}):'.format(cat,len(cat_val)))\n",
    "    print('{}\\n'.format(cat_val))"
   ]
  },
  {
   "cell_type": "code",
   "execution_count": 6,
   "metadata": {
    "ExecuteTime": {
     "end_time": "2020-03-22T17:56:36.667088Z",
     "start_time": "2020-03-22T17:56:31.970275Z"
    }
   },
   "outputs": [],
   "source": [
    "df.drop('code_postal', axis=1, inplace=True)\n",
    "df = pd.get_dummies(df, columns=['code_departement', 'commune'])"
   ]
  },
  {
   "cell_type": "code",
   "execution_count": 7,
   "metadata": {
    "ExecuteTime": {
     "end_time": "2020-03-22T17:56:37.863528Z",
     "start_time": "2020-03-22T17:56:36.669160Z"
    }
   },
   "outputs": [
    {
     "name": "stdout",
     "output_type": "stream",
     "text": [
      "<class 'pandas.core.frame.DataFrame'>\n",
      "RangeIndex: 46577 entries, 0 to 46576\n",
      "Columns: 12046 entries, valeur_fonciere to commune_ZONZA\n",
      "dtypes: float64(3), int64(1), uint8(12042)\n",
      "memory usage: 536.3 MB\n"
     ]
    }
   ],
   "source": [
    "df.info()"
   ]
  },
  {
   "cell_type": "code",
   "execution_count": null,
   "metadata": {},
   "outputs": [],
   "source": []
  },
  {
   "cell_type": "code",
   "execution_count": null,
   "metadata": {},
   "outputs": [],
   "source": []
  },
  {
   "cell_type": "code",
   "execution_count": 8,
   "metadata": {
    "ExecuteTime": {
     "end_time": "2020-03-22T17:56:37.869461Z",
     "start_time": "2020-03-22T17:56:37.867431Z"
    }
   },
   "outputs": [],
   "source": [
    "#df = pd.get_dummies(df, columns=['nature_mutation'])\n",
    "#df = pd.get_dummies(df, columns=['b/t/q'])\n",
    "#df = pd.get_dummies(df, columns=['type_de_voie'])\n",
    "#df = pd.get_dummies(df, columns=['type_local'])\n",
    "#df = pd.get_dummies(df, columns=['nature_culture'])\n",
    "#df = pd.get_dummies(df, columns=['nature_culture_speciale'])"
   ]
  },
  {
   "cell_type": "markdown",
   "metadata": {},
   "source": [
    "## Start ML"
   ]
  },
  {
   "cell_type": "markdown",
   "metadata": {},
   "source": [
    "#### Découpage des données pour l'entraînement et l'évaluation de l'apprentissage automatique"
   ]
  },
  {
   "cell_type": "code",
   "execution_count": 9,
   "metadata": {
    "ExecuteTime": {
     "end_time": "2020-03-22T17:57:08.575320Z",
     "start_time": "2020-03-22T17:56:37.873082Z"
    }
   },
   "outputs": [
    {
     "name": "stdout",
     "output_type": "stream",
     "text": [
      "(31206, 12045)\n",
      "(31206,)\n"
     ]
    }
   ],
   "source": [
    "from sklearn.model_selection import train_test_split\n",
    "\n",
    "y = df['valeur_fonciere']\n",
    "X = df.drop(['valeur_fonciere'],axis=1)\n",
    "\n",
    "X_train, X_test, y_train, y_test = train_test_split(X.values, y.values, test_size=0.33, random_state=42, shuffle=True)\n",
    "\n",
    "print(X_train.shape)\n",
    "print(y_train.shape)"
   ]
  },
  {
   "cell_type": "markdown",
   "metadata": {},
   "source": [
    "#### Régression linéaire"
   ]
  },
  {
   "cell_type": "code",
   "execution_count": 10,
   "metadata": {
    "ExecuteTime": {
     "end_time": "2020-03-22T18:34:54.902997Z",
     "start_time": "2020-03-22T18:24:33.320430Z"
    }
   },
   "outputs": [
    {
     "data": {
      "text/plain": [
       "LinearRegression(copy_X=True, fit_intercept=True, n_jobs=None, normalize=False)"
      ]
     },
     "execution_count": 10,
     "metadata": {},
     "output_type": "execute_result"
    }
   ],
   "source": [
    "from sklearn.linear_model import LinearRegression\n",
    "\n",
    "reg = LinearRegression()\n",
    "reg.fit(X_train,y_train)"
   ]
  },
  {
   "cell_type": "code",
   "execution_count": 11,
   "metadata": {
    "ExecuteTime": {
     "end_time": "2020-03-22T18:35:11.486050Z",
     "start_time": "2020-03-22T18:35:10.508221Z"
    }
   },
   "outputs": [
    {
     "data": {
      "text/plain": [
       "-5.3965101157781736e+16"
      ]
     },
     "execution_count": 11,
     "metadata": {},
     "output_type": "execute_result"
    }
   ],
   "source": [
    "y_pred = reg.predict(X_test)\n",
    "reg.score(X_test, y_test)"
   ]
  },
  {
   "cell_type": "markdown",
   "metadata": {},
   "source": [
    "#### Cross-validation"
   ]
  },
  {
   "cell_type": "code",
   "execution_count": null,
   "metadata": {
    "ExecuteTime": {
     "start_time": "2020-03-22T18:24:36.338Z"
    }
   },
   "outputs": [],
   "source": [
    "from sklearn.model_selection import cross_val_score\n",
    "cv_reg = LinearRegression()\n",
    "cv_results = cross_val_score(cv_reg, X, y, cv=5)\n",
    "print(cv_results)"
   ]
  },
  {
   "cell_type": "code",
   "execution_count": null,
   "metadata": {
    "ExecuteTime": {
     "start_time": "2020-03-22T18:24:37.465Z"
    }
   },
   "outputs": [],
   "source": [
    "np.mean(cv_results)"
   ]
  },
  {
   "cell_type": "markdown",
   "metadata": {},
   "source": [
    "#### Régression linéaire avec Lasso"
   ]
  },
  {
   "cell_type": "code",
   "execution_count": null,
   "metadata": {
    "ExecuteTime": {
     "start_time": "2020-03-22T15:04:28.816Z"
    }
   },
   "outputs": [],
   "source": [
    "from sklearn.linear_model import Lasso\n",
    "\n",
    "lasso = Lasso(alpha=0.4, normalize=True)\n",
    "lasso.fit(X_train,y_train)"
   ]
  },
  {
   "cell_type": "markdown",
   "metadata": {},
   "source": [
    "#### Filtre sur l'importance des features"
   ]
  },
  {
   "cell_type": "code",
   "execution_count": null,
   "metadata": {
    "ExecuteTime": {
     "start_time": "2020-03-22T15:04:29.203Z"
    }
   },
   "outputs": [],
   "source": [
    "lasso_df = pd.DataFrame(np.array([lasso.coef_]), columns=X.columns)\n",
    "\n",
    "for col in lasso_df.columns:\n",
    "    if lasso_df[col].iloc[0]<1000:\n",
    "        lasso_df.drop(col, axis=1, inplace=True)"
   ]
  },
  {
   "cell_type": "code",
   "execution_count": null,
   "metadata": {
    "ExecuteTime": {
     "start_time": "2020-03-22T15:04:29.380Z"
    }
   },
   "outputs": [],
   "source": [
    "import matplotlib\n",
    "import matplotlib.pyplot as plt\n",
    "\n",
    "col_rang = range(len(lasso_df.columns))\n",
    "\n",
    "plt.figure(figsize=(20,10))\n",
    "plt.bar(col_rang, lasso_df.iloc[0])\n",
    "plt.xticks(col_rang, lasso_df.columns, rotation=60)\n",
    "plt.margins(0.02)\n",
    "plt.show()"
   ]
  },
  {
   "cell_type": "code",
   "execution_count": null,
   "metadata": {},
   "outputs": [],
   "source": []
  },
  {
   "cell_type": "code",
   "execution_count": null,
   "metadata": {},
   "outputs": [],
   "source": []
  },
  {
   "cell_type": "code",
   "execution_count": null,
   "metadata": {},
   "outputs": [],
   "source": []
  },
  {
   "cell_type": "code",
   "execution_count": null,
   "metadata": {},
   "outputs": [],
   "source": []
  },
  {
   "cell_type": "code",
   "execution_count": null,
   "metadata": {},
   "outputs": [],
   "source": []
  }
 ],
 "metadata": {
  "kernelspec": {
   "display_name": "Python 3",
   "language": "python",
   "name": "python3"
  },
  "language_info": {
   "codemirror_mode": {
    "name": "ipython",
    "version": 3
   },
   "file_extension": ".py",
   "mimetype": "text/x-python",
   "name": "python",
   "nbconvert_exporter": "python",
   "pygments_lexer": "ipython3",
   "version": "3.8.1"
  },
  "toc": {
   "base_numbering": 1,
   "nav_menu": {},
   "number_sections": true,
   "sideBar": true,
   "skip_h1_title": false,
   "title_cell": "Table of Contents",
   "title_sidebar": "Contents",
   "toc_cell": false,
   "toc_position": {},
   "toc_section_display": true,
   "toc_window_display": false
  },
  "varInspector": {
   "cols": {
    "lenName": 16,
    "lenType": 16,
    "lenVar": 40
   },
   "kernels_config": {
    "python": {
     "delete_cmd_postfix": "",
     "delete_cmd_prefix": "del ",
     "library": "var_list.py",
     "varRefreshCmd": "print(var_dic_list())"
    },
    "r": {
     "delete_cmd_postfix": ") ",
     "delete_cmd_prefix": "rm(",
     "library": "var_list.r",
     "varRefreshCmd": "cat(var_dic_list()) "
    }
   },
   "types_to_exclude": [
    "module",
    "function",
    "builtin_function_or_method",
    "instance",
    "_Feature"
   ],
   "window_display": false
  }
 },
 "nbformat": 4,
 "nbformat_minor": 2
}
