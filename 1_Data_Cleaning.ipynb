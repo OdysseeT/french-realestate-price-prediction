{
 "cells": [
  {
   "cell_type": "markdown",
   "metadata": {},
   "source": [
    "# Etudes des valeurs foncières Française\n",
    "Liens: https://www.data.gouv.fr/fr/datasets/demandes-de-valeurs-foncieres/"
   ]
  },
  {
   "cell_type": "code",
   "execution_count": 1,
   "metadata": {
    "ExecuteTime": {
     "end_time": "2020-03-22T12:48:31.170002Z",
     "start_time": "2020-03-22T12:48:31.167984Z"
    }
   },
   "outputs": [],
   "source": [
    "# Gather Latitude Longitude from Google Map (time/cost consuming)\n",
    "add_lat_long = False"
   ]
  },
  {
   "cell_type": "code",
   "execution_count": 2,
   "metadata": {
    "ExecuteTime": {
     "end_time": "2020-03-22T12:48:32.707331Z",
     "start_time": "2020-03-22T12:48:31.455542Z"
    }
   },
   "outputs": [],
   "source": [
    "import numpy as np\n",
    "import pandas as pd\n",
    "import missingno as msno\n",
    "import glob\n",
    "from datetime import datetime\n",
    "\n",
    "pd.options.display.max_columns = None"
   ]
  },
  {
   "cell_type": "markdown",
   "metadata": {},
   "source": [
    "## Chargement du fichiers des valeurs foncières"
   ]
  },
  {
   "cell_type": "code",
   "execution_count": 9,
   "metadata": {
    "ExecuteTime": {
     "end_time": "2020-03-22T12:51:31.310139Z",
     "start_time": "2020-03-22T12:51:18.867807Z"
    },
    "scrolled": true
   },
   "outputs": [
    {
     "name": "stderr",
     "output_type": "stream",
     "text": [
      "/Users/odyssee/opt/anaconda3/envs/jupy/lib/python3.8/site-packages/IPython/core/interactiveshell.py:3062: DtypeWarning: Columns (18,41) have mixed types.Specify dtype option on import or set low_memory=False.\n",
      "  has_raised = await self.run_ast_nodes(code_ast.body, cell_name,\n"
     ]
    }
   ],
   "source": [
    "dateparse = lambda x: datetime.strptime(x, '%d/%m/%Y') # 03/01/2018\n",
    "def_types = {#'Code postal': 'category',\n",
    "             #'B/T/Q': 'category',\n",
    "             #'Nature mutation': 'category',\n",
    "             #'Type de voie': 'category',\n",
    "             #'Voie': 'category',\n",
    "             #'Commune': 'category',\n",
    "             #'Code departement': 'category',\n",
    "             #'Type local': 'category',\n",
    "             #'Nature culture': 'category',\n",
    "             #'Nature culture speciale': 'category',\n",
    "             \n",
    "             'No voie': 'Int64',\n",
    "             'Surface Carrez du 1er lot':'Float16',\n",
    "             'Surface Carrez du 2eme lot':'Float16',\n",
    "             'Surface Carrez du 3eme lot':'Float16',\n",
    "             'Surface Carrez du 4eme lot':'Float16',\n",
    "             'Surface Carrez du 5eme lot':'Float16',\n",
    "             'Nombre de lots':'Int16',\n",
    "             'Nombre de lots':'Int16',\n",
    "             'Surface reelle bati': 'Float32',\n",
    "             'Nombre pieces principales': 'Int8',\n",
    "             'Surface terrain':'Float32'\n",
    "            }\n",
    "col_exclude = ['Code service CH', 'Reference document', '1 Articles CGI',\n",
    "               '2 Articles CGI', '3 Articles CGI', '4 Articles CGI', '5 Articles CGI', 'Identifiant local',\n",
    "               'Prefixe de section', 'Section', 'No plan',\n",
    "               'No Volume','No disposition','Code type local', 'Code voie', \n",
    "               '5eme lot', '4eme lot', '3eme lot', '2eme lot', '1er lot']\n",
    "all_files = glob.glob(\"data/*.txt\")\n",
    "#df = pd.concat((pd.read_csv(f, sep='|', decimal=\",\", dtype=def_types, parse_dates=['Date mutation'], date_parser=dateparse, usecols=lambda col: col not in col_exclude) for f in all_files))\n",
    "df = pd.read_csv('data/valeursfoncieres-2019.txt', sep='|', decimal=\",\", dtype=def_types, parse_dates=['Date mutation'], date_parser=dateparse,usecols=lambda col: col not in col_exclude)"
   ]
  },
  {
   "cell_type": "markdown",
   "metadata": {},
   "source": [
    "#### Renomme les colonnes"
   ]
  },
  {
   "cell_type": "code",
   "execution_count": 10,
   "metadata": {
    "ExecuteTime": {
     "end_time": "2020-03-22T12:51:41.699969Z",
     "start_time": "2020-03-22T12:51:41.614076Z"
    }
   },
   "outputs": [],
   "source": [
    "import unidecode\n",
    "\n",
    "columns = {}\n",
    "for index, column_name in enumerate(df.columns):\n",
    "    columns[column_name] = unidecode.unidecode(column_name.replace(' ','_').replace('\\'','_').lower())\n",
    "df.rename(columns=columns, inplace=True)"
   ]
  },
  {
   "cell_type": "code",
   "execution_count": 11,
   "metadata": {
    "ExecuteTime": {
     "end_time": "2020-03-22T12:51:42.747957Z",
     "start_time": "2020-03-22T12:51:42.401399Z"
    }
   },
   "outputs": [
    {
     "name": "stdout",
     "output_type": "stream",
     "text": [
      "<class 'pandas.core.frame.DataFrame'>\n",
      "RangeIndex: 1017154 entries, 0 to 1017153\n",
      "Data columns (total 23 columns):\n",
      " #   Column                      Non-Null Count    Dtype         \n",
      "---  ------                      --------------    -----         \n",
      " 0   date_mutation               1017154 non-null  datetime64[ns]\n",
      " 1   nature_mutation             1017154 non-null  object        \n",
      " 2   valeur_fonciere             1004369 non-null  float64       \n",
      " 3   no_voie                     606327 non-null   Int64         \n",
      " 4   b/t/q                       44359 non-null    object        \n",
      " 5   type_de_voie                593091 non-null   object        \n",
      " 6   voie                        1004961 non-null  object        \n",
      " 7   code_postal                 1004998 non-null  float64       \n",
      " 8   commune                     1017154 non-null  object        \n",
      " 9   code_departement            1017154 non-null  object        \n",
      " 10  code_commune                1017154 non-null  int64         \n",
      " 11  surface_carrez_du_1er_lot   90421 non-null    float16       \n",
      " 12  surface_carrez_du_2eme_lot  22533 non-null    float16       \n",
      " 13  surface_carrez_du_3eme_lot  2100 non-null     float16       \n",
      " 14  surface_carrez_du_4eme_lot  542 non-null      float16       \n",
      " 15  surface_carrez_du_5eme_lot  205 non-null      float16       \n",
      " 16  nombre_de_lots              1017154 non-null  Int16         \n",
      " 17  type_local                  541303 non-null   object        \n",
      " 18  surface_reelle_bati         540615 non-null   float32       \n",
      " 19  nombre_pieces_principales   540615 non-null   Int8          \n",
      " 20  nature_culture              695583 non-null   object        \n",
      " 21  nature_culture_speciale     43778 non-null    object        \n",
      " 22  surface_terrain             695583 non-null   float32       \n",
      "dtypes: Int16(1), Int64(1), Int8(1), datetime64[ns](1), float16(5), float32(2), float64(2), int64(1), object(9)\n",
      "memory usage: 131.9+ MB\n"
     ]
    }
   ],
   "source": [
    "df.info()"
   ]
  },
  {
   "cell_type": "markdown",
   "metadata": {},
   "source": [
    "## Supression des colonnes sans données"
   ]
  },
  {
   "cell_type": "markdown",
   "metadata": {},
   "source": [
    "On gardes les colonnes sans valeurs foncières car elles peuvent liées à d'autre transaction"
   ]
  },
  {
   "cell_type": "code",
   "execution_count": null,
   "metadata": {
    "ExecuteTime": {
     "end_time": "2020-03-21T23:46:44.889066Z",
     "start_time": "2020-03-21T23:46:44.605884Z"
    }
   },
   "outputs": [],
   "source": [
    "# Suppression des lignes où il n'y a pas de 'valeurs foncières'\n",
    "#indexNames = df[df['valeur_fonciere'].isnull()].index\n",
    "#df.drop(indexNames, inplace=True)"
   ]
  },
  {
   "cell_type": "markdown",
   "metadata": {},
   "source": [
    "## Recherche des doublons"
   ]
  },
  {
   "cell_type": "code",
   "execution_count": null,
   "metadata": {
    "ExecuteTime": {
     "end_time": "2020-03-21T23:46:44.894614Z",
     "start_time": "2020-03-21T23:46:44.891895Z"
    }
   },
   "outputs": [],
   "source": [
    "#df[df.duplicated(keep=False)]"
   ]
  },
  {
   "cell_type": "code",
   "execution_count": 15,
   "metadata": {
    "ExecuteTime": {
     "end_time": "2020-03-22T12:58:09.200847Z",
     "start_time": "2020-03-22T12:58:07.675371Z"
    }
   },
   "outputs": [
    {
     "name": "stdout",
     "output_type": "stream",
     "text": [
      "Suppression des doublons: 98514\n"
     ]
    }
   ],
   "source": [
    "# Drop duplicates\n",
    "initial_length = len(df)\n",
    "df.drop_duplicates(inplace=True)\n",
    "print(\"Suppression des doublons: {}\".format(initial_length-len(df)))"
   ]
  },
  {
   "cell_type": "code",
   "execution_count": 16,
   "metadata": {
    "ExecuteTime": {
     "end_time": "2020-03-22T12:58:10.583898Z",
     "start_time": "2020-03-22T12:58:10.272330Z"
    }
   },
   "outputs": [
    {
     "name": "stdout",
     "output_type": "stream",
     "text": [
      "<class 'pandas.core.frame.DataFrame'>\n",
      "Int64Index: 918640 entries, 0 to 1017153\n",
      "Data columns (total 23 columns):\n",
      " #   Column                      Non-Null Count   Dtype         \n",
      "---  ------                      --------------   -----         \n",
      " 0   date_mutation               918640 non-null  datetime64[ns]\n",
      " 1   nature_mutation             918640 non-null  object        \n",
      " 2   valeur_fonciere             907760 non-null  float64       \n",
      " 3   no_voie                     532676 non-null  Int64         \n",
      " 4   b/t/q                       38718 non-null   object        \n",
      " 5   type_de_voie                515373 non-null  object        \n",
      " 6   voie                        912188 non-null  object        \n",
      " 7   code_postal                 912218 non-null  float64       \n",
      " 8   commune                     918640 non-null  object        \n",
      " 9   code_departement            918640 non-null  object        \n",
      " 10  code_commune                918640 non-null  int64         \n",
      " 11  surface_carrez_du_1er_lot   89372 non-null   float16       \n",
      " 12  surface_carrez_du_2eme_lot  22417 non-null   float16       \n",
      " 13  surface_carrez_du_3eme_lot  2089 non-null    float16       \n",
      " 14  surface_carrez_du_4eme_lot  541 non-null     float16       \n",
      " 15  surface_carrez_du_5eme_lot  204 non-null     float16       \n",
      " 16  nombre_de_lots              918640 non-null  Int16         \n",
      " 17  type_local                  484982 non-null  object        \n",
      " 18  surface_reelle_bati         484363 non-null  float32       \n",
      " 19  nombre_pieces_principales   484363 non-null  Int8          \n",
      " 20  nature_culture              656037 non-null  object        \n",
      " 21  nature_culture_speciale     41736 non-null   object        \n",
      " 22  surface_terrain             656037 non-null  float32       \n",
      "dtypes: Int16(1), Int64(1), Int8(1), datetime64[ns](1), float16(5), float32(2), float64(2), int64(1), object(9)\n",
      "memory usage: 126.2+ MB\n"
     ]
    }
   ],
   "source": [
    "df.info()"
   ]
  },
  {
   "cell_type": "markdown",
   "metadata": {},
   "source": [
    "#### Transaction en doublons: Même prix, même date"
   ]
  },
  {
   "cell_type": "code",
   "execution_count": 17,
   "metadata": {
    "ExecuteTime": {
     "end_time": "2020-03-22T13:00:37.524071Z",
     "start_time": "2020-03-22T12:59:44.908406Z"
    },
    "scrolled": true
   },
   "outputs": [
    {
     "data": {
      "text/html": [
       "<div>\n",
       "<style scoped>\n",
       "    .dataframe tbody tr th:only-of-type {\n",
       "        vertical-align: middle;\n",
       "    }\n",
       "\n",
       "    .dataframe tbody tr th {\n",
       "        vertical-align: top;\n",
       "    }\n",
       "\n",
       "    .dataframe thead th {\n",
       "        text-align: right;\n",
       "    }\n",
       "</style>\n",
       "<table border=\"1\" class=\"dataframe\">\n",
       "  <thead>\n",
       "    <tr style=\"text-align: right;\">\n",
       "      <th></th>\n",
       "      <th>date_mutation</th>\n",
       "      <th>nature_mutation</th>\n",
       "      <th>valeur_fonciere</th>\n",
       "      <th>no_voie</th>\n",
       "      <th>b/t/q</th>\n",
       "      <th>type_de_voie</th>\n",
       "      <th>voie</th>\n",
       "      <th>code_postal</th>\n",
       "      <th>commune</th>\n",
       "      <th>code_departement</th>\n",
       "      <th>code_commune</th>\n",
       "      <th>surface_carrez_du_1er_lot</th>\n",
       "      <th>surface_carrez_du_2eme_lot</th>\n",
       "      <th>surface_carrez_du_3eme_lot</th>\n",
       "      <th>surface_carrez_du_4eme_lot</th>\n",
       "      <th>surface_carrez_du_5eme_lot</th>\n",
       "      <th>nombre_de_lots</th>\n",
       "      <th>type_local</th>\n",
       "      <th>surface_reelle_bati</th>\n",
       "      <th>nombre_pieces_principales</th>\n",
       "      <th>nature_culture</th>\n",
       "      <th>nature_culture_speciale</th>\n",
       "      <th>surface_terrain</th>\n",
       "    </tr>\n",
       "  </thead>\n",
       "  <tbody>\n",
       "    <tr>\n",
       "      <th>23</th>\n",
       "      <td>2019-01-03</td>\n",
       "      <td>Vente</td>\n",
       "      <td>11592.9</td>\n",
       "      <td>&lt;NA&gt;</td>\n",
       "      <td>NaN</td>\n",
       "      <td>NaN</td>\n",
       "      <td>LES GRANGES</td>\n",
       "      <td>1150.0</td>\n",
       "      <td>SAINT-SORLIN-EN-BUGEY</td>\n",
       "      <td>1</td>\n",
       "      <td>386</td>\n",
       "      <td>NaN</td>\n",
       "      <td>NaN</td>\n",
       "      <td>NaN</td>\n",
       "      <td>NaN</td>\n",
       "      <td>NaN</td>\n",
       "      <td>0</td>\n",
       "      <td>NaN</td>\n",
       "      <td>NaN</td>\n",
       "      <td>&lt;NA&gt;</td>\n",
       "      <td>J</td>\n",
       "      <td>NaN</td>\n",
       "      <td>330.0</td>\n",
       "    </tr>\n",
       "    <tr>\n",
       "      <th>48</th>\n",
       "      <td>2019-01-09</td>\n",
       "      <td>Vente en l'état futur d'achèvement</td>\n",
       "      <td>716000.0</td>\n",
       "      <td>&lt;NA&gt;</td>\n",
       "      <td>NaN</td>\n",
       "      <td>NaN</td>\n",
       "      <td>BARITET</td>\n",
       "      <td>1280.0</td>\n",
       "      <td>PREVESSIN-MOENS</td>\n",
       "      <td>1</td>\n",
       "      <td>313</td>\n",
       "      <td>NaN</td>\n",
       "      <td>NaN</td>\n",
       "      <td>NaN</td>\n",
       "      <td>NaN</td>\n",
       "      <td>NaN</td>\n",
       "      <td>1</td>\n",
       "      <td>NaN</td>\n",
       "      <td>NaN</td>\n",
       "      <td>&lt;NA&gt;</td>\n",
       "      <td>NaN</td>\n",
       "      <td>NaN</td>\n",
       "      <td>NaN</td>\n",
       "    </tr>\n",
       "    <tr>\n",
       "      <th>62</th>\n",
       "      <td>2019-01-14</td>\n",
       "      <td>Vente</td>\n",
       "      <td>682000.0</td>\n",
       "      <td>933</td>\n",
       "      <td>NaN</td>\n",
       "      <td>RUE</td>\n",
       "      <td>DE PARIS</td>\n",
       "      <td>1170.0</td>\n",
       "      <td>GEX</td>\n",
       "      <td>1</td>\n",
       "      <td>173</td>\n",
       "      <td>NaN</td>\n",
       "      <td>NaN</td>\n",
       "      <td>NaN</td>\n",
       "      <td>NaN</td>\n",
       "      <td>NaN</td>\n",
       "      <td>0</td>\n",
       "      <td>Maison</td>\n",
       "      <td>142.0</td>\n",
       "      <td>5</td>\n",
       "      <td>S</td>\n",
       "      <td>NaN</td>\n",
       "      <td>2148.0</td>\n",
       "    </tr>\n",
       "    <tr>\n",
       "      <th>77</th>\n",
       "      <td>2019-01-07</td>\n",
       "      <td>Vente</td>\n",
       "      <td>779.5</td>\n",
       "      <td>&lt;NA&gt;</td>\n",
       "      <td>NaN</td>\n",
       "      <td>NaN</td>\n",
       "      <td>LE MARTINET</td>\n",
       "      <td>1200.0</td>\n",
       "      <td>BELLEGARDE-SUR-VALSERINE</td>\n",
       "      <td>1</td>\n",
       "      <td>33</td>\n",
       "      <td>NaN</td>\n",
       "      <td>NaN</td>\n",
       "      <td>NaN</td>\n",
       "      <td>NaN</td>\n",
       "      <td>NaN</td>\n",
       "      <td>0</td>\n",
       "      <td>NaN</td>\n",
       "      <td>NaN</td>\n",
       "      <td>&lt;NA&gt;</td>\n",
       "      <td>P</td>\n",
       "      <td>NaN</td>\n",
       "      <td>1559.0</td>\n",
       "    </tr>\n",
       "    <tr>\n",
       "      <th>79</th>\n",
       "      <td>2019-01-07</td>\n",
       "      <td>Vente</td>\n",
       "      <td>740.0</td>\n",
       "      <td>&lt;NA&gt;</td>\n",
       "      <td>NaN</td>\n",
       "      <td>NaN</td>\n",
       "      <td>LE MARTINET</td>\n",
       "      <td>1200.0</td>\n",
       "      <td>BELLEGARDE-SUR-VALSERINE</td>\n",
       "      <td>1</td>\n",
       "      <td>33</td>\n",
       "      <td>NaN</td>\n",
       "      <td>NaN</td>\n",
       "      <td>NaN</td>\n",
       "      <td>NaN</td>\n",
       "      <td>NaN</td>\n",
       "      <td>0</td>\n",
       "      <td>NaN</td>\n",
       "      <td>NaN</td>\n",
       "      <td>&lt;NA&gt;</td>\n",
       "      <td>BT</td>\n",
       "      <td>NaN</td>\n",
       "      <td>1480.0</td>\n",
       "    </tr>\n",
       "    <tr>\n",
       "      <th>...</th>\n",
       "      <td>...</td>\n",
       "      <td>...</td>\n",
       "      <td>...</td>\n",
       "      <td>...</td>\n",
       "      <td>...</td>\n",
       "      <td>...</td>\n",
       "      <td>...</td>\n",
       "      <td>...</td>\n",
       "      <td>...</td>\n",
       "      <td>...</td>\n",
       "      <td>...</td>\n",
       "      <td>...</td>\n",
       "      <td>...</td>\n",
       "      <td>...</td>\n",
       "      <td>...</td>\n",
       "      <td>...</td>\n",
       "      <td>...</td>\n",
       "      <td>...</td>\n",
       "      <td>...</td>\n",
       "      <td>...</td>\n",
       "      <td>...</td>\n",
       "      <td>...</td>\n",
       "      <td>...</td>\n",
       "    </tr>\n",
       "    <tr>\n",
       "      <th>1017118</th>\n",
       "      <td>2019-06-27</td>\n",
       "      <td>Vente</td>\n",
       "      <td>825600.0</td>\n",
       "      <td>18</td>\n",
       "      <td>NaN</td>\n",
       "      <td>RUE</td>\n",
       "      <td>MALHER</td>\n",
       "      <td>75004.0</td>\n",
       "      <td>PARIS 04</td>\n",
       "      <td>75</td>\n",
       "      <td>104</td>\n",
       "      <td>NaN</td>\n",
       "      <td>62.78125</td>\n",
       "      <td>NaN</td>\n",
       "      <td>NaN</td>\n",
       "      <td>NaN</td>\n",
       "      <td>2</td>\n",
       "      <td>Appartement</td>\n",
       "      <td>62.0</td>\n",
       "      <td>3</td>\n",
       "      <td>NaN</td>\n",
       "      <td>NaN</td>\n",
       "      <td>NaN</td>\n",
       "    </tr>\n",
       "    <tr>\n",
       "      <th>1017119</th>\n",
       "      <td>2019-06-27</td>\n",
       "      <td>Vente</td>\n",
       "      <td>324500.0</td>\n",
       "      <td>30</td>\n",
       "      <td>NaN</td>\n",
       "      <td>RUE</td>\n",
       "      <td>DES ROSIERS</td>\n",
       "      <td>75004.0</td>\n",
       "      <td>PARIS 04</td>\n",
       "      <td>75</td>\n",
       "      <td>104</td>\n",
       "      <td>22.078125</td>\n",
       "      <td>NaN</td>\n",
       "      <td>NaN</td>\n",
       "      <td>NaN</td>\n",
       "      <td>NaN</td>\n",
       "      <td>1</td>\n",
       "      <td>Appartement</td>\n",
       "      <td>24.0</td>\n",
       "      <td>2</td>\n",
       "      <td>NaN</td>\n",
       "      <td>NaN</td>\n",
       "      <td>NaN</td>\n",
       "    </tr>\n",
       "    <tr>\n",
       "      <th>1017124</th>\n",
       "      <td>2019-06-20</td>\n",
       "      <td>Vente</td>\n",
       "      <td>960000.0</td>\n",
       "      <td>9</td>\n",
       "      <td>NaN</td>\n",
       "      <td>RUE</td>\n",
       "      <td>DE PALESTRO</td>\n",
       "      <td>75002.0</td>\n",
       "      <td>PARIS 02</td>\n",
       "      <td>75</td>\n",
       "      <td>102</td>\n",
       "      <td>82.812500</td>\n",
       "      <td>NaN</td>\n",
       "      <td>NaN</td>\n",
       "      <td>NaN</td>\n",
       "      <td>NaN</td>\n",
       "      <td>3</td>\n",
       "      <td>Appartement</td>\n",
       "      <td>84.0</td>\n",
       "      <td>4</td>\n",
       "      <td>NaN</td>\n",
       "      <td>NaN</td>\n",
       "      <td>NaN</td>\n",
       "    </tr>\n",
       "    <tr>\n",
       "      <th>1017130</th>\n",
       "      <td>2019-06-26</td>\n",
       "      <td>Vente</td>\n",
       "      <td>1007640.0</td>\n",
       "      <td>94</td>\n",
       "      <td>NaN</td>\n",
       "      <td>RUE</td>\n",
       "      <td>MONTMARTRE</td>\n",
       "      <td>75002.0</td>\n",
       "      <td>PARIS 02</td>\n",
       "      <td>75</td>\n",
       "      <td>102</td>\n",
       "      <td>76.125000</td>\n",
       "      <td>NaN</td>\n",
       "      <td>NaN</td>\n",
       "      <td>NaN</td>\n",
       "      <td>NaN</td>\n",
       "      <td>2</td>\n",
       "      <td>Appartement</td>\n",
       "      <td>76.0</td>\n",
       "      <td>3</td>\n",
       "      <td>NaN</td>\n",
       "      <td>NaN</td>\n",
       "      <td>NaN</td>\n",
       "    </tr>\n",
       "    <tr>\n",
       "      <th>1017131</th>\n",
       "      <td>2019-06-24</td>\n",
       "      <td>Vente</td>\n",
       "      <td>626572.0</td>\n",
       "      <td>26</td>\n",
       "      <td>NaN</td>\n",
       "      <td>RUE</td>\n",
       "      <td>FEYDEAU</td>\n",
       "      <td>75002.0</td>\n",
       "      <td>PARIS 02</td>\n",
       "      <td>75</td>\n",
       "      <td>102</td>\n",
       "      <td>48.812500</td>\n",
       "      <td>NaN</td>\n",
       "      <td>NaN</td>\n",
       "      <td>NaN</td>\n",
       "      <td>NaN</td>\n",
       "      <td>1</td>\n",
       "      <td>Appartement</td>\n",
       "      <td>52.0</td>\n",
       "      <td>3</td>\n",
       "      <td>NaN</td>\n",
       "      <td>NaN</td>\n",
       "      <td>NaN</td>\n",
       "    </tr>\n",
       "  </tbody>\n",
       "</table>\n",
       "<p>71769 rows × 23 columns</p>\n",
       "</div>"
      ],
      "text/plain": [
       "        date_mutation                     nature_mutation  valeur_fonciere  \\\n",
       "23         2019-01-03                               Vente          11592.9   \n",
       "48         2019-01-09  Vente en l'état futur d'achèvement         716000.0   \n",
       "62         2019-01-14                               Vente         682000.0   \n",
       "77         2019-01-07                               Vente            779.5   \n",
       "79         2019-01-07                               Vente            740.0   \n",
       "...               ...                                 ...              ...   \n",
       "1017118    2019-06-27                               Vente         825600.0   \n",
       "1017119    2019-06-27                               Vente         324500.0   \n",
       "1017124    2019-06-20                               Vente         960000.0   \n",
       "1017130    2019-06-26                               Vente        1007640.0   \n",
       "1017131    2019-06-24                               Vente         626572.0   \n",
       "\n",
       "         no_voie b/t/q type_de_voie         voie  code_postal  \\\n",
       "23          <NA>   NaN          NaN  LES GRANGES       1150.0   \n",
       "48          <NA>   NaN          NaN      BARITET       1280.0   \n",
       "62           933   NaN          RUE     DE PARIS       1170.0   \n",
       "77          <NA>   NaN          NaN  LE MARTINET       1200.0   \n",
       "79          <NA>   NaN          NaN  LE MARTINET       1200.0   \n",
       "...          ...   ...          ...          ...          ...   \n",
       "1017118       18   NaN          RUE       MALHER      75004.0   \n",
       "1017119       30   NaN          RUE  DES ROSIERS      75004.0   \n",
       "1017124        9   NaN          RUE  DE PALESTRO      75002.0   \n",
       "1017130       94   NaN          RUE   MONTMARTRE      75002.0   \n",
       "1017131       26   NaN          RUE      FEYDEAU      75002.0   \n",
       "\n",
       "                          commune code_departement  code_commune  \\\n",
       "23          SAINT-SORLIN-EN-BUGEY                1           386   \n",
       "48                PREVESSIN-MOENS                1           313   \n",
       "62                            GEX                1           173   \n",
       "77       BELLEGARDE-SUR-VALSERINE                1            33   \n",
       "79       BELLEGARDE-SUR-VALSERINE                1            33   \n",
       "...                           ...              ...           ...   \n",
       "1017118                  PARIS 04               75           104   \n",
       "1017119                  PARIS 04               75           104   \n",
       "1017124                  PARIS 02               75           102   \n",
       "1017130                  PARIS 02               75           102   \n",
       "1017131                  PARIS 02               75           102   \n",
       "\n",
       "         surface_carrez_du_1er_lot  surface_carrez_du_2eme_lot  \\\n",
       "23                             NaN                         NaN   \n",
       "48                             NaN                         NaN   \n",
       "62                             NaN                         NaN   \n",
       "77                             NaN                         NaN   \n",
       "79                             NaN                         NaN   \n",
       "...                            ...                         ...   \n",
       "1017118                        NaN                    62.78125   \n",
       "1017119                  22.078125                         NaN   \n",
       "1017124                  82.812500                         NaN   \n",
       "1017130                  76.125000                         NaN   \n",
       "1017131                  48.812500                         NaN   \n",
       "\n",
       "         surface_carrez_du_3eme_lot  surface_carrez_du_4eme_lot  \\\n",
       "23                              NaN                         NaN   \n",
       "48                              NaN                         NaN   \n",
       "62                              NaN                         NaN   \n",
       "77                              NaN                         NaN   \n",
       "79                              NaN                         NaN   \n",
       "...                             ...                         ...   \n",
       "1017118                         NaN                         NaN   \n",
       "1017119                         NaN                         NaN   \n",
       "1017124                         NaN                         NaN   \n",
       "1017130                         NaN                         NaN   \n",
       "1017131                         NaN                         NaN   \n",
       "\n",
       "         surface_carrez_du_5eme_lot  nombre_de_lots   type_local  \\\n",
       "23                              NaN               0          NaN   \n",
       "48                              NaN               1          NaN   \n",
       "62                              NaN               0       Maison   \n",
       "77                              NaN               0          NaN   \n",
       "79                              NaN               0          NaN   \n",
       "...                             ...             ...          ...   \n",
       "1017118                         NaN               2  Appartement   \n",
       "1017119                         NaN               1  Appartement   \n",
       "1017124                         NaN               3  Appartement   \n",
       "1017130                         NaN               2  Appartement   \n",
       "1017131                         NaN               1  Appartement   \n",
       "\n",
       "         surface_reelle_bati  nombre_pieces_principales nature_culture  \\\n",
       "23                       NaN                       <NA>              J   \n",
       "48                       NaN                       <NA>            NaN   \n",
       "62                     142.0                          5              S   \n",
       "77                       NaN                       <NA>              P   \n",
       "79                       NaN                       <NA>             BT   \n",
       "...                      ...                        ...            ...   \n",
       "1017118                 62.0                          3            NaN   \n",
       "1017119                 24.0                          2            NaN   \n",
       "1017124                 84.0                          4            NaN   \n",
       "1017130                 76.0                          3            NaN   \n",
       "1017131                 52.0                          3            NaN   \n",
       "\n",
       "        nature_culture_speciale  surface_terrain  \n",
       "23                          NaN            330.0  \n",
       "48                          NaN              NaN  \n",
       "62                          NaN           2148.0  \n",
       "77                          NaN           1559.0  \n",
       "79                          NaN           1480.0  \n",
       "...                         ...              ...  \n",
       "1017118                     NaN              NaN  \n",
       "1017119                     NaN              NaN  \n",
       "1017124                     NaN              NaN  \n",
       "1017130                     NaN              NaN  \n",
       "1017131                     NaN              NaN  \n",
       "\n",
       "[71769 rows x 23 columns]"
      ]
     },
     "execution_count": 17,
     "metadata": {},
     "output_type": "execute_result"
    }
   ],
   "source": [
    "doublons = df.groupby(['date_mutation','valeur_fonciere']).filter(lambda x: len(x) == 1)\n",
    "#doublons = doublons[doublons.values==1]\n",
    "doublons"
   ]
  },
  {
   "cell_type": "code",
   "execution_count": 18,
   "metadata": {
    "ExecuteTime": {
     "end_time": "2020-03-22T13:00:37.888154Z",
     "start_time": "2020-03-22T13:00:37.747908Z"
    }
   },
   "outputs": [
    {
     "data": {
      "text/plain": [
       "4628612"
      ]
     },
     "execution_count": 18,
     "metadata": {},
     "output_type": "execute_result"
    }
   ],
   "source": [
    "df_maisons = df[(df['type_local']=='Maison')&(df['nature_mutation']=='Vente')]\n",
    "df_maisons.size"
   ]
  },
  {
   "cell_type": "code",
   "execution_count": 19,
   "metadata": {
    "ExecuteTime": {
     "end_time": "2020-03-22T13:01:01.654389Z",
     "start_time": "2020-03-22T13:00:38.196237Z"
    }
   },
   "outputs": [
    {
     "data": {
      "text/plain": [
       "1071294"
      ]
     },
     "execution_count": 19,
     "metadata": {},
     "output_type": "execute_result"
    }
   ],
   "source": [
    "df_maisons_simple = df_maisons.groupby(['date_mutation','valeur_fonciere']).filter(lambda x: len(x) == 1)\n",
    "df_maisons_simple.size"
   ]
  },
  {
   "cell_type": "code",
   "execution_count": 20,
   "metadata": {
    "ExecuteTime": {
     "end_time": "2020-03-22T13:01:02.046063Z",
     "start_time": "2020-03-22T13:01:02.015049Z"
    },
    "scrolled": true
   },
   "outputs": [
    {
     "data": {
      "text/html": [
       "<div>\n",
       "<style scoped>\n",
       "    .dataframe tbody tr th:only-of-type {\n",
       "        vertical-align: middle;\n",
       "    }\n",
       "\n",
       "    .dataframe tbody tr th {\n",
       "        vertical-align: top;\n",
       "    }\n",
       "\n",
       "    .dataframe thead th {\n",
       "        text-align: right;\n",
       "    }\n",
       "</style>\n",
       "<table border=\"1\" class=\"dataframe\">\n",
       "  <thead>\n",
       "    <tr style=\"text-align: right;\">\n",
       "      <th></th>\n",
       "      <th>date_mutation</th>\n",
       "      <th>nature_mutation</th>\n",
       "      <th>valeur_fonciere</th>\n",
       "      <th>no_voie</th>\n",
       "      <th>b/t/q</th>\n",
       "      <th>type_de_voie</th>\n",
       "      <th>voie</th>\n",
       "      <th>code_postal</th>\n",
       "      <th>commune</th>\n",
       "      <th>code_departement</th>\n",
       "      <th>code_commune</th>\n",
       "      <th>surface_carrez_du_1er_lot</th>\n",
       "      <th>surface_carrez_du_2eme_lot</th>\n",
       "      <th>surface_carrez_du_3eme_lot</th>\n",
       "      <th>surface_carrez_du_4eme_lot</th>\n",
       "      <th>surface_carrez_du_5eme_lot</th>\n",
       "      <th>nombre_de_lots</th>\n",
       "      <th>type_local</th>\n",
       "      <th>surface_reelle_bati</th>\n",
       "      <th>nombre_pieces_principales</th>\n",
       "      <th>nature_culture</th>\n",
       "      <th>nature_culture_speciale</th>\n",
       "      <th>surface_terrain</th>\n",
       "    </tr>\n",
       "  </thead>\n",
       "  <tbody>\n",
       "    <tr>\n",
       "      <th>4</th>\n",
       "      <td>2019-04-04</td>\n",
       "      <td>Vente</td>\n",
       "      <td>36000.0</td>\n",
       "      <td>40</td>\n",
       "      <td>NaN</td>\n",
       "      <td>PL</td>\n",
       "      <td>DE LA FONTAINE</td>\n",
       "      <td>1560.0</td>\n",
       "      <td>SAINT-JULIEN-SUR-REYSSOUZE</td>\n",
       "      <td>1</td>\n",
       "      <td>367</td>\n",
       "      <td>NaN</td>\n",
       "      <td>NaN</td>\n",
       "      <td>NaN</td>\n",
       "      <td>NaN</td>\n",
       "      <td>NaN</td>\n",
       "      <td>0</td>\n",
       "      <td>Maison</td>\n",
       "      <td>60.0</td>\n",
       "      <td>3</td>\n",
       "      <td>S</td>\n",
       "      <td>NaN</td>\n",
       "      <td>96.0</td>\n",
       "    </tr>\n",
       "    <tr>\n",
       "      <th>15</th>\n",
       "      <td>2019-01-07</td>\n",
       "      <td>Vente</td>\n",
       "      <td>284410.0</td>\n",
       "      <td>2</td>\n",
       "      <td>A</td>\n",
       "      <td>RUE</td>\n",
       "      <td>DU CHAMP DE FOIRE</td>\n",
       "      <td>1200.0</td>\n",
       "      <td>LANCRANS</td>\n",
       "      <td>1</td>\n",
       "      <td>205</td>\n",
       "      <td>NaN</td>\n",
       "      <td>NaN</td>\n",
       "      <td>NaN</td>\n",
       "      <td>NaN</td>\n",
       "      <td>NaN</td>\n",
       "      <td>0</td>\n",
       "      <td>Maison</td>\n",
       "      <td>84.0</td>\n",
       "      <td>4</td>\n",
       "      <td>S</td>\n",
       "      <td>NaN</td>\n",
       "      <td>231.0</td>\n",
       "    </tr>\n",
       "    <tr>\n",
       "      <th>24</th>\n",
       "      <td>2019-01-02</td>\n",
       "      <td>Vente</td>\n",
       "      <td>139480.0</td>\n",
       "      <td>5152</td>\n",
       "      <td>NaN</td>\n",
       "      <td>NaN</td>\n",
       "      <td>CHEZ LES LIEVRES</td>\n",
       "      <td>1640.0</td>\n",
       "      <td>ABERGEMENT-DE-VAREY (L )</td>\n",
       "      <td>1</td>\n",
       "      <td>2</td>\n",
       "      <td>NaN</td>\n",
       "      <td>NaN</td>\n",
       "      <td>NaN</td>\n",
       "      <td>NaN</td>\n",
       "      <td>NaN</td>\n",
       "      <td>0</td>\n",
       "      <td>Maison</td>\n",
       "      <td>140.0</td>\n",
       "      <td>5</td>\n",
       "      <td>S</td>\n",
       "      <td>NaN</td>\n",
       "      <td>52.0</td>\n",
       "    </tr>\n",
       "    <tr>\n",
       "      <th>33</th>\n",
       "      <td>2019-01-11</td>\n",
       "      <td>Vente</td>\n",
       "      <td>198500.0</td>\n",
       "      <td>34</td>\n",
       "      <td>NaN</td>\n",
       "      <td>CHE</td>\n",
       "      <td>BOLERIN</td>\n",
       "      <td>1150.0</td>\n",
       "      <td>SAINTE-JULIE</td>\n",
       "      <td>1</td>\n",
       "      <td>366</td>\n",
       "      <td>NaN</td>\n",
       "      <td>NaN</td>\n",
       "      <td>NaN</td>\n",
       "      <td>NaN</td>\n",
       "      <td>NaN</td>\n",
       "      <td>0</td>\n",
       "      <td>Maison</td>\n",
       "      <td>100.0</td>\n",
       "      <td>5</td>\n",
       "      <td>S</td>\n",
       "      <td>NaN</td>\n",
       "      <td>658.0</td>\n",
       "    </tr>\n",
       "    <tr>\n",
       "      <th>62</th>\n",
       "      <td>2019-01-14</td>\n",
       "      <td>Vente</td>\n",
       "      <td>682000.0</td>\n",
       "      <td>933</td>\n",
       "      <td>NaN</td>\n",
       "      <td>RUE</td>\n",
       "      <td>DE PARIS</td>\n",
       "      <td>1170.0</td>\n",
       "      <td>GEX</td>\n",
       "      <td>1</td>\n",
       "      <td>173</td>\n",
       "      <td>NaN</td>\n",
       "      <td>NaN</td>\n",
       "      <td>NaN</td>\n",
       "      <td>NaN</td>\n",
       "      <td>NaN</td>\n",
       "      <td>0</td>\n",
       "      <td>Maison</td>\n",
       "      <td>142.0</td>\n",
       "      <td>5</td>\n",
       "      <td>S</td>\n",
       "      <td>NaN</td>\n",
       "      <td>2148.0</td>\n",
       "    </tr>\n",
       "    <tr>\n",
       "      <th>...</th>\n",
       "      <td>...</td>\n",
       "      <td>...</td>\n",
       "      <td>...</td>\n",
       "      <td>...</td>\n",
       "      <td>...</td>\n",
       "      <td>...</td>\n",
       "      <td>...</td>\n",
       "      <td>...</td>\n",
       "      <td>...</td>\n",
       "      <td>...</td>\n",
       "      <td>...</td>\n",
       "      <td>...</td>\n",
       "      <td>...</td>\n",
       "      <td>...</td>\n",
       "      <td>...</td>\n",
       "      <td>...</td>\n",
       "      <td>...</td>\n",
       "      <td>...</td>\n",
       "      <td>...</td>\n",
       "      <td>...</td>\n",
       "      <td>...</td>\n",
       "      <td>...</td>\n",
       "      <td>...</td>\n",
       "    </tr>\n",
       "    <tr>\n",
       "      <th>1014385</th>\n",
       "      <td>2019-04-05</td>\n",
       "      <td>Vente</td>\n",
       "      <td>870000.0</td>\n",
       "      <td>4</td>\n",
       "      <td>NaN</td>\n",
       "      <td>VLA</td>\n",
       "      <td>ALSACE</td>\n",
       "      <td>75019.0</td>\n",
       "      <td>PARIS 19</td>\n",
       "      <td>75</td>\n",
       "      <td>119</td>\n",
       "      <td>NaN</td>\n",
       "      <td>NaN</td>\n",
       "      <td>NaN</td>\n",
       "      <td>NaN</td>\n",
       "      <td>NaN</td>\n",
       "      <td>0</td>\n",
       "      <td>Maison</td>\n",
       "      <td>63.0</td>\n",
       "      <td>4</td>\n",
       "      <td>S</td>\n",
       "      <td>NaN</td>\n",
       "      <td>76.0</td>\n",
       "    </tr>\n",
       "    <tr>\n",
       "      <th>1015163</th>\n",
       "      <td>2019-05-24</td>\n",
       "      <td>Vente</td>\n",
       "      <td>975000.0</td>\n",
       "      <td>46</td>\n",
       "      <td>NaN</td>\n",
       "      <td>RUE</td>\n",
       "      <td>DE MOUZAIA</td>\n",
       "      <td>75019.0</td>\n",
       "      <td>PARIS 19</td>\n",
       "      <td>75</td>\n",
       "      <td>119</td>\n",
       "      <td>97.3125</td>\n",
       "      <td>NaN</td>\n",
       "      <td>NaN</td>\n",
       "      <td>NaN</td>\n",
       "      <td>NaN</td>\n",
       "      <td>1</td>\n",
       "      <td>Maison</td>\n",
       "      <td>99.0</td>\n",
       "      <td>4</td>\n",
       "      <td>NaN</td>\n",
       "      <td>NaN</td>\n",
       "      <td>NaN</td>\n",
       "    </tr>\n",
       "    <tr>\n",
       "      <th>1015333</th>\n",
       "      <td>2019-05-23</td>\n",
       "      <td>Vente</td>\n",
       "      <td>1098800.0</td>\n",
       "      <td>10</td>\n",
       "      <td>NaN</td>\n",
       "      <td>RUE</td>\n",
       "      <td>IRENEE BLANC</td>\n",
       "      <td>75020.0</td>\n",
       "      <td>PARIS 20</td>\n",
       "      <td>75</td>\n",
       "      <td>120</td>\n",
       "      <td>NaN</td>\n",
       "      <td>NaN</td>\n",
       "      <td>NaN</td>\n",
       "      <td>NaN</td>\n",
       "      <td>NaN</td>\n",
       "      <td>0</td>\n",
       "      <td>Maison</td>\n",
       "      <td>80.0</td>\n",
       "      <td>3</td>\n",
       "      <td>S</td>\n",
       "      <td>NaN</td>\n",
       "      <td>115.0</td>\n",
       "    </tr>\n",
       "    <tr>\n",
       "      <th>1015640</th>\n",
       "      <td>2019-06-17</td>\n",
       "      <td>Vente</td>\n",
       "      <td>1030000.0</td>\n",
       "      <td>25</td>\n",
       "      <td>NaN</td>\n",
       "      <td>VLA</td>\n",
       "      <td>DES LILAS</td>\n",
       "      <td>75019.0</td>\n",
       "      <td>PARIS 19</td>\n",
       "      <td>75</td>\n",
       "      <td>119</td>\n",
       "      <td>NaN</td>\n",
       "      <td>NaN</td>\n",
       "      <td>NaN</td>\n",
       "      <td>NaN</td>\n",
       "      <td>NaN</td>\n",
       "      <td>0</td>\n",
       "      <td>Maison</td>\n",
       "      <td>125.0</td>\n",
       "      <td>4</td>\n",
       "      <td>S</td>\n",
       "      <td>NaN</td>\n",
       "      <td>60.0</td>\n",
       "    </tr>\n",
       "    <tr>\n",
       "      <th>1015659</th>\n",
       "      <td>2019-06-13</td>\n",
       "      <td>Vente</td>\n",
       "      <td>1217000.0</td>\n",
       "      <td>8</td>\n",
       "      <td>NaN</td>\n",
       "      <td>PAS</td>\n",
       "      <td>PERREUR</td>\n",
       "      <td>75020.0</td>\n",
       "      <td>PARIS 20</td>\n",
       "      <td>75</td>\n",
       "      <td>120</td>\n",
       "      <td>NaN</td>\n",
       "      <td>NaN</td>\n",
       "      <td>NaN</td>\n",
       "      <td>NaN</td>\n",
       "      <td>NaN</td>\n",
       "      <td>0</td>\n",
       "      <td>Maison</td>\n",
       "      <td>106.0</td>\n",
       "      <td>4</td>\n",
       "      <td>S</td>\n",
       "      <td>NaN</td>\n",
       "      <td>123.0</td>\n",
       "    </tr>\n",
       "  </tbody>\n",
       "</table>\n",
       "<p>46578 rows × 23 columns</p>\n",
       "</div>"
      ],
      "text/plain": [
       "        date_mutation nature_mutation  valeur_fonciere  no_voie b/t/q  \\\n",
       "4          2019-04-04           Vente          36000.0       40   NaN   \n",
       "15         2019-01-07           Vente         284410.0        2     A   \n",
       "24         2019-01-02           Vente         139480.0     5152   NaN   \n",
       "33         2019-01-11           Vente         198500.0       34   NaN   \n",
       "62         2019-01-14           Vente         682000.0      933   NaN   \n",
       "...               ...             ...              ...      ...   ...   \n",
       "1014385    2019-04-05           Vente         870000.0        4   NaN   \n",
       "1015163    2019-05-24           Vente         975000.0       46   NaN   \n",
       "1015333    2019-05-23           Vente        1098800.0       10   NaN   \n",
       "1015640    2019-06-17           Vente        1030000.0       25   NaN   \n",
       "1015659    2019-06-13           Vente        1217000.0        8   NaN   \n",
       "\n",
       "        type_de_voie               voie  code_postal  \\\n",
       "4                 PL     DE LA FONTAINE       1560.0   \n",
       "15               RUE  DU CHAMP DE FOIRE       1200.0   \n",
       "24               NaN   CHEZ LES LIEVRES       1640.0   \n",
       "33               CHE            BOLERIN       1150.0   \n",
       "62               RUE           DE PARIS       1170.0   \n",
       "...              ...                ...          ...   \n",
       "1014385          VLA             ALSACE      75019.0   \n",
       "1015163          RUE         DE MOUZAIA      75019.0   \n",
       "1015333          RUE       IRENEE BLANC      75020.0   \n",
       "1015640          VLA          DES LILAS      75019.0   \n",
       "1015659          PAS            PERREUR      75020.0   \n",
       "\n",
       "                            commune code_departement  code_commune  \\\n",
       "4        SAINT-JULIEN-SUR-REYSSOUZE                1           367   \n",
       "15                         LANCRANS                1           205   \n",
       "24         ABERGEMENT-DE-VAREY (L )                1             2   \n",
       "33                     SAINTE-JULIE                1           366   \n",
       "62                              GEX                1           173   \n",
       "...                             ...              ...           ...   \n",
       "1014385                    PARIS 19               75           119   \n",
       "1015163                    PARIS 19               75           119   \n",
       "1015333                    PARIS 20               75           120   \n",
       "1015640                    PARIS 19               75           119   \n",
       "1015659                    PARIS 20               75           120   \n",
       "\n",
       "         surface_carrez_du_1er_lot  surface_carrez_du_2eme_lot  \\\n",
       "4                              NaN                         NaN   \n",
       "15                             NaN                         NaN   \n",
       "24                             NaN                         NaN   \n",
       "33                             NaN                         NaN   \n",
       "62                             NaN                         NaN   \n",
       "...                            ...                         ...   \n",
       "1014385                        NaN                         NaN   \n",
       "1015163                    97.3125                         NaN   \n",
       "1015333                        NaN                         NaN   \n",
       "1015640                        NaN                         NaN   \n",
       "1015659                        NaN                         NaN   \n",
       "\n",
       "         surface_carrez_du_3eme_lot  surface_carrez_du_4eme_lot  \\\n",
       "4                               NaN                         NaN   \n",
       "15                              NaN                         NaN   \n",
       "24                              NaN                         NaN   \n",
       "33                              NaN                         NaN   \n",
       "62                              NaN                         NaN   \n",
       "...                             ...                         ...   \n",
       "1014385                         NaN                         NaN   \n",
       "1015163                         NaN                         NaN   \n",
       "1015333                         NaN                         NaN   \n",
       "1015640                         NaN                         NaN   \n",
       "1015659                         NaN                         NaN   \n",
       "\n",
       "         surface_carrez_du_5eme_lot  nombre_de_lots type_local  \\\n",
       "4                               NaN               0     Maison   \n",
       "15                              NaN               0     Maison   \n",
       "24                              NaN               0     Maison   \n",
       "33                              NaN               0     Maison   \n",
       "62                              NaN               0     Maison   \n",
       "...                             ...             ...        ...   \n",
       "1014385                         NaN               0     Maison   \n",
       "1015163                         NaN               1     Maison   \n",
       "1015333                         NaN               0     Maison   \n",
       "1015640                         NaN               0     Maison   \n",
       "1015659                         NaN               0     Maison   \n",
       "\n",
       "         surface_reelle_bati  nombre_pieces_principales nature_culture  \\\n",
       "4                       60.0                          3              S   \n",
       "15                      84.0                          4              S   \n",
       "24                     140.0                          5              S   \n",
       "33                     100.0                          5              S   \n",
       "62                     142.0                          5              S   \n",
       "...                      ...                        ...            ...   \n",
       "1014385                 63.0                          4              S   \n",
       "1015163                 99.0                          4            NaN   \n",
       "1015333                 80.0                          3              S   \n",
       "1015640                125.0                          4              S   \n",
       "1015659                106.0                          4              S   \n",
       "\n",
       "        nature_culture_speciale  surface_terrain  \n",
       "4                           NaN             96.0  \n",
       "15                          NaN            231.0  \n",
       "24                          NaN             52.0  \n",
       "33                          NaN            658.0  \n",
       "62                          NaN           2148.0  \n",
       "...                         ...              ...  \n",
       "1014385                     NaN             76.0  \n",
       "1015163                     NaN              NaN  \n",
       "1015333                     NaN            115.0  \n",
       "1015640                     NaN             60.0  \n",
       "1015659                     NaN            123.0  \n",
       "\n",
       "[46578 rows x 23 columns]"
      ]
     },
     "execution_count": 20,
     "metadata": {},
     "output_type": "execute_result"
    }
   ],
   "source": [
    "df_maisons_simple"
   ]
  },
  {
   "cell_type": "code",
   "execution_count": null,
   "metadata": {
    "ExecuteTime": {
     "end_time": "2020-03-22T12:33:29.339567Z",
     "start_time": "2020-03-22T12:33:29.295253Z"
    }
   },
   "outputs": [],
   "source": [
    "df_maisons_simple['surface_carrez'] = df_maisons_simple['sur'].add(df_maisons_simple['Surface Carrez du 2eme lot'], fill_value=0)\n",
    "df_maisons_simple\n",
    "# + df_maisons_simple['Surface Carrez du 3eme lot'] + df_maisons_simple['Surface Carrez du 4eme lot'] + df_maisons_simple['Surface Carrez du 5eme lot']\n",
    "\n",
    "\n",
    "\n"
   ]
  },
  {
   "cell_type": "code",
   "execution_count": null,
   "metadata": {
    "ExecuteTime": {
     "end_time": "2020-03-21T23:48:23.351718Z",
     "start_time": "2020-03-21T23:48:22.752487Z"
    }
   },
   "outputs": [],
   "source": [
    "## from IPython.display import display, HTML\n",
    "\n",
    "idx = 0\n",
    "for index, row in doublons.iteritems():#break\n",
    "    date_mutation = index[0]\n",
    "    valeur_fonciere = index[1]\n",
    "    #code_postal = index[2]\n",
    "    doublon = df[(df['Date mutation']==date_mutation) \n",
    "                  & (df['Valeur fonciere']==valeur_fonciere)]\n",
    "    \n",
    "#    if doublon[doublon['Type local']=='Maison'].size == doublon.size:\n",
    "    display(doublon)\n",
    "    idx +=1\n",
    "    if idx ==20:break\n",
    "\n",
    "    \n",
    "    #if len(trick_df)==0:continue"
   ]
  },
  {
   "cell_type": "code",
   "execution_count": null,
   "metadata": {},
   "outputs": [],
   "source": []
  },
  {
   "cell_type": "code",
   "execution_count": null,
   "metadata": {},
   "outputs": [],
   "source": []
  },
  {
   "cell_type": "markdown",
   "metadata": {},
   "source": [
    "#### Suppression des données abberrantes"
   ]
  },
  {
   "cell_type": "code",
   "execution_count": null,
   "metadata": {
    "ExecuteTime": {
     "end_time": "2020-03-21T23:25:53.693773Z",
     "start_time": "2020-03-21T23:25:53.224820Z"
    },
    "scrolled": true
   },
   "outputs": [],
   "source": [
    "df.iloc[df.isnull().sum(1).sort_values(ascending=True).index]"
   ]
  },
  {
   "cell_type": "markdown",
   "metadata": {},
   "source": [
    "#### Analyse"
   ]
  },
  {
   "cell_type": "code",
   "execution_count": null,
   "metadata": {
    "ExecuteTime": {
     "end_time": "2020-03-21T23:28:53.081641Z",
     "start_time": "2020-03-21T23:28:51.320409Z"
    },
    "scrolled": true
   },
   "outputs": [],
   "source": [
    "df.describe()"
   ]
  },
  {
   "cell_type": "code",
   "execution_count": null,
   "metadata": {
    "ExecuteTime": {
     "end_time": "2020-03-21T23:29:09.965045Z",
     "start_time": "2020-03-21T23:28:56.282642Z"
    }
   },
   "outputs": [],
   "source": [
    "df.info(verbose=False, memory_usage=\"deep\")"
   ]
  },
  {
   "cell_type": "markdown",
   "metadata": {},
   "source": [
    "## Nettoyage des données simple"
   ]
  },
  {
   "cell_type": "code",
   "execution_count": null,
   "metadata": {
    "ExecuteTime": {
     "end_time": "2020-03-21T23:29:10.243505Z",
     "start_time": "2020-03-21T23:29:10.235496Z"
    }
   },
   "outputs": [],
   "source": [
    "def missing_values_assessment(df):\n",
    "    nan_values = df.isnull().sum().sum()\n",
    "    print('Nombre d\\'observations: {:,}'.format(len(df)))\n",
    "    print('Nombre de valeurs: {:,}'.format(df.size))\n",
    "    print('Valeurs manquantes: {:,}'.format(nan_values))\n",
    "    print('Qualité des données: {}%'.format(100-round((nan_values/df.size)*100,2)))\n",
    "    print('Type de données:\\n {}%'.format(df.dtypes.value_counts()))\n",
    "    analysis = {'Manquant': df.isnull().sum(),\n",
    "                'Manquant %':round((df.isnull().sum()/len(df))*100, 2),\n",
    "                'Type':df.dtypes\n",
    "               }\n",
    "    return pd.DataFrame(analysis)"
   ]
  },
  {
   "cell_type": "markdown",
   "metadata": {},
   "source": [
    "#### Analyse des données manquantes"
   ]
  },
  {
   "cell_type": "code",
   "execution_count": null,
   "metadata": {
    "ExecuteTime": {
     "end_time": "2020-03-21T23:29:11.484837Z",
     "start_time": "2020-03-21T23:29:10.537750Z"
    },
    "scrolled": false
   },
   "outputs": [],
   "source": [
    "missing_values_assessment(df).sort_values('Manquant %', ascending=False)"
   ]
  },
  {
   "cell_type": "code",
   "execution_count": null,
   "metadata": {
    "ExecuteTime": {
     "end_time": "2020-03-22T12:35:40.395216Z",
     "start_time": "2020-03-22T12:35:40.356766Z"
    }
   },
   "outputs": [],
   "source": [
    "# Remplissage des mètres Carrez manquant avec zéro\n",
    "#df = df[df['Nombre de lots']<=5].dropna(how='all', axis=1)\n",
    "df['surface_carrez_du_5eme_lot'].fillna(0, inplace=True)\n",
    "df['surface_carrez_du_4eme_lot'].fillna(0, inplace=True)\n",
    "df['surface_carrez_du_3eme_lot'].fillna(0, inplace=True)\n",
    "df['surface_carrez_du_2eme_lot'].fillna(0, inplace=True)\n",
    "df['surface_carrez_du_1er_lot'].fillna(0, inplace=True)\n",
    "df['surface_reelle_bati'].fillna(0, inplace=True)\n",
    "df['surface_terrain'].fillna(0, inplace=True)\n",
    "df['nombre_pieces_principales'].fillna(0, inplace=True)"
   ]
  },
  {
   "cell_type": "markdown",
   "metadata": {},
   "source": [
    "#### Analyse graphique des données manquantes"
   ]
  },
  {
   "cell_type": "code",
   "execution_count": null,
   "metadata": {
    "ExecuteTime": {
     "end_time": "2020-03-21T23:29:15.572974Z",
     "start_time": "2020-03-21T23:29:12.161319Z"
    }
   },
   "outputs": [],
   "source": [
    "msno.bar(df, sort='ascending')"
   ]
  },
  {
   "cell_type": "code",
   "execution_count": null,
   "metadata": {
    "ExecuteTime": {
     "end_time": "2020-03-21T23:29:22.470359Z",
     "start_time": "2020-03-21T23:29:15.863888Z"
    }
   },
   "outputs": [],
   "source": [
    "msno.matrix(df, sort='ascending')"
   ]
  },
  {
   "cell_type": "markdown",
   "metadata": {},
   "source": [
    "## Nettoyage de données fonctionnelles"
   ]
  },
  {
   "cell_type": "code",
   "execution_count": null,
   "metadata": {
    "ExecuteTime": {
     "end_time": "2020-03-21T23:29:22.772566Z",
     "start_time": "2020-03-21T23:29:22.714986Z"
    }
   },
   "outputs": [],
   "source": [
    "# Colonne 'B/T/Q'\n",
    "df.loc[df['b/t/q'].isin([',','/','*',\"'\",'-','.']), ['b/t/q']] = np.NaN"
   ]
  },
  {
   "cell_type": "code",
   "execution_count": null,
   "metadata": {
    "ExecuteTime": {
     "end_time": "2020-03-21T23:29:34.722625Z",
     "start_time": "2020-03-21T23:29:34.182890Z"
    }
   },
   "outputs": [],
   "source": [
    "# Colonne Code Département\n",
    "df['code_departement'] = df['code_departement'].astype('str')\n",
    "df.loc[df['code_departement']=='2A', ['code_departement']] = '120'\n",
    "df.loc[df['code_departement']=='2B', ['code_departement']] = '121'\n",
    "df['code_departement'] = df['code_departement'].astype(np.int16) # Converti en int16 pour la mémoire"
   ]
  },
  {
   "cell_type": "code",
   "execution_count": null,
   "metadata": {
    "ExecuteTime": {
     "end_time": "2020-03-21T23:29:37.159225Z",
     "start_time": "2020-03-21T23:29:37.152968Z"
    }
   },
   "outputs": [],
   "source": [
    "# Colonne code commune\n",
    "df['code_commune'] = df['code_commune'].astype(np.int16)"
   ]
  },
  {
   "cell_type": "code",
   "execution_count": null,
   "metadata": {
    "ExecuteTime": {
     "end_time": "2020-03-21T23:29:47.669596Z",
     "start_time": "2020-03-21T23:29:47.190577Z"
    }
   },
   "outputs": [],
   "source": [
    "## Formatage du code postal\n",
    "df.code_postal=df.code_postal.apply(lambda x: '0{}'.format(x) if len(str(x))==4 else x)"
   ]
  },
  {
   "cell_type": "code",
   "execution_count": null,
   "metadata": {
    "ExecuteTime": {
     "end_time": "2020-03-21T23:29:48.560004Z",
     "start_time": "2020-03-21T23:29:48.244669Z"
    }
   },
   "outputs": [],
   "source": [
    "df.info()"
   ]
  },
  {
   "cell_type": "code",
   "execution_count": null,
   "metadata": {
    "ExecuteTime": {
     "end_time": "2020-03-21T23:30:00.816294Z",
     "start_time": "2020-03-21T23:29:59.973458Z"
    }
   },
   "outputs": [],
   "source": [
    "missing_values_assessment(df).sort_values('Manquant %', ascending=False)"
   ]
  },
  {
   "cell_type": "code",
   "execution_count": null,
   "metadata": {
    "ExecuteTime": {
     "end_time": "2020-03-22T09:28:15.747956Z",
     "start_time": "2020-03-22T09:28:02.329044Z"
    }
   },
   "outputs": [],
   "source": [
    "df\n",
    "df.to_csv(r'data/valeurs_foncieres_excel.csv', index = None, header=True, sep=';')"
   ]
  },
  {
   "cell_type": "markdown",
   "metadata": {},
   "source": [
    "## Suppression des données  plus utilisés"
   ]
  },
  {
   "cell_type": "code",
   "execution_count": null,
   "metadata": {},
   "outputs": [],
   "source": [
    "# Nous n'avons plus besoin du code postal car nous avons le code commune et le code département\n",
    "df.drop(['code_postal'],axis=1, inplace=True)"
   ]
  },
  {
   "cell_type": "markdown",
   "metadata": {},
   "source": [
    "## Sauvegarde des données finales"
   ]
  },
  {
   "cell_type": "code",
   "execution_count": null,
   "metadata": {
    "ExecuteTime": {
     "end_time": "2020-03-19T18:52:59.048933Z",
     "start_time": "2020-03-19T18:50:04.211312Z"
    }
   },
   "outputs": [],
   "source": [
    "df.to_csv(r'data/valeursfoncieres-clean-df.csv', index = None, header=True)"
   ]
  },
  {
   "cell_type": "code",
   "execution_count": null,
   "metadata": {},
   "outputs": [],
   "source": []
  }
 ],
 "metadata": {
  "kernelspec": {
   "display_name": "Python 3",
   "language": "python",
   "name": "python3"
  },
  "language_info": {
   "codemirror_mode": {
    "name": "ipython",
    "version": 3
   },
   "file_extension": ".py",
   "mimetype": "text/x-python",
   "name": "python",
   "nbconvert_exporter": "python",
   "pygments_lexer": "ipython3",
   "version": "3.8.1"
  },
  "toc": {
   "base_numbering": 1,
   "nav_menu": {
    "height": "438px",
    "width": "631px"
   },
   "number_sections": true,
   "sideBar": true,
   "skip_h1_title": false,
   "title_cell": "Table of Contents",
   "title_sidebar": "Contents",
   "toc_cell": false,
   "toc_position": {
    "height": "calc(100% - 180px)",
    "left": "10px",
    "top": "150px",
    "width": "257px"
   },
   "toc_section_display": true,
   "toc_window_display": false
  },
  "varInspector": {
   "cols": {
    "lenName": 16,
    "lenType": 16,
    "lenVar": 40
   },
   "kernels_config": {
    "python": {
     "delete_cmd_postfix": "",
     "delete_cmd_prefix": "del ",
     "library": "var_list.py",
     "varRefreshCmd": "print(var_dic_list())"
    },
    "r": {
     "delete_cmd_postfix": ") ",
     "delete_cmd_prefix": "rm(",
     "library": "var_list.r",
     "varRefreshCmd": "cat(var_dic_list()) "
    }
   },
   "types_to_exclude": [
    "module",
    "function",
    "builtin_function_or_method",
    "instance",
    "_Feature"
   ],
   "window_display": false
  }
 },
 "nbformat": 4,
 "nbformat_minor": 2
}
