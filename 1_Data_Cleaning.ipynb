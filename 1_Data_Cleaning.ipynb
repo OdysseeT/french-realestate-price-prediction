{
 "cells": [
  {
   "cell_type": "markdown",
   "metadata": {},
   "source": [
    "# Etudes des valeurs foncières Française\n",
    "Liens: https://www.data.gouv.fr/fr/datasets/demandes-de-valeurs-foncieres/"
   ]
  },
  {
   "cell_type": "code",
   "execution_count": 1,
   "metadata": {
    "ExecuteTime": {
     "end_time": "2020-03-22T17:57:02.464519Z",
     "start_time": "2020-03-22T17:57:02.455820Z"
    }
   },
   "outputs": [],
   "source": [
    "# Gather Latitude Longitude from Google Map (time/cost consuming)\n",
    "add_lat_long = False"
   ]
  },
  {
   "cell_type": "code",
   "execution_count": 2,
   "metadata": {
    "ExecuteTime": {
     "end_time": "2020-03-22T17:57:03.763370Z",
     "start_time": "2020-03-22T17:57:02.469789Z"
    }
   },
   "outputs": [],
   "source": [
    "import numpy as np\n",
    "import pandas as pd\n",
    "import missingno as msno\n",
    "import glob\n",
    "from datetime import datetime\n",
    "\n",
    "pd.options.display.max_columns = None"
   ]
  },
  {
   "cell_type": "markdown",
   "metadata": {},
   "source": [
    "## Chargement du fichiers des valeurs foncières"
   ]
  },
  {
   "cell_type": "code",
   "execution_count": 3,
   "metadata": {
    "ExecuteTime": {
     "end_time": "2020-03-22T17:57:17.137927Z",
     "start_time": "2020-03-22T17:57:03.765745Z"
    },
    "scrolled": true
   },
   "outputs": [
    {
     "name": "stderr",
     "output_type": "stream",
     "text": [
      "/Users/odyssee/opt/anaconda3/envs/jupy/lib/python3.8/site-packages/IPython/core/interactiveshell.py:3062: DtypeWarning: Columns (18,41) have mixed types.Specify dtype option on import or set low_memory=False.\n",
      "  has_raised = await self.run_ast_nodes(code_ast.body, cell_name,\n"
     ]
    }
   ],
   "source": [
    "dateparse = lambda x: datetime.strptime(x, '%d/%m/%Y') # 03/01/2018\n",
    "def_types = {#'Code postal': 'category',\n",
    "             #'B/T/Q': 'category',\n",
    "             #'Nature mutation': 'category',\n",
    "             #'Type de voie': 'category',\n",
    "             #'Voie': 'category',\n",
    "             #'Commune': 'category',\n",
    "             #'Code departement': 'category',\n",
    "             #'Type local': 'category',\n",
    "             #'Nature culture': 'category',\n",
    "             #'Nature culture speciale': 'category',\n",
    "             \n",
    "             'No voie': 'Int64',\n",
    "             'Surface Carrez du 1er lot':'Float16',\n",
    "             'Surface Carrez du 2eme lot':'Float16',\n",
    "             'Surface Carrez du 3eme lot':'Float16',\n",
    "             'Surface Carrez du 4eme lot':'Float16',\n",
    "             'Surface Carrez du 5eme lot':'Float16',\n",
    "             'Nombre de lots':'Int16',\n",
    "             'Nombre de lots':'Int16',\n",
    "             'Surface reelle bati': 'Float32',\n",
    "             'Nombre pieces principales': 'Int8',\n",
    "             'Surface terrain':'Float32'\n",
    "            }\n",
    "col_exclude = ['Code service CH', 'Reference document', '1 Articles CGI',\n",
    "               '2 Articles CGI', '3 Articles CGI', '4 Articles CGI', '5 Articles CGI', 'Identifiant local',\n",
    "               'Prefixe de section', 'Section', 'No plan',\n",
    "               'No Volume','No disposition','Code type local', 'Code voie', \n",
    "               '5eme lot', '4eme lot', '3eme lot', '2eme lot', '1er lot']\n",
    "all_files = glob.glob(\"data/*.txt\")\n",
    "#df = pd.concat((pd.read_csv(f, sep='|', decimal=\",\", dtype=def_types, parse_dates=['Date mutation'], date_parser=dateparse, usecols=lambda col: col not in col_exclude) for f in all_files))\n",
    "df = pd.read_csv('data/valeursfoncieres-2019.txt', sep='|', decimal=\",\", dtype=def_types, parse_dates=['Date mutation'], date_parser=dateparse,usecols=lambda col: col not in col_exclude)"
   ]
  },
  {
   "cell_type": "markdown",
   "metadata": {},
   "source": [
    "#### Renomme les colonnes"
   ]
  },
  {
   "cell_type": "code",
   "execution_count": 4,
   "metadata": {
    "ExecuteTime": {
     "end_time": "2020-03-22T17:57:17.236873Z",
     "start_time": "2020-03-22T17:57:17.140391Z"
    }
   },
   "outputs": [],
   "source": [
    "import unidecode\n",
    "\n",
    "columns = {}\n",
    "for index, column_name in enumerate(df.columns):\n",
    "    columns[column_name] = unidecode.unidecode(column_name.replace(' ','_').replace('\\'','_').lower())\n",
    "df.rename(columns=columns, inplace=True)"
   ]
  },
  {
   "cell_type": "code",
   "execution_count": 5,
   "metadata": {
    "ExecuteTime": {
     "end_time": "2020-03-22T17:57:17.598369Z",
     "start_time": "2020-03-22T17:57:17.239344Z"
    }
   },
   "outputs": [
    {
     "name": "stdout",
     "output_type": "stream",
     "text": [
      "<class 'pandas.core.frame.DataFrame'>\n",
      "RangeIndex: 1017154 entries, 0 to 1017153\n",
      "Data columns (total 23 columns):\n",
      " #   Column                      Non-Null Count    Dtype         \n",
      "---  ------                      --------------    -----         \n",
      " 0   date_mutation               1017154 non-null  datetime64[ns]\n",
      " 1   nature_mutation             1017154 non-null  object        \n",
      " 2   valeur_fonciere             1004369 non-null  float64       \n",
      " 3   no_voie                     606327 non-null   Int64         \n",
      " 4   b/t/q                       44359 non-null    object        \n",
      " 5   type_de_voie                593091 non-null   object        \n",
      " 6   voie                        1004961 non-null  object        \n",
      " 7   code_postal                 1004998 non-null  float64       \n",
      " 8   commune                     1017154 non-null  object        \n",
      " 9   code_departement            1017154 non-null  object        \n",
      " 10  code_commune                1017154 non-null  int64         \n",
      " 11  surface_carrez_du_1er_lot   90421 non-null    float16       \n",
      " 12  surface_carrez_du_2eme_lot  22533 non-null    float16       \n",
      " 13  surface_carrez_du_3eme_lot  2100 non-null     float16       \n",
      " 14  surface_carrez_du_4eme_lot  542 non-null      float16       \n",
      " 15  surface_carrez_du_5eme_lot  205 non-null      float16       \n",
      " 16  nombre_de_lots              1017154 non-null  Int16         \n",
      " 17  type_local                  541303 non-null   object        \n",
      " 18  surface_reelle_bati         540615 non-null   float32       \n",
      " 19  nombre_pieces_principales   540615 non-null   Int8          \n",
      " 20  nature_culture              695583 non-null   object        \n",
      " 21  nature_culture_speciale     43778 non-null    object        \n",
      " 22  surface_terrain             695583 non-null   float32       \n",
      "dtypes: Int16(1), Int64(1), Int8(1), datetime64[ns](1), float16(5), float32(2), float64(2), int64(1), object(9)\n",
      "memory usage: 131.9+ MB\n"
     ]
    }
   ],
   "source": [
    "df.info()"
   ]
  },
  {
   "cell_type": "markdown",
   "metadata": {},
   "source": [
    "## Supression des colonnes sans données"
   ]
  },
  {
   "cell_type": "markdown",
   "metadata": {},
   "source": [
    "On gardes les colonnes sans valeurs foncières car elles peuvent liées à d'autre transaction"
   ]
  },
  {
   "cell_type": "code",
   "execution_count": 6,
   "metadata": {
    "ExecuteTime": {
     "end_time": "2020-03-22T17:57:17.602372Z",
     "start_time": "2020-03-22T17:57:17.600194Z"
    }
   },
   "outputs": [],
   "source": [
    "# Suppression des lignes où il n'y a pas de 'valeurs foncières'\n",
    "#indexNames = df[df['valeur_fonciere'].isnull()].index\n",
    "#df.drop(indexNames, inplace=True)"
   ]
  },
  {
   "cell_type": "markdown",
   "metadata": {},
   "source": [
    "## Recherche des doublons"
   ]
  },
  {
   "cell_type": "code",
   "execution_count": 7,
   "metadata": {
    "ExecuteTime": {
     "end_time": "2020-03-22T17:57:17.606914Z",
     "start_time": "2020-03-22T17:57:17.604710Z"
    }
   },
   "outputs": [],
   "source": [
    "#df[df.duplicated(keep=False)]"
   ]
  },
  {
   "cell_type": "code",
   "execution_count": 8,
   "metadata": {
    "ExecuteTime": {
     "end_time": "2020-03-22T17:57:19.157235Z",
     "start_time": "2020-03-22T17:57:17.609212Z"
    }
   },
   "outputs": [
    {
     "name": "stdout",
     "output_type": "stream",
     "text": [
      "Suppression des doublons: 98514\n"
     ]
    }
   ],
   "source": [
    "# Drop duplicates\n",
    "initial_length = len(df)\n",
    "df.drop_duplicates(inplace=True)\n",
    "print(\"Suppression des doublons: {}\".format(initial_length-len(df)))"
   ]
  },
  {
   "cell_type": "code",
   "execution_count": 9,
   "metadata": {
    "ExecuteTime": {
     "end_time": "2020-03-22T17:57:19.491323Z",
     "start_time": "2020-03-22T17:57:19.161353Z"
    }
   },
   "outputs": [
    {
     "name": "stdout",
     "output_type": "stream",
     "text": [
      "<class 'pandas.core.frame.DataFrame'>\n",
      "Int64Index: 918640 entries, 0 to 1017153\n",
      "Data columns (total 23 columns):\n",
      " #   Column                      Non-Null Count   Dtype         \n",
      "---  ------                      --------------   -----         \n",
      " 0   date_mutation               918640 non-null  datetime64[ns]\n",
      " 1   nature_mutation             918640 non-null  object        \n",
      " 2   valeur_fonciere             907760 non-null  float64       \n",
      " 3   no_voie                     532676 non-null  Int64         \n",
      " 4   b/t/q                       38718 non-null   object        \n",
      " 5   type_de_voie                515373 non-null  object        \n",
      " 6   voie                        912188 non-null  object        \n",
      " 7   code_postal                 912218 non-null  float64       \n",
      " 8   commune                     918640 non-null  object        \n",
      " 9   code_departement            918640 non-null  object        \n",
      " 10  code_commune                918640 non-null  int64         \n",
      " 11  surface_carrez_du_1er_lot   89372 non-null   float16       \n",
      " 12  surface_carrez_du_2eme_lot  22417 non-null   float16       \n",
      " 13  surface_carrez_du_3eme_lot  2089 non-null    float16       \n",
      " 14  surface_carrez_du_4eme_lot  541 non-null     float16       \n",
      " 15  surface_carrez_du_5eme_lot  204 non-null     float16       \n",
      " 16  nombre_de_lots              918640 non-null  Int16         \n",
      " 17  type_local                  484982 non-null  object        \n",
      " 18  surface_reelle_bati         484363 non-null  float32       \n",
      " 19  nombre_pieces_principales   484363 non-null  Int8          \n",
      " 20  nature_culture              656037 non-null  object        \n",
      " 21  nature_culture_speciale     41736 non-null   object        \n",
      " 22  surface_terrain             656037 non-null  float32       \n",
      "dtypes: Int16(1), Int64(1), Int8(1), datetime64[ns](1), float16(5), float32(2), float64(2), int64(1), object(9)\n",
      "memory usage: 126.2+ MB\n"
     ]
    }
   ],
   "source": [
    "df.info()"
   ]
  },
  {
   "cell_type": "markdown",
   "metadata": {},
   "source": [
    "## Nettoyage des données simple"
   ]
  },
  {
   "cell_type": "code",
   "execution_count": 10,
   "metadata": {
    "ExecuteTime": {
     "end_time": "2020-03-22T17:57:19.499219Z",
     "start_time": "2020-03-22T17:57:19.493984Z"
    }
   },
   "outputs": [],
   "source": [
    "def missing_values_assessment(df):\n",
    "    nan_values = df.isnull().sum().sum()\n",
    "    print('Nombre d\\'observations: {:,}'.format(len(df.index)))\n",
    "    print('Nombre de valeurs: {:,}'.format(df.size))\n",
    "    print('Valeurs manquantes: {:,}'.format(nan_values))\n",
    "    print('Qualité des données: {}%'.format(100-round((nan_values/df.size)*100,2)))\n",
    "    print('Type de données:\\n {}%'.format(df.dtypes.value_counts()))\n",
    "    analysis = {'Manquant': df.isnull().sum(),\n",
    "                'Manquant %':round((df.isnull().sum()/len(df))*100, 2),\n",
    "                'Type':df.dtypes\n",
    "               }\n",
    "    return pd.DataFrame(analysis)"
   ]
  },
  {
   "cell_type": "markdown",
   "metadata": {},
   "source": [
    "#### Analyse des données manquantes"
   ]
  },
  {
   "cell_type": "code",
   "execution_count": 11,
   "metadata": {
    "ExecuteTime": {
     "end_time": "2020-03-22T17:57:20.426515Z",
     "start_time": "2020-03-22T17:57:19.501193Z"
    },
    "scrolled": false
   },
   "outputs": [
    {
     "name": "stdout",
     "output_type": "stream",
     "text": [
      "Nombre d'observations: 918,640\n",
      "Nombre de valeurs: 21,128,720\n",
      "Valeurs manquantes: 8,875,806\n",
      "Qualité des données: 57.99%\n",
      "Type de données:\n",
      " object            9\n",
      "float16           5\n",
      "float32           2\n",
      "float64           2\n",
      "Int64             1\n",
      "Int16             1\n",
      "int64             1\n",
      "datetime64[ns]    1\n",
      "Int8              1\n",
      "dtype: int64%\n"
     ]
    },
    {
     "data": {
      "text/html": [
       "<div>\n",
       "<style scoped>\n",
       "    .dataframe tbody tr th:only-of-type {\n",
       "        vertical-align: middle;\n",
       "    }\n",
       "\n",
       "    .dataframe tbody tr th {\n",
       "        vertical-align: top;\n",
       "    }\n",
       "\n",
       "    .dataframe thead th {\n",
       "        text-align: right;\n",
       "    }\n",
       "</style>\n",
       "<table border=\"1\" class=\"dataframe\">\n",
       "  <thead>\n",
       "    <tr style=\"text-align: right;\">\n",
       "      <th></th>\n",
       "      <th>Manquant</th>\n",
       "      <th>Manquant %</th>\n",
       "      <th>Type</th>\n",
       "    </tr>\n",
       "  </thead>\n",
       "  <tbody>\n",
       "    <tr>\n",
       "      <th>surface_carrez_du_5eme_lot</th>\n",
       "      <td>918436</td>\n",
       "      <td>99.98</td>\n",
       "      <td>float16</td>\n",
       "    </tr>\n",
       "    <tr>\n",
       "      <th>surface_carrez_du_4eme_lot</th>\n",
       "      <td>918099</td>\n",
       "      <td>99.94</td>\n",
       "      <td>float16</td>\n",
       "    </tr>\n",
       "    <tr>\n",
       "      <th>surface_carrez_du_3eme_lot</th>\n",
       "      <td>916551</td>\n",
       "      <td>99.77</td>\n",
       "      <td>float16</td>\n",
       "    </tr>\n",
       "    <tr>\n",
       "      <th>surface_carrez_du_2eme_lot</th>\n",
       "      <td>896223</td>\n",
       "      <td>97.56</td>\n",
       "      <td>float16</td>\n",
       "    </tr>\n",
       "    <tr>\n",
       "      <th>b/t/q</th>\n",
       "      <td>879922</td>\n",
       "      <td>95.79</td>\n",
       "      <td>object</td>\n",
       "    </tr>\n",
       "    <tr>\n",
       "      <th>nature_culture_speciale</th>\n",
       "      <td>876904</td>\n",
       "      <td>95.46</td>\n",
       "      <td>object</td>\n",
       "    </tr>\n",
       "    <tr>\n",
       "      <th>surface_carrez_du_1er_lot</th>\n",
       "      <td>829268</td>\n",
       "      <td>90.27</td>\n",
       "      <td>float16</td>\n",
       "    </tr>\n",
       "    <tr>\n",
       "      <th>nombre_pieces_principales</th>\n",
       "      <td>434277</td>\n",
       "      <td>47.27</td>\n",
       "      <td>Int8</td>\n",
       "    </tr>\n",
       "    <tr>\n",
       "      <th>surface_reelle_bati</th>\n",
       "      <td>434277</td>\n",
       "      <td>47.27</td>\n",
       "      <td>float32</td>\n",
       "    </tr>\n",
       "    <tr>\n",
       "      <th>type_local</th>\n",
       "      <td>433658</td>\n",
       "      <td>47.21</td>\n",
       "      <td>object</td>\n",
       "    </tr>\n",
       "    <tr>\n",
       "      <th>type_de_voie</th>\n",
       "      <td>403267</td>\n",
       "      <td>43.90</td>\n",
       "      <td>object</td>\n",
       "    </tr>\n",
       "    <tr>\n",
       "      <th>no_voie</th>\n",
       "      <td>385964</td>\n",
       "      <td>42.01</td>\n",
       "      <td>Int64</td>\n",
       "    </tr>\n",
       "    <tr>\n",
       "      <th>nature_culture</th>\n",
       "      <td>262603</td>\n",
       "      <td>28.59</td>\n",
       "      <td>object</td>\n",
       "    </tr>\n",
       "    <tr>\n",
       "      <th>surface_terrain</th>\n",
       "      <td>262603</td>\n",
       "      <td>28.59</td>\n",
       "      <td>float32</td>\n",
       "    </tr>\n",
       "    <tr>\n",
       "      <th>valeur_fonciere</th>\n",
       "      <td>10880</td>\n",
       "      <td>1.18</td>\n",
       "      <td>float64</td>\n",
       "    </tr>\n",
       "    <tr>\n",
       "      <th>code_postal</th>\n",
       "      <td>6422</td>\n",
       "      <td>0.70</td>\n",
       "      <td>float64</td>\n",
       "    </tr>\n",
       "    <tr>\n",
       "      <th>voie</th>\n",
       "      <td>6452</td>\n",
       "      <td>0.70</td>\n",
       "      <td>object</td>\n",
       "    </tr>\n",
       "    <tr>\n",
       "      <th>nature_mutation</th>\n",
       "      <td>0</td>\n",
       "      <td>0.00</td>\n",
       "      <td>object</td>\n",
       "    </tr>\n",
       "    <tr>\n",
       "      <th>code_commune</th>\n",
       "      <td>0</td>\n",
       "      <td>0.00</td>\n",
       "      <td>int64</td>\n",
       "    </tr>\n",
       "    <tr>\n",
       "      <th>nombre_de_lots</th>\n",
       "      <td>0</td>\n",
       "      <td>0.00</td>\n",
       "      <td>Int16</td>\n",
       "    </tr>\n",
       "    <tr>\n",
       "      <th>code_departement</th>\n",
       "      <td>0</td>\n",
       "      <td>0.00</td>\n",
       "      <td>object</td>\n",
       "    </tr>\n",
       "    <tr>\n",
       "      <th>commune</th>\n",
       "      <td>0</td>\n",
       "      <td>0.00</td>\n",
       "      <td>object</td>\n",
       "    </tr>\n",
       "    <tr>\n",
       "      <th>date_mutation</th>\n",
       "      <td>0</td>\n",
       "      <td>0.00</td>\n",
       "      <td>datetime64[ns]</td>\n",
       "    </tr>\n",
       "  </tbody>\n",
       "</table>\n",
       "</div>"
      ],
      "text/plain": [
       "                            Manquant  Manquant %            Type\n",
       "surface_carrez_du_5eme_lot    918436       99.98         float16\n",
       "surface_carrez_du_4eme_lot    918099       99.94         float16\n",
       "surface_carrez_du_3eme_lot    916551       99.77         float16\n",
       "surface_carrez_du_2eme_lot    896223       97.56         float16\n",
       "b/t/q                         879922       95.79          object\n",
       "nature_culture_speciale       876904       95.46          object\n",
       "surface_carrez_du_1er_lot     829268       90.27         float16\n",
       "nombre_pieces_principales     434277       47.27            Int8\n",
       "surface_reelle_bati           434277       47.27         float32\n",
       "type_local                    433658       47.21          object\n",
       "type_de_voie                  403267       43.90          object\n",
       "no_voie                       385964       42.01           Int64\n",
       "nature_culture                262603       28.59          object\n",
       "surface_terrain               262603       28.59         float32\n",
       "valeur_fonciere                10880        1.18         float64\n",
       "code_postal                     6422        0.70         float64\n",
       "voie                            6452        0.70          object\n",
       "nature_mutation                    0        0.00          object\n",
       "code_commune                       0        0.00           int64\n",
       "nombre_de_lots                     0        0.00           Int16\n",
       "code_departement                   0        0.00          object\n",
       "commune                            0        0.00          object\n",
       "date_mutation                      0        0.00  datetime64[ns]"
      ]
     },
     "execution_count": 11,
     "metadata": {},
     "output_type": "execute_result"
    }
   ],
   "source": [
    "missing_values_assessment(df).sort_values('Manquant %', ascending=False)"
   ]
  },
  {
   "cell_type": "code",
   "execution_count": 12,
   "metadata": {
    "ExecuteTime": {
     "end_time": "2020-03-22T17:57:20.461271Z",
     "start_time": "2020-03-22T17:57:20.428450Z"
    }
   },
   "outputs": [],
   "source": [
    "# Remplissage des mètres Carrez manquant avec zéro\n",
    "#df = df[df['Nombre de lots']<=5].dropna(how='all', axis=1)\n",
    "df['surface_carrez_du_5eme_lot'].fillna(0, inplace=True)\n",
    "df['surface_carrez_du_4eme_lot'].fillna(0, inplace=True)\n",
    "df['surface_carrez_du_3eme_lot'].fillna(0, inplace=True)\n",
    "df['surface_carrez_du_2eme_lot'].fillna(0, inplace=True)\n",
    "df['surface_carrez_du_1er_lot'].fillna(0, inplace=True)\n",
    "df['surface_reelle_bati'].fillna(0, inplace=True)\n",
    "df['surface_terrain'].fillna(0, inplace=True)\n",
    "df['nombre_pieces_principales'].fillna(0, inplace=True)"
   ]
  },
  {
   "cell_type": "markdown",
   "metadata": {},
   "source": [
    "#### Analyse graphique des données manquantes"
   ]
  },
  {
   "cell_type": "code",
   "execution_count": 13,
   "metadata": {
    "ExecuteTime": {
     "end_time": "2020-03-22T17:57:22.322779Z",
     "start_time": "2020-03-22T17:57:20.463084Z"
    }
   },
   "outputs": [
    {
     "data": {
      "text/plain": [
       "<matplotlib.axes._subplots.AxesSubplot at 0x1216c6a90>"
      ]
     },
     "execution_count": 13,
     "metadata": {},
     "output_type": "execute_result"
    },
    {
     "data": {
      "image/png": "[encoded data removed]",
      "text/plain": [
       "<Figure size 1728x720 with 3 Axes>"
      ]
     },
     "metadata": {
      "needs_background": "light"
     },
     "output_type": "display_data"
    }
   ],
   "source": [
    "msno.bar(df, sort='ascending')"
   ]
  },
  {
   "cell_type": "code",
   "execution_count": 14,
   "metadata": {
    "ExecuteTime": {
     "end_time": "2020-03-22T17:57:28.012053Z",
     "start_time": "2020-03-22T17:57:22.324737Z"
    }
   },
   "outputs": [
    {
     "data": {
      "text/plain": [
       "<matplotlib.axes._subplots.AxesSubplot at 0x118244d60>"
      ]
     },
     "execution_count": 14,
     "metadata": {},
     "output_type": "execute_result"
    },
    {
     "data": {
      "image/png": "[encoded data removed]",
      "text/plain": [
       "<Figure size 1800x720 with 2 Axes>"
      ]
     },
     "metadata": {
      "needs_background": "light"
     },
     "output_type": "display_data"
    }
   ],
   "source": [
    "msno.matrix(df, sort='ascending')"
   ]
  },
  {
   "cell_type": "markdown",
   "metadata": {},
   "source": [
    "## Nettoyage de données fonctionnelles"
   ]
  },
  {
   "cell_type": "code",
   "execution_count": 15,
   "metadata": {
    "ExecuteTime": {
     "end_time": "2020-03-22T17:57:28.049049Z",
     "start_time": "2020-03-22T17:57:28.013633Z"
    }
   },
   "outputs": [],
   "source": [
    "# Colonne 'B/T/Q'\n",
    "df.loc[df['b/t/q'].isin([',','/','*',\"'\",'-','.']), ['b/t/q']] = np.NaN"
   ]
  },
  {
   "cell_type": "code",
   "execution_count": 16,
   "metadata": {
    "ExecuteTime": {
     "end_time": "2020-03-22T17:57:28.516747Z",
     "start_time": "2020-03-22T17:57:28.050686Z"
    }
   },
   "outputs": [],
   "source": [
    "# Colonne Code Département\n",
    "df['code_departement'] = df['code_departement'].astype('str')\n",
    "df.loc[df['code_departement']=='2A', ['code_departement']] = '120'\n",
    "df.loc[df['code_departement']=='2B', ['code_departement']] = '121'\n",
    "df['code_departement'] = df['code_departement'].astype(np.int16) # Converti en int16 pour la mémoire"
   ]
  },
  {
   "cell_type": "code",
   "execution_count": 17,
   "metadata": {
    "ExecuteTime": {
     "end_time": "2020-03-22T17:57:28.524440Z",
     "start_time": "2020-03-22T17:57:28.518858Z"
    }
   },
   "outputs": [],
   "source": [
    "# Colonne code commune\n",
    "df['code_commune'] = df['code_commune'].astype(np.int16)"
   ]
  },
  {
   "cell_type": "code",
   "execution_count": 18,
   "metadata": {
    "ExecuteTime": {
     "end_time": "2020-03-22T17:57:28.965551Z",
     "start_time": "2020-03-22T17:57:28.526732Z"
    }
   },
   "outputs": [],
   "source": [
    "## Formatage du code postal\n",
    "df.code_postal=df.code_postal.apply(lambda x: '0{}'.format(x) if len(str(x))==4 else x)"
   ]
  },
  {
   "cell_type": "code",
   "execution_count": 19,
   "metadata": {
    "ExecuteTime": {
     "end_time": "2020-03-22T17:57:29.257554Z",
     "start_time": "2020-03-22T17:57:28.967025Z"
    }
   },
   "outputs": [
    {
     "name": "stdout",
     "output_type": "stream",
     "text": [
      "<class 'pandas.core.frame.DataFrame'>\n",
      "Int64Index: 918640 entries, 0 to 1017153\n",
      "Data columns (total 23 columns):\n",
      " #   Column                      Non-Null Count   Dtype         \n",
      "---  ------                      --------------   -----         \n",
      " 0   date_mutation               918640 non-null  datetime64[ns]\n",
      " 1   nature_mutation             918640 non-null  object        \n",
      " 2   valeur_fonciere             907760 non-null  float64       \n",
      " 3   no_voie                     532676 non-null  Int64         \n",
      " 4   b/t/q                       38702 non-null   object        \n",
      " 5   type_de_voie                515373 non-null  object        \n",
      " 6   voie                        912188 non-null  object        \n",
      " 7   code_postal                 912218 non-null  float64       \n",
      " 8   commune                     918640 non-null  object        \n",
      " 9   code_departement            918640 non-null  int16         \n",
      " 10  code_commune                918640 non-null  int16         \n",
      " 11  surface_carrez_du_1er_lot   918640 non-null  float16       \n",
      " 12  surface_carrez_du_2eme_lot  918640 non-null  float16       \n",
      " 13  surface_carrez_du_3eme_lot  918640 non-null  float16       \n",
      " 14  surface_carrez_du_4eme_lot  918640 non-null  float16       \n",
      " 15  surface_carrez_du_5eme_lot  918640 non-null  float16       \n",
      " 16  nombre_de_lots              918640 non-null  Int16         \n",
      " 17  type_local                  484982 non-null  object        \n",
      " 18  surface_reelle_bati         918640 non-null  float32       \n",
      " 19  nombre_pieces_principales   918640 non-null  Int8          \n",
      " 20  nature_culture              656037 non-null  object        \n",
      " 21  nature_culture_speciale     41736 non-null   object        \n",
      " 22  surface_terrain             918640 non-null  float32       \n",
      "dtypes: Int16(1), Int64(1), Int8(1), datetime64[ns](1), float16(5), float32(2), float64(2), int16(2), object(8)\n",
      "memory usage: 115.6+ MB\n"
     ]
    }
   ],
   "source": [
    "df.info()"
   ]
  },
  {
   "cell_type": "code",
   "execution_count": 20,
   "metadata": {
    "ExecuteTime": {
     "end_time": "2020-03-22T17:57:30.096648Z",
     "start_time": "2020-03-22T17:57:29.259485Z"
    }
   },
   "outputs": [
    {
     "name": "stdout",
     "output_type": "stream",
     "text": [
      "Nombre d'observations: 918,640\n",
      "Nombre de valeurs: 21,128,720\n",
      "Valeurs manquantes: 3,266,088\n",
      "Qualité des données: 84.53999999999999%\n",
      "Type de données:\n",
      " object            8\n",
      "float16           5\n",
      "int16             2\n",
      "float32           2\n",
      "float64           2\n",
      "Int64             1\n",
      "Int16             1\n",
      "datetime64[ns]    1\n",
      "Int8              1\n",
      "dtype: int64%\n"
     ]
    },
    {
     "data": {
      "text/html": [
       "<div>\n",
       "<style scoped>\n",
       "    .dataframe tbody tr th:only-of-type {\n",
       "        vertical-align: middle;\n",
       "    }\n",
       "\n",
       "    .dataframe tbody tr th {\n",
       "        vertical-align: top;\n",
       "    }\n",
       "\n",
       "    .dataframe thead th {\n",
       "        text-align: right;\n",
       "    }\n",
       "</style>\n",
       "<table border=\"1\" class=\"dataframe\">\n",
       "  <thead>\n",
       "    <tr style=\"text-align: right;\">\n",
       "      <th></th>\n",
       "      <th>Manquant</th>\n",
       "      <th>Manquant %</th>\n",
       "      <th>Type</th>\n",
       "    </tr>\n",
       "  </thead>\n",
       "  <tbody>\n",
       "    <tr>\n",
       "      <th>b/t/q</th>\n",
       "      <td>879938</td>\n",
       "      <td>95.79</td>\n",
       "      <td>object</td>\n",
       "    </tr>\n",
       "    <tr>\n",
       "      <th>nature_culture_speciale</th>\n",
       "      <td>876904</td>\n",
       "      <td>95.46</td>\n",
       "      <td>object</td>\n",
       "    </tr>\n",
       "    <tr>\n",
       "      <th>type_local</th>\n",
       "      <td>433658</td>\n",
       "      <td>47.21</td>\n",
       "      <td>object</td>\n",
       "    </tr>\n",
       "    <tr>\n",
       "      <th>type_de_voie</th>\n",
       "      <td>403267</td>\n",
       "      <td>43.90</td>\n",
       "      <td>object</td>\n",
       "    </tr>\n",
       "    <tr>\n",
       "      <th>no_voie</th>\n",
       "      <td>385964</td>\n",
       "      <td>42.01</td>\n",
       "      <td>Int64</td>\n",
       "    </tr>\n",
       "    <tr>\n",
       "      <th>nature_culture</th>\n",
       "      <td>262603</td>\n",
       "      <td>28.59</td>\n",
       "      <td>object</td>\n",
       "    </tr>\n",
       "    <tr>\n",
       "      <th>valeur_fonciere</th>\n",
       "      <td>10880</td>\n",
       "      <td>1.18</td>\n",
       "      <td>float64</td>\n",
       "    </tr>\n",
       "    <tr>\n",
       "      <th>voie</th>\n",
       "      <td>6452</td>\n",
       "      <td>0.70</td>\n",
       "      <td>object</td>\n",
       "    </tr>\n",
       "    <tr>\n",
       "      <th>code_postal</th>\n",
       "      <td>6422</td>\n",
       "      <td>0.70</td>\n",
       "      <td>float64</td>\n",
       "    </tr>\n",
       "    <tr>\n",
       "      <th>date_mutation</th>\n",
       "      <td>0</td>\n",
       "      <td>0.00</td>\n",
       "      <td>datetime64[ns]</td>\n",
       "    </tr>\n",
       "    <tr>\n",
       "      <th>surface_carrez_du_5eme_lot</th>\n",
       "      <td>0</td>\n",
       "      <td>0.00</td>\n",
       "      <td>float16</td>\n",
       "    </tr>\n",
       "    <tr>\n",
       "      <th>nombre_pieces_principales</th>\n",
       "      <td>0</td>\n",
       "      <td>0.00</td>\n",
       "      <td>Int8</td>\n",
       "    </tr>\n",
       "    <tr>\n",
       "      <th>surface_reelle_bati</th>\n",
       "      <td>0</td>\n",
       "      <td>0.00</td>\n",
       "      <td>float32</td>\n",
       "    </tr>\n",
       "    <tr>\n",
       "      <th>nombre_de_lots</th>\n",
       "      <td>0</td>\n",
       "      <td>0.00</td>\n",
       "      <td>Int16</td>\n",
       "    </tr>\n",
       "    <tr>\n",
       "      <th>surface_carrez_du_1er_lot</th>\n",
       "      <td>0</td>\n",
       "      <td>0.00</td>\n",
       "      <td>float16</td>\n",
       "    </tr>\n",
       "    <tr>\n",
       "      <th>surface_carrez_du_4eme_lot</th>\n",
       "      <td>0</td>\n",
       "      <td>0.00</td>\n",
       "      <td>float16</td>\n",
       "    </tr>\n",
       "    <tr>\n",
       "      <th>surface_carrez_du_3eme_lot</th>\n",
       "      <td>0</td>\n",
       "      <td>0.00</td>\n",
       "      <td>float16</td>\n",
       "    </tr>\n",
       "    <tr>\n",
       "      <th>surface_carrez_du_2eme_lot</th>\n",
       "      <td>0</td>\n",
       "      <td>0.00</td>\n",
       "      <td>float16</td>\n",
       "    </tr>\n",
       "    <tr>\n",
       "      <th>nature_mutation</th>\n",
       "      <td>0</td>\n",
       "      <td>0.00</td>\n",
       "      <td>object</td>\n",
       "    </tr>\n",
       "    <tr>\n",
       "      <th>code_commune</th>\n",
       "      <td>0</td>\n",
       "      <td>0.00</td>\n",
       "      <td>int16</td>\n",
       "    </tr>\n",
       "    <tr>\n",
       "      <th>code_departement</th>\n",
       "      <td>0</td>\n",
       "      <td>0.00</td>\n",
       "      <td>int16</td>\n",
       "    </tr>\n",
       "    <tr>\n",
       "      <th>commune</th>\n",
       "      <td>0</td>\n",
       "      <td>0.00</td>\n",
       "      <td>object</td>\n",
       "    </tr>\n",
       "    <tr>\n",
       "      <th>surface_terrain</th>\n",
       "      <td>0</td>\n",
       "      <td>0.00</td>\n",
       "      <td>float32</td>\n",
       "    </tr>\n",
       "  </tbody>\n",
       "</table>\n",
       "</div>"
      ],
      "text/plain": [
       "                            Manquant  Manquant %            Type\n",
       "b/t/q                         879938       95.79          object\n",
       "nature_culture_speciale       876904       95.46          object\n",
       "type_local                    433658       47.21          object\n",
       "type_de_voie                  403267       43.90          object\n",
       "no_voie                       385964       42.01           Int64\n",
       "nature_culture                262603       28.59          object\n",
       "valeur_fonciere                10880        1.18         float64\n",
       "voie                            6452        0.70          object\n",
       "code_postal                     6422        0.70         float64\n",
       "date_mutation                      0        0.00  datetime64[ns]\n",
       "surface_carrez_du_5eme_lot         0        0.00         float16\n",
       "nombre_pieces_principales          0        0.00            Int8\n",
       "surface_reelle_bati                0        0.00         float32\n",
       "nombre_de_lots                     0        0.00           Int16\n",
       "surface_carrez_du_1er_lot          0        0.00         float16\n",
       "surface_carrez_du_4eme_lot         0        0.00         float16\n",
       "surface_carrez_du_3eme_lot         0        0.00         float16\n",
       "surface_carrez_du_2eme_lot         0        0.00         float16\n",
       "nature_mutation                    0        0.00          object\n",
       "code_commune                       0        0.00           int16\n",
       "code_departement                   0        0.00           int16\n",
       "commune                            0        0.00          object\n",
       "surface_terrain                    0        0.00         float32"
      ]
     },
     "execution_count": 20,
     "metadata": {},
     "output_type": "execute_result"
    }
   ],
   "source": [
    "missing_values_assessment(df).sort_values('Manquant %', ascending=False)"
   ]
  },
  {
   "cell_type": "markdown",
   "metadata": {},
   "source": [
    "## Sauvegarde des données finales"
   ]
  },
  {
   "cell_type": "code",
   "execution_count": 21,
   "metadata": {
    "ExecuteTime": {
     "end_time": "2020-03-22T17:57:44.399759Z",
     "start_time": "2020-03-22T17:57:30.098234Z"
    }
   },
   "outputs": [],
   "source": [
    "df.to_csv(r'data/valeursfoncieres-clean-df.csv', index = None, header=True)"
   ]
  },
  {
   "cell_type": "markdown",
   "metadata": {},
   "source": [
    "## Extraction des données pour une analyse ciblée"
   ]
  },
  {
   "cell_type": "code",
   "execution_count": 22,
   "metadata": {
    "ExecuteTime": {
     "end_time": "2020-03-22T17:57:44.534112Z",
     "start_time": "2020-03-22T17:57:44.401553Z"
    }
   },
   "outputs": [
    {
     "data": {
      "text/plain": [
       "201244"
      ]
     },
     "execution_count": 22,
     "metadata": {},
     "output_type": "execute_result"
    }
   ],
   "source": [
    "df_maisons = df[(df['type_local'].isin(['Maison']))&(df['nature_mutation']=='Vente')]\n",
    "len(df_maisons.index)"
   ]
  },
  {
   "cell_type": "code",
   "execution_count": 23,
   "metadata": {
    "ExecuteTime": {
     "end_time": "2020-03-22T17:58:10.721893Z",
     "start_time": "2020-03-22T17:57:44.536576Z"
    }
   },
   "outputs": [
    {
     "data": {
      "text/plain": [
       "46578"
      ]
     },
     "execution_count": 23,
     "metadata": {},
     "output_type": "execute_result"
    }
   ],
   "source": [
    "df_maisons_simple = df_maisons.groupby(['date_mutation','valeur_fonciere']).filter(lambda x: len(x) == 1)\n",
    "len(df_maisons_simple.index)"
   ]
  },
  {
   "cell_type": "code",
   "execution_count": 24,
   "metadata": {
    "ExecuteTime": {
     "end_time": "2020-03-22T17:58:10.737108Z",
     "start_time": "2020-03-22T17:58:10.728241Z"
    }
   },
   "outputs": [],
   "source": [
    "df_maisons_simple['surface_carrez'] = df_maisons_simple['surface_carrez_du_1er_lot']+ df_maisons_simple['surface_carrez_du_2eme_lot'] + df_maisons_simple['surface_carrez_du_3eme_lot'] + df_maisons_simple['surface_carrez_du_4eme_lot'] + df_maisons_simple['surface_carrez_du_5eme_lot']\n",
    "#df_maisons_simple['surface_carrez'].apply(lambda x: x if x>0 else df_maisons_simple['surface_reelle_bati'])\n",
    "df_maisons_simple['surface_carrez'] = df_maisons_simple.loc[df_maisons_simple['surface_carrez'] ==0, 'surface_carrez'] = df_maisons_simple['surface_reelle_bati']\n",
    "\n"
   ]
  },
  {
   "cell_type": "code",
   "execution_count": 25,
   "metadata": {
    "ExecuteTime": {
     "end_time": "2020-03-22T17:58:10.745090Z",
     "start_time": "2020-03-22T17:58:10.741602Z"
    }
   },
   "outputs": [],
   "source": [
    "df_maisons_simple['prix_m2'] = df_maisons_simple['valeur_fonciere']/df_maisons_simple['surface_carrez']"
   ]
  },
  {
   "cell_type": "code",
   "execution_count": 26,
   "metadata": {
    "ExecuteTime": {
     "end_time": "2020-03-22T17:58:10.793097Z",
     "start_time": "2020-03-22T17:58:10.746884Z"
    }
   },
   "outputs": [
    {
     "data": {
      "text/html": [
       "<div>\n",
       "<style scoped>\n",
       "    .dataframe tbody tr th:only-of-type {\n",
       "        vertical-align: middle;\n",
       "    }\n",
       "\n",
       "    .dataframe tbody tr th {\n",
       "        vertical-align: top;\n",
       "    }\n",
       "\n",
       "    .dataframe thead th {\n",
       "        text-align: right;\n",
       "    }\n",
       "</style>\n",
       "<table border=\"1\" class=\"dataframe\">\n",
       "  <thead>\n",
       "    <tr style=\"text-align: right;\">\n",
       "      <th></th>\n",
       "      <th>date_mutation</th>\n",
       "      <th>nature_mutation</th>\n",
       "      <th>valeur_fonciere</th>\n",
       "      <th>no_voie</th>\n",
       "      <th>b/t/q</th>\n",
       "      <th>type_de_voie</th>\n",
       "      <th>voie</th>\n",
       "      <th>code_postal</th>\n",
       "      <th>commune</th>\n",
       "      <th>code_departement</th>\n",
       "      <th>code_commune</th>\n",
       "      <th>surface_carrez_du_1er_lot</th>\n",
       "      <th>surface_carrez_du_2eme_lot</th>\n",
       "      <th>surface_carrez_du_3eme_lot</th>\n",
       "      <th>surface_carrez_du_4eme_lot</th>\n",
       "      <th>surface_carrez_du_5eme_lot</th>\n",
       "      <th>nombre_de_lots</th>\n",
       "      <th>type_local</th>\n",
       "      <th>surface_reelle_bati</th>\n",
       "      <th>nombre_pieces_principales</th>\n",
       "      <th>nature_culture</th>\n",
       "      <th>nature_culture_speciale</th>\n",
       "      <th>surface_terrain</th>\n",
       "      <th>surface_carrez</th>\n",
       "      <th>prix_m2</th>\n",
       "    </tr>\n",
       "  </thead>\n",
       "  <tbody>\n",
       "    <tr>\n",
       "      <th>763043</th>\n",
       "      <td>2019-01-17</td>\n",
       "      <td>Vente</td>\n",
       "      <td>3784560.0</td>\n",
       "      <td>35</td>\n",
       "      <td>NaN</td>\n",
       "      <td>RUE</td>\n",
       "      <td>DE THANN</td>\n",
       "      <td>78500.0</td>\n",
       "      <td>SARTROUVILLE</td>\n",
       "      <td>78</td>\n",
       "      <td>586</td>\n",
       "      <td>0.0000</td>\n",
       "      <td>0.0</td>\n",
       "      <td>0.0</td>\n",
       "      <td>0.0</td>\n",
       "      <td>0.0</td>\n",
       "      <td>0</td>\n",
       "      <td>Maison</td>\n",
       "      <td>48.0</td>\n",
       "      <td>3</td>\n",
       "      <td>NaN</td>\n",
       "      <td>NaN</td>\n",
       "      <td>0.0</td>\n",
       "      <td>48.0</td>\n",
       "      <td>7.884500e+04</td>\n",
       "    </tr>\n",
       "    <tr>\n",
       "      <th>33095</th>\n",
       "      <td>2019-03-26</td>\n",
       "      <td>Vente</td>\n",
       "      <td>2590000.0</td>\n",
       "      <td>916</td>\n",
       "      <td>NaN</td>\n",
       "      <td>BD</td>\n",
       "      <td>DU MERCANTOUR</td>\n",
       "      <td>6200.0</td>\n",
       "      <td>NICE</td>\n",
       "      <td>6</td>\n",
       "      <td>88</td>\n",
       "      <td>0.0000</td>\n",
       "      <td>0.0</td>\n",
       "      <td>0.0</td>\n",
       "      <td>0.0</td>\n",
       "      <td>0.0</td>\n",
       "      <td>0</td>\n",
       "      <td>Maison</td>\n",
       "      <td>32.0</td>\n",
       "      <td>2</td>\n",
       "      <td>S</td>\n",
       "      <td>NaN</td>\n",
       "      <td>1925.0</td>\n",
       "      <td>32.0</td>\n",
       "      <td>8.093750e+04</td>\n",
       "    </tr>\n",
       "    <tr>\n",
       "      <th>999281</th>\n",
       "      <td>2019-05-29</td>\n",
       "      <td>Vente</td>\n",
       "      <td>55000000.0</td>\n",
       "      <td>38</td>\n",
       "      <td>NaN</td>\n",
       "      <td>RUE</td>\n",
       "      <td>BARBET DE JOUY</td>\n",
       "      <td>75007.0</td>\n",
       "      <td>PARIS 07</td>\n",
       "      <td>75</td>\n",
       "      <td>107</td>\n",
       "      <td>0.0000</td>\n",
       "      <td>0.0</td>\n",
       "      <td>0.0</td>\n",
       "      <td>0.0</td>\n",
       "      <td>0.0</td>\n",
       "      <td>0</td>\n",
       "      <td>Maison</td>\n",
       "      <td>667.0</td>\n",
       "      <td>20</td>\n",
       "      <td>S</td>\n",
       "      <td>NaN</td>\n",
       "      <td>969.0</td>\n",
       "      <td>667.0</td>\n",
       "      <td>8.245877e+04</td>\n",
       "    </tr>\n",
       "    <tr>\n",
       "      <th>958926</th>\n",
       "      <td>2019-01-30</td>\n",
       "      <td>Vente</td>\n",
       "      <td>6702984.0</td>\n",
       "      <td>77</td>\n",
       "      <td>NaN</td>\n",
       "      <td>AV</td>\n",
       "      <td>DE PARIS</td>\n",
       "      <td>94800.0</td>\n",
       "      <td>VILLEJUIF</td>\n",
       "      <td>94</td>\n",
       "      <td>76</td>\n",
       "      <td>0.0000</td>\n",
       "      <td>0.0</td>\n",
       "      <td>0.0</td>\n",
       "      <td>0.0</td>\n",
       "      <td>0.0</td>\n",
       "      <td>0</td>\n",
       "      <td>Maison</td>\n",
       "      <td>75.0</td>\n",
       "      <td>4</td>\n",
       "      <td>S</td>\n",
       "      <td>NaN</td>\n",
       "      <td>1634.0</td>\n",
       "      <td>75.0</td>\n",
       "      <td>8.937312e+04</td>\n",
       "    </tr>\n",
       "    <tr>\n",
       "      <th>909129</th>\n",
       "      <td>2019-06-28</td>\n",
       "      <td>Vente</td>\n",
       "      <td>9108000.0</td>\n",
       "      <td>64</td>\n",
       "      <td>NaN</td>\n",
       "      <td>BD</td>\n",
       "      <td>SAINT MICHEL</td>\n",
       "      <td>91150.0</td>\n",
       "      <td>ETAMPES</td>\n",
       "      <td>91</td>\n",
       "      <td>223</td>\n",
       "      <td>0.0000</td>\n",
       "      <td>0.0</td>\n",
       "      <td>0.0</td>\n",
       "      <td>0.0</td>\n",
       "      <td>0.0</td>\n",
       "      <td>0</td>\n",
       "      <td>Maison</td>\n",
       "      <td>100.0</td>\n",
       "      <td>4</td>\n",
       "      <td>S</td>\n",
       "      <td>NaN</td>\n",
       "      <td>385.0</td>\n",
       "      <td>100.0</td>\n",
       "      <td>9.108000e+04</td>\n",
       "    </tr>\n",
       "    <tr>\n",
       "      <th>945840</th>\n",
       "      <td>2019-02-18</td>\n",
       "      <td>Vente</td>\n",
       "      <td>1700000.0</td>\n",
       "      <td>1</td>\n",
       "      <td>NaN</td>\n",
       "      <td>RUE</td>\n",
       "      <td>SEVERINE</td>\n",
       "      <td>93600.0</td>\n",
       "      <td>AULNAY SOUS BOIS</td>\n",
       "      <td>93</td>\n",
       "      <td>5</td>\n",
       "      <td>0.0000</td>\n",
       "      <td>0.0</td>\n",
       "      <td>0.0</td>\n",
       "      <td>0.0</td>\n",
       "      <td>0.0</td>\n",
       "      <td>0</td>\n",
       "      <td>Maison</td>\n",
       "      <td>18.0</td>\n",
       "      <td>1</td>\n",
       "      <td>S</td>\n",
       "      <td>NaN</td>\n",
       "      <td>354.0</td>\n",
       "      <td>18.0</td>\n",
       "      <td>9.444444e+04</td>\n",
       "    </tr>\n",
       "    <tr>\n",
       "      <th>904112</th>\n",
       "      <td>2019-01-24</td>\n",
       "      <td>Vente</td>\n",
       "      <td>8952003.0</td>\n",
       "      <td>4</td>\n",
       "      <td>NaN</td>\n",
       "      <td>RUE</td>\n",
       "      <td>DE LA MARE A BLOT</td>\n",
       "      <td>91220.0</td>\n",
       "      <td>LE PLESSIS PATE</td>\n",
       "      <td>91</td>\n",
       "      <td>494</td>\n",
       "      <td>0.0000</td>\n",
       "      <td>0.0</td>\n",
       "      <td>0.0</td>\n",
       "      <td>0.0</td>\n",
       "      <td>0.0</td>\n",
       "      <td>0</td>\n",
       "      <td>Maison</td>\n",
       "      <td>93.0</td>\n",
       "      <td>4</td>\n",
       "      <td>S</td>\n",
       "      <td>NaN</td>\n",
       "      <td>40872.0</td>\n",
       "      <td>93.0</td>\n",
       "      <td>9.625810e+04</td>\n",
       "    </tr>\n",
       "    <tr>\n",
       "      <th>775618</th>\n",
       "      <td>2019-01-24</td>\n",
       "      <td>Vente</td>\n",
       "      <td>8511580.0</td>\n",
       "      <td>9004</td>\n",
       "      <td>NaN</td>\n",
       "      <td>AV</td>\n",
       "      <td>DE LA MAULDRE</td>\n",
       "      <td>78680.0</td>\n",
       "      <td>EPONE</td>\n",
       "      <td>78</td>\n",
       "      <td>217</td>\n",
       "      <td>0.0000</td>\n",
       "      <td>0.0</td>\n",
       "      <td>0.0</td>\n",
       "      <td>0.0</td>\n",
       "      <td>0.0</td>\n",
       "      <td>0</td>\n",
       "      <td>Maison</td>\n",
       "      <td>87.0</td>\n",
       "      <td>4</td>\n",
       "      <td>S</td>\n",
       "      <td>NaN</td>\n",
       "      <td>31295.0</td>\n",
       "      <td>87.0</td>\n",
       "      <td>9.783425e+04</td>\n",
       "    </tr>\n",
       "    <tr>\n",
       "      <th>472167</th>\n",
       "      <td>2019-04-25</td>\n",
       "      <td>Vente</td>\n",
       "      <td>2972249.0</td>\n",
       "      <td>9002</td>\n",
       "      <td>NaN</td>\n",
       "      <td>RUE</td>\n",
       "      <td>LESPINASSE</td>\n",
       "      <td>47000.0</td>\n",
       "      <td>AGEN</td>\n",
       "      <td>47</td>\n",
       "      <td>1</td>\n",
       "      <td>0.0000</td>\n",
       "      <td>0.0</td>\n",
       "      <td>0.0</td>\n",
       "      <td>0.0</td>\n",
       "      <td>0.0</td>\n",
       "      <td>0</td>\n",
       "      <td>Maison</td>\n",
       "      <td>27.0</td>\n",
       "      <td>1</td>\n",
       "      <td>S</td>\n",
       "      <td>NaN</td>\n",
       "      <td>4350.0</td>\n",
       "      <td>27.0</td>\n",
       "      <td>1.100833e+05</td>\n",
       "    </tr>\n",
       "    <tr>\n",
       "      <th>268637</th>\n",
       "      <td>2019-04-11</td>\n",
       "      <td>Vente</td>\n",
       "      <td>8300000.0</td>\n",
       "      <td>45</td>\n",
       "      <td>NaN</td>\n",
       "      <td>RUE</td>\n",
       "      <td>CHARLES MARIONNEAU</td>\n",
       "      <td>33000.0</td>\n",
       "      <td>BORDEAUX</td>\n",
       "      <td>33</td>\n",
       "      <td>63</td>\n",
       "      <td>0.0000</td>\n",
       "      <td>0.0</td>\n",
       "      <td>0.0</td>\n",
       "      <td>0.0</td>\n",
       "      <td>0.0</td>\n",
       "      <td>0</td>\n",
       "      <td>Maison</td>\n",
       "      <td>69.0</td>\n",
       "      <td>3</td>\n",
       "      <td>S</td>\n",
       "      <td>NaN</td>\n",
       "      <td>2398.0</td>\n",
       "      <td>69.0</td>\n",
       "      <td>1.202899e+05</td>\n",
       "    </tr>\n",
       "    <tr>\n",
       "      <th>920197</th>\n",
       "      <td>2019-03-27</td>\n",
       "      <td>Vente</td>\n",
       "      <td>9679872.0</td>\n",
       "      <td>25</td>\n",
       "      <td>NaN</td>\n",
       "      <td>RUE</td>\n",
       "      <td>EDOUARD VAILLANT</td>\n",
       "      <td>92300.0</td>\n",
       "      <td>LEVALLOIS-PERRET</td>\n",
       "      <td>92</td>\n",
       "      <td>44</td>\n",
       "      <td>71.0625</td>\n",
       "      <td>0.0</td>\n",
       "      <td>0.0</td>\n",
       "      <td>0.0</td>\n",
       "      <td>0.0</td>\n",
       "      <td>1</td>\n",
       "      <td>Maison</td>\n",
       "      <td>75.0</td>\n",
       "      <td>4</td>\n",
       "      <td>NaN</td>\n",
       "      <td>NaN</td>\n",
       "      <td>0.0</td>\n",
       "      <td>75.0</td>\n",
       "      <td>1.290650e+05</td>\n",
       "    </tr>\n",
       "    <tr>\n",
       "      <th>440095</th>\n",
       "      <td>2019-04-25</td>\n",
       "      <td>Vente</td>\n",
       "      <td>3705640.0</td>\n",
       "      <td>9002</td>\n",
       "      <td>NaN</td>\n",
       "      <td>RUE</td>\n",
       "      <td>DES AIGRETTES</td>\n",
       "      <td>44570.0</td>\n",
       "      <td>TRIGNAC</td>\n",
       "      <td>44</td>\n",
       "      <td>210</td>\n",
       "      <td>0.0000</td>\n",
       "      <td>0.0</td>\n",
       "      <td>0.0</td>\n",
       "      <td>0.0</td>\n",
       "      <td>0.0</td>\n",
       "      <td>0</td>\n",
       "      <td>Maison</td>\n",
       "      <td>28.0</td>\n",
       "      <td>2</td>\n",
       "      <td>S</td>\n",
       "      <td>NaN</td>\n",
       "      <td>3826.0</td>\n",
       "      <td>28.0</td>\n",
       "      <td>1.323443e+05</td>\n",
       "    </tr>\n",
       "    <tr>\n",
       "      <th>691970</th>\n",
       "      <td>2019-04-18</td>\n",
       "      <td>Vente</td>\n",
       "      <td>20945776.0</td>\n",
       "      <td>54</td>\n",
       "      <td>NaN</td>\n",
       "      <td>AV</td>\n",
       "      <td>DE VERDUN</td>\n",
       "      <td>72200.0</td>\n",
       "      <td>LA FLECHE</td>\n",
       "      <td>72</td>\n",
       "      <td>154</td>\n",
       "      <td>0.0000</td>\n",
       "      <td>0.0</td>\n",
       "      <td>0.0</td>\n",
       "      <td>0.0</td>\n",
       "      <td>0.0</td>\n",
       "      <td>0</td>\n",
       "      <td>Maison</td>\n",
       "      <td>120.0</td>\n",
       "      <td>6</td>\n",
       "      <td>S</td>\n",
       "      <td>NaN</td>\n",
       "      <td>2494.0</td>\n",
       "      <td>120.0</td>\n",
       "      <td>1.745481e+05</td>\n",
       "    </tr>\n",
       "    <tr>\n",
       "      <th>395455</th>\n",
       "      <td>2019-04-01</td>\n",
       "      <td>Vente</td>\n",
       "      <td>14249885.0</td>\n",
       "      <td>3</td>\n",
       "      <td>NaN</td>\n",
       "      <td>RUE</td>\n",
       "      <td>FOYATIER</td>\n",
       "      <td>42000.0</td>\n",
       "      <td>SAINT-ETIENNE</td>\n",
       "      <td>42</td>\n",
       "      <td>218</td>\n",
       "      <td>0.0000</td>\n",
       "      <td>0.0</td>\n",
       "      <td>0.0</td>\n",
       "      <td>0.0</td>\n",
       "      <td>0.0</td>\n",
       "      <td>0</td>\n",
       "      <td>Maison</td>\n",
       "      <td>75.0</td>\n",
       "      <td>4</td>\n",
       "      <td>S</td>\n",
       "      <td>NaN</td>\n",
       "      <td>552.0</td>\n",
       "      <td>75.0</td>\n",
       "      <td>1.899985e+05</td>\n",
       "    </tr>\n",
       "    <tr>\n",
       "      <th>396232</th>\n",
       "      <td>2019-04-01</td>\n",
       "      <td>Vente</td>\n",
       "      <td>8305039.0</td>\n",
       "      <td>34</td>\n",
       "      <td>NaN</td>\n",
       "      <td>RUE</td>\n",
       "      <td>TROUSSEAU</td>\n",
       "      <td>42100.0</td>\n",
       "      <td>SAINT-ETIENNE</td>\n",
       "      <td>42</td>\n",
       "      <td>218</td>\n",
       "      <td>0.0000</td>\n",
       "      <td>0.0</td>\n",
       "      <td>0.0</td>\n",
       "      <td>0.0</td>\n",
       "      <td>0.0</td>\n",
       "      <td>0</td>\n",
       "      <td>Maison</td>\n",
       "      <td>39.0</td>\n",
       "      <td>2</td>\n",
       "      <td>S</td>\n",
       "      <td>NaN</td>\n",
       "      <td>182.0</td>\n",
       "      <td>39.0</td>\n",
       "      <td>2.129497e+05</td>\n",
       "    </tr>\n",
       "    <tr>\n",
       "      <th>940393</th>\n",
       "      <td>2019-01-31</td>\n",
       "      <td>Vente</td>\n",
       "      <td>9000000.0</td>\n",
       "      <td>41</td>\n",
       "      <td>NaN</td>\n",
       "      <td>RUE</td>\n",
       "      <td>BLANQUI</td>\n",
       "      <td>93400.0</td>\n",
       "      <td>SAINT-OUEN-SUR-SEINE</td>\n",
       "      <td>93</td>\n",
       "      <td>70</td>\n",
       "      <td>0.0000</td>\n",
       "      <td>0.0</td>\n",
       "      <td>0.0</td>\n",
       "      <td>0.0</td>\n",
       "      <td>0.0</td>\n",
       "      <td>0</td>\n",
       "      <td>Maison</td>\n",
       "      <td>41.0</td>\n",
       "      <td>3</td>\n",
       "      <td>S</td>\n",
       "      <td>NaN</td>\n",
       "      <td>1478.0</td>\n",
       "      <td>41.0</td>\n",
       "      <td>2.195122e+05</td>\n",
       "    </tr>\n",
       "    <tr>\n",
       "      <th>842472</th>\n",
       "      <td>2019-02-08</td>\n",
       "      <td>Vente</td>\n",
       "      <td>20894000.0</td>\n",
       "      <td>9011</td>\n",
       "      <td>NaN</td>\n",
       "      <td>RUE</td>\n",
       "      <td>DU PORTEAU</td>\n",
       "      <td>85440.0</td>\n",
       "      <td>TALMONT-SAINT-HILAIRE</td>\n",
       "      <td>85</td>\n",
       "      <td>288</td>\n",
       "      <td>0.0000</td>\n",
       "      <td>0.0</td>\n",
       "      <td>0.0</td>\n",
       "      <td>0.0</td>\n",
       "      <td>0.0</td>\n",
       "      <td>0</td>\n",
       "      <td>Maison</td>\n",
       "      <td>86.0</td>\n",
       "      <td>4</td>\n",
       "      <td>S</td>\n",
       "      <td>NaN</td>\n",
       "      <td>38579.0</td>\n",
       "      <td>86.0</td>\n",
       "      <td>2.429535e+05</td>\n",
       "    </tr>\n",
       "    <tr>\n",
       "      <th>998430</th>\n",
       "      <td>2019-02-13</td>\n",
       "      <td>Vente</td>\n",
       "      <td>61000000.0</td>\n",
       "      <td>80</td>\n",
       "      <td>NaN</td>\n",
       "      <td>RUE</td>\n",
       "      <td>DE LILLE</td>\n",
       "      <td>75007.0</td>\n",
       "      <td>PARIS 07</td>\n",
       "      <td>75</td>\n",
       "      <td>107</td>\n",
       "      <td>0.0000</td>\n",
       "      <td>0.0</td>\n",
       "      <td>0.0</td>\n",
       "      <td>0.0</td>\n",
       "      <td>0.0</td>\n",
       "      <td>0</td>\n",
       "      <td>Maison</td>\n",
       "      <td>35.0</td>\n",
       "      <td>2</td>\n",
       "      <td>S</td>\n",
       "      <td>NaN</td>\n",
       "      <td>2464.0</td>\n",
       "      <td>35.0</td>\n",
       "      <td>1.742857e+06</td>\n",
       "    </tr>\n",
       "    <tr>\n",
       "      <th>210854</th>\n",
       "      <td>2019-02-19</td>\n",
       "      <td>Vente</td>\n",
       "      <td>385000000.0</td>\n",
       "      <td>13</td>\n",
       "      <td>NaN</td>\n",
       "      <td>RUE</td>\n",
       "      <td>DE PLOUESCAT</td>\n",
       "      <td>29233.0</td>\n",
       "      <td>CLEDER</td>\n",
       "      <td>29</td>\n",
       "      <td>30</td>\n",
       "      <td>0.0000</td>\n",
       "      <td>0.0</td>\n",
       "      <td>0.0</td>\n",
       "      <td>0.0</td>\n",
       "      <td>0.0</td>\n",
       "      <td>0</td>\n",
       "      <td>Maison</td>\n",
       "      <td>69.0</td>\n",
       "      <td>3</td>\n",
       "      <td>S</td>\n",
       "      <td>NaN</td>\n",
       "      <td>462.0</td>\n",
       "      <td>69.0</td>\n",
       "      <td>5.579710e+06</td>\n",
       "    </tr>\n",
       "    <tr>\n",
       "      <th>210888</th>\n",
       "      <td>2019-02-19</td>\n",
       "      <td>Vente</td>\n",
       "      <td>400000000.0</td>\n",
       "      <td>8</td>\n",
       "      <td>NaN</td>\n",
       "      <td>RUE</td>\n",
       "      <td>DE PENZE</td>\n",
       "      <td>29410.0</td>\n",
       "      <td>GUICLAN</td>\n",
       "      <td>29</td>\n",
       "      <td>68</td>\n",
       "      <td>0.0000</td>\n",
       "      <td>0.0</td>\n",
       "      <td>0.0</td>\n",
       "      <td>0.0</td>\n",
       "      <td>0.0</td>\n",
       "      <td>0</td>\n",
       "      <td>Maison</td>\n",
       "      <td>56.0</td>\n",
       "      <td>4</td>\n",
       "      <td>S</td>\n",
       "      <td>NaN</td>\n",
       "      <td>118.0</td>\n",
       "      <td>56.0</td>\n",
       "      <td>7.142857e+06</td>\n",
       "    </tr>\n",
       "  </tbody>\n",
       "</table>\n",
       "</div>"
      ],
      "text/plain": [
       "       date_mutation nature_mutation  valeur_fonciere  no_voie b/t/q  \\\n",
       "763043    2019-01-17           Vente        3784560.0       35   NaN   \n",
       "33095     2019-03-26           Vente        2590000.0      916   NaN   \n",
       "999281    2019-05-29           Vente       55000000.0       38   NaN   \n",
       "958926    2019-01-30           Vente        6702984.0       77   NaN   \n",
       "909129    2019-06-28           Vente        9108000.0       64   NaN   \n",
       "945840    2019-02-18           Vente        1700000.0        1   NaN   \n",
       "904112    2019-01-24           Vente        8952003.0        4   NaN   \n",
       "775618    2019-01-24           Vente        8511580.0     9004   NaN   \n",
       "472167    2019-04-25           Vente        2972249.0     9002   NaN   \n",
       "268637    2019-04-11           Vente        8300000.0       45   NaN   \n",
       "920197    2019-03-27           Vente        9679872.0       25   NaN   \n",
       "440095    2019-04-25           Vente        3705640.0     9002   NaN   \n",
       "691970    2019-04-18           Vente       20945776.0       54   NaN   \n",
       "395455    2019-04-01           Vente       14249885.0        3   NaN   \n",
       "396232    2019-04-01           Vente        8305039.0       34   NaN   \n",
       "940393    2019-01-31           Vente        9000000.0       41   NaN   \n",
       "842472    2019-02-08           Vente       20894000.0     9011   NaN   \n",
       "998430    2019-02-13           Vente       61000000.0       80   NaN   \n",
       "210854    2019-02-19           Vente      385000000.0       13   NaN   \n",
       "210888    2019-02-19           Vente      400000000.0        8   NaN   \n",
       "\n",
       "       type_de_voie                voie  code_postal                commune  \\\n",
       "763043          RUE            DE THANN      78500.0           SARTROUVILLE   \n",
       "33095            BD       DU MERCANTOUR       6200.0                   NICE   \n",
       "999281          RUE      BARBET DE JOUY      75007.0               PARIS 07   \n",
       "958926           AV            DE PARIS      94800.0              VILLEJUIF   \n",
       "909129           BD        SAINT MICHEL      91150.0                ETAMPES   \n",
       "945840          RUE            SEVERINE      93600.0       AULNAY SOUS BOIS   \n",
       "904112          RUE   DE LA MARE A BLOT      91220.0        LE PLESSIS PATE   \n",
       "775618           AV       DE LA MAULDRE      78680.0                  EPONE   \n",
       "472167          RUE          LESPINASSE      47000.0                   AGEN   \n",
       "268637          RUE  CHARLES MARIONNEAU      33000.0               BORDEAUX   \n",
       "920197          RUE    EDOUARD VAILLANT      92300.0       LEVALLOIS-PERRET   \n",
       "440095          RUE       DES AIGRETTES      44570.0                TRIGNAC   \n",
       "691970           AV           DE VERDUN      72200.0              LA FLECHE   \n",
       "395455          RUE            FOYATIER      42000.0          SAINT-ETIENNE   \n",
       "396232          RUE           TROUSSEAU      42100.0          SAINT-ETIENNE   \n",
       "940393          RUE             BLANQUI      93400.0   SAINT-OUEN-SUR-SEINE   \n",
       "842472          RUE          DU PORTEAU      85440.0  TALMONT-SAINT-HILAIRE   \n",
       "998430          RUE            DE LILLE      75007.0               PARIS 07   \n",
       "210854          RUE        DE PLOUESCAT      29233.0                 CLEDER   \n",
       "210888          RUE            DE PENZE      29410.0                GUICLAN   \n",
       "\n",
       "        code_departement  code_commune  surface_carrez_du_1er_lot  \\\n",
       "763043                78           586                     0.0000   \n",
       "33095                  6            88                     0.0000   \n",
       "999281                75           107                     0.0000   \n",
       "958926                94            76                     0.0000   \n",
       "909129                91           223                     0.0000   \n",
       "945840                93             5                     0.0000   \n",
       "904112                91           494                     0.0000   \n",
       "775618                78           217                     0.0000   \n",
       "472167                47             1                     0.0000   \n",
       "268637                33            63                     0.0000   \n",
       "920197                92            44                    71.0625   \n",
       "440095                44           210                     0.0000   \n",
       "691970                72           154                     0.0000   \n",
       "395455                42           218                     0.0000   \n",
       "396232                42           218                     0.0000   \n",
       "940393                93            70                     0.0000   \n",
       "842472                85           288                     0.0000   \n",
       "998430                75           107                     0.0000   \n",
       "210854                29            30                     0.0000   \n",
       "210888                29            68                     0.0000   \n",
       "\n",
       "        surface_carrez_du_2eme_lot  surface_carrez_du_3eme_lot  \\\n",
       "763043                         0.0                         0.0   \n",
       "33095                          0.0                         0.0   \n",
       "999281                         0.0                         0.0   \n",
       "958926                         0.0                         0.0   \n",
       "909129                         0.0                         0.0   \n",
       "945840                         0.0                         0.0   \n",
       "904112                         0.0                         0.0   \n",
       "775618                         0.0                         0.0   \n",
       "472167                         0.0                         0.0   \n",
       "268637                         0.0                         0.0   \n",
       "920197                         0.0                         0.0   \n",
       "440095                         0.0                         0.0   \n",
       "691970                         0.0                         0.0   \n",
       "395455                         0.0                         0.0   \n",
       "396232                         0.0                         0.0   \n",
       "940393                         0.0                         0.0   \n",
       "842472                         0.0                         0.0   \n",
       "998430                         0.0                         0.0   \n",
       "210854                         0.0                         0.0   \n",
       "210888                         0.0                         0.0   \n",
       "\n",
       "        surface_carrez_du_4eme_lot  surface_carrez_du_5eme_lot  \\\n",
       "763043                         0.0                         0.0   \n",
       "33095                          0.0                         0.0   \n",
       "999281                         0.0                         0.0   \n",
       "958926                         0.0                         0.0   \n",
       "909129                         0.0                         0.0   \n",
       "945840                         0.0                         0.0   \n",
       "904112                         0.0                         0.0   \n",
       "775618                         0.0                         0.0   \n",
       "472167                         0.0                         0.0   \n",
       "268637                         0.0                         0.0   \n",
       "920197                         0.0                         0.0   \n",
       "440095                         0.0                         0.0   \n",
       "691970                         0.0                         0.0   \n",
       "395455                         0.0                         0.0   \n",
       "396232                         0.0                         0.0   \n",
       "940393                         0.0                         0.0   \n",
       "842472                         0.0                         0.0   \n",
       "998430                         0.0                         0.0   \n",
       "210854                         0.0                         0.0   \n",
       "210888                         0.0                         0.0   \n",
       "\n",
       "        nombre_de_lots type_local  surface_reelle_bati  \\\n",
       "763043               0     Maison                 48.0   \n",
       "33095                0     Maison                 32.0   \n",
       "999281               0     Maison                667.0   \n",
       "958926               0     Maison                 75.0   \n",
       "909129               0     Maison                100.0   \n",
       "945840               0     Maison                 18.0   \n",
       "904112               0     Maison                 93.0   \n",
       "775618               0     Maison                 87.0   \n",
       "472167               0     Maison                 27.0   \n",
       "268637               0     Maison                 69.0   \n",
       "920197               1     Maison                 75.0   \n",
       "440095               0     Maison                 28.0   \n",
       "691970               0     Maison                120.0   \n",
       "395455               0     Maison                 75.0   \n",
       "396232               0     Maison                 39.0   \n",
       "940393               0     Maison                 41.0   \n",
       "842472               0     Maison                 86.0   \n",
       "998430               0     Maison                 35.0   \n",
       "210854               0     Maison                 69.0   \n",
       "210888               0     Maison                 56.0   \n",
       "\n",
       "        nombre_pieces_principales nature_culture nature_culture_speciale  \\\n",
       "763043                          3            NaN                     NaN   \n",
       "33095                           2              S                     NaN   \n",
       "999281                         20              S                     NaN   \n",
       "958926                          4              S                     NaN   \n",
       "909129                          4              S                     NaN   \n",
       "945840                          1              S                     NaN   \n",
       "904112                          4              S                     NaN   \n",
       "775618                          4              S                     NaN   \n",
       "472167                          1              S                     NaN   \n",
       "268637                          3              S                     NaN   \n",
       "920197                          4            NaN                     NaN   \n",
       "440095                          2              S                     NaN   \n",
       "691970                          6              S                     NaN   \n",
       "395455                          4              S                     NaN   \n",
       "396232                          2              S                     NaN   \n",
       "940393                          3              S                     NaN   \n",
       "842472                          4              S                     NaN   \n",
       "998430                          2              S                     NaN   \n",
       "210854                          3              S                     NaN   \n",
       "210888                          4              S                     NaN   \n",
       "\n",
       "        surface_terrain  surface_carrez       prix_m2  \n",
       "763043              0.0            48.0  7.884500e+04  \n",
       "33095            1925.0            32.0  8.093750e+04  \n",
       "999281            969.0           667.0  8.245877e+04  \n",
       "958926           1634.0            75.0  8.937312e+04  \n",
       "909129            385.0           100.0  9.108000e+04  \n",
       "945840            354.0            18.0  9.444444e+04  \n",
       "904112          40872.0            93.0  9.625810e+04  \n",
       "775618          31295.0            87.0  9.783425e+04  \n",
       "472167           4350.0            27.0  1.100833e+05  \n",
       "268637           2398.0            69.0  1.202899e+05  \n",
       "920197              0.0            75.0  1.290650e+05  \n",
       "440095           3826.0            28.0  1.323443e+05  \n",
       "691970           2494.0           120.0  1.745481e+05  \n",
       "395455            552.0            75.0  1.899985e+05  \n",
       "396232            182.0            39.0  2.129497e+05  \n",
       "940393           1478.0            41.0  2.195122e+05  \n",
       "842472          38579.0            86.0  2.429535e+05  \n",
       "998430           2464.0            35.0  1.742857e+06  \n",
       "210854            462.0            69.0  5.579710e+06  \n",
       "210888            118.0            56.0  7.142857e+06  "
      ]
     },
     "execution_count": 26,
     "metadata": {},
     "output_type": "execute_result"
    }
   ],
   "source": [
    "df_maisons_simple.sort_values(by=['prix_m2']).tail(20)"
   ]
  },
  {
   "cell_type": "code",
   "execution_count": 27,
   "metadata": {
    "ExecuteTime": {
     "end_time": "2020-03-22T17:58:10.797878Z",
     "start_time": "2020-03-22T17:58:10.794541Z"
    }
   },
   "outputs": [
    {
     "data": {
      "text/plain": [
       "46578"
      ]
     },
     "execution_count": 27,
     "metadata": {},
     "output_type": "execute_result"
    }
   ],
   "source": [
    "len(df_maisons_simple.index)"
   ]
  },
  {
   "cell_type": "code",
   "execution_count": 28,
   "metadata": {
    "ExecuteTime": {
     "end_time": "2020-03-22T17:58:10.805576Z",
     "start_time": "2020-03-22T17:58:10.799581Z"
    }
   },
   "outputs": [
    {
     "data": {
      "text/plain": [
       "0"
      ]
     },
     "execution_count": 28,
     "metadata": {},
     "output_type": "execute_result"
    }
   ],
   "source": [
    "len(df_maisons_simple[df_maisons_simple['surface_reelle_bati']==0].index)"
   ]
  },
  {
   "cell_type": "code",
   "execution_count": 29,
   "metadata": {
    "ExecuteTime": {
     "end_time": "2020-03-22T17:58:10.817631Z",
     "start_time": "2020-03-22T17:58:10.807613Z"
    }
   },
   "outputs": [
    {
     "data": {
      "text/plain": [
       "count       46578.00\n",
       "mean       296353.15\n",
       "std       2629947.03\n",
       "min             1.00\n",
       "25%        121500.00\n",
       "50%        209575.00\n",
       "75%        335752.50\n",
       "max     400000000.00\n",
       "Name: valeur_fonciere, dtype: float64"
      ]
     },
     "execution_count": 29,
     "metadata": {},
     "output_type": "execute_result"
    }
   ],
   "source": [
    "pd.options.display.float_format = \"{:.2f}\".format\n",
    "df_maisons_simple['valeur_fonciere'].describe()"
   ]
  },
  {
   "cell_type": "code",
   "execution_count": 50,
   "metadata": {
    "ExecuteTime": {
     "end_time": "2020-03-22T19:10:34.754963Z",
     "start_time": "2020-03-22T19:10:34.733186Z"
    }
   },
   "outputs": [
    {
     "name": "stdout",
     "output_type": "stream",
     "text": [
      "2500.0(227) < mean < 4142300.00000025(47)\n"
     ]
    }
   ],
   "source": [
    "quant_low = df_maisons_simple['valeur_fonciere'].quantile(0.005)\n",
    "quant_high = df_maisons_simple['valeur_fonciere'].quantile(0.999)\n",
    "qty_low = len(df_maisons_simple[df_maisons_simple['valeur_fonciere']<quant_low].index)\n",
    "qty_high = len(df_maisons_simple[df_maisons_simple['valeur_fonciere']>quant_high].index)\n",
    "print('{}({}) < mean < {}({})'.format(quant_low, qty_low, quant_high, qty_high))\n"
   ]
  },
  {
   "cell_type": "code",
   "execution_count": 39,
   "metadata": {
    "ExecuteTime": {
     "end_time": "2020-03-22T19:04:18.638681Z",
     "start_time": "2020-03-22T19:04:18.471873Z"
    }
   },
   "outputs": [
    {
     "data": {
      "text/plain": [
       "8652"
      ]
     },
     "execution_count": 39,
     "metadata": {},
     "output_type": "execute_result"
    }
   ],
   "source": []
  },
  {
   "cell_type": "code",
   "execution_count": 38,
   "metadata": {
    "ExecuteTime": {
     "end_time": "2020-03-22T19:03:29.826300Z",
     "start_time": "2020-03-22T19:03:29.778678Z"
    }
   },
   "outputs": [
    {
     "data": {
      "text/plain": [
       "9041"
      ]
     },
     "execution_count": 38,
     "metadata": {},
     "output_type": "execute_result"
    }
   ],
   "source": [
    "len(df[df['valeur_fonciere']>df['valeur_fonciere'].quantile(0.99)].index)"
   ]
  },
  {
   "cell_type": "code",
   "execution_count": 30,
   "metadata": {
    "ExecuteTime": {
     "end_time": "2020-03-22T18:26:10.722882Z",
     "start_time": "2020-03-22T17:58:10.819456Z"
    }
   },
   "outputs": [
    {
     "ename": "KeyboardInterrupt",
     "evalue": "",
     "output_type": "error",
     "traceback": [
      "\u001b[0;31m---------------------------------------------------------------------------\u001b[0m",
      "\u001b[0;31mKeyboardInterrupt\u001b[0m                         Traceback (most recent call last)",
      "\u001b[0;32m<ipython-input-30-1bd6db91790d>\u001b[0m in \u001b[0;36m<module>\u001b[0;34m\u001b[0m\n\u001b[1;32m      1\u001b[0m \u001b[0;32mimport\u001b[0m \u001b[0mseaborn\u001b[0m \u001b[0;32mas\u001b[0m \u001b[0msns\u001b[0m\u001b[0;34m\u001b[0m\u001b[0;34m\u001b[0m\u001b[0m\n\u001b[1;32m      2\u001b[0m \u001b[0;31m#df_maisons_simple.boxplot(column=['valeur_fonciere'])\u001b[0m\u001b[0;34m\u001b[0m\u001b[0;34m\u001b[0m\u001b[0;34m\u001b[0m\u001b[0m\n\u001b[0;32m----> 3\u001b[0;31m \u001b[0mg\u001b[0m \u001b[0;34m=\u001b[0m \u001b[0msns\u001b[0m\u001b[0;34m.\u001b[0m\u001b[0mboxplot\u001b[0m\u001b[0;34m(\u001b[0m\u001b[0mx\u001b[0m\u001b[0;34m=\u001b[0m\u001b[0;34m\"valeur_fonciere\"\u001b[0m\u001b[0;34m,\u001b[0m \u001b[0my\u001b[0m\u001b[0;34m=\u001b[0m\u001b[0;34m\"prix_m2\"\u001b[0m\u001b[0;34m,\u001b[0m \u001b[0mdata\u001b[0m\u001b[0;34m=\u001b[0m\u001b[0mdf_maisons_simple\u001b[0m\u001b[0;34m)\u001b[0m\u001b[0;34m\u001b[0m\u001b[0;34m\u001b[0m\u001b[0m\n\u001b[0m\u001b[1;32m      4\u001b[0m \u001b[0;31m#g.set_yscale(\"log\")\u001b[0m\u001b[0;34m\u001b[0m\u001b[0;34m\u001b[0m\u001b[0;34m\u001b[0m\u001b[0m\n\u001b[1;32m      5\u001b[0m \u001b[0mg\u001b[0m\u001b[0;34m\u001b[0m\u001b[0;34m\u001b[0m\u001b[0m\n",
      "\u001b[0;32m~/opt/anaconda3/envs/jupy/lib/python3.8/site-packages/seaborn/categorical.py\u001b[0m in \u001b[0;36mboxplot\u001b[0;34m(x, y, hue, data, order, hue_order, orient, color, palette, saturation, width, dodge, fliersize, linewidth, whis, ax, **kwargs)\u001b[0m\n\u001b[1;32m   2245\u001b[0m     \u001b[0mkwargs\u001b[0m\u001b[0;34m.\u001b[0m\u001b[0mupdate\u001b[0m\u001b[0;34m(\u001b[0m\u001b[0mdict\u001b[0m\u001b[0;34m(\u001b[0m\u001b[0mwhis\u001b[0m\u001b[0;34m=\u001b[0m\u001b[0mwhis\u001b[0m\u001b[0;34m)\u001b[0m\u001b[0;34m)\u001b[0m\u001b[0;34m\u001b[0m\u001b[0;34m\u001b[0m\u001b[0m\n\u001b[1;32m   2246\u001b[0m \u001b[0;34m\u001b[0m\u001b[0m\n\u001b[0;32m-> 2247\u001b[0;31m     \u001b[0mplotter\u001b[0m\u001b[0;34m.\u001b[0m\u001b[0mplot\u001b[0m\u001b[0;34m(\u001b[0m\u001b[0max\u001b[0m\u001b[0;34m,\u001b[0m \u001b[0mkwargs\u001b[0m\u001b[0;34m)\u001b[0m\u001b[0;34m\u001b[0m\u001b[0;34m\u001b[0m\u001b[0m\n\u001b[0m\u001b[1;32m   2248\u001b[0m     \u001b[0;32mreturn\u001b[0m \u001b[0max\u001b[0m\u001b[0;34m\u001b[0m\u001b[0;34m\u001b[0m\u001b[0m\n\u001b[1;32m   2249\u001b[0m \u001b[0;34m\u001b[0m\u001b[0m\n",
      "\u001b[0;32m~/opt/anaconda3/envs/jupy/lib/python3.8/site-packages/seaborn/categorical.py\u001b[0m in \u001b[0;36mplot\u001b[0;34m(self, ax, boxplot_kws)\u001b[0m\n\u001b[1;32m    544\u001b[0m     \u001b[0;32mdef\u001b[0m \u001b[0mplot\u001b[0m\u001b[0;34m(\u001b[0m\u001b[0mself\u001b[0m\u001b[0;34m,\u001b[0m \u001b[0max\u001b[0m\u001b[0;34m,\u001b[0m \u001b[0mboxplot_kws\u001b[0m\u001b[0;34m)\u001b[0m\u001b[0;34m:\u001b[0m\u001b[0;34m\u001b[0m\u001b[0;34m\u001b[0m\u001b[0m\n\u001b[1;32m    545\u001b[0m         \u001b[0;34m\"\"\"Make the plot.\"\"\"\u001b[0m\u001b[0;34m\u001b[0m\u001b[0;34m\u001b[0m\u001b[0m\n\u001b[0;32m--> 546\u001b[0;31m         \u001b[0mself\u001b[0m\u001b[0;34m.\u001b[0m\u001b[0mdraw_boxplot\u001b[0m\u001b[0;34m(\u001b[0m\u001b[0max\u001b[0m\u001b[0;34m,\u001b[0m \u001b[0mboxplot_kws\u001b[0m\u001b[0;34m)\u001b[0m\u001b[0;34m\u001b[0m\u001b[0;34m\u001b[0m\u001b[0m\n\u001b[0m\u001b[1;32m    547\u001b[0m         \u001b[0mself\u001b[0m\u001b[0;34m.\u001b[0m\u001b[0mannotate_axes\u001b[0m\u001b[0;34m(\u001b[0m\u001b[0max\u001b[0m\u001b[0;34m)\u001b[0m\u001b[0;34m\u001b[0m\u001b[0;34m\u001b[0m\u001b[0m\n\u001b[1;32m    548\u001b[0m         \u001b[0;32mif\u001b[0m \u001b[0mself\u001b[0m\u001b[0;34m.\u001b[0m\u001b[0morient\u001b[0m \u001b[0;34m==\u001b[0m \u001b[0;34m\"h\"\u001b[0m\u001b[0;34m:\u001b[0m\u001b[0;34m\u001b[0m\u001b[0;34m\u001b[0m\u001b[0m\n",
      "\u001b[0;32m~/opt/anaconda3/envs/jupy/lib/python3.8/site-packages/seaborn/categorical.py\u001b[0m in \u001b[0;36mdraw_boxplot\u001b[0;34m(self, ax, kws)\u001b[0m\n\u001b[1;32m    476\u001b[0m                     \u001b[0;32mcontinue\u001b[0m\u001b[0;34m\u001b[0m\u001b[0;34m\u001b[0m\u001b[0m\n\u001b[1;32m    477\u001b[0m \u001b[0;34m\u001b[0m\u001b[0m\n\u001b[0;32m--> 478\u001b[0;31m                 artist_dict = ax.boxplot(box_data,\n\u001b[0m\u001b[1;32m    479\u001b[0m                                          \u001b[0mvert\u001b[0m\u001b[0;34m=\u001b[0m\u001b[0mvert\u001b[0m\u001b[0;34m,\u001b[0m\u001b[0;34m\u001b[0m\u001b[0;34m\u001b[0m\u001b[0m\n\u001b[1;32m    480\u001b[0m                                          \u001b[0mpatch_artist\u001b[0m\u001b[0;34m=\u001b[0m\u001b[0;32mTrue\u001b[0m\u001b[0;34m,\u001b[0m\u001b[0;34m\u001b[0m\u001b[0;34m\u001b[0m\u001b[0m\n",
      "\u001b[0;32m~/opt/anaconda3/envs/jupy/lib/python3.8/site-packages/matplotlib/cbook/deprecation.py\u001b[0m in \u001b[0;36mwrapper\u001b[0;34m(*args, **kwargs)\u001b[0m\n\u001b[1;32m    305\u001b[0m                 f\"for the old name will be dropped %(removal)s.\")\n\u001b[1;32m    306\u001b[0m             \u001b[0mkwargs\u001b[0m\u001b[0;34m[\u001b[0m\u001b[0mnew\u001b[0m\u001b[0;34m]\u001b[0m \u001b[0;34m=\u001b[0m \u001b[0mkwargs\u001b[0m\u001b[0;34m.\u001b[0m\u001b[0mpop\u001b[0m\u001b[0;34m(\u001b[0m\u001b[0mold\u001b[0m\u001b[0;34m)\u001b[0m\u001b[0;34m\u001b[0m\u001b[0;34m\u001b[0m\u001b[0m\n\u001b[0;32m--> 307\u001b[0;31m         \u001b[0;32mreturn\u001b[0m \u001b[0mfunc\u001b[0m\u001b[0;34m(\u001b[0m\u001b[0;34m*\u001b[0m\u001b[0margs\u001b[0m\u001b[0;34m,\u001b[0m \u001b[0;34m**\u001b[0m\u001b[0mkwargs\u001b[0m\u001b[0;34m)\u001b[0m\u001b[0;34m\u001b[0m\u001b[0;34m\u001b[0m\u001b[0m\n\u001b[0m\u001b[1;32m    308\u001b[0m \u001b[0;34m\u001b[0m\u001b[0m\n\u001b[1;32m    309\u001b[0m     \u001b[0;31m# wrapper() must keep the same documented signature as func(): if we\u001b[0m\u001b[0;34m\u001b[0m\u001b[0;34m\u001b[0m\u001b[0;34m\u001b[0m\u001b[0m\n",
      "\u001b[0;32m~/opt/anaconda3/envs/jupy/lib/python3.8/site-packages/matplotlib/__init__.py\u001b[0m in \u001b[0;36minner\u001b[0;34m(ax, data, *args, **kwargs)\u001b[0m\n\u001b[1;32m   1597\u001b[0m     \u001b[0;32mdef\u001b[0m \u001b[0minner\u001b[0m\u001b[0;34m(\u001b[0m\u001b[0max\u001b[0m\u001b[0;34m,\u001b[0m \u001b[0;34m*\u001b[0m\u001b[0margs\u001b[0m\u001b[0;34m,\u001b[0m \u001b[0mdata\u001b[0m\u001b[0;34m=\u001b[0m\u001b[0;32mNone\u001b[0m\u001b[0;34m,\u001b[0m \u001b[0;34m**\u001b[0m\u001b[0mkwargs\u001b[0m\u001b[0;34m)\u001b[0m\u001b[0;34m:\u001b[0m\u001b[0;34m\u001b[0m\u001b[0;34m\u001b[0m\u001b[0m\n\u001b[1;32m   1598\u001b[0m         \u001b[0;32mif\u001b[0m \u001b[0mdata\u001b[0m \u001b[0;32mis\u001b[0m \u001b[0;32mNone\u001b[0m\u001b[0;34m:\u001b[0m\u001b[0;34m\u001b[0m\u001b[0;34m\u001b[0m\u001b[0m\n\u001b[0;32m-> 1599\u001b[0;31m             \u001b[0;32mreturn\u001b[0m \u001b[0mfunc\u001b[0m\u001b[0;34m(\u001b[0m\u001b[0max\u001b[0m\u001b[0;34m,\u001b[0m \u001b[0;34m*\u001b[0m\u001b[0mmap\u001b[0m\u001b[0;34m(\u001b[0m\u001b[0msanitize_sequence\u001b[0m\u001b[0;34m,\u001b[0m \u001b[0margs\u001b[0m\u001b[0;34m)\u001b[0m\u001b[0;34m,\u001b[0m \u001b[0;34m**\u001b[0m\u001b[0mkwargs\u001b[0m\u001b[0;34m)\u001b[0m\u001b[0;34m\u001b[0m\u001b[0;34m\u001b[0m\u001b[0m\n\u001b[0m\u001b[1;32m   1600\u001b[0m \u001b[0;34m\u001b[0m\u001b[0m\n\u001b[1;32m   1601\u001b[0m         \u001b[0mbound\u001b[0m \u001b[0;34m=\u001b[0m \u001b[0mnew_sig\u001b[0m\u001b[0;34m.\u001b[0m\u001b[0mbind\u001b[0m\u001b[0;34m(\u001b[0m\u001b[0max\u001b[0m\u001b[0;34m,\u001b[0m \u001b[0;34m*\u001b[0m\u001b[0margs\u001b[0m\u001b[0;34m,\u001b[0m \u001b[0;34m**\u001b[0m\u001b[0mkwargs\u001b[0m\u001b[0;34m)\u001b[0m\u001b[0;34m\u001b[0m\u001b[0;34m\u001b[0m\u001b[0m\n",
      "\u001b[0;32m~/opt/anaconda3/envs/jupy/lib/python3.8/site-packages/matplotlib/axes/_axes.py\u001b[0m in \u001b[0;36mboxplot\u001b[0;34m(self, x, notch, sym, vert, whis, positions, widths, patch_artist, bootstrap, usermedians, conf_intervals, meanline, showmeans, showcaps, showbox, showfliers, boxprops, labels, flierprops, medianprops, meanprops, capprops, whiskerprops, manage_ticks, autorange, zorder)\u001b[0m\n\u001b[1;32m   3761\u001b[0m                                 \u001b[0mstats\u001b[0m\u001b[0;34m[\u001b[0m\u001b[0;34m'cihi'\u001b[0m\u001b[0;34m]\u001b[0m \u001b[0;34m=\u001b[0m \u001b[0mci\u001b[0m\u001b[0;34m[\u001b[0m\u001b[0;36m1\u001b[0m\u001b[0;34m]\u001b[0m\u001b[0;34m\u001b[0m\u001b[0;34m\u001b[0m\u001b[0m\n\u001b[1;32m   3762\u001b[0m \u001b[0;34m\u001b[0m\u001b[0m\n\u001b[0;32m-> 3763\u001b[0;31m         artists = self.bxp(bxpstats, positions=positions, widths=widths,\n\u001b[0m\u001b[1;32m   3764\u001b[0m                            \u001b[0mvert\u001b[0m\u001b[0;34m=\u001b[0m\u001b[0mvert\u001b[0m\u001b[0;34m,\u001b[0m \u001b[0mpatch_artist\u001b[0m\u001b[0;34m=\u001b[0m\u001b[0mpatch_artist\u001b[0m\u001b[0;34m,\u001b[0m\u001b[0;34m\u001b[0m\u001b[0;34m\u001b[0m\u001b[0m\n\u001b[1;32m   3765\u001b[0m                            \u001b[0mshownotches\u001b[0m\u001b[0;34m=\u001b[0m\u001b[0mnotch\u001b[0m\u001b[0;34m,\u001b[0m \u001b[0mshowmeans\u001b[0m\u001b[0;34m=\u001b[0m\u001b[0mshowmeans\u001b[0m\u001b[0;34m,\u001b[0m\u001b[0;34m\u001b[0m\u001b[0;34m\u001b[0m\u001b[0m\n",
      "\u001b[0;32m~/opt/anaconda3/envs/jupy/lib/python3.8/site-packages/matplotlib/cbook/deprecation.py\u001b[0m in \u001b[0;36mwrapper\u001b[0;34m(*args, **kwargs)\u001b[0m\n\u001b[1;32m    305\u001b[0m                 f\"for the old name will be dropped %(removal)s.\")\n\u001b[1;32m    306\u001b[0m             \u001b[0mkwargs\u001b[0m\u001b[0;34m[\u001b[0m\u001b[0mnew\u001b[0m\u001b[0;34m]\u001b[0m \u001b[0;34m=\u001b[0m \u001b[0mkwargs\u001b[0m\u001b[0;34m.\u001b[0m\u001b[0mpop\u001b[0m\u001b[0;34m(\u001b[0m\u001b[0mold\u001b[0m\u001b[0;34m)\u001b[0m\u001b[0;34m\u001b[0m\u001b[0;34m\u001b[0m\u001b[0m\n\u001b[0;32m--> 307\u001b[0;31m         \u001b[0;32mreturn\u001b[0m \u001b[0mfunc\u001b[0m\u001b[0;34m(\u001b[0m\u001b[0;34m*\u001b[0m\u001b[0margs\u001b[0m\u001b[0;34m,\u001b[0m \u001b[0;34m**\u001b[0m\u001b[0mkwargs\u001b[0m\u001b[0;34m)\u001b[0m\u001b[0;34m\u001b[0m\u001b[0;34m\u001b[0m\u001b[0m\n\u001b[0m\u001b[1;32m    308\u001b[0m \u001b[0;34m\u001b[0m\u001b[0m\n\u001b[1;32m    309\u001b[0m     \u001b[0;31m# wrapper() must keep the same documented signature as func(): if we\u001b[0m\u001b[0;34m\u001b[0m\u001b[0;34m\u001b[0m\u001b[0;34m\u001b[0m\u001b[0m\n",
      "\u001b[0;32m~/opt/anaconda3/envs/jupy/lib/python3.8/site-packages/matplotlib/axes/_axes.py\u001b[0m in \u001b[0;36mbxp\u001b[0;34m(self, bxpstats, positions, widths, vert, patch_artist, shownotches, showmeans, showcaps, showbox, showfliers, boxprops, whiskerprops, flierprops, medianprops, capprops, meanprops, meanline, manage_ticks, zorder)\u001b[0m\n\u001b[1;32m   4113\u001b[0m                 \u001b[0mflier_y\u001b[0m \u001b[0;34m=\u001b[0m \u001b[0mstats\u001b[0m\u001b[0;34m[\u001b[0m\u001b[0;34m'fliers'\u001b[0m\u001b[0;34m]\u001b[0m\u001b[0;34m\u001b[0m\u001b[0;34m\u001b[0m\u001b[0m\n\u001b[1;32m   4114\u001b[0m \u001b[0;34m\u001b[0m\u001b[0m\n\u001b[0;32m-> 4115\u001b[0;31m                 fliers.extend(doplot(\n\u001b[0m\u001b[1;32m   4116\u001b[0m                     \u001b[0mflier_x\u001b[0m\u001b[0;34m,\u001b[0m \u001b[0mflier_y\u001b[0m\u001b[0;34m,\u001b[0m \u001b[0;34m**\u001b[0m\u001b[0mfinal_flierprops\u001b[0m\u001b[0;34m\u001b[0m\u001b[0;34m\u001b[0m\u001b[0m\n\u001b[1;32m   4117\u001b[0m                 ))\n",
      "\u001b[0;32m~/opt/anaconda3/envs/jupy/lib/python3.8/site-packages/matplotlib/axes/_axes.py\u001b[0m in \u001b[0;36mdoplot\u001b[0;34m(*args, **kwargs)\u001b[0m\n\u001b[1;32m   3995\u001b[0m         \u001b[0;32mif\u001b[0m \u001b[0mvert\u001b[0m\u001b[0;34m:\u001b[0m\u001b[0;34m\u001b[0m\u001b[0;34m\u001b[0m\u001b[0m\n\u001b[1;32m   3996\u001b[0m             \u001b[0;32mdef\u001b[0m \u001b[0mdoplot\u001b[0m\u001b[0;34m(\u001b[0m\u001b[0;34m*\u001b[0m\u001b[0margs\u001b[0m\u001b[0;34m,\u001b[0m \u001b[0;34m**\u001b[0m\u001b[0mkwargs\u001b[0m\u001b[0;34m)\u001b[0m\u001b[0;34m:\u001b[0m\u001b[0;34m\u001b[0m\u001b[0;34m\u001b[0m\u001b[0m\n\u001b[0;32m-> 3997\u001b[0;31m                 \u001b[0;32mreturn\u001b[0m \u001b[0mself\u001b[0m\u001b[0;34m.\u001b[0m\u001b[0mplot\u001b[0m\u001b[0;34m(\u001b[0m\u001b[0;34m*\u001b[0m\u001b[0margs\u001b[0m\u001b[0;34m,\u001b[0m \u001b[0;34m**\u001b[0m\u001b[0mkwargs\u001b[0m\u001b[0;34m)\u001b[0m\u001b[0;34m\u001b[0m\u001b[0;34m\u001b[0m\u001b[0m\n\u001b[0m\u001b[1;32m   3998\u001b[0m \u001b[0;34m\u001b[0m\u001b[0m\n\u001b[1;32m   3999\u001b[0m             \u001b[0;32mdef\u001b[0m \u001b[0mdopatch\u001b[0m\u001b[0;34m(\u001b[0m\u001b[0mxs\u001b[0m\u001b[0;34m,\u001b[0m \u001b[0mys\u001b[0m\u001b[0;34m,\u001b[0m \u001b[0;34m**\u001b[0m\u001b[0mkwargs\u001b[0m\u001b[0;34m)\u001b[0m\u001b[0;34m:\u001b[0m\u001b[0;34m\u001b[0m\u001b[0;34m\u001b[0m\u001b[0m\n",
      "\u001b[0;32m~/opt/anaconda3/envs/jupy/lib/python3.8/site-packages/matplotlib/axes/_axes.py\u001b[0m in \u001b[0;36mplot\u001b[0;34m(self, scalex, scaley, data, *args, **kwargs)\u001b[0m\n\u001b[1;32m   1666\u001b[0m         \u001b[0;32mfor\u001b[0m \u001b[0mline\u001b[0m \u001b[0;32min\u001b[0m \u001b[0mlines\u001b[0m\u001b[0;34m:\u001b[0m\u001b[0;34m\u001b[0m\u001b[0;34m\u001b[0m\u001b[0m\n\u001b[1;32m   1667\u001b[0m             \u001b[0mself\u001b[0m\u001b[0;34m.\u001b[0m\u001b[0madd_line\u001b[0m\u001b[0;34m(\u001b[0m\u001b[0mline\u001b[0m\u001b[0;34m)\u001b[0m\u001b[0;34m\u001b[0m\u001b[0;34m\u001b[0m\u001b[0m\n\u001b[0;32m-> 1668\u001b[0;31m         \u001b[0mself\u001b[0m\u001b[0;34m.\u001b[0m\u001b[0mautoscale_view\u001b[0m\u001b[0;34m(\u001b[0m\u001b[0mscalex\u001b[0m\u001b[0;34m=\u001b[0m\u001b[0mscalex\u001b[0m\u001b[0;34m,\u001b[0m \u001b[0mscaley\u001b[0m\u001b[0;34m=\u001b[0m\u001b[0mscaley\u001b[0m\u001b[0;34m)\u001b[0m\u001b[0;34m\u001b[0m\u001b[0;34m\u001b[0m\u001b[0m\n\u001b[0m\u001b[1;32m   1669\u001b[0m         \u001b[0;32mreturn\u001b[0m \u001b[0mlines\u001b[0m\u001b[0;34m\u001b[0m\u001b[0;34m\u001b[0m\u001b[0m\n\u001b[1;32m   1670\u001b[0m \u001b[0;34m\u001b[0m\u001b[0m\n",
      "\u001b[0;32m~/opt/anaconda3/envs/jupy/lib/python3.8/site-packages/matplotlib/axes/_base.py\u001b[0m in \u001b[0;36mautoscale_view\u001b[0;34m(self, tight, scalex, scaley)\u001b[0m\n\u001b[1;32m   2415\u001b[0m             \u001b[0mstickies\u001b[0m \u001b[0;34m=\u001b[0m \u001b[0;34m[\u001b[0m\u001b[0martist\u001b[0m\u001b[0;34m.\u001b[0m\u001b[0msticky_edges\u001b[0m \u001b[0;32mfor\u001b[0m \u001b[0martist\u001b[0m \u001b[0;32min\u001b[0m \u001b[0mself\u001b[0m\u001b[0;34m.\u001b[0m\u001b[0mget_children\u001b[0m\u001b[0;34m(\u001b[0m\u001b[0;34m)\u001b[0m\u001b[0;34m]\u001b[0m\u001b[0;34m\u001b[0m\u001b[0;34m\u001b[0m\u001b[0m\n\u001b[1;32m   2416\u001b[0m             \u001b[0mx_stickies\u001b[0m \u001b[0;34m=\u001b[0m \u001b[0mnp\u001b[0m\u001b[0;34m.\u001b[0m\u001b[0marray\u001b[0m\u001b[0;34m(\u001b[0m\u001b[0;34m[\u001b[0m\u001b[0mx\u001b[0m \u001b[0;32mfor\u001b[0m \u001b[0msticky\u001b[0m \u001b[0;32min\u001b[0m \u001b[0mstickies\u001b[0m \u001b[0;32mfor\u001b[0m \u001b[0mx\u001b[0m \u001b[0;32min\u001b[0m \u001b[0msticky\u001b[0m\u001b[0;34m.\u001b[0m\u001b[0mx\u001b[0m\u001b[0;34m]\u001b[0m\u001b[0;34m)\u001b[0m\u001b[0;34m\u001b[0m\u001b[0;34m\u001b[0m\u001b[0m\n\u001b[0;32m-> 2417\u001b[0;31m             \u001b[0my_stickies\u001b[0m \u001b[0;34m=\u001b[0m \u001b[0mnp\u001b[0m\u001b[0;34m.\u001b[0m\u001b[0marray\u001b[0m\u001b[0;34m(\u001b[0m\u001b[0;34m[\u001b[0m\u001b[0my\u001b[0m \u001b[0;32mfor\u001b[0m \u001b[0msticky\u001b[0m \u001b[0;32min\u001b[0m \u001b[0mstickies\u001b[0m \u001b[0;32mfor\u001b[0m \u001b[0my\u001b[0m \u001b[0;32min\u001b[0m \u001b[0msticky\u001b[0m\u001b[0;34m.\u001b[0m\u001b[0my\u001b[0m\u001b[0;34m]\u001b[0m\u001b[0;34m)\u001b[0m\u001b[0;34m\u001b[0m\u001b[0;34m\u001b[0m\u001b[0m\n\u001b[0m\u001b[1;32m   2418\u001b[0m             \u001b[0;32mif\u001b[0m \u001b[0mself\u001b[0m\u001b[0;34m.\u001b[0m\u001b[0mget_xscale\u001b[0m\u001b[0;34m(\u001b[0m\u001b[0;34m)\u001b[0m\u001b[0;34m.\u001b[0m\u001b[0mlower\u001b[0m\u001b[0;34m(\u001b[0m\u001b[0;34m)\u001b[0m \u001b[0;34m==\u001b[0m \u001b[0;34m'log'\u001b[0m\u001b[0;34m:\u001b[0m\u001b[0;34m\u001b[0m\u001b[0;34m\u001b[0m\u001b[0m\n\u001b[1;32m   2419\u001b[0m                 \u001b[0mx_stickies\u001b[0m \u001b[0;34m=\u001b[0m \u001b[0mx_stickies\u001b[0m\u001b[0;34m[\u001b[0m\u001b[0mx_stickies\u001b[0m \u001b[0;34m>\u001b[0m \u001b[0;36m0\u001b[0m\u001b[0;34m]\u001b[0m\u001b[0;34m\u001b[0m\u001b[0;34m\u001b[0m\u001b[0m\n",
      "\u001b[0;32m~/opt/anaconda3/envs/jupy/lib/python3.8/site-packages/matplotlib/axes/_base.py\u001b[0m in \u001b[0;36m<listcomp>\u001b[0;34m(.0)\u001b[0m\n\u001b[1;32m   2415\u001b[0m             \u001b[0mstickies\u001b[0m \u001b[0;34m=\u001b[0m \u001b[0;34m[\u001b[0m\u001b[0martist\u001b[0m\u001b[0;34m.\u001b[0m\u001b[0msticky_edges\u001b[0m \u001b[0;32mfor\u001b[0m \u001b[0martist\u001b[0m \u001b[0;32min\u001b[0m \u001b[0mself\u001b[0m\u001b[0;34m.\u001b[0m\u001b[0mget_children\u001b[0m\u001b[0;34m(\u001b[0m\u001b[0;34m)\u001b[0m\u001b[0;34m]\u001b[0m\u001b[0;34m\u001b[0m\u001b[0;34m\u001b[0m\u001b[0m\n\u001b[1;32m   2416\u001b[0m             \u001b[0mx_stickies\u001b[0m \u001b[0;34m=\u001b[0m \u001b[0mnp\u001b[0m\u001b[0;34m.\u001b[0m\u001b[0marray\u001b[0m\u001b[0;34m(\u001b[0m\u001b[0;34m[\u001b[0m\u001b[0mx\u001b[0m \u001b[0;32mfor\u001b[0m \u001b[0msticky\u001b[0m \u001b[0;32min\u001b[0m \u001b[0mstickies\u001b[0m \u001b[0;32mfor\u001b[0m \u001b[0mx\u001b[0m \u001b[0;32min\u001b[0m \u001b[0msticky\u001b[0m\u001b[0;34m.\u001b[0m\u001b[0mx\u001b[0m\u001b[0;34m]\u001b[0m\u001b[0;34m)\u001b[0m\u001b[0;34m\u001b[0m\u001b[0;34m\u001b[0m\u001b[0m\n\u001b[0;32m-> 2417\u001b[0;31m             \u001b[0my_stickies\u001b[0m \u001b[0;34m=\u001b[0m \u001b[0mnp\u001b[0m\u001b[0;34m.\u001b[0m\u001b[0marray\u001b[0m\u001b[0;34m(\u001b[0m\u001b[0;34m[\u001b[0m\u001b[0my\u001b[0m \u001b[0;32mfor\u001b[0m \u001b[0msticky\u001b[0m \u001b[0;32min\u001b[0m \u001b[0mstickies\u001b[0m \u001b[0;32mfor\u001b[0m \u001b[0my\u001b[0m \u001b[0;32min\u001b[0m \u001b[0msticky\u001b[0m\u001b[0;34m.\u001b[0m\u001b[0my\u001b[0m\u001b[0;34m]\u001b[0m\u001b[0;34m)\u001b[0m\u001b[0;34m\u001b[0m\u001b[0;34m\u001b[0m\u001b[0m\n\u001b[0m\u001b[1;32m   2418\u001b[0m             \u001b[0;32mif\u001b[0m \u001b[0mself\u001b[0m\u001b[0;34m.\u001b[0m\u001b[0mget_xscale\u001b[0m\u001b[0;34m(\u001b[0m\u001b[0;34m)\u001b[0m\u001b[0;34m.\u001b[0m\u001b[0mlower\u001b[0m\u001b[0;34m(\u001b[0m\u001b[0;34m)\u001b[0m \u001b[0;34m==\u001b[0m \u001b[0;34m'log'\u001b[0m\u001b[0;34m:\u001b[0m\u001b[0;34m\u001b[0m\u001b[0;34m\u001b[0m\u001b[0m\n\u001b[1;32m   2419\u001b[0m                 \u001b[0mx_stickies\u001b[0m \u001b[0;34m=\u001b[0m \u001b[0mx_stickies\u001b[0m\u001b[0;34m[\u001b[0m\u001b[0mx_stickies\u001b[0m \u001b[0;34m>\u001b[0m \u001b[0;36m0\u001b[0m\u001b[0;34m]\u001b[0m\u001b[0;34m\u001b[0m\u001b[0;34m\u001b[0m\u001b[0m\n",
      "\u001b[0;31mKeyboardInterrupt\u001b[0m: "
     ]
    },
    {
     "data": {
      "image/png": "[encoded data removed]",
      "text/plain": [
       "<Figure size 432x288 with 1 Axes>"
      ]
     },
     "metadata": {
      "needs_background": "light"
     },
     "output_type": "display_data"
    }
   ],
   "source": [
    "import seaborn as sns\n",
    "#df_maisons_simple.boxplot(column=['valeur_fonciere'])\n",
    "#g = sns.boxplot(x=\"valeur_fonciere\", y=\"prix_m2\", data=df_maisons_simple)\n",
    "#g.set_yscale(\"log\")\n",
    "#g"
   ]
  },
  {
   "cell_type": "code",
   "execution_count": null,
   "metadata": {
    "ExecuteTime": {
     "end_time": "2020-03-22T15:31:31.218311Z",
     "start_time": "2020-03-22T15:31:31.152138Z"
    }
   },
   "outputs": [],
   "source": [
    "df_maisons_simple.info()"
   ]
  },
  {
   "cell_type": "code",
   "execution_count": null,
   "metadata": {
    "ExecuteTime": {
     "end_time": "2020-03-22T14:06:17.127982Z",
     "start_time": "2020-03-22T14:06:17.122539Z"
    }
   },
   "outputs": [],
   "source": [
    "df_maisons_simple.drop(['date_mutation','nature_mutation','no_voie','b/t/q','type_de_voie','voie','code_commune',\n",
    "        'surface_carrez_du_1er_lot','surface_carrez_du_2eme_lot','surface_carrez_du_3eme_lot',\n",
    "        'surface_carrez_du_4eme_lot','surface_carrez_du_5eme_lot','nombre_de_lots','nature_culture',\n",
    "        'nature_culture_speciale','surface_carrez','prix_m2'], axis=1, inplace=True)"
   ]
  },
  {
   "cell_type": "code",
   "execution_count": null,
   "metadata": {
    "ExecuteTime": {
     "end_time": "2020-03-22T14:06:17.499854Z",
     "start_time": "2020-03-22T14:06:17.472858Z"
    }
   },
   "outputs": [],
   "source": [
    "df_maisons_simple = df_maisons_simple.dropna(axis = 0, how ='any')\n",
    "missing_values_assessment(df_maisons_simple).sort_values('Manquant %', ascending=False)"
   ]
  },
  {
   "cell_type": "code",
   "execution_count": null,
   "metadata": {
    "ExecuteTime": {
     "end_time": "2020-03-22T14:06:18.076972Z",
     "start_time": "2020-03-22T14:06:17.824376Z"
    }
   },
   "outputs": [],
   "source": [
    "df_maisons_simple.to_csv(r'data/maisons_simples_ML_READY.csv', index = None, header=True)"
   ]
  },
  {
   "cell_type": "code",
   "execution_count": null,
   "metadata": {},
   "outputs": [],
   "source": []
  }
 ],
 "metadata": {
  "kernelspec": {
   "display_name": "Python 3",
   "language": "python",
   "name": "python3"
  },
  "language_info": {
   "codemirror_mode": {
    "name": "ipython",
    "version": 3
   },
   "file_extension": ".py",
   "mimetype": "text/x-python",
   "name": "python",
   "nbconvert_exporter": "python",
   "pygments_lexer": "ipython3",
   "version": "3.8.1"
  },
  "toc": {
   "base_numbering": 1,
   "nav_menu": {
    "height": "438px",
    "width": "631px"
   },
   "number_sections": true,
   "sideBar": true,
   "skip_h1_title": false,
   "title_cell": "Table of Contents",
   "title_sidebar": "Contents",
   "toc_cell": false,
   "toc_position": {
    "height": "calc(100% - 180px)",
    "left": "10px",
    "top": "150px",
    "width": "257px"
   },
   "toc_section_display": true,
   "toc_window_display": false
  },
  "varInspector": {
   "cols": {
    "lenName": 16,
    "lenType": 16,
    "lenVar": 40
   },
   "kernels_config": {
    "python": {
     "delete_cmd_postfix": "",
     "delete_cmd_prefix": "del ",
     "library": "var_list.py",
     "varRefreshCmd": "print(var_dic_list())"
    },
    "r": {
     "delete_cmd_postfix": ") ",
     "delete_cmd_prefix": "rm(",
     "library": "var_list.r",
     "varRefreshCmd": "cat(var_dic_list()) "
    }
   },
   "types_to_exclude": [
    "module",
    "function",
    "builtin_function_or_method",
    "instance",
    "_Feature"
   ],
   "window_display": false
  }
 },
 "nbformat": 4,
 "nbformat_minor": 2
}
