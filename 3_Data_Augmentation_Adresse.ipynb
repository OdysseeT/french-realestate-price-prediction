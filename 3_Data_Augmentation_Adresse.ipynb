{
 "cells": [
  {
   "cell_type": "code",
   "execution_count": null,
   "metadata": {},
   "outputs": [],
   "source": [
    "import numpy as np\n",
    "import pandas as pd\n",
    "from datetime import datetime"
   ]
  },
  {
   "cell_type": "code",
   "execution_count": null,
   "metadata": {},
   "outputs": [],
   "source": [
    "dateparse = lambda x: pd.datetime.strptime(x, '%d/%m/%Y') # 03/01/2018\n",
    "df = pd.read_csv('data/valeursfoncieres-clean-df.csv', parse_dates=['date_mutation'])"
   ]
  },
  {
   "cell_type": "code",
   "execution_count": null,
   "metadata": {},
   "outputs": [],
   "source": [
    "df.info()"
   ]
  },
  {
   "cell_type": "code",
   "execution_count": null,
   "metadata": {},
   "outputs": [],
   "source": []
  },
  {
   "cell_type": "code",
   "execution_count": null,
   "metadata": {},
   "outputs": [],
   "source": [
    "from geopy.exc import GeocoderTimedOut\n",
    "from geopy.geocoders import GoogleV3\n",
    "\n",
    "cache_file = 'data/cache.dat'\n",
    "\n",
    "def save_locations(df):\n",
    "    df.to_csv(cache_file, index = None, header=True)\n",
    "\n",
    "def load_locations():\n",
    "    try:\n",
    "        return pd.read_csv(cache_file)\n",
    "    except:\n",
    "        print('{} doesn\\'t exist or is empty - creating a new dataframe'.format(cache_file))\n",
    "        return pd.DataFrame(columns=['latitude','longitude','address', 'address_unformatted'])\n",
    "\n",
    "with open('google_api_key.txt') as f:\n",
    "    google_api_key = f.readline()\n",
    "\n",
    "def add_locations(df, location, address):\n",
    "    return df.append({'latitude':location.latitude,\n",
    "               'longitude':location.longitude,\n",
    "               'address':location.address,\n",
    "                'address_unformatted':address},\n",
    "              ignore_index=True)\n",
    "    \n",
    "def get_geocode(df, address):\n",
    "    location = df[df['address_unformatted']==address]\n",
    "    if not location.empty :\n",
    "        return df, location\n",
    "    #print('Address not in cache, requesting GeoPy')\n",
    "    geopy = GoogleV3(api_key=google_api_key)\n",
    "    try:\n",
    "        location = geopy.geocode(address)\n",
    "        df = add_locations(df, location, address)\n",
    "    except Exception as e:\n",
    "        print('Exception on address: {}'.format(address))\n",
    "        traceback.print_exc()\n",
    "    return df, location"
   ]
  },
  {
   "cell_type": "code",
   "execution_count": null,
   "metadata": {},
   "outputs": [],
   "source": [
    "if add_lat_long: \n",
    "    df['latitude'] = np.nan\n",
    "    df.latitude = df.latitude.astype('float')\n",
    "    df['longitude'] = np.nan\n",
    "    df.longitude = df.longitude.astype('float')\n",
    "    df['address_formatted'] = np.nan"
   ]
  },
  {
   "cell_type": "code",
   "execution_count": null,
   "metadata": {},
   "outputs": [],
   "source": [
    "if add_lat_long:\n",
    "    for index, row in df.iterrows():\n",
    "        address = row['address']\n",
    "        #print('Searching address:{}'.format(row['address']))\n",
    "        geolocation_df, location = get_geocode(geolocation_df, address)\n",
    "        try:\n",
    "            if location is not None:\n",
    "                df.at[index, 'latitude'] = location.latitude\n",
    "                df.at[index, 'longitude'] = location.longitude\n",
    "                df.at[index, 'address_formatted'] = location.address\n",
    "        except Exception as e:\n",
    "            print('Exception on address [{}]: {}'.format(index, row['address']))\n",
    "            traceback.print_exc()\n",
    "        if index%100==0:\n",
    "            print('Saving - index: {}'.format(index))\n",
    "            save_locations(geolocation_df)"
   ]
  }
 ],
 "metadata": {
  "kernelspec": {
   "display_name": "Python 3",
   "language": "python",
   "name": "python3"
  },
  "language_info": {
   "codemirror_mode": {
    "name": "ipython",
    "version": 3
   },
   "file_extension": ".py",
   "mimetype": "text/x-python",
   "name": "python",
   "nbconvert_exporter": "python",
   "pygments_lexer": "ipython3",
   "version": "3.7.5"
  },
  "toc": {
   "base_numbering": 1,
   "nav_menu": {},
   "number_sections": true,
   "sideBar": true,
   "skip_h1_title": false,
   "title_cell": "Table of Contents",
   "title_sidebar": "Contents",
   "toc_cell": false,
   "toc_position": {},
   "toc_section_display": true,
   "toc_window_display": false
  },
  "varInspector": {
   "cols": {
    "lenName": 16,
    "lenType": 16,
    "lenVar": 40
   },
   "kernels_config": {
    "python": {
     "delete_cmd_postfix": "",
     "delete_cmd_prefix": "del ",
     "library": "var_list.py",
     "varRefreshCmd": "print(var_dic_list())"
    },
    "r": {
     "delete_cmd_postfix": ") ",
     "delete_cmd_prefix": "rm(",
     "library": "var_list.r",
     "varRefreshCmd": "cat(var_dic_list()) "
    }
   },
   "types_to_exclude": [
    "module",
    "function",
    "builtin_function_or_method",
    "instance",
    "_Feature"
   ],
   "window_display": false
  }
 },
 "nbformat": 4,
 "nbformat_minor": 4
}
