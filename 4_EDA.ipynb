{
 "cells": [
  {
   "cell_type": "markdown",
   "metadata": {},
   "source": [
    "# Etudes des valeurs foncières Française\n",
    "### Liens: https://www.data.gouv.fr/fr/datasets/demandes-de-valeurs-foncieres/"
   ]
  },
  {
   "cell_type": "code",
   "execution_count": 1,
   "metadata": {
    "ExecuteTime": {
     "end_time": "2020-04-17T18:44:25.076437Z",
     "start_time": "2020-04-17T18:44:14.901310Z"
    }
   },
   "outputs": [],
   "source": [
    "import numpy as np\n",
    "import pandas as pd\n",
    "import matplotlib.pyplot as plt\n",
    "import seaborn as sns"
   ]
  },
  {
   "cell_type": "markdown",
   "metadata": {},
   "source": [
    "#### Chargement du fichiers des valeurs foncières de 2018"
   ]
  },
  {
   "cell_type": "code",
   "execution_count": 3,
   "metadata": {
    "ExecuteTime": {
     "end_time": "2020-04-17T18:45:14.163224Z",
     "start_time": "2020-04-17T18:45:13.557955Z"
    }
   },
   "outputs": [],
   "source": [
    "dateparse = lambda x: pd.datetime.strptime(x, '%d/%m/%Y') # 03/01/2018\n",
    "#df = pd.read_csv('data/valeursfoncieres-clean-df.csv', parse_dates=['date_mutation'])\n",
    "df = pd.read_csv('data/biens_2015-19.csv')"
   ]
  },
  {
   "cell_type": "code",
   "execution_count": 4,
   "metadata": {
    "ExecuteTime": {
     "end_time": "2020-04-17T18:45:15.287204Z",
     "start_time": "2020-04-17T18:45:15.195971Z"
    }
   },
   "outputs": [
    {
     "name": "stdout",
     "output_type": "stream",
     "text": [
      "<class 'pandas.core.frame.DataFrame'>\n",
      "RangeIndex: 765694 entries, 0 to 765693\n",
      "Data columns (total 10 columns):\n",
      "valeur_fonciere              765694 non-null float64\n",
      "code_postal                  765694 non-null float64\n",
      "commune                      765694 non-null object\n",
      "code_departement             765694 non-null int64\n",
      "type_local                   765694 non-null object\n",
      "surface_reelle_bati          765694 non-null float64\n",
      "nombre_pieces_principales    765694 non-null int64\n",
      "surface_terrain              765694 non-null float64\n",
      "year                         765694 non-null int64\n",
      "month                        765694 non-null int64\n",
      "dtypes: float64(4), int64(4), object(2)\n",
      "memory usage: 58.4+ MB\n"
     ]
    }
   ],
   "source": [
    "df.info()"
   ]
  },
  {
   "cell_type": "code",
   "execution_count": 13,
   "metadata": {
    "ExecuteTime": {
     "end_time": "2020-04-18T07:52:30.178158Z",
     "start_time": "2020-04-18T07:52:30.101622Z"
    }
   },
   "outputs": [
    {
     "data": {
      "text/html": [
       "<div>\n",
       "<style scoped>\n",
       "    .dataframe tbody tr th:only-of-type {\n",
       "        vertical-align: middle;\n",
       "    }\n",
       "\n",
       "    .dataframe tbody tr th {\n",
       "        vertical-align: top;\n",
       "    }\n",
       "\n",
       "    .dataframe thead th {\n",
       "        text-align: right;\n",
       "    }\n",
       "</style>\n",
       "<table border=\"1\" class=\"dataframe\">\n",
       "  <thead>\n",
       "    <tr style=\"text-align: right;\">\n",
       "      <th></th>\n",
       "      <th>valeur_fonciere</th>\n",
       "      <th>code_postal</th>\n",
       "      <th>commune</th>\n",
       "      <th>code_departement</th>\n",
       "      <th>type_local</th>\n",
       "      <th>surface_reelle_bati</th>\n",
       "      <th>nombre_pieces_principales</th>\n",
       "      <th>surface_terrain</th>\n",
       "      <th>year</th>\n",
       "      <th>month</th>\n",
       "    </tr>\n",
       "  </thead>\n",
       "  <tbody>\n",
       "    <tr>\n",
       "      <th>100257</th>\n",
       "      <td>422050.0</td>\n",
       "      <td>74230.0</td>\n",
       "      <td>MANIGOD</td>\n",
       "      <td>74</td>\n",
       "      <td>Maison</td>\n",
       "      <td>85.0</td>\n",
       "      <td>5</td>\n",
       "      <td>2298.0</td>\n",
       "      <td>2015</td>\n",
       "      <td>1</td>\n",
       "    </tr>\n",
       "    <tr>\n",
       "      <th>100331</th>\n",
       "      <td>698000.0</td>\n",
       "      <td>74320.0</td>\n",
       "      <td>SEVRIER</td>\n",
       "      <td>74</td>\n",
       "      <td>Maison</td>\n",
       "      <td>155.0</td>\n",
       "      <td>5</td>\n",
       "      <td>1744.0</td>\n",
       "      <td>2015</td>\n",
       "      <td>1</td>\n",
       "    </tr>\n",
       "    <tr>\n",
       "      <th>100338</th>\n",
       "      <td>486500.0</td>\n",
       "      <td>74350.0</td>\n",
       "      <td>VILLY-LE-BOUVERET</td>\n",
       "      <td>74</td>\n",
       "      <td>Maison</td>\n",
       "      <td>231.0</td>\n",
       "      <td>7</td>\n",
       "      <td>2167.0</td>\n",
       "      <td>2015</td>\n",
       "      <td>2</td>\n",
       "    </tr>\n",
       "    <tr>\n",
       "      <th>100473</th>\n",
       "      <td>657377.0</td>\n",
       "      <td>74940.0</td>\n",
       "      <td>ANNECY LE VIEUX</td>\n",
       "      <td>74</td>\n",
       "      <td>Maison</td>\n",
       "      <td>137.0</td>\n",
       "      <td>6</td>\n",
       "      <td>2183.0</td>\n",
       "      <td>2015</td>\n",
       "      <td>2</td>\n",
       "    </tr>\n",
       "    <tr>\n",
       "      <th>100504</th>\n",
       "      <td>642000.0</td>\n",
       "      <td>74540.0</td>\n",
       "      <td>GRUFFY</td>\n",
       "      <td>74</td>\n",
       "      <td>Maison</td>\n",
       "      <td>136.0</td>\n",
       "      <td>4</td>\n",
       "      <td>2069.0</td>\n",
       "      <td>2015</td>\n",
       "      <td>2</td>\n",
       "    </tr>\n",
       "    <tr>\n",
       "      <th>...</th>\n",
       "      <td>...</td>\n",
       "      <td>...</td>\n",
       "      <td>...</td>\n",
       "      <td>...</td>\n",
       "      <td>...</td>\n",
       "      <td>...</td>\n",
       "      <td>...</td>\n",
       "      <td>...</td>\n",
       "      <td>...</td>\n",
       "      <td>...</td>\n",
       "    </tr>\n",
       "    <tr>\n",
       "      <th>704973</th>\n",
       "      <td>535000.0</td>\n",
       "      <td>74140.0</td>\n",
       "      <td>LOISIN</td>\n",
       "      <td>74</td>\n",
       "      <td>Maison</td>\n",
       "      <td>85.0</td>\n",
       "      <td>4</td>\n",
       "      <td>1837.0</td>\n",
       "      <td>2018</td>\n",
       "      <td>6</td>\n",
       "    </tr>\n",
       "    <tr>\n",
       "      <th>705098</th>\n",
       "      <td>561904.0</td>\n",
       "      <td>74140.0</td>\n",
       "      <td>SCIEZ</td>\n",
       "      <td>74</td>\n",
       "      <td>Maison</td>\n",
       "      <td>79.0</td>\n",
       "      <td>4</td>\n",
       "      <td>1595.0</td>\n",
       "      <td>2018</td>\n",
       "      <td>7</td>\n",
       "    </tr>\n",
       "    <tr>\n",
       "      <th>705165</th>\n",
       "      <td>514400.0</td>\n",
       "      <td>74200.0</td>\n",
       "      <td>MARIN</td>\n",
       "      <td>74</td>\n",
       "      <td>Maison</td>\n",
       "      <td>90.0</td>\n",
       "      <td>4</td>\n",
       "      <td>1571.0</td>\n",
       "      <td>2018</td>\n",
       "      <td>8</td>\n",
       "    </tr>\n",
       "    <tr>\n",
       "      <th>705265</th>\n",
       "      <td>1900000.0</td>\n",
       "      <td>74200.0</td>\n",
       "      <td>THONON LES BAINS</td>\n",
       "      <td>74</td>\n",
       "      <td>Maison</td>\n",
       "      <td>254.0</td>\n",
       "      <td>7</td>\n",
       "      <td>2097.0</td>\n",
       "      <td>2018</td>\n",
       "      <td>10</td>\n",
       "    </tr>\n",
       "    <tr>\n",
       "      <th>705455</th>\n",
       "      <td>1521322.0</td>\n",
       "      <td>74500.0</td>\n",
       "      <td>EVIAN-LES-BAINS</td>\n",
       "      <td>74</td>\n",
       "      <td>Maison</td>\n",
       "      <td>180.0</td>\n",
       "      <td>10</td>\n",
       "      <td>2357.0</td>\n",
       "      <td>2018</td>\n",
       "      <td>12</td>\n",
       "    </tr>\n",
       "  </tbody>\n",
       "</table>\n",
       "<p>288 rows × 10 columns</p>\n",
       "</div>"
      ],
      "text/plain": [
       "        valeur_fonciere  code_postal            commune  code_departement  \\\n",
       "100257         422050.0      74230.0            MANIGOD                74   \n",
       "100331         698000.0      74320.0            SEVRIER                74   \n",
       "100338         486500.0      74350.0  VILLY-LE-BOUVERET                74   \n",
       "100473         657377.0      74940.0    ANNECY LE VIEUX                74   \n",
       "100504         642000.0      74540.0             GRUFFY                74   \n",
       "...                 ...          ...                ...               ...   \n",
       "704973         535000.0      74140.0             LOISIN                74   \n",
       "705098         561904.0      74140.0              SCIEZ                74   \n",
       "705165         514400.0      74200.0              MARIN                74   \n",
       "705265        1900000.0      74200.0   THONON LES BAINS                74   \n",
       "705455        1521322.0      74500.0    EVIAN-LES-BAINS                74   \n",
       "\n",
       "       type_local  surface_reelle_bati  nombre_pieces_principales  \\\n",
       "100257     Maison                 85.0                          5   \n",
       "100331     Maison                155.0                          5   \n",
       "100338     Maison                231.0                          7   \n",
       "100473     Maison                137.0                          6   \n",
       "100504     Maison                136.0                          4   \n",
       "...           ...                  ...                        ...   \n",
       "704973     Maison                 85.0                          4   \n",
       "705098     Maison                 79.0                          4   \n",
       "705165     Maison                 90.0                          4   \n",
       "705265     Maison                254.0                          7   \n",
       "705455     Maison                180.0                         10   \n",
       "\n",
       "        surface_terrain  year  month  \n",
       "100257           2298.0  2015      1  \n",
       "100331           1744.0  2015      1  \n",
       "100338           2167.0  2015      2  \n",
       "100473           2183.0  2015      2  \n",
       "100504           2069.0  2015      2  \n",
       "...                 ...   ...    ...  \n",
       "704973           1837.0  2018      6  \n",
       "705098           1595.0  2018      7  \n",
       "705165           1571.0  2018      8  \n",
       "705265           2097.0  2018     10  \n",
       "705455           2357.0  2018     12  \n",
       "\n",
       "[288 rows x 10 columns]"
      ]
     },
     "execution_count": 13,
     "metadata": {},
     "output_type": "execute_result"
    }
   ],
   "source": [
    "df[(df['code_departement']==74) & (df['type_local']==\"Maison\") & (df['surface_terrain'] > 1500) & (df['surface_terrain'] < 2500)]"
   ]
  },
  {
   "cell_type": "code",
   "execution_count": null,
   "metadata": {},
   "outputs": [],
   "source": [
    "df[(df['code_departement']==74) & (df['type_local']==\"Maison\") & (df['surface_terrain'] > 1500) & (df['surface_terrain'] < 2500)]"
   ]
  },
  {
   "cell_type": "markdown",
   "metadata": {},
   "source": [
    "###  Analyse des colonnes"
   ]
  },
  {
   "cell_type": "code",
   "execution_count": 5,
   "metadata": {
    "ExecuteTime": {
     "end_time": "2020-01-21T12:39:56.056313Z",
     "start_time": "2020-01-21T12:35:27.800561Z"
    }
   },
   "outputs": [],
   "source": [
    "corr_pearson = df.corr(method='pearson', min_periods=10)['valeur_fonciere']\n",
    "corr_kendall = df.corr(method='kendall')['valeur_fonciere']\n",
    "corr_spearman = df.corr(method='spearman')['valeur_fonciere']"
   ]
  },
  {
   "cell_type": "code",
   "execution_count": 6,
   "metadata": {
    "ExecuteTime": {
     "end_time": "2020-01-21T12:39:56.109663Z",
     "start_time": "2020-01-21T12:39:56.104079Z"
    }
   },
   "outputs": [
    {
     "data": {
      "text/plain": [
       "nombre_pieces_principales    -0.017355\n",
       "surface_carrez_du_2eme_lot   -0.000848\n",
       "surface_carrez_du_5eme_lot    0.003035\n",
       "surface_carrez_du_3eme_lot    0.004240\n",
       "surface_carrez_du_4eme_lot    0.005438\n",
       "surface_carrez_du_1er_lot     0.005899\n",
       "surface_terrain               0.007912\n",
       "nombre_de_lots                0.009303\n",
       "surface_reelle_bati           0.015839\n",
       "code_type_local               0.037401\n",
       "valeur_fonciere               1.000000\n",
       "Name: valeur_fonciere, dtype: float64"
      ]
     },
     "execution_count": 6,
     "metadata": {},
     "output_type": "execute_result"
    }
   ],
   "source": [
    "# Pearson\n",
    "corr_pearson.sort_values()"
   ]
  },
  {
   "cell_type": "code",
   "execution_count": 7,
   "metadata": {
    "ExecuteTime": {
     "end_time": "2020-01-21T12:39:56.157076Z",
     "start_time": "2020-01-21T12:39:56.151834Z"
    }
   },
   "outputs": [
    {
     "data": {
      "text/plain": [
       "surface_terrain              -0.144743\n",
       "code_type_local              -0.016741\n",
       "surface_carrez_du_5eme_lot    0.007122\n",
       "surface_carrez_du_4eme_lot    0.009869\n",
       "surface_carrez_du_3eme_lot    0.013442\n",
       "surface_carrez_du_2eme_lot    0.033063\n",
       "surface_carrez_du_1er_lot     0.063779\n",
       "nombre_pieces_principales     0.118978\n",
       "nombre_de_lots                0.166000\n",
       "surface_reelle_bati           0.229832\n",
       "valeur_fonciere               1.000000\n",
       "Name: valeur_fonciere, dtype: float64"
      ]
     },
     "execution_count": 7,
     "metadata": {},
     "output_type": "execute_result"
    }
   ],
   "source": [
    "# Kendall\n",
    "corr_kendall.sort_values()"
   ]
  },
  {
   "cell_type": "code",
   "execution_count": 8,
   "metadata": {
    "ExecuteTime": {
     "end_time": "2020-01-21T12:39:56.203791Z",
     "start_time": "2020-01-21T12:39:56.198235Z"
    },
    "scrolled": false
   },
   "outputs": [
    {
     "data": {
      "text/plain": [
       "surface_terrain              -0.209352\n",
       "code_type_local              -0.020186\n",
       "surface_carrez_du_5eme_lot    0.008714\n",
       "surface_carrez_du_4eme_lot    0.012076\n",
       "surface_carrez_du_3eme_lot    0.016450\n",
       "surface_carrez_du_2eme_lot    0.040507\n",
       "surface_carrez_du_1er_lot     0.077958\n",
       "nombre_pieces_principales     0.154965\n",
       "nombre_de_lots                0.209272\n",
       "surface_reelle_bati           0.297715\n",
       "valeur_fonciere               1.000000\n",
       "Name: valeur_fonciere, dtype: float64"
      ]
     },
     "execution_count": 8,
     "metadata": {},
     "output_type": "execute_result"
    }
   ],
   "source": [
    "# Spearman\n",
    "corr_spearman.sort_values()"
   ]
  },
  {
   "cell_type": "markdown",
   "metadata": {},
   "source": [
    "Sans trop de surprise, la valeur foncière d'un bien est majoritairement corrélée avec la surface des différents lots.\n",
    "Aussi, le nombre de pièces principales est négativement corrélé.\n",
    "\n",
    "Nous pouvons faire la somme des surfaces pour vérifier si la corrélation avec la valeur foncière est plus forte:"
   ]
  },
  {
   "cell_type": "markdown",
   "metadata": {},
   "source": [
    "#### No Disposition"
   ]
  },
  {
   "cell_type": "code",
   "execution_count": 9,
   "metadata": {
    "ExecuteTime": {
     "end_time": "2020-01-21T12:39:56.483513Z",
     "start_time": "2020-01-21T12:39:56.242725Z"
    }
   },
   "outputs": [
    {
     "ename": "AttributeError",
     "evalue": "'DataFrame' object has no attribute 'no_disposition'",
     "output_type": "error",
     "traceback": [
      "\u001b[0;31m---------------------------------------------------------------------------\u001b[0m",
      "\u001b[0;31mAttributeError\u001b[0m                            Traceback (most recent call last)",
      "\u001b[0;32m<ipython-input-9-a6a129cf38e9>\u001b[0m in \u001b[0;36m<module>\u001b[0;34m\u001b[0m\n\u001b[0;32m----> 1\u001b[0;31m \u001b[0mdf\u001b[0m\u001b[0;34m.\u001b[0m\u001b[0mno_disposition\u001b[0m\u001b[0;34m.\u001b[0m\u001b[0mdtype\u001b[0m\u001b[0;34m\u001b[0m\u001b[0;34m\u001b[0m\u001b[0m\n\u001b[0m",
      "\u001b[0;32m~/opt/anaconda3/lib/python3.7/site-packages/pandas/core/generic.py\u001b[0m in \u001b[0;36m__getattr__\u001b[0;34m(self, name)\u001b[0m\n\u001b[1;32m   5177\u001b[0m             \u001b[0;32mif\u001b[0m \u001b[0mself\u001b[0m\u001b[0;34m.\u001b[0m\u001b[0m_info_axis\u001b[0m\u001b[0;34m.\u001b[0m\u001b[0m_can_hold_identifiers_and_holds_name\u001b[0m\u001b[0;34m(\u001b[0m\u001b[0mname\u001b[0m\u001b[0;34m)\u001b[0m\u001b[0;34m:\u001b[0m\u001b[0;34m\u001b[0m\u001b[0;34m\u001b[0m\u001b[0m\n\u001b[1;32m   5178\u001b[0m                 \u001b[0;32mreturn\u001b[0m \u001b[0mself\u001b[0m\u001b[0;34m[\u001b[0m\u001b[0mname\u001b[0m\u001b[0;34m]\u001b[0m\u001b[0;34m\u001b[0m\u001b[0;34m\u001b[0m\u001b[0m\n\u001b[0;32m-> 5179\u001b[0;31m             \u001b[0;32mreturn\u001b[0m \u001b[0mobject\u001b[0m\u001b[0;34m.\u001b[0m\u001b[0m__getattribute__\u001b[0m\u001b[0;34m(\u001b[0m\u001b[0mself\u001b[0m\u001b[0;34m,\u001b[0m \u001b[0mname\u001b[0m\u001b[0;34m)\u001b[0m\u001b[0;34m\u001b[0m\u001b[0;34m\u001b[0m\u001b[0m\n\u001b[0m\u001b[1;32m   5180\u001b[0m \u001b[0;34m\u001b[0m\u001b[0m\n\u001b[1;32m   5181\u001b[0m     \u001b[0;32mdef\u001b[0m \u001b[0m__setattr__\u001b[0m\u001b[0;34m(\u001b[0m\u001b[0mself\u001b[0m\u001b[0;34m,\u001b[0m \u001b[0mname\u001b[0m\u001b[0;34m,\u001b[0m \u001b[0mvalue\u001b[0m\u001b[0;34m)\u001b[0m\u001b[0;34m:\u001b[0m\u001b[0;34m\u001b[0m\u001b[0;34m\u001b[0m\u001b[0m\n",
      "\u001b[0;31mAttributeError\u001b[0m: 'DataFrame' object has no attribute 'no_disposition'"
     ]
    }
   ],
   "source": [
    "df.no_disposition.dtype"
   ]
  },
  {
   "cell_type": "code",
   "execution_count": null,
   "metadata": {
    "ExecuteTime": {
     "end_time": "2020-01-21T12:39:56.490925Z",
     "start_time": "2020-01-21T12:35:20.165Z"
    }
   },
   "outputs": [],
   "source": [
    "def describe(df, col):\n",
    "    return df[col].describe().apply(lambda x: format(x, 'f'))"
   ]
  },
  {
   "cell_type": "code",
   "execution_count": null,
   "metadata": {
    "ExecuteTime": {
     "end_time": "2020-01-21T12:39:56.495517Z",
     "start_time": "2020-01-21T12:35:21.868Z"
    }
   },
   "outputs": [],
   "source": [
    "describe(df,'no_disposition')"
   ]
  },
  {
   "cell_type": "markdown",
   "metadata": {},
   "source": [
    "#### Frequency count"
   ]
  },
  {
   "cell_type": "code",
   "execution_count": null,
   "metadata": {
    "ExecuteTime": {
     "end_time": "2020-01-21T12:39:56.500142Z",
     "start_time": "2020-01-21T12:35:23.795Z"
    }
   },
   "outputs": [],
   "source": [
    "df.no_disposition.value_counts(dropna=False).head(20)"
   ]
  },
  {
   "cell_type": "code",
   "execution_count": null,
   "metadata": {
    "ExecuteTime": {
     "end_time": "2020-01-21T12:39:56.505975Z",
     "start_time": "2020-01-21T12:35:24.463Z"
    },
    "scrolled": false
   },
   "outputs": [],
   "source": [
    "df.no_disposition.unique()"
   ]
  },
  {
   "cell_type": "code",
   "execution_count": null,
   "metadata": {
    "ExecuteTime": {
     "end_time": "2020-01-21T12:39:56.511750Z",
     "start_time": "2020-01-21T12:35:25.624Z"
    }
   },
   "outputs": [],
   "source": [
    "df.no_disposition.isnull().sum()"
   ]
  },
  {
   "cell_type": "code",
   "execution_count": null,
   "metadata": {
    "ExecuteTime": {
     "end_time": "2020-01-21T12:39:56.516889Z",
     "start_time": "2020-01-21T12:35:26.115Z"
    }
   },
   "outputs": [],
   "source": [
    "plt.figure(figsize=(20,10))\n",
    "ax = sns.distplot(df.no_disposition, kde=False)\n",
    "ax.set_yscale('log', basey=2)\n",
    "ax.set_title('Distribution de l\\'attribut \\'N° de disposition\\'')"
   ]
  },
  {
   "cell_type": "code",
   "execution_count": null,
   "metadata": {
    "ExecuteTime": {
     "end_time": "2020-01-21T12:39:56.521279Z",
     "start_time": "2020-01-21T12:35:27.239Z"
    }
   },
   "outputs": [],
   "source": [
    "df.no_disposition.corr(df.valeur_fonciere)"
   ]
  },
  {
   "cell_type": "code",
   "execution_count": 22,
   "metadata": {},
   "outputs": [
    {
     "data": {
      "text/plain": [
       "Text(0, 0.5, 'Valeur foncière')"
      ]
     },
     "execution_count": 22,
     "metadata": {},
     "output_type": "execute_result"
    },
    {
     "data": {
      "image/png": "[encoded data removed]",
      "text/plain": [
       "<Figure size 1440x720 with 1 Axes>"
      ]
     },
     "metadata": {
      "needs_background": "light"
     },
     "output_type": "display_data"
    }
   ],
   "source": [
    "plt.figure(figsize=(20,10))\n",
    "ax = sns.scatterplot(x=df.no_disposition, y=df.valeur_fonciere)\n",
    "ax.set_yscale('log', basey=2)\n",
    "ax.set_title('Relation entre le numéro de disposition et la valeur foncière')\n",
    "ax.set_xlabel('Numéro de disposition')\n",
    "ax.set_ylabel('Valeur foncière')"
   ]
  },
  {
   "cell_type": "markdown",
   "metadata": {},
   "source": [
    "#### Date de mutation"
   ]
  },
  {
   "cell_type": "code",
   "execution_count": 23,
   "metadata": {},
   "outputs": [
    {
     "data": {
      "text/plain": [
       "dtype('<M8[ns]')"
      ]
     },
     "execution_count": 23,
     "metadata": {},
     "output_type": "execute_result"
    }
   ],
   "source": [
    "df.date_mutation.dtype"
   ]
  },
  {
   "cell_type": "code",
   "execution_count": 24,
   "metadata": {},
   "outputs": [
    {
     "data": {
      "text/plain": [
       "Text(0, 0.5, 'Nombre de mutation')"
      ]
     },
     "execution_count": 24,
     "metadata": {},
     "output_type": "execute_result"
    },
    {
     "data": {
      "image/png": "[encoded data removed]",
      "text/plain": [
       "<Figure size 720x360 with 1 Axes>"
      ]
     },
     "metadata": {
      "needs_background": "light"
     },
     "output_type": "display_data"
    },
    {
     "data": {
      "image/png": "[encoded data removed]",
      "text/plain": [
       "<Figure size 720x360 with 1 Axes>"
      ]
     },
     "metadata": {
      "needs_background": "light"
     },
     "output_type": "display_data"
    },
    {
     "data": {
      "image/png": "[encoded data removed]",
      "text/plain": [
       "<Figure size 720x360 with 1 Axes>"
      ]
     },
     "metadata": {
      "needs_background": "light"
     },
     "output_type": "display_data"
    }
   ],
   "source": [
    "plt.figure(figsize=(10,5))\n",
    "df['month'] = df.date_mutation.map(lambda x: x.month)\n",
    "ax = sns.countplot(x=df.month)\n",
    "ax.set_title('Nombre de mutation par mois (signature acte final)')\n",
    "ax.set_xlabel('Mois')\n",
    "ax.set_ylabel('Nombre de mutation')\n",
    "\n",
    "plt.figure(figsize=(10,5))\n",
    "df['sign_month'] = df.date_mutation.map(lambda x: x.month-3)\n",
    "ax = sns.countplot(x=df.sign_month)\n",
    "ax.set_title('Nombre de mutation par mois (promesse de vente)')\n",
    "ax.set_xlabel('Mois (-2 = Novembre)')\n",
    "ax.set_ylabel('Nombre de mutation')\n",
    "\n",
    "plt.figure(figsize=(10,5))\n",
    "df['dayofweek'] = df.date_mutation.map(lambda x: x.dayofweek)\n",
    "ax = sns.countplot(x=df.dayofweek)\n",
    "ax.set_title('Nombre de mutation par jour de semaine')\n",
    "ax.set_xlabel('Jour de semaine')\n",
    "ax.set_xticklabels(['Lundi','Mardi','Mercredi','Jeudi','Vendredi','Samedi','Dimanche'],rotation=45)\n",
    "ax.set_ylabel('Nombre de mutation')"
   ]
  },
  {
   "cell_type": "markdown",
   "metadata": {},
   "source": [
    "Nombre de signature signée le dimanche:"
   ]
  },
  {
   "cell_type": "code",
   "execution_count": 25,
   "metadata": {},
   "outputs": [
    {
     "data": {
      "text/plain": [
       "927"
      ]
     },
     "execution_count": 25,
     "metadata": {},
     "output_type": "execute_result"
    }
   ],
   "source": [
    "len(df[df['dayofweek']==6])"
   ]
  },
  {
   "cell_type": "markdown",
   "metadata": {},
   "source": [
    "#### Nature de mutation"
   ]
  },
  {
   "cell_type": "code",
   "execution_count": 26,
   "metadata": {},
   "outputs": [
    {
     "data": {
      "text/plain": [
       "dtype('O')"
      ]
     },
     "execution_count": 26,
     "metadata": {},
     "output_type": "execute_result"
    }
   ],
   "source": [
    "df.nature_mutation.dtype"
   ]
  },
  {
   "cell_type": "code",
   "execution_count": 27,
   "metadata": {},
   "outputs": [
    {
     "data": {
      "text/plain": [
       "array(['Vente', \"Vente en l'état futur d'achèvement\", 'Echange',\n",
       "       'Vente terrain à bâtir', 'Adjudication', 'Expropriation'],\n",
       "      dtype=object)"
      ]
     },
     "execution_count": 27,
     "metadata": {},
     "output_type": "execute_result"
    }
   ],
   "source": [
    "df.nature_mutation.unique()"
   ]
  },
  {
   "cell_type": "code",
   "execution_count": 28,
   "metadata": {},
   "outputs": [
    {
     "data": {
      "text/plain": [
       "Vente                                 2649843\n",
       "Vente en l'état futur d'achèvement     236054\n",
       "Echange                                 41697\n",
       "Vente terrain à bâtir                   12253\n",
       "Adjudication                             9437\n",
       "Expropriation                            1566\n",
       "Name: nature_mutation, dtype: int64"
      ]
     },
     "execution_count": 28,
     "metadata": {},
     "output_type": "execute_result"
    }
   ],
   "source": [
    "df.nature_mutation.value_counts()"
   ]
  },
  {
   "cell_type": "code",
   "execution_count": 29,
   "metadata": {},
   "outputs": [
    {
     "data": {
      "text/plain": [
       "<seaborn.axisgrid.FacetGrid at 0x1a3058aa10>"
      ]
     },
     "execution_count": 29,
     "metadata": {},
     "output_type": "execute_result"
    },
    {
     "data": {
      "image/png": "[encoded data removed]",
      "text/plain": [
       "<Figure size 720x360 with 1 Axes>"
      ]
     },
     "metadata": {
      "needs_background": "light"
     },
     "output_type": "display_data"
    },
    {
     "data": {
      "image/png": "[encoded data removed]",
      "text/plain": [
       "<Figure size 360x360 with 1 Axes>"
      ]
     },
     "metadata": {
      "needs_background": "light"
     },
     "output_type": "display_data"
    }
   ],
   "source": [
    "plt.figure(figsize=(10,5))\n",
    "ax = sns.boxplot(x=\"nature_mutation\", y=\"valeur_fonciere\", data=df);\n",
    "ax.set_yscale('log', basey=2)\n",
    "ax.set_xticklabels(labels=df.nature_mutation.unique(), rotation=90)\n",
    "ax.set_title('Valeurs foncières par nature de mutation')\n",
    "\n",
    "ax = sns.catplot(x=\"nature_mutation\", y=\"valeur_fonciere\", data=df);\n",
    "ax.set_xticklabels(rotation=90)"
   ]
  },
  {
   "cell_type": "markdown",
   "metadata": {},
   "source": [
    "##### Etude des expropriations"
   ]
  },
  {
   "cell_type": "code",
   "execution_count": 30,
   "metadata": {},
   "outputs": [
    {
     "data": {
      "text/html": [
       "<div>\n",
       "<style scoped>\n",
       "    .dataframe tbody tr th:only-of-type {\n",
       "        vertical-align: middle;\n",
       "    }\n",
       "\n",
       "    .dataframe tbody tr th {\n",
       "        vertical-align: top;\n",
       "    }\n",
       "\n",
       "    .dataframe thead th {\n",
       "        text-align: right;\n",
       "    }\n",
       "</style>\n",
       "<table border=\"1\" class=\"dataframe\">\n",
       "  <thead>\n",
       "    <tr style=\"text-align: right;\">\n",
       "      <th></th>\n",
       "      <th>no_disposition</th>\n",
       "      <th>date_mutation</th>\n",
       "      <th>nature_mutation</th>\n",
       "      <th>valeur_fonciere</th>\n",
       "      <th>no_voie</th>\n",
       "      <th>b/t/q</th>\n",
       "      <th>type_de_voie</th>\n",
       "      <th>code_voie</th>\n",
       "      <th>voie</th>\n",
       "      <th>code_postal</th>\n",
       "      <th>...</th>\n",
       "      <th>code_type_local</th>\n",
       "      <th>type_local</th>\n",
       "      <th>surface_reelle_bati</th>\n",
       "      <th>nombre_pieces_principales</th>\n",
       "      <th>nature_culture</th>\n",
       "      <th>nature_culture_speciale</th>\n",
       "      <th>surface_terrain</th>\n",
       "      <th>month</th>\n",
       "      <th>sign_month</th>\n",
       "      <th>dayofweek</th>\n",
       "    </tr>\n",
       "  </thead>\n",
       "  <tbody>\n",
       "    <tr>\n",
       "      <th>23907</th>\n",
       "      <td>28</td>\n",
       "      <td>2018-09-12</td>\n",
       "      <td>Expropriation</td>\n",
       "      <td>10455340.0</td>\n",
       "      <td>NaN</td>\n",
       "      <td>NaN</td>\n",
       "      <td>NaN</td>\n",
       "      <td>B014</td>\n",
       "      <td>TRES LA GRANGE</td>\n",
       "      <td>1210.0</td>\n",
       "      <td>...</td>\n",
       "      <td>NaN</td>\n",
       "      <td>NaN</td>\n",
       "      <td>NaN</td>\n",
       "      <td>NaN</td>\n",
       "      <td>T</td>\n",
       "      <td>NaN</td>\n",
       "      <td>7407.0</td>\n",
       "      <td>9</td>\n",
       "      <td>6</td>\n",
       "      <td>2</td>\n",
       "    </tr>\n",
       "  </tbody>\n",
       "</table>\n",
       "<p>1 rows × 38 columns</p>\n",
       "</div>"
      ],
      "text/plain": [
       "       no_disposition date_mutation nature_mutation  valeur_fonciere  no_voie  \\\n",
       "23907              28    2018-09-12   Expropriation       10455340.0      NaN   \n",
       "\n",
       "      b/t/q type_de_voie code_voie            voie  code_postal  ...  \\\n",
       "23907   NaN          NaN      B014  TRES LA GRANGE       1210.0  ...   \n",
       "\n",
       "      code_type_local type_local  surface_reelle_bati  \\\n",
       "23907             NaN        NaN                  NaN   \n",
       "\n",
       "       nombre_pieces_principales nature_culture  nature_culture_speciale  \\\n",
       "23907                        NaN              T                      NaN   \n",
       "\n",
       "      surface_terrain month  sign_month dayofweek  \n",
       "23907          7407.0     9           6         2  \n",
       "\n",
       "[1 rows x 38 columns]"
      ]
     },
     "execution_count": 30,
     "metadata": {},
     "output_type": "execute_result"
    }
   ],
   "source": [
    "df_ex = df[df['nature_mutation']=='Expropriation'].sort_values(by='valeur_fonciere', ascending=False)\n",
    "df_ex.head(1)"
   ]
  },
  {
   "cell_type": "markdown",
   "metadata": {},
   "source": [
    "L'expropriation la plus chère est à - code postal 01210 - Ferney-Voltaire dans l'Ain. Une ville à la frontière de la Suisse, avec l'aéroport Genevois à quelques centaines de mètres."
   ]
  },
  {
   "cell_type": "code",
   "execution_count": 31,
   "metadata": {
    "scrolled": true
   },
   "outputs": [
    {
     "data": {
      "text/plain": [
       "VIEVILLE            718\n",
       "FERNEY-VOLTAIRE     106\n",
       "MASSY               100\n",
       "CACHAN               44\n",
       "CLICHY SOUS BOIS     40\n",
       "Name: commune, dtype: int64"
      ]
     },
     "execution_count": 31,
     "metadata": {},
     "output_type": "execute_result"
    }
   ],
   "source": [
    "df_ex.commune.value_counts().head()"
   ]
  },
  {
   "cell_type": "code",
   "execution_count": 32,
   "metadata": {},
   "outputs": [
    {
     "data": {
      "text/plain": [
       "Text(0.5, 1.0, \"Nombre d'expropriation par ville\")"
      ]
     },
     "execution_count": 32,
     "metadata": {},
     "output_type": "execute_result"
    },
    {
     "data": {
      "image/png": "[encoded data removed]",
      "text/plain": [
       "<Figure size 432x288 with 1 Axes>"
      ]
     },
     "metadata": {
      "needs_background": "light"
     },
     "output_type": "display_data"
    }
   ],
   "source": [
    "ax = df_ex.commune.value_counts().head().plot.bar(rot=75)\n",
    "ax.set_title('Nombre d\\'expropriation par ville')"
   ]
  },
  {
   "cell_type": "code",
   "execution_count": 33,
   "metadata": {},
   "outputs": [
    {
     "data": {
      "image/png": "[encoded data removed]",
      "text/plain": [
       "<Figure size 432x288 with 1 Axes>"
      ]
     },
     "metadata": {
      "needs_background": "light"
     },
     "output_type": "display_data"
    }
   ],
   "source": [
    "ax = df_ex.commune.value_counts().plot.box()\n",
    "ax.set_yscale('log', basey=2)"
   ]
  },
  {
   "cell_type": "markdown",
   "metadata": {},
   "source": [
    "Toutefois, la ville de Vieville - code postal 52310 - a enregistré le plus grand nombre d'expropriation en 2018."
   ]
  },
  {
   "cell_type": "markdown",
   "metadata": {},
   "source": [
    "##### Etude des ventes"
   ]
  },
  {
   "cell_type": "code",
   "execution_count": 34,
   "metadata": {},
   "outputs": [
    {
     "data": {
      "text/html": [
       "<div>\n",
       "<style scoped>\n",
       "    .dataframe tbody tr th:only-of-type {\n",
       "        vertical-align: middle;\n",
       "    }\n",
       "\n",
       "    .dataframe tbody tr th {\n",
       "        vertical-align: top;\n",
       "    }\n",
       "\n",
       "    .dataframe thead th {\n",
       "        text-align: right;\n",
       "    }\n",
       "</style>\n",
       "<table border=\"1\" class=\"dataframe\">\n",
       "  <thead>\n",
       "    <tr style=\"text-align: right;\">\n",
       "      <th></th>\n",
       "      <th>no_disposition</th>\n",
       "      <th>date_mutation</th>\n",
       "      <th>nature_mutation</th>\n",
       "      <th>valeur_fonciere</th>\n",
       "      <th>no_voie</th>\n",
       "      <th>b/t/q</th>\n",
       "      <th>type_de_voie</th>\n",
       "      <th>code_voie</th>\n",
       "      <th>voie</th>\n",
       "      <th>code_postal</th>\n",
       "      <th>commune</th>\n",
       "      <th>code_departement</th>\n",
       "      <th>code_commune</th>\n",
       "      <th>prefixe_de_section</th>\n",
       "      <th>section</th>\n",
       "      <th>no_plan</th>\n",
       "      <th>no_volume</th>\n",
       "      <th>1er_lot</th>\n",
       "      <th>surface_carrez_du_1er_lot</th>\n",
       "      <th>2eme_lot</th>\n",
       "      <th>surface_carrez_du_2eme_lot</th>\n",
       "      <th>3eme_lot</th>\n",
       "      <th>surface_carrez_du_3eme_lot</th>\n",
       "      <th>4eme_lot</th>\n",
       "      <th>surface_carrez_du_4eme_lot</th>\n",
       "      <th>5eme_lot</th>\n",
       "      <th>surface_carrez_du_5eme_lot</th>\n",
       "      <th>nombre_de_lots</th>\n",
       "      <th>code_type_local</th>\n",
       "      <th>type_local</th>\n",
       "      <th>surface_reelle_bati</th>\n",
       "      <th>nombre_pieces_principales</th>\n",
       "      <th>nature_culture</th>\n",
       "      <th>nature_culture_speciale</th>\n",
       "      <th>surface_terrain</th>\n",
       "      <th>month</th>\n",
       "      <th>sign_month</th>\n",
       "      <th>dayofweek</th>\n",
       "    </tr>\n",
       "  </thead>\n",
       "  <tbody>\n",
       "    <tr>\n",
       "      <th>2826340</th>\n",
       "      <td>1</td>\n",
       "      <td>2018-09-18</td>\n",
       "      <td>Vente</td>\n",
       "      <td>1.256966e+09</td>\n",
       "      <td>44.0</td>\n",
       "      <td>NaN</td>\n",
       "      <td>AV</td>\n",
       "      <td>7121</td>\n",
       "      <td>DE PARIS</td>\n",
       "      <td>92320.0</td>\n",
       "      <td>CHATILLON</td>\n",
       "      <td>92</td>\n",
       "      <td>20</td>\n",
       "      <td>NaN</td>\n",
       "      <td>I</td>\n",
       "      <td>250</td>\n",
       "      <td>NaN</td>\n",
       "      <td>319</td>\n",
       "      <td>NaN</td>\n",
       "      <td>NaN</td>\n",
       "      <td>NaN</td>\n",
       "      <td>NaN</td>\n",
       "      <td>NaN</td>\n",
       "      <td>NaN</td>\n",
       "      <td>NaN</td>\n",
       "      <td>NaN</td>\n",
       "      <td>NaN</td>\n",
       "      <td>1</td>\n",
       "      <td>3.0</td>\n",
       "      <td>Dépendance</td>\n",
       "      <td>0.0</td>\n",
       "      <td>0.0</td>\n",
       "      <td>NaN</td>\n",
       "      <td>NaN</td>\n",
       "      <td>NaN</td>\n",
       "      <td>9</td>\n",
       "      <td>6</td>\n",
       "      <td>1</td>\n",
       "    </tr>\n",
       "  </tbody>\n",
       "</table>\n",
       "</div>"
      ],
      "text/plain": [
       "         no_disposition date_mutation nature_mutation  valeur_fonciere  \\\n",
       "2826340               1    2018-09-18           Vente     1.256966e+09   \n",
       "\n",
       "         no_voie b/t/q type_de_voie code_voie      voie  code_postal  \\\n",
       "2826340     44.0   NaN           AV      7121  DE PARIS      92320.0   \n",
       "\n",
       "           commune code_departement  code_commune  prefixe_de_section section  \\\n",
       "2826340  CHATILLON               92            20                 NaN       I   \n",
       "\n",
       "         no_plan no_volume 1er_lot  surface_carrez_du_1er_lot 2eme_lot  \\\n",
       "2826340      250       NaN     319                        NaN      NaN   \n",
       "\n",
       "         surface_carrez_du_2eme_lot 3eme_lot  surface_carrez_du_3eme_lot  \\\n",
       "2826340                         NaN      NaN                         NaN   \n",
       "\n",
       "         4eme_lot  surface_carrez_du_4eme_lot 5eme_lot  \\\n",
       "2826340       NaN                         NaN      NaN   \n",
       "\n",
       "         surface_carrez_du_5eme_lot  nombre_de_lots  code_type_local  \\\n",
       "2826340                         NaN               1              3.0   \n",
       "\n",
       "         type_local  surface_reelle_bati  nombre_pieces_principales  \\\n",
       "2826340  Dépendance                  0.0                        0.0   \n",
       "\n",
       "        nature_culture nature_culture_speciale  surface_terrain  month  \\\n",
       "2826340            NaN                     NaN              NaN      9   \n",
       "\n",
       "         sign_month  dayofweek  \n",
       "2826340           6          1  "
      ]
     },
     "execution_count": 34,
     "metadata": {},
     "output_type": "execute_result"
    }
   ],
   "source": [
    "pd.options.display.max_columns = None\n",
    "df_ve = df[df['nature_mutation']=='Vente'].sort_values(by='valeur_fonciere', ascending=False)\n",
    "df_ve.head(1)"
   ]
  },
  {
   "cell_type": "markdown",
   "metadata": {},
   "source": [
    "La vente la plus chère a été réalisé dans la commune de Châtillon - code postal 92320 - pour un montant de 1.256.966.000€ au 44 avenue de Paris.\n",
    "La ville de Chatillon a réalisé plusieurs transactions du même montant, le même jour. Cela semble plus être la vente d'un lot d'immeuble entre plusieurs organisations."
   ]
  },
  {
   "cell_type": "code",
   "execution_count": 35,
   "metadata": {},
   "outputs": [
    {
     "data": {
      "text/plain": [
       "<matplotlib.axes._subplots.AxesSubplot at 0x1a2286e590>"
      ]
     },
     "execution_count": 35,
     "metadata": {},
     "output_type": "execute_result"
    },
    {
     "data": {
      "image/png": "[encoded data removed]",
      "text/plain": [
       "<Figure size 720x360 with 1 Axes>"
      ]
     },
     "metadata": {
      "needs_background": "light"
     },
     "output_type": "display_data"
    }
   ],
   "source": [
    "plt.figure(figsize=(10,5))\n",
    "df_vente_par_jour = df[df['nature_mutation']=='Vente'].groupby(['date_mutation','commune'])['commune'].count().sort_values(ascending=False)\n",
    "#df_vente_par_jour[0:5]\n",
    "df_vente_par_jour[0:5].head(10).plot.bar(x='Commune', rot=75)"
   ]
  },
  {
   "cell_type": "markdown",
   "metadata": {},
   "source": [
    "La ville d'Argenteuil est la commune qui a enregistré le plus de vente le même jour: 1030 ventes le 30 Juillet 2018. Suivi par la commune de Soissons avec 749 ventes le 20 Avril 2018."
   ]
  },
  {
   "cell_type": "code",
   "execution_count": 36,
   "metadata": {},
   "outputs": [
    {
     "name": "stdout",
     "output_type": "stream",
     "text": [
      "Vente par habitant à ARGENTEUIL le 2018-07-30 00:00:00: 10.88\n",
      "Vente par habitant à SOISSONS le 2018-04-20 00:00:00: 38.09\n"
     ]
    }
   ],
   "source": [
    "hab_argenteuil = 11210 # source Wikipedia\n",
    "print(\"Vente par habitant à {} le {}: {}\".format(df_vente_par_jour.index[0][1],df_vente_par_jour.index[0][0],round(hab_argenteuil/df_vente_par_jour[0],2)))\n",
    "hab_soissons = 28530 # source Wikipedia\n",
    "print(\"Vente par habitant à {} le {}: {}\".format(df_vente_par_jour.index[1][1],df_vente_par_jour.index[1][0], round(hab_soissons/df_vente_par_jour[1],2)))"
   ]
  },
  {
   "cell_type": "code",
   "execution_count": 37,
   "metadata": {},
   "outputs": [
    {
     "data": {
      "text/plain": [
       "Text(0.5, 1.0, 'Nombre de vente par ville')"
      ]
     },
     "execution_count": 37,
     "metadata": {},
     "output_type": "execute_result"
    },
    {
     "data": {
      "image/png": "[encoded data removed]",
      "text/plain": [
       "<Figure size 720x360 with 1 Axes>"
      ]
     },
     "metadata": {
      "needs_background": "light"
     },
     "output_type": "display_data"
    }
   ],
   "source": [
    "se_vente_commune = df_ve.commune.value_counts()\n",
    "plt.figure(figsize=(10,5))\n",
    "ax = se_vente_commune.head(10).plot.bar(x='Commune', rot=45)\n",
    "ax.set_title('Nombre de vente par ville')"
   ]
  },
  {
   "cell_type": "markdown",
   "metadata": {},
   "source": [
    "La ville de Toulouse a enregistré le plus grand nombre de vente en 2018, suivi par Nice et Nantes."
   ]
  },
  {
   "cell_type": "code",
   "execution_count": 38,
   "metadata": {},
   "outputs": [
    {
     "data": {
      "text/plain": [
       "<matplotlib.axes._subplots.AxesSubplot at 0x1a22e60ad0>"
      ]
     },
     "execution_count": 38,
     "metadata": {},
     "output_type": "execute_result"
    },
    {
     "data": {
      "image/png": "[encoded data removed]",
      "text/plain": [
       "<Figure size 432x288 with 1 Axes>"
      ]
     },
     "metadata": {
      "needs_background": "light"
     },
     "output_type": "display_data"
    }
   ],
   "source": [
    "se_vente_commune.plot.box()"
   ]
  },
  {
   "cell_type": "code",
   "execution_count": 85,
   "metadata": {},
   "outputs": [
    {
     "data": {
      "text/plain": [
       "Index(['TOULOUSE', 'NICE', 'NANTES', 'BORDEAUX', 'MONTPELLIER', 'LILLE',\n",
       "       'SAINT-ETIENNE', 'NIMES', 'PARIS 16', 'DIJON'],\n",
       "      dtype='object')"
      ]
     },
     "execution_count": 85,
     "metadata": {},
     "output_type": "execute_result"
    }
   ],
   "source": [
    "se_vente_commune.head(10).index"
   ]
  },
  {
   "cell_type": "code",
   "execution_count": 108,
   "metadata": {},
   "outputs": [],
   "source": [
    "df_best_city = df_ve[df_ve['commune'].isin(se_vente_commune.head(10).index)]\n",
    "df_best_city = df_best_city[df_best_city.valeur_fonciere < df_best_city.valeur_fonciere.quantile(.95)]\n",
    "df_best_city = df_best_city[df_best_city.valeur_fonciere > df_best_city.valeur_fonciere.quantile(.05)]"
   ]
  },
  {
   "cell_type": "code",
   "execution_count": 115,
   "metadata": {},
   "outputs": [],
   "source": [
    "order=df_best_city.valeur_fonciere.groupby(df_best_city.commune).median().sort_values(ascending=False)"
   ]
  },
  {
   "cell_type": "code",
   "execution_count": 116,
   "metadata": {},
   "outputs": [
    {
     "data": {
      "text/plain": [
       "commune\n",
       "PARIS 16         472159.0\n",
       "BORDEAUX         260000.0\n",
       "NICE             200000.0\n",
       "LILLE            175000.0\n",
       "NANTES           172000.0\n",
       "TOULOUSE         159000.0\n",
       "MONTPELLIER      150000.0\n",
       "NIMES            129000.0\n",
       "DIJON            126550.0\n",
       "SAINT-ETIENNE     83000.0\n",
       "Name: valeur_fonciere, dtype: float64"
      ]
     },
     "execution_count": 116,
     "metadata": {},
     "output_type": "execute_result"
    }
   ],
   "source": [
    "order"
   ]
  },
  {
   "cell_type": "code",
   "execution_count": 117,
   "metadata": {},
   "outputs": [
    {
     "data": {
      "text/html": [
       "<div>\n",
       "<style scoped>\n",
       "    .dataframe tbody tr th:only-of-type {\n",
       "        vertical-align: middle;\n",
       "    }\n",
       "\n",
       "    .dataframe tbody tr th {\n",
       "        vertical-align: top;\n",
       "    }\n",
       "\n",
       "    .dataframe thead th {\n",
       "        text-align: right;\n",
       "    }\n",
       "</style>\n",
       "<table border=\"1\" class=\"dataframe\">\n",
       "  <thead>\n",
       "    <tr style=\"text-align: right;\">\n",
       "      <th></th>\n",
       "      <th>no_disposition</th>\n",
       "      <th>date_mutation</th>\n",
       "      <th>nature_mutation</th>\n",
       "      <th>valeur_fonciere</th>\n",
       "      <th>no_voie</th>\n",
       "      <th>b/t/q</th>\n",
       "      <th>type_de_voie</th>\n",
       "      <th>code_voie</th>\n",
       "      <th>voie</th>\n",
       "      <th>code_postal</th>\n",
       "      <th>commune</th>\n",
       "      <th>code_departement</th>\n",
       "      <th>code_commune</th>\n",
       "      <th>prefixe_de_section</th>\n",
       "      <th>section</th>\n",
       "      <th>no_plan</th>\n",
       "      <th>no_volume</th>\n",
       "      <th>1er_lot</th>\n",
       "      <th>surface_carrez_du_1er_lot</th>\n",
       "      <th>2eme_lot</th>\n",
       "      <th>surface_carrez_du_2eme_lot</th>\n",
       "      <th>3eme_lot</th>\n",
       "      <th>surface_carrez_du_3eme_lot</th>\n",
       "      <th>4eme_lot</th>\n",
       "      <th>surface_carrez_du_4eme_lot</th>\n",
       "      <th>5eme_lot</th>\n",
       "      <th>surface_carrez_du_5eme_lot</th>\n",
       "      <th>nombre_de_lots</th>\n",
       "      <th>code_type_local</th>\n",
       "      <th>type_local</th>\n",
       "      <th>surface_reelle_bati</th>\n",
       "      <th>nombre_pieces_principales</th>\n",
       "      <th>nature_culture</th>\n",
       "      <th>nature_culture_speciale</th>\n",
       "      <th>surface_terrain</th>\n",
       "      <th>month</th>\n",
       "      <th>sign_month</th>\n",
       "      <th>dayofweek</th>\n",
       "    </tr>\n",
       "  </thead>\n",
       "  <tbody>\n",
       "    <tr>\n",
       "      <th>3030073</th>\n",
       "      <td>1</td>\n",
       "      <td>2018-01-12</td>\n",
       "      <td>Vente</td>\n",
       "      <td>1499740.0</td>\n",
       "      <td>2.0</td>\n",
       "      <td>NaN</td>\n",
       "      <td>AV</td>\n",
       "      <td>8145</td>\n",
       "      <td>RENE BOYLESVE</td>\n",
       "      <td>75016.0</td>\n",
       "      <td>PARIS 16</td>\n",
       "      <td>75</td>\n",
       "      <td>116</td>\n",
       "      <td>NaN</td>\n",
       "      <td>CF</td>\n",
       "      <td>33</td>\n",
       "      <td>NaN</td>\n",
       "      <td>30</td>\n",
       "      <td>142.85</td>\n",
       "      <td>NaN</td>\n",
       "      <td>NaN</td>\n",
       "      <td>NaN</td>\n",
       "      <td>NaN</td>\n",
       "      <td>NaN</td>\n",
       "      <td>NaN</td>\n",
       "      <td>NaN</td>\n",
       "      <td>NaN</td>\n",
       "      <td>1</td>\n",
       "      <td>2.0</td>\n",
       "      <td>Appartement</td>\n",
       "      <td>129.0</td>\n",
       "      <td>3.0</td>\n",
       "      <td>NaN</td>\n",
       "      <td>NaN</td>\n",
       "      <td>NaN</td>\n",
       "      <td>1</td>\n",
       "      <td>-2</td>\n",
       "      <td>4</td>\n",
       "    </tr>\n",
       "    <tr>\n",
       "      <th>3030071</th>\n",
       "      <td>1</td>\n",
       "      <td>2018-01-12</td>\n",
       "      <td>Vente</td>\n",
       "      <td>1499740.0</td>\n",
       "      <td>2.0</td>\n",
       "      <td>NaN</td>\n",
       "      <td>AV</td>\n",
       "      <td>8145</td>\n",
       "      <td>RENE BOYLESVE</td>\n",
       "      <td>75016.0</td>\n",
       "      <td>PARIS 16</td>\n",
       "      <td>75</td>\n",
       "      <td>116</td>\n",
       "      <td>NaN</td>\n",
       "      <td>CF</td>\n",
       "      <td>33</td>\n",
       "      <td>NaN</td>\n",
       "      <td>38</td>\n",
       "      <td>NaN</td>\n",
       "      <td>NaN</td>\n",
       "      <td>NaN</td>\n",
       "      <td>NaN</td>\n",
       "      <td>NaN</td>\n",
       "      <td>NaN</td>\n",
       "      <td>NaN</td>\n",
       "      <td>NaN</td>\n",
       "      <td>NaN</td>\n",
       "      <td>1</td>\n",
       "      <td>2.0</td>\n",
       "      <td>Appartement</td>\n",
       "      <td>9.0</td>\n",
       "      <td>1.0</td>\n",
       "      <td>NaN</td>\n",
       "      <td>NaN</td>\n",
       "      <td>NaN</td>\n",
       "      <td>1</td>\n",
       "      <td>-2</td>\n",
       "      <td>4</td>\n",
       "    </tr>\n",
       "    <tr>\n",
       "      <th>3030072</th>\n",
       "      <td>1</td>\n",
       "      <td>2018-01-12</td>\n",
       "      <td>Vente</td>\n",
       "      <td>1499740.0</td>\n",
       "      <td>2.0</td>\n",
       "      <td>NaN</td>\n",
       "      <td>AV</td>\n",
       "      <td>8145</td>\n",
       "      <td>RENE BOYLESVE</td>\n",
       "      <td>75016.0</td>\n",
       "      <td>PARIS 16</td>\n",
       "      <td>75</td>\n",
       "      <td>116</td>\n",
       "      <td>NaN</td>\n",
       "      <td>CF</td>\n",
       "      <td>33</td>\n",
       "      <td>NaN</td>\n",
       "      <td>100</td>\n",
       "      <td>NaN</td>\n",
       "      <td>NaN</td>\n",
       "      <td>NaN</td>\n",
       "      <td>NaN</td>\n",
       "      <td>NaN</td>\n",
       "      <td>NaN</td>\n",
       "      <td>NaN</td>\n",
       "      <td>NaN</td>\n",
       "      <td>NaN</td>\n",
       "      <td>1</td>\n",
       "      <td>3.0</td>\n",
       "      <td>Dépendance</td>\n",
       "      <td>0.0</td>\n",
       "      <td>0.0</td>\n",
       "      <td>NaN</td>\n",
       "      <td>NaN</td>\n",
       "      <td>NaN</td>\n",
       "      <td>1</td>\n",
       "      <td>-2</td>\n",
       "      <td>4</td>\n",
       "    </tr>\n",
       "    <tr>\n",
       "      <th>3030537</th>\n",
       "      <td>1</td>\n",
       "      <td>2018-02-12</td>\n",
       "      <td>Vente</td>\n",
       "      <td>1498000.0</td>\n",
       "      <td>3.0</td>\n",
       "      <td>NaN</td>\n",
       "      <td>RUE</td>\n",
       "      <td>5901</td>\n",
       "      <td>DE MAGDEBOURG</td>\n",
       "      <td>75016.0</td>\n",
       "      <td>PARIS 16</td>\n",
       "      <td>75</td>\n",
       "      <td>116</td>\n",
       "      <td>NaN</td>\n",
       "      <td>FR</td>\n",
       "      <td>54</td>\n",
       "      <td>NaN</td>\n",
       "      <td>12</td>\n",
       "      <td>NaN</td>\n",
       "      <td>13</td>\n",
       "      <td>NaN</td>\n",
       "      <td>31</td>\n",
       "      <td>NaN</td>\n",
       "      <td>NaN</td>\n",
       "      <td>NaN</td>\n",
       "      <td>NaN</td>\n",
       "      <td>NaN</td>\n",
       "      <td>3</td>\n",
       "      <td>2.0</td>\n",
       "      <td>Appartement</td>\n",
       "      <td>240.0</td>\n",
       "      <td>5.0</td>\n",
       "      <td>NaN</td>\n",
       "      <td>NaN</td>\n",
       "      <td>NaN</td>\n",
       "      <td>2</td>\n",
       "      <td>-1</td>\n",
       "      <td>0</td>\n",
       "    </tr>\n",
       "    <tr>\n",
       "      <th>3030902</th>\n",
       "      <td>1</td>\n",
       "      <td>2018-03-07</td>\n",
       "      <td>Vente</td>\n",
       "      <td>1495550.0</td>\n",
       "      <td>24.0</td>\n",
       "      <td>NaN</td>\n",
       "      <td>AV</td>\n",
       "      <td>5294</td>\n",
       "      <td>DE LAMBALLE</td>\n",
       "      <td>75016.0</td>\n",
       "      <td>PARIS 16</td>\n",
       "      <td>75</td>\n",
       "      <td>116</td>\n",
       "      <td>NaN</td>\n",
       "      <td>CE</td>\n",
       "      <td>3</td>\n",
       "      <td>NaN</td>\n",
       "      <td>12</td>\n",
       "      <td>NaN</td>\n",
       "      <td>NaN</td>\n",
       "      <td>NaN</td>\n",
       "      <td>NaN</td>\n",
       "      <td>NaN</td>\n",
       "      <td>NaN</td>\n",
       "      <td>NaN</td>\n",
       "      <td>NaN</td>\n",
       "      <td>NaN</td>\n",
       "      <td>1</td>\n",
       "      <td>3.0</td>\n",
       "      <td>Dépendance</td>\n",
       "      <td>0.0</td>\n",
       "      <td>0.0</td>\n",
       "      <td>NaN</td>\n",
       "      <td>NaN</td>\n",
       "      <td>NaN</td>\n",
       "      <td>3</td>\n",
       "      <td>0</td>\n",
       "      <td>2</td>\n",
       "    </tr>\n",
       "  </tbody>\n",
       "</table>\n",
       "</div>"
      ],
      "text/plain": [
       "         no_disposition date_mutation nature_mutation  valeur_fonciere  \\\n",
       "3030073               1    2018-01-12           Vente        1499740.0   \n",
       "3030071               1    2018-01-12           Vente        1499740.0   \n",
       "3030072               1    2018-01-12           Vente        1499740.0   \n",
       "3030537               1    2018-02-12           Vente        1498000.0   \n",
       "3030902               1    2018-03-07           Vente        1495550.0   \n",
       "\n",
       "         no_voie b/t/q type_de_voie code_voie           voie  code_postal  \\\n",
       "3030073      2.0   NaN           AV      8145  RENE BOYLESVE      75016.0   \n",
       "3030071      2.0   NaN           AV      8145  RENE BOYLESVE      75016.0   \n",
       "3030072      2.0   NaN           AV      8145  RENE BOYLESVE      75016.0   \n",
       "3030537      3.0   NaN          RUE      5901  DE MAGDEBOURG      75016.0   \n",
       "3030902     24.0   NaN           AV      5294    DE LAMBALLE      75016.0   \n",
       "\n",
       "          commune code_departement  code_commune  prefixe_de_section section  \\\n",
       "3030073  PARIS 16               75           116                 NaN      CF   \n",
       "3030071  PARIS 16               75           116                 NaN      CF   \n",
       "3030072  PARIS 16               75           116                 NaN      CF   \n",
       "3030537  PARIS 16               75           116                 NaN      FR   \n",
       "3030902  PARIS 16               75           116                 NaN      CE   \n",
       "\n",
       "         no_plan no_volume 1er_lot  surface_carrez_du_1er_lot 2eme_lot  \\\n",
       "3030073       33       NaN      30                     142.85      NaN   \n",
       "3030071       33       NaN      38                        NaN      NaN   \n",
       "3030072       33       NaN     100                        NaN      NaN   \n",
       "3030537       54       NaN      12                        NaN       13   \n",
       "3030902        3       NaN      12                        NaN      NaN   \n",
       "\n",
       "         surface_carrez_du_2eme_lot 3eme_lot  surface_carrez_du_3eme_lot  \\\n",
       "3030073                         NaN      NaN                         NaN   \n",
       "3030071                         NaN      NaN                         NaN   \n",
       "3030072                         NaN      NaN                         NaN   \n",
       "3030537                         NaN       31                         NaN   \n",
       "3030902                         NaN      NaN                         NaN   \n",
       "\n",
       "         4eme_lot  surface_carrez_du_4eme_lot 5eme_lot  \\\n",
       "3030073       NaN                         NaN      NaN   \n",
       "3030071       NaN                         NaN      NaN   \n",
       "3030072       NaN                         NaN      NaN   \n",
       "3030537       NaN                         NaN      NaN   \n",
       "3030902       NaN                         NaN      NaN   \n",
       "\n",
       "         surface_carrez_du_5eme_lot  nombre_de_lots  code_type_local  \\\n",
       "3030073                         NaN               1              2.0   \n",
       "3030071                         NaN               1              2.0   \n",
       "3030072                         NaN               1              3.0   \n",
       "3030537                         NaN               3              2.0   \n",
       "3030902                         NaN               1              3.0   \n",
       "\n",
       "          type_local  surface_reelle_bati  nombre_pieces_principales  \\\n",
       "3030073  Appartement                129.0                        3.0   \n",
       "3030071  Appartement                  9.0                        1.0   \n",
       "3030072   Dépendance                  0.0                        0.0   \n",
       "3030537  Appartement                240.0                        5.0   \n",
       "3030902   Dépendance                  0.0                        0.0   \n",
       "\n",
       "        nature_culture nature_culture_speciale  surface_terrain  month  \\\n",
       "3030073            NaN                     NaN              NaN      1   \n",
       "3030071            NaN                     NaN              NaN      1   \n",
       "3030072            NaN                     NaN              NaN      1   \n",
       "3030537            NaN                     NaN              NaN      2   \n",
       "3030902            NaN                     NaN              NaN      3   \n",
       "\n",
       "         sign_month  dayofweek  \n",
       "3030073          -2          4  \n",
       "3030071          -2          4  \n",
       "3030072          -2          4  \n",
       "3030537          -1          0  \n",
       "3030902           0          2  "
      ]
     },
     "execution_count": 117,
     "metadata": {},
     "output_type": "execute_result"
    }
   ],
   "source": [
    "df_best_city.head()"
   ]
  },
  {
   "cell_type": "code",
   "execution_count": 118,
   "metadata": {},
   "outputs": [
    {
     "data": {
      "text/plain": [
       "Text(0, 0.5, 'Valeur foncière')"
      ]
     },
     "execution_count": 118,
     "metadata": {},
     "output_type": "execute_result"
    },
    {
     "data": {
      "image/png": "[encoded data removed]",
      "text/plain": [
       "<Figure size 1440x720 with 1 Axes>"
      ]
     },
     "metadata": {
      "needs_background": "light"
     },
     "output_type": "display_data"
    }
   ],
   "source": [
    "plt.figure(figsize=(20,10))\n",
    "ax = sns.boxplot(x=df_best_city.commune, y=df_best_city.valeur_fonciere, order=order.index)\n",
    "#ax.set_yscale('log', basey=2)\n",
    "ax.set_title('Relation entre la commune et la valeur foncière')\n",
    "ax.set_xlabel('Commune')\n",
    "ax.set_ylabel('Valeur foncière')"
   ]
  },
  {
   "cell_type": "code",
   "execution_count": 121,
   "metadata": {},
   "outputs": [
    {
     "data": {
      "text/plain": [
       "81000.0"
      ]
     },
     "execution_count": 121,
     "metadata": {},
     "output_type": "execute_result"
    }
   ],
   "source": [
    "df_ve[df_ve['commune']=='SAINT-ETIENNE'].valeur_fonciere.median()"
   ]
  },
  {
   "cell_type": "markdown",
   "metadata": {},
   "source": [
    "##### Etude des vente en l'état futur d'achèvement"
   ]
  },
  {
   "cell_type": "code",
   "execution_count": null,
   "metadata": {},
   "outputs": [],
   "source": [
    "df_vefa = df[df['nature_mutation']=='Vente en l\\'état futur d\\'achèvement'].sort_values(by='valeur_fonciere', ascending=False)\n",
    "df_vefa.head(1)"
   ]
  },
  {
   "cell_type": "markdown",
   "metadata": {},
   "source": [
    "La vente en l'état futur d'achèvement la plus chère est de 161.633.440€ réalisée le 1er Août 2018. L'adresse correspond à la mairie du 4éme arrondissement de Paris."
   ]
  },
  {
   "cell_type": "code",
   "execution_count": null,
   "metadata": {},
   "outputs": [],
   "source": [
    "se_vefa_commune = df_vefa.commune.value_counts()\n",
    "ax = se_vefa_commune.head(10).plot.bar(x='Commune', rot=45)\n",
    "ax.set_title('Nombre de vefa par ville')"
   ]
  },
  {
   "cell_type": "markdown",
   "metadata": {},
   "source": [
    "La ville de Toulouse est aussi la ville qui a enregistré le plus grand nombre de Vefa en 2018. Suivi par la ville de Nantes (2éme dans le classement des Ventes). Nice, 3éme dans le classement des ventes, reste dans le top 10 des villes avec le plus de Vefa."
   ]
  },
  {
   "cell_type": "code",
   "execution_count": null,
   "metadata": {},
   "outputs": [],
   "source": [
    "se_vefa_commune.plot.box()"
   ]
  },
  {
   "cell_type": "markdown",
   "metadata": {},
   "source": [
    "##### Etude des ventes de terrain à bâtir"
   ]
  },
  {
   "cell_type": "code",
   "execution_count": null,
   "metadata": {},
   "outputs": [],
   "source": [
    "df_vtb = df[df['nature_mutation']=='Vente terrain à bâtir'].sort_values(by='valeur_fonciere', ascending=False)\n",
    "df_vtb.head(3)"
   ]
  },
  {
   "cell_type": "markdown",
   "metadata": {},
   "source": [
    "La vente de terrain la plus chère a été réalisé à la Fos-Sur-Mer pour un montant de 32.760.000€ pour une surface de terrain à bâtir de 42.753 m2"
   ]
  },
  {
   "cell_type": "code",
   "execution_count": null,
   "metadata": {},
   "outputs": [],
   "source": [
    "se_vtb_commune = df_vtb.commune.value_counts()\n",
    "ax = se_vtb_commune.head(10).plot.bar(x='Commune', rot=75)\n",
    "ax.set_title('Nombre de vtb par ville')"
   ]
  },
  {
   "cell_type": "markdown",
   "metadata": {},
   "source": [
    "La ville des Castelnau-le-lez enregistre le plus grand nombre de vente de terrain à bâtir."
   ]
  },
  {
   "cell_type": "markdown",
   "metadata": {},
   "source": [
    "##### Numéro de voie"
   ]
  },
  {
   "cell_type": "code",
   "execution_count": null,
   "metadata": {
    "scrolled": true
   },
   "outputs": [],
   "source": [
    "df['no_voie'].isnull().sum()"
   ]
  },
  {
   "cell_type": "code",
   "execution_count": null,
   "metadata": {},
   "outputs": [],
   "source": [
    "plt.figure(figsize=(30,10))\n",
    "df['no_voie'].value_counts().head(50).plot(kind=\"bar\", position=1)"
   ]
  },
  {
   "cell_type": "markdown",
   "metadata": {},
   "source": [
    "Alors qu'il y a une continuité dans la diminutaion de la fréquence des numéro de voies, il y a moins de numéro 13 que de numéro 14. Il y a aussi moins de numéro 9 que de numéro 10.\n",
    "Le fait étrange est qu'il y a le numéro 9001 qui arrive dnas le top 20 des numéros de rue."
   ]
  },
  {
   "cell_type": "code",
   "execution_count": null,
   "metadata": {},
   "outputs": [],
   "source": [
    "plt.figure(figsize=(20,10))\n",
    "ax = sns.scatterplot(x=df.no_voie, y=df.valeur_fonciere)\n",
    "ax.set_yscale('log', basey=2)\n",
    "ax.set_title('Relation entre le n° de voie et la valeur foncière')\n",
    "ax.set_xlabel('N° de voie')\n",
    "ax.set_ylabel('Valeur foncière (log2)')"
   ]
  },
  {
   "cell_type": "code",
   "execution_count": null,
   "metadata": {},
   "outputs": [],
   "source": [
    "plt.figure(figsize=(20,10))\n",
    "ax = sns.scatterplot(x=df_voie_vafonc.no_voie, y=df_voie.valeur_fonciere)\n",
    "ax.set_yscale('log', basey=2)\n",
    "ax.set_title('Relation entre la quantité d\\'un numéro de voie et la valeur foncière')\n",
    "ax.set_xlabel('N° de voie')\n",
    "ax.set_ylabel('Valeur foncière (log2)')"
   ]
  },
  {
   "cell_type": "code",
   "execution_count": null,
   "metadata": {},
   "outputs": [],
   "source": [
    "df.no_voie.plot.box()"
   ]
  },
  {
   "cell_type": "markdown",
   "metadata": {},
   "source": [
    "Il sera probablement de se servir de cet attribut tant la donnée semble aberrante. Il semble qu'il y est un mixte entre plusieurs colonnes (code voie?). Plusieurs numéro de voie commence à 5000 et un deuxième groupe à 9000."
   ]
  },
  {
   "cell_type": "markdown",
   "metadata": {},
   "source": [
    "##### Etude de la colonne b/t/q"
   ]
  },
  {
   "cell_type": "code",
   "execution_count": null,
   "metadata": {},
   "outputs": [],
   "source": [
    "df['b/t/q'].isnull().sum()"
   ]
  },
  {
   "cell_type": "markdown",
   "metadata": {},
   "source": [
    "Cette colonne est quasi-vide."
   ]
  },
  {
   "cell_type": "markdown",
   "metadata": {},
   "source": [
    "##### Etude de la colonne Type de voie"
   ]
  },
  {
   "cell_type": "code",
   "execution_count": null,
   "metadata": {},
   "outputs": [],
   "source": [
    "df['type_de_voie'].isnull().sum()"
   ]
  },
  {
   "cell_type": "code",
   "execution_count": null,
   "metadata": {},
   "outputs": [],
   "source": [
    "se_type_de_voie = df.type_de_voie.value_counts()\n",
    "ax = se_type_de_voie.head(10).plot.bar(rot=75)\n",
    "ax.set_title('Quantité des types de voie')"
   ]
  },
  {
   "cell_type": "markdown",
   "metadata": {},
   "source": [
    "La majorité des biens en mutation en 2018 sont dans des rues, suivi par les avenues"
   ]
  },
  {
   "cell_type": "code",
   "execution_count": null,
   "metadata": {},
   "outputs": [],
   "source": [
    "df_type_de_voie = df.groupby('type_de_voie', as_index=False)['valeur_fonciere'].median()\n",
    "df_type_de_voie.sort_values('valeur_fonciere', ascending=False).head(20).plot(kind=\"bar\", x='type_de_voie')"
   ]
  },
  {
   "cell_type": "code",
   "execution_count": null,
   "metadata": {},
   "outputs": [],
   "source": [
    "df_type_de_voie.plot.box()"
   ]
  },
  {
   "cell_type": "markdown",
   "metadata": {},
   "source": [
    "##### Etude des communes"
   ]
  },
  {
   "cell_type": "code",
   "execution_count": null,
   "metadata": {},
   "outputs": [],
   "source": [
    "df['commune'].isnull().sum()"
   ]
  },
  {
   "cell_type": "code",
   "execution_count": null,
   "metadata": {},
   "outputs": [],
   "source": [
    "df_commune = df.groupby('commune', as_index=False)['valeur_fonciere'].mean()\n",
    "df_commune.sort_values('valeur_fonciere', ascending=False).head(10).plot(kind=\"bar\", x='commune', title='Moyenne des ventes par communes',figsize=(30,10))"
   ]
  },
  {
   "cell_type": "code",
   "execution_count": null,
   "metadata": {},
   "outputs": [],
   "source": [
    "df_commune = df.groupby('commune', as_index=False)['valeur_fonciere'].median()\n",
    "df_commune.sort_values('valeur_fonciere', ascending=False).head(10).plot(kind=\"bar\", x='commune', title='Moyenne des ventes par communes',figsize=(30,10))"
   ]
  },
  {
   "cell_type": "code",
   "execution_count": null,
   "metadata": {},
   "outputs": [],
   "source": []
  },
  {
   "cell_type": "code",
   "execution_count": null,
   "metadata": {},
   "outputs": [],
   "source": []
  }
 ],
 "metadata": {
  "kernelspec": {
   "display_name": "Python 3",
   "language": "python",
   "name": "python3"
  },
  "language_info": {
   "codemirror_mode": {
    "name": "ipython",
    "version": 3
   },
   "file_extension": ".py",
   "mimetype": "text/x-python",
   "name": "python",
   "nbconvert_exporter": "python",
   "pygments_lexer": "ipython3",
   "version": "3.7.6"
  },
  "toc": {
   "base_numbering": 1,
   "nav_menu": {},
   "number_sections": true,
   "sideBar": true,
   "skip_h1_title": false,
   "title_cell": "Table of Contents",
   "title_sidebar": "Contents",
   "toc_cell": false,
   "toc_position": {},
   "toc_section_display": true,
   "toc_window_display": false
  },
  "varInspector": {
   "cols": {
    "lenName": 16,
    "lenType": 16,
    "lenVar": 40
   },
   "kernels_config": {
    "python": {
     "delete_cmd_postfix": "",
     "delete_cmd_prefix": "del ",
     "library": "var_list.py",
     "varRefreshCmd": "print(var_dic_list())"
    },
    "r": {
     "delete_cmd_postfix": ") ",
     "delete_cmd_prefix": "rm(",
     "library": "var_list.r",
     "varRefreshCmd": "cat(var_dic_list()) "
    }
   },
   "types_to_exclude": [
    "module",
    "function",
    "builtin_function_or_method",
    "instance",
    "_Feature"
   ],
   "window_display": false
  }
 },
 "nbformat": 4,
 "nbformat_minor": 2
}
