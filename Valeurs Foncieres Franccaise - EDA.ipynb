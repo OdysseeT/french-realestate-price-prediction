{
 "cells": [
  {
   "cell_type": "markdown",
   "metadata": {},
   "source": [
    "# Etudes des valeurs foncières Française\n",
    "### Liens: https://www.data.gouv.fr/fr/datasets/demandes-de-valeurs-foncieres/\n",
    "\n",
    "Framework: Scikit Learn"
   ]
  },
  {
   "cell_type": "code",
   "execution_count": 2,
   "metadata": {},
   "outputs": [],
   "source": [
    "import numpy as np\n",
    "import pandas as pd\n",
    "\n",
    "import missingno as msno\n",
    "\n",
    "import matplotlib.pyplot as plt\n",
    "import seaborn as sns"
   ]
  },
  {
   "cell_type": "markdown",
   "metadata": {},
   "source": [
    "#### Chargement du fichiers des valeurs foncières de 2018"
   ]
  },
  {
   "cell_type": "code",
   "execution_count": 3,
   "metadata": {},
   "outputs": [
    {
     "name": "stderr",
     "output_type": "stream",
     "text": [
      "/Users/odyssee/opt/anaconda3/lib/python3.7/site-packages/IPython/core/interactiveshell.py:3051: DtypeWarning: Columns (18,23,24,26,28,32,41) have mixed types. Specify dtype option on import or set low_memory=False.\n",
      "  interactivity=interactivity, compiler=compiler, result=result)\n"
     ]
    }
   ],
   "source": [
    "dateparse = lambda x: pd.datetime.strptime(x, '%d/%m/%Y') # 03/01/2018\n",
    "df = pd.read_csv('valeursfoncieres-2018.txt', sep='|', decimal=\",\", parse_dates=['Date mutation'], date_parser=dateparse)"
   ]
  },
  {
   "cell_type": "markdown",
   "metadata": {},
   "source": [
    "#### Renomme les colonnes"
   ]
  },
  {
   "cell_type": "code",
   "execution_count": 4,
   "metadata": {},
   "outputs": [],
   "source": [
    "import unidecode\n",
    "\n",
    "columns = {}\n",
    "for index, column_name in enumerate(df.columns):\n",
    "    columns[column_name] = unidecode.unidecode(column_name.replace(' ','_').replace('\\'','_').lower())\n",
    "df.rename(columns=columns, inplace=True)"
   ]
  },
  {
   "cell_type": "markdown",
   "metadata": {},
   "source": [
    "## Nettoyage des données simple"
   ]
  },
  {
   "cell_type": "markdown",
   "metadata": {},
   "source": [
    "#### Analyse des données manquantes"
   ]
  },
  {
   "cell_type": "code",
   "execution_count": 5,
   "metadata": {},
   "outputs": [],
   "source": [
    "def missing_values_assessment(df):\n",
    "    nan_values = df.isnull().sum().sum()\n",
    "    print('Nombre d\\'observations: {:,}'.format(len(df)))\n",
    "    print('Nombre de valeurs: {:,}'.format(df.size))\n",
    "    print('Valeurs manquantes: {:,}'.format(nan_values))\n",
    "    print('Qualité des données: {}%'.format(100-round((nan_values/df.size)*100,2)))\n",
    "    print('Type de données:\\n {}%'.format(df.dtypes.value_counts()))\n",
    "    analysis = {'Manquant': df.isnull().sum(),\n",
    "                'Manquant %':round((df.isnull().sum()/len(df))*100, 2),\n",
    "                'Type':df.dtypes\n",
    "               }\n",
    "    return pd.DataFrame(analysis)"
   ]
  },
  {
   "cell_type": "code",
   "execution_count": 6,
   "metadata": {
    "scrolled": false
   },
   "outputs": [
    {
     "name": "stdout",
     "output_type": "stream",
     "text": [
      "Nombre d'observations: 3,059,537\n",
      "Nombre de valeurs: 131,560,091\n",
      "Valeurs manquantes: 75,853,849\n",
      "Qualité des données: 42.34%\n",
      "Type de données:\n",
      " float64           22\n",
      "object            16\n",
      "int64              4\n",
      "datetime64[ns]     1\n",
      "dtype: int64%\n"
     ]
    },
    {
     "data": {
      "text/html": [
       "<div>\n",
       "<style scoped>\n",
       "    .dataframe tbody tr th:only-of-type {\n",
       "        vertical-align: middle;\n",
       "    }\n",
       "\n",
       "    .dataframe tbody tr th {\n",
       "        vertical-align: top;\n",
       "    }\n",
       "\n",
       "    .dataframe thead th {\n",
       "        text-align: right;\n",
       "    }\n",
       "</style>\n",
       "<table border=\"1\" class=\"dataframe\">\n",
       "  <thead>\n",
       "    <tr style=\"text-align: right;\">\n",
       "      <th></th>\n",
       "      <th>Manquant</th>\n",
       "      <th>Manquant %</th>\n",
       "      <th>Type</th>\n",
       "    </tr>\n",
       "  </thead>\n",
       "  <tbody>\n",
       "    <tr>\n",
       "      <th>code_service_ch</th>\n",
       "      <td>3059537</td>\n",
       "      <td>100.00</td>\n",
       "      <td>float64</td>\n",
       "    </tr>\n",
       "    <tr>\n",
       "      <th>4_articles_cgi</th>\n",
       "      <td>3059537</td>\n",
       "      <td>100.00</td>\n",
       "      <td>float64</td>\n",
       "    </tr>\n",
       "    <tr>\n",
       "      <th>reference_document</th>\n",
       "      <td>3059537</td>\n",
       "      <td>100.00</td>\n",
       "      <td>float64</td>\n",
       "    </tr>\n",
       "    <tr>\n",
       "      <th>5_articles_cgi</th>\n",
       "      <td>3059537</td>\n",
       "      <td>100.00</td>\n",
       "      <td>float64</td>\n",
       "    </tr>\n",
       "    <tr>\n",
       "      <th>identifiant_local</th>\n",
       "      <td>3059537</td>\n",
       "      <td>100.00</td>\n",
       "      <td>float64</td>\n",
       "    </tr>\n",
       "    <tr>\n",
       "      <th>3_articles_cgi</th>\n",
       "      <td>3059537</td>\n",
       "      <td>100.00</td>\n",
       "      <td>float64</td>\n",
       "    </tr>\n",
       "    <tr>\n",
       "      <th>2_articles_cgi</th>\n",
       "      <td>3059537</td>\n",
       "      <td>100.00</td>\n",
       "      <td>float64</td>\n",
       "    </tr>\n",
       "    <tr>\n",
       "      <th>1_articles_cgi</th>\n",
       "      <td>3059537</td>\n",
       "      <td>100.00</td>\n",
       "      <td>float64</td>\n",
       "    </tr>\n",
       "    <tr>\n",
       "      <th>surface_carrez_du_5eme_lot</th>\n",
       "      <td>3058845</td>\n",
       "      <td>99.98</td>\n",
       "      <td>float64</td>\n",
       "    </tr>\n",
       "    <tr>\n",
       "      <th>surface_carrez_du_4eme_lot</th>\n",
       "      <td>3057858</td>\n",
       "      <td>99.95</td>\n",
       "      <td>float64</td>\n",
       "    </tr>\n",
       "    <tr>\n",
       "      <th>5eme_lot</th>\n",
       "      <td>3054307</td>\n",
       "      <td>99.83</td>\n",
       "      <td>object</td>\n",
       "    </tr>\n",
       "    <tr>\n",
       "      <th>surface_carrez_du_3eme_lot</th>\n",
       "      <td>3053202</td>\n",
       "      <td>99.79</td>\n",
       "      <td>float64</td>\n",
       "    </tr>\n",
       "    <tr>\n",
       "      <th>no_volume</th>\n",
       "      <td>3050984</td>\n",
       "      <td>99.72</td>\n",
       "      <td>object</td>\n",
       "    </tr>\n",
       "    <tr>\n",
       "      <th>4eme_lot</th>\n",
       "      <td>3048424</td>\n",
       "      <td>99.64</td>\n",
       "      <td>float64</td>\n",
       "    </tr>\n",
       "    <tr>\n",
       "      <th>3eme_lot</th>\n",
       "      <td>3027692</td>\n",
       "      <td>98.96</td>\n",
       "      <td>object</td>\n",
       "    </tr>\n",
       "    <tr>\n",
       "      <th>surface_carrez_du_2eme_lot</th>\n",
       "      <td>2995607</td>\n",
       "      <td>97.91</td>\n",
       "      <td>float64</td>\n",
       "    </tr>\n",
       "    <tr>\n",
       "      <th>b/t/q</th>\n",
       "      <td>2928605</td>\n",
       "      <td>95.72</td>\n",
       "      <td>object</td>\n",
       "    </tr>\n",
       "    <tr>\n",
       "      <th>prefixe_de_section</th>\n",
       "      <td>2922620</td>\n",
       "      <td>95.52</td>\n",
       "      <td>float64</td>\n",
       "    </tr>\n",
       "    <tr>\n",
       "      <th>nature_culture_speciale</th>\n",
       "      <td>2917530</td>\n",
       "      <td>95.36</td>\n",
       "      <td>object</td>\n",
       "    </tr>\n",
       "    <tr>\n",
       "      <th>2eme_lot</th>\n",
       "      <td>2867895</td>\n",
       "      <td>93.74</td>\n",
       "      <td>object</td>\n",
       "    </tr>\n",
       "    <tr>\n",
       "      <th>surface_carrez_du_1er_lot</th>\n",
       "      <td>2796311</td>\n",
       "      <td>91.40</td>\n",
       "      <td>float64</td>\n",
       "    </tr>\n",
       "    <tr>\n",
       "      <th>1er_lot</th>\n",
       "      <td>2127078</td>\n",
       "      <td>69.52</td>\n",
       "      <td>object</td>\n",
       "    </tr>\n",
       "    <tr>\n",
       "      <th>surface_reelle_bati</th>\n",
       "      <td>1461178</td>\n",
       "      <td>47.76</td>\n",
       "      <td>float64</td>\n",
       "    </tr>\n",
       "    <tr>\n",
       "      <th>nombre_pieces_principales</th>\n",
       "      <td>1461178</td>\n",
       "      <td>47.76</td>\n",
       "      <td>float64</td>\n",
       "    </tr>\n",
       "    <tr>\n",
       "      <th>type_local</th>\n",
       "      <td>1458658</td>\n",
       "      <td>47.68</td>\n",
       "      <td>object</td>\n",
       "    </tr>\n",
       "    <tr>\n",
       "      <th>code_type_local</th>\n",
       "      <td>1458658</td>\n",
       "      <td>47.68</td>\n",
       "      <td>float64</td>\n",
       "    </tr>\n",
       "    <tr>\n",
       "      <th>type_de_voie</th>\n",
       "      <td>1329122</td>\n",
       "      <td>43.44</td>\n",
       "      <td>object</td>\n",
       "    </tr>\n",
       "    <tr>\n",
       "      <th>no_voie</th>\n",
       "      <td>1290316</td>\n",
       "      <td>42.17</td>\n",
       "      <td>float64</td>\n",
       "    </tr>\n",
       "    <tr>\n",
       "      <th>nature_culture</th>\n",
       "      <td>946443</td>\n",
       "      <td>30.93</td>\n",
       "      <td>object</td>\n",
       "    </tr>\n",
       "    <tr>\n",
       "      <th>surface_terrain</th>\n",
       "      <td>946443</td>\n",
       "      <td>30.93</td>\n",
       "      <td>float64</td>\n",
       "    </tr>\n",
       "    <tr>\n",
       "      <th>code_postal</th>\n",
       "      <td>30205</td>\n",
       "      <td>0.99</td>\n",
       "      <td>float64</td>\n",
       "    </tr>\n",
       "    <tr>\n",
       "      <th>voie</th>\n",
       "      <td>30120</td>\n",
       "      <td>0.98</td>\n",
       "      <td>object</td>\n",
       "    </tr>\n",
       "    <tr>\n",
       "      <th>code_voie</th>\n",
       "      <td>30070</td>\n",
       "      <td>0.98</td>\n",
       "      <td>object</td>\n",
       "    </tr>\n",
       "    <tr>\n",
       "      <th>valeur_fonciere</th>\n",
       "      <td>28117</td>\n",
       "      <td>0.92</td>\n",
       "      <td>float64</td>\n",
       "    </tr>\n",
       "    <tr>\n",
       "      <th>no_plan</th>\n",
       "      <td>0</td>\n",
       "      <td>0.00</td>\n",
       "      <td>int64</td>\n",
       "    </tr>\n",
       "    <tr>\n",
       "      <th>code_commune</th>\n",
       "      <td>0</td>\n",
       "      <td>0.00</td>\n",
       "      <td>int64</td>\n",
       "    </tr>\n",
       "    <tr>\n",
       "      <th>code_departement</th>\n",
       "      <td>0</td>\n",
       "      <td>0.00</td>\n",
       "      <td>object</td>\n",
       "    </tr>\n",
       "    <tr>\n",
       "      <th>commune</th>\n",
       "      <td>0</td>\n",
       "      <td>0.00</td>\n",
       "      <td>object</td>\n",
       "    </tr>\n",
       "    <tr>\n",
       "      <th>nombre_de_lots</th>\n",
       "      <td>0</td>\n",
       "      <td>0.00</td>\n",
       "      <td>int64</td>\n",
       "    </tr>\n",
       "    <tr>\n",
       "      <th>nature_mutation</th>\n",
       "      <td>0</td>\n",
       "      <td>0.00</td>\n",
       "      <td>object</td>\n",
       "    </tr>\n",
       "    <tr>\n",
       "      <th>date_mutation</th>\n",
       "      <td>0</td>\n",
       "      <td>0.00</td>\n",
       "      <td>datetime64[ns]</td>\n",
       "    </tr>\n",
       "    <tr>\n",
       "      <th>no_disposition</th>\n",
       "      <td>0</td>\n",
       "      <td>0.00</td>\n",
       "      <td>int64</td>\n",
       "    </tr>\n",
       "    <tr>\n",
       "      <th>section</th>\n",
       "      <td>87</td>\n",
       "      <td>0.00</td>\n",
       "      <td>object</td>\n",
       "    </tr>\n",
       "  </tbody>\n",
       "</table>\n",
       "</div>"
      ],
      "text/plain": [
       "                            Manquant  Manquant %            Type\n",
       "code_service_ch              3059537      100.00         float64\n",
       "4_articles_cgi               3059537      100.00         float64\n",
       "reference_document           3059537      100.00         float64\n",
       "5_articles_cgi               3059537      100.00         float64\n",
       "identifiant_local            3059537      100.00         float64\n",
       "3_articles_cgi               3059537      100.00         float64\n",
       "2_articles_cgi               3059537      100.00         float64\n",
       "1_articles_cgi               3059537      100.00         float64\n",
       "surface_carrez_du_5eme_lot   3058845       99.98         float64\n",
       "surface_carrez_du_4eme_lot   3057858       99.95         float64\n",
       "5eme_lot                     3054307       99.83          object\n",
       "surface_carrez_du_3eme_lot   3053202       99.79         float64\n",
       "no_volume                    3050984       99.72          object\n",
       "4eme_lot                     3048424       99.64         float64\n",
       "3eme_lot                     3027692       98.96          object\n",
       "surface_carrez_du_2eme_lot   2995607       97.91         float64\n",
       "b/t/q                        2928605       95.72          object\n",
       "prefixe_de_section           2922620       95.52         float64\n",
       "nature_culture_speciale      2917530       95.36          object\n",
       "2eme_lot                     2867895       93.74          object\n",
       "surface_carrez_du_1er_lot    2796311       91.40         float64\n",
       "1er_lot                      2127078       69.52          object\n",
       "surface_reelle_bati          1461178       47.76         float64\n",
       "nombre_pieces_principales    1461178       47.76         float64\n",
       "type_local                   1458658       47.68          object\n",
       "code_type_local              1458658       47.68         float64\n",
       "type_de_voie                 1329122       43.44          object\n",
       "no_voie                      1290316       42.17         float64\n",
       "nature_culture                946443       30.93          object\n",
       "surface_terrain               946443       30.93         float64\n",
       "code_postal                    30205        0.99         float64\n",
       "voie                           30120        0.98          object\n",
       "code_voie                      30070        0.98          object\n",
       "valeur_fonciere                28117        0.92         float64\n",
       "no_plan                            0        0.00           int64\n",
       "code_commune                       0        0.00           int64\n",
       "code_departement                   0        0.00          object\n",
       "commune                            0        0.00          object\n",
       "nombre_de_lots                     0        0.00           int64\n",
       "nature_mutation                    0        0.00          object\n",
       "date_mutation                      0        0.00  datetime64[ns]\n",
       "no_disposition                     0        0.00           int64\n",
       "section                           87        0.00          object"
      ]
     },
     "execution_count": 6,
     "metadata": {},
     "output_type": "execute_result"
    }
   ],
   "source": [
    "missing_values_assessment(df).sort_values('Manquant %', ascending=False)"
   ]
  },
  {
   "cell_type": "markdown",
   "metadata": {},
   "source": [
    "#### Supression des colonnes sans données"
   ]
  },
  {
   "cell_type": "code",
   "execution_count": 7,
   "metadata": {
    "scrolled": true
   },
   "outputs": [
    {
     "name": "stdout",
     "output_type": "stream",
     "text": [
      "Suppression de 8 colonnes sans données:\n",
      "['code_service_ch', 'reference_document', '1_articles_cgi', '2_articles_cgi', '3_articles_cgi', '4_articles_cgi', '5_articles_cgi', 'identifiant_local']\n"
     ]
    }
   ],
   "source": [
    "# Drop NaN columns\n",
    "orig_col = df.columns\n",
    "df.dropna(how='all', axis=1, inplace=True)\n",
    "print(\"Suppression de {} colonnes sans données:\".format(len(orig_col)-len(df.columns)))\n",
    "print([item for item in orig_col if item not in df.columns])"
   ]
  },
  {
   "cell_type": "markdown",
   "metadata": {},
   "source": [
    "#### Suppression des lignes en double"
   ]
  },
  {
   "cell_type": "code",
   "execution_count": 8,
   "metadata": {},
   "outputs": [
    {
     "data": {
      "text/html": [
       "<div>\n",
       "<style scoped>\n",
       "    .dataframe tbody tr th:only-of-type {\n",
       "        vertical-align: middle;\n",
       "    }\n",
       "\n",
       "    .dataframe tbody tr th {\n",
       "        vertical-align: top;\n",
       "    }\n",
       "\n",
       "    .dataframe thead th {\n",
       "        text-align: right;\n",
       "    }\n",
       "</style>\n",
       "<table border=\"1\" class=\"dataframe\">\n",
       "  <thead>\n",
       "    <tr style=\"text-align: right;\">\n",
       "      <th></th>\n",
       "      <th>no_disposition</th>\n",
       "      <th>date_mutation</th>\n",
       "      <th>nature_mutation</th>\n",
       "      <th>valeur_fonciere</th>\n",
       "      <th>no_voie</th>\n",
       "      <th>b/t/q</th>\n",
       "      <th>type_de_voie</th>\n",
       "      <th>code_voie</th>\n",
       "      <th>voie</th>\n",
       "      <th>code_postal</th>\n",
       "      <th>...</th>\n",
       "      <th>5eme_lot</th>\n",
       "      <th>surface_carrez_du_5eme_lot</th>\n",
       "      <th>nombre_de_lots</th>\n",
       "      <th>code_type_local</th>\n",
       "      <th>type_local</th>\n",
       "      <th>surface_reelle_bati</th>\n",
       "      <th>nombre_pieces_principales</th>\n",
       "      <th>nature_culture</th>\n",
       "      <th>nature_culture_speciale</th>\n",
       "      <th>surface_terrain</th>\n",
       "    </tr>\n",
       "  </thead>\n",
       "  <tbody>\n",
       "    <tr>\n",
       "      <th>212</th>\n",
       "      <td>1</td>\n",
       "      <td>2018-01-11</td>\n",
       "      <td>Vente</td>\n",
       "      <td>160000.0</td>\n",
       "      <td>3.0</td>\n",
       "      <td>NaN</td>\n",
       "      <td>PL</td>\n",
       "      <td>0082</td>\n",
       "      <td>DE LA RESISTANCE</td>\n",
       "      <td>1340.0</td>\n",
       "      <td>...</td>\n",
       "      <td>NaN</td>\n",
       "      <td>NaN</td>\n",
       "      <td>0</td>\n",
       "      <td>3.0</td>\n",
       "      <td>Dépendance</td>\n",
       "      <td>0.0</td>\n",
       "      <td>0.0</td>\n",
       "      <td>S</td>\n",
       "      <td>NaN</td>\n",
       "      <td>238.0</td>\n",
       "    </tr>\n",
       "    <tr>\n",
       "      <th>213</th>\n",
       "      <td>1</td>\n",
       "      <td>2018-01-11</td>\n",
       "      <td>Vente</td>\n",
       "      <td>160000.0</td>\n",
       "      <td>3.0</td>\n",
       "      <td>NaN</td>\n",
       "      <td>PL</td>\n",
       "      <td>0082</td>\n",
       "      <td>DE LA RESISTANCE</td>\n",
       "      <td>1340.0</td>\n",
       "      <td>...</td>\n",
       "      <td>NaN</td>\n",
       "      <td>NaN</td>\n",
       "      <td>0</td>\n",
       "      <td>3.0</td>\n",
       "      <td>Dépendance</td>\n",
       "      <td>0.0</td>\n",
       "      <td>0.0</td>\n",
       "      <td>S</td>\n",
       "      <td>NaN</td>\n",
       "      <td>238.0</td>\n",
       "    </tr>\n",
       "    <tr>\n",
       "      <th>287</th>\n",
       "      <td>1</td>\n",
       "      <td>2018-01-15</td>\n",
       "      <td>Vente</td>\n",
       "      <td>15000.0</td>\n",
       "      <td>5246.0</td>\n",
       "      <td>B</td>\n",
       "      <td>NaN</td>\n",
       "      <td>B050</td>\n",
       "      <td>COLIGNY LE HAUT</td>\n",
       "      <td>1270.0</td>\n",
       "      <td>...</td>\n",
       "      <td>NaN</td>\n",
       "      <td>NaN</td>\n",
       "      <td>0</td>\n",
       "      <td>3.0</td>\n",
       "      <td>Dépendance</td>\n",
       "      <td>0.0</td>\n",
       "      <td>0.0</td>\n",
       "      <td>S</td>\n",
       "      <td>NaN</td>\n",
       "      <td>92.0</td>\n",
       "    </tr>\n",
       "    <tr>\n",
       "      <th>288</th>\n",
       "      <td>1</td>\n",
       "      <td>2018-01-15</td>\n",
       "      <td>Vente</td>\n",
       "      <td>15000.0</td>\n",
       "      <td>5246.0</td>\n",
       "      <td>B</td>\n",
       "      <td>NaN</td>\n",
       "      <td>B050</td>\n",
       "      <td>COLIGNY LE HAUT</td>\n",
       "      <td>1270.0</td>\n",
       "      <td>...</td>\n",
       "      <td>NaN</td>\n",
       "      <td>NaN</td>\n",
       "      <td>0</td>\n",
       "      <td>3.0</td>\n",
       "      <td>Dépendance</td>\n",
       "      <td>0.0</td>\n",
       "      <td>0.0</td>\n",
       "      <td>S</td>\n",
       "      <td>NaN</td>\n",
       "      <td>92.0</td>\n",
       "    </tr>\n",
       "    <tr>\n",
       "      <th>318</th>\n",
       "      <td>1</td>\n",
       "      <td>2018-01-16</td>\n",
       "      <td>Vente</td>\n",
       "      <td>138000.0</td>\n",
       "      <td>18.0</td>\n",
       "      <td>NaN</td>\n",
       "      <td>RUE</td>\n",
       "      <td>0140</td>\n",
       "      <td>DOC SCHWEITZER</td>\n",
       "      <td>1000.0</td>\n",
       "      <td>...</td>\n",
       "      <td>NaN</td>\n",
       "      <td>NaN</td>\n",
       "      <td>0</td>\n",
       "      <td>2.0</td>\n",
       "      <td>Appartement</td>\n",
       "      <td>64.0</td>\n",
       "      <td>3.0</td>\n",
       "      <td>S</td>\n",
       "      <td>NaN</td>\n",
       "      <td>666.0</td>\n",
       "    </tr>\n",
       "    <tr>\n",
       "      <th>...</th>\n",
       "      <td>...</td>\n",
       "      <td>...</td>\n",
       "      <td>...</td>\n",
       "      <td>...</td>\n",
       "      <td>...</td>\n",
       "      <td>...</td>\n",
       "      <td>...</td>\n",
       "      <td>...</td>\n",
       "      <td>...</td>\n",
       "      <td>...</td>\n",
       "      <td>...</td>\n",
       "      <td>...</td>\n",
       "      <td>...</td>\n",
       "      <td>...</td>\n",
       "      <td>...</td>\n",
       "      <td>...</td>\n",
       "      <td>...</td>\n",
       "      <td>...</td>\n",
       "      <td>...</td>\n",
       "      <td>...</td>\n",
       "      <td>...</td>\n",
       "    </tr>\n",
       "    <tr>\n",
       "      <th>3059456</th>\n",
       "      <td>1</td>\n",
       "      <td>2018-12-21</td>\n",
       "      <td>Vente</td>\n",
       "      <td>33000000.0</td>\n",
       "      <td>11.0</td>\n",
       "      <td>NaN</td>\n",
       "      <td>PL</td>\n",
       "      <td>9917</td>\n",
       "      <td>DES VOSGES</td>\n",
       "      <td>75004.0</td>\n",
       "      <td>...</td>\n",
       "      <td>NaN</td>\n",
       "      <td>NaN</td>\n",
       "      <td>0</td>\n",
       "      <td>4.0</td>\n",
       "      <td>Local industriel. commercial ou assimilé</td>\n",
       "      <td>73.0</td>\n",
       "      <td>0.0</td>\n",
       "      <td>S</td>\n",
       "      <td>NaN</td>\n",
       "      <td>761.0</td>\n",
       "    </tr>\n",
       "    <tr>\n",
       "      <th>3059463</th>\n",
       "      <td>1</td>\n",
       "      <td>2018-12-21</td>\n",
       "      <td>Vente</td>\n",
       "      <td>33000000.0</td>\n",
       "      <td>11.0</td>\n",
       "      <td>NaN</td>\n",
       "      <td>PL</td>\n",
       "      <td>9917</td>\n",
       "      <td>DES VOSGES</td>\n",
       "      <td>75004.0</td>\n",
       "      <td>...</td>\n",
       "      <td>NaN</td>\n",
       "      <td>NaN</td>\n",
       "      <td>0</td>\n",
       "      <td>2.0</td>\n",
       "      <td>Appartement</td>\n",
       "      <td>40.0</td>\n",
       "      <td>2.0</td>\n",
       "      <td>S</td>\n",
       "      <td>NaN</td>\n",
       "      <td>761.0</td>\n",
       "    </tr>\n",
       "    <tr>\n",
       "      <th>3059464</th>\n",
       "      <td>1</td>\n",
       "      <td>2018-12-21</td>\n",
       "      <td>Vente</td>\n",
       "      <td>33000000.0</td>\n",
       "      <td>11.0</td>\n",
       "      <td>NaN</td>\n",
       "      <td>PL</td>\n",
       "      <td>9917</td>\n",
       "      <td>DES VOSGES</td>\n",
       "      <td>75004.0</td>\n",
       "      <td>...</td>\n",
       "      <td>NaN</td>\n",
       "      <td>NaN</td>\n",
       "      <td>0</td>\n",
       "      <td>2.0</td>\n",
       "      <td>Appartement</td>\n",
       "      <td>45.0</td>\n",
       "      <td>2.0</td>\n",
       "      <td>S</td>\n",
       "      <td>NaN</td>\n",
       "      <td>761.0</td>\n",
       "    </tr>\n",
       "    <tr>\n",
       "      <th>3059466</th>\n",
       "      <td>1</td>\n",
       "      <td>2018-12-21</td>\n",
       "      <td>Vente</td>\n",
       "      <td>33000000.0</td>\n",
       "      <td>11.0</td>\n",
       "      <td>NaN</td>\n",
       "      <td>PL</td>\n",
       "      <td>9917</td>\n",
       "      <td>DES VOSGES</td>\n",
       "      <td>75004.0</td>\n",
       "      <td>...</td>\n",
       "      <td>NaN</td>\n",
       "      <td>NaN</td>\n",
       "      <td>0</td>\n",
       "      <td>4.0</td>\n",
       "      <td>Local industriel. commercial ou assimilé</td>\n",
       "      <td>73.0</td>\n",
       "      <td>0.0</td>\n",
       "      <td>S</td>\n",
       "      <td>NaN</td>\n",
       "      <td>761.0</td>\n",
       "    </tr>\n",
       "    <tr>\n",
       "      <th>3059469</th>\n",
       "      <td>1</td>\n",
       "      <td>2018-12-21</td>\n",
       "      <td>Vente</td>\n",
       "      <td>33000000.0</td>\n",
       "      <td>11.0</td>\n",
       "      <td>NaN</td>\n",
       "      <td>PL</td>\n",
       "      <td>9917</td>\n",
       "      <td>DES VOSGES</td>\n",
       "      <td>75004.0</td>\n",
       "      <td>...</td>\n",
       "      <td>NaN</td>\n",
       "      <td>NaN</td>\n",
       "      <td>0</td>\n",
       "      <td>2.0</td>\n",
       "      <td>Appartement</td>\n",
       "      <td>60.0</td>\n",
       "      <td>3.0</td>\n",
       "      <td>S</td>\n",
       "      <td>NaN</td>\n",
       "      <td>761.0</td>\n",
       "    </tr>\n",
       "  </tbody>\n",
       "</table>\n",
       "<p>146974 rows × 35 columns</p>\n",
       "</div>"
      ],
      "text/plain": [
       "         no_disposition date_mutation nature_mutation  valeur_fonciere  \\\n",
       "212                   1    2018-01-11           Vente         160000.0   \n",
       "213                   1    2018-01-11           Vente         160000.0   \n",
       "287                   1    2018-01-15           Vente          15000.0   \n",
       "288                   1    2018-01-15           Vente          15000.0   \n",
       "318                   1    2018-01-16           Vente         138000.0   \n",
       "...                 ...           ...             ...              ...   \n",
       "3059456               1    2018-12-21           Vente       33000000.0   \n",
       "3059463               1    2018-12-21           Vente       33000000.0   \n",
       "3059464               1    2018-12-21           Vente       33000000.0   \n",
       "3059466               1    2018-12-21           Vente       33000000.0   \n",
       "3059469               1    2018-12-21           Vente       33000000.0   \n",
       "\n",
       "         no_voie b/t/q type_de_voie code_voie              voie  code_postal  \\\n",
       "212          3.0   NaN           PL      0082  DE LA RESISTANCE       1340.0   \n",
       "213          3.0   NaN           PL      0082  DE LA RESISTANCE       1340.0   \n",
       "287       5246.0     B          NaN      B050   COLIGNY LE HAUT       1270.0   \n",
       "288       5246.0     B          NaN      B050   COLIGNY LE HAUT       1270.0   \n",
       "318         18.0   NaN          RUE      0140    DOC SCHWEITZER       1000.0   \n",
       "...          ...   ...          ...       ...               ...          ...   \n",
       "3059456     11.0   NaN           PL      9917        DES VOSGES      75004.0   \n",
       "3059463     11.0   NaN           PL      9917        DES VOSGES      75004.0   \n",
       "3059464     11.0   NaN           PL      9917        DES VOSGES      75004.0   \n",
       "3059466     11.0   NaN           PL      9917        DES VOSGES      75004.0   \n",
       "3059469     11.0   NaN           PL      9917        DES VOSGES      75004.0   \n",
       "\n",
       "         ... 5eme_lot surface_carrez_du_5eme_lot  nombre_de_lots  \\\n",
       "212      ...      NaN                        NaN               0   \n",
       "213      ...      NaN                        NaN               0   \n",
       "287      ...      NaN                        NaN               0   \n",
       "288      ...      NaN                        NaN               0   \n",
       "318      ...      NaN                        NaN               0   \n",
       "...      ...      ...                        ...             ...   \n",
       "3059456  ...      NaN                        NaN               0   \n",
       "3059463  ...      NaN                        NaN               0   \n",
       "3059464  ...      NaN                        NaN               0   \n",
       "3059466  ...      NaN                        NaN               0   \n",
       "3059469  ...      NaN                        NaN               0   \n",
       "\n",
       "         code_type_local                                type_local  \\\n",
       "212                  3.0                                Dépendance   \n",
       "213                  3.0                                Dépendance   \n",
       "287                  3.0                                Dépendance   \n",
       "288                  3.0                                Dépendance   \n",
       "318                  2.0                               Appartement   \n",
       "...                  ...                                       ...   \n",
       "3059456              4.0  Local industriel. commercial ou assimilé   \n",
       "3059463              2.0                               Appartement   \n",
       "3059464              2.0                               Appartement   \n",
       "3059466              4.0  Local industriel. commercial ou assimilé   \n",
       "3059469              2.0                               Appartement   \n",
       "\n",
       "         surface_reelle_bati nombre_pieces_principales nature_culture  \\\n",
       "212                      0.0                       0.0              S   \n",
       "213                      0.0                       0.0              S   \n",
       "287                      0.0                       0.0              S   \n",
       "288                      0.0                       0.0              S   \n",
       "318                     64.0                       3.0              S   \n",
       "...                      ...                       ...            ...   \n",
       "3059456                 73.0                       0.0              S   \n",
       "3059463                 40.0                       2.0              S   \n",
       "3059464                 45.0                       2.0              S   \n",
       "3059466                 73.0                       0.0              S   \n",
       "3059469                 60.0                       3.0              S   \n",
       "\n",
       "         nature_culture_speciale surface_terrain  \n",
       "212                          NaN           238.0  \n",
       "213                          NaN           238.0  \n",
       "287                          NaN            92.0  \n",
       "288                          NaN            92.0  \n",
       "318                          NaN           666.0  \n",
       "...                          ...             ...  \n",
       "3059456                      NaN           761.0  \n",
       "3059463                      NaN           761.0  \n",
       "3059464                      NaN           761.0  \n",
       "3059466                      NaN           761.0  \n",
       "3059469                      NaN           761.0  \n",
       "\n",
       "[146974 rows x 35 columns]"
      ]
     },
     "execution_count": 8,
     "metadata": {},
     "output_type": "execute_result"
    }
   ],
   "source": [
    "df[df.duplicated(keep=False)]"
   ]
  },
  {
   "cell_type": "code",
   "execution_count": 9,
   "metadata": {},
   "outputs": [
    {
     "name": "stdout",
     "output_type": "stream",
     "text": [
      "Suppression des doublons: 108687\n"
     ]
    }
   ],
   "source": [
    "# Drop duplicates\n",
    "initial_length = len(df)\n",
    "df.drop_duplicates(inplace=True)\n",
    "print(\"Suppression des doublons: {}\".format(initial_length-len(df)))"
   ]
  },
  {
   "cell_type": "markdown",
   "metadata": {},
   "source": [
    "###  Analyse des colonnes"
   ]
  },
  {
   "cell_type": "markdown",
   "metadata": {},
   "source": [
    "#### No Disposition"
   ]
  },
  {
   "cell_type": "code",
   "execution_count": 10,
   "metadata": {},
   "outputs": [
    {
     "data": {
      "text/plain": [
       "dtype('int64')"
      ]
     },
     "execution_count": 10,
     "metadata": {},
     "output_type": "execute_result"
    }
   ],
   "source": [
    "df.no_disposition.dtype"
   ]
  },
  {
   "cell_type": "code",
   "execution_count": 11,
   "metadata": {},
   "outputs": [],
   "source": [
    "def describe(df, col):\n",
    "    return df[col].describe().apply(lambda x: format(x, 'f'))"
   ]
  },
  {
   "cell_type": "code",
   "execution_count": 12,
   "metadata": {},
   "outputs": [
    {
     "data": {
      "text/plain": [
       "count    2950850.000000\n",
       "mean           1.230464\n",
       "std            5.275825\n",
       "min            1.000000\n",
       "25%            1.000000\n",
       "50%            1.000000\n",
       "75%            1.000000\n",
       "max          362.000000\n",
       "Name: no_disposition, dtype: object"
      ]
     },
     "execution_count": 12,
     "metadata": {},
     "output_type": "execute_result"
    }
   ],
   "source": [
    "describe(df,'no_disposition')"
   ]
  },
  {
   "cell_type": "markdown",
   "metadata": {},
   "source": [
    "#### Frequency count"
   ]
  },
  {
   "cell_type": "code",
   "execution_count": 20,
   "metadata": {},
   "outputs": [
    {
     "data": {
      "text/plain": [
       "1     2768841\n",
       "2      150004\n",
       "3       21276\n",
       "4        3986\n",
       "5        1172\n",
       "6         569\n",
       "7         299\n",
       "8         286\n",
       "9         142\n",
       "12        123\n",
       "15        103\n",
       "10        102\n",
       "11         97\n",
       "53         88\n",
       "18         77\n",
       "13         73\n",
       "14         62\n",
       "32         61\n",
       "17         61\n",
       "60         60\n",
       "Name: no_disposition, dtype: int64"
      ]
     },
     "execution_count": 20,
     "metadata": {},
     "output_type": "execute_result"
    }
   ],
   "source": [
    "df.no_disposition.value_counts(dropna=False).head(20)"
   ]
  },
  {
   "cell_type": "code",
   "execution_count": 13,
   "metadata": {
    "scrolled": false
   },
   "outputs": [
    {
     "data": {
      "text/plain": [
       "array([  1,   2,   3,   4,   5,   6,   7,  10,  11,  12,  13,  14,  15,\n",
       "        16,  17,  18,  19,  20,  21,  22,  23,  24,  25,  26,  27,  28,\n",
       "        29,  30,  31,  32,  33,   8,   9,  34,  35,  36,  37,  38,  47,\n",
       "        48,  50,  52,  53,  54,  55,  56,  57,  61,  62,  63,  65,  66,\n",
       "        67,  68,  75,  76,  81,  82,  88,  90,  91,  92,  93,  94,  97,\n",
       "       101, 102, 104, 105, 107, 108, 110, 111, 112, 116, 117, 118, 119,\n",
       "       120, 121, 122, 123, 124, 125, 128, 129, 130, 131, 132, 133, 134,\n",
       "       135, 138, 139, 140, 141, 143, 144, 145, 146, 147, 148, 149, 150,\n",
       "       151, 152, 154, 155, 156, 157, 159, 161, 165, 166, 167, 168, 169,\n",
       "       170, 171, 173, 174, 175, 176, 177, 178, 179, 181, 182, 183, 184,\n",
       "       185, 186, 187, 188, 190, 191, 192, 193, 194, 195, 197, 198, 199,\n",
       "       201, 203, 205, 207, 208, 209, 210, 211, 214, 217, 218, 219, 222,\n",
       "       224, 226, 227, 228, 229, 230, 231, 232, 233, 234, 235, 236, 237,\n",
       "       238, 239, 240, 241, 242, 243, 245, 246, 247, 248, 249, 251, 253,\n",
       "       254, 255, 256, 257, 259, 260, 126, 127, 136, 137, 142, 153, 158,\n",
       "       160, 162, 163, 164, 172, 180, 189,  39,  40,  41,  42,  43,  44,\n",
       "        45,  46,  49,  51,  58,  59,  60,  64,  69,  70,  71,  72,  73,\n",
       "        74,  77,  78,  79,  80,  83,  84,  85,  86,  87,  89,  96,  95,\n",
       "        98,  99, 100, 103, 106, 109, 113, 114, 115, 196, 200, 202, 204,\n",
       "       206, 212, 213, 215, 216, 220, 221, 223, 225, 244, 250, 252, 258,\n",
       "       261, 262, 263, 264, 265, 266, 267, 268, 269, 270, 271, 272, 273,\n",
       "       274, 275, 276, 277, 278, 279, 280, 281, 282, 283, 284, 285, 286,\n",
       "       287, 288, 289, 290, 291, 292, 293, 294, 295, 296, 297, 298, 299,\n",
       "       300, 301, 302, 303, 304, 305, 306, 307, 308, 309, 310, 311, 312,\n",
       "       313, 314, 315, 316, 317, 318, 319, 320, 321, 322, 323, 324, 325,\n",
       "       326, 327, 328, 329, 330, 331, 332, 333, 334, 335, 336, 337, 338,\n",
       "       339, 340, 341, 342, 343, 344, 345, 346, 347, 348, 349, 350, 351,\n",
       "       352, 353, 354, 355, 356, 357, 358, 359, 360, 361, 362])"
      ]
     },
     "execution_count": 13,
     "metadata": {},
     "output_type": "execute_result"
    }
   ],
   "source": [
    "df.no_disposition.unique()"
   ]
  },
  {
   "cell_type": "code",
   "execution_count": 103,
   "metadata": {},
   "outputs": [
    {
     "data": {
      "text/plain": [
       "0"
      ]
     },
     "execution_count": 103,
     "metadata": {},
     "output_type": "execute_result"
    }
   ],
   "source": [
    "df.no_disposition.isnull().sum()"
   ]
  },
  {
   "cell_type": "code",
   "execution_count": 68,
   "metadata": {},
   "outputs": [
    {
     "data": {
      "text/plain": [
       "Text(0.5, 1.0, \"Distribution de l'attribut 'N° de disposition'\")"
      ]
     },
     "execution_count": 68,
     "metadata": {},
     "output_type": "execute_result"
    },
    {
     "data": {
      "image/png": "[encoded data removed]",
      "text/plain": [
       "<Figure size 1440x720 with 1 Axes>"
      ]
     },
     "metadata": {
      "needs_background": "light"
     },
     "output_type": "display_data"
    }
   ],
   "source": [
    "plt.figure(figsize=(20,10))\n",
    "ax = sns.distplot(df.no_disposition, kde=False)\n",
    "ax.set_yscale('log', basey=2)\n",
    "ax.set_title('Distribution de l\\'attribut \\'N° de disposition\\'')"
   ]
  },
  {
   "cell_type": "code",
   "execution_count": 65,
   "metadata": {},
   "outputs": [
    {
     "data": {
      "text/plain": [
       "-0.001720706274379892"
      ]
     },
     "execution_count": 65,
     "metadata": {},
     "output_type": "execute_result"
    }
   ],
   "source": [
    "df.no_disposition.corr(df.valeur_fonciere)"
   ]
  },
  {
   "cell_type": "code",
   "execution_count": 73,
   "metadata": {},
   "outputs": [
    {
     "data": {
      "text/plain": [
       "Text(0, 0.5, 'Valeur foncière')"
      ]
     },
     "execution_count": 73,
     "metadata": {},
     "output_type": "execute_result"
    },
    {
     "data": {
      "image/png": "[encoded data removed]",
      "text/plain": [
       "<Figure size 1440x720 with 1 Axes>"
      ]
     },
     "metadata": {
      "needs_background": "light"
     },
     "output_type": "display_data"
    }
   ],
   "source": [
    "plt.figure(figsize=(20,10))\n",
    "ax = sns.scatterplot(x=df.no_disposition, y=df.valeur_fonciere)\n",
    "ax.set_yscale('log', basey=2)\n",
    "ax.set_title('Relation entre le numéro de disposition et la valeur foncière')\n",
    "ax.set_xlabel('Numéro de disposition')\n",
    "ax.set_ylabel('Valeur foncière')"
   ]
  },
  {
   "cell_type": "markdown",
   "metadata": {},
   "source": [
    "#### Date de mutation"
   ]
  },
  {
   "cell_type": "code",
   "execution_count": 74,
   "metadata": {},
   "outputs": [
    {
     "data": {
      "text/plain": [
       "dtype('<M8[ns]')"
      ]
     },
     "execution_count": 74,
     "metadata": {},
     "output_type": "execute_result"
    }
   ],
   "source": [
    "df.date_mutation.dtype"
   ]
  },
  {
   "cell_type": "code",
   "execution_count": 27,
   "metadata": {},
   "outputs": [
    {
     "data": {
      "text/plain": [
       "Text(0, 0.5, 'Nombre de mutation')"
      ]
     },
     "execution_count": 27,
     "metadata": {},
     "output_type": "execute_result"
    },
    {
     "data": {
      "image/png": "[encoded data removed]",
      "text/plain": [
       "<Figure size 360x360 with 1 Axes>"
      ]
     },
     "metadata": {
      "needs_background": "light"
     },
     "output_type": "display_data"
    },
    {
     "data": {
      "image/png": "[encoded data removed]",
      "text/plain": [
       "<Figure size 360x360 with 1 Axes>"
      ]
     },
     "metadata": {
      "needs_background": "light"
     },
     "output_type": "display_data"
    },
    {
     "data": {
      "image/png": "[encoded data removed]",
      "text/plain": [
       "<Figure size 360x360 with 1 Axes>"
      ]
     },
     "metadata": {
      "needs_background": "light"
     },
     "output_type": "display_data"
    }
   ],
   "source": [
    "plt.figure(figsize=(5,5))\n",
    "df['month'] = df.date_mutation.map(lambda x: x.month)\n",
    "ax = sns.countplot(x=df.month)\n",
    "ax.set_title('Nombre de mutation par mois (signature acte final)')\n",
    "ax.set_xlabel('Mois')\n",
    "ax.set_ylabel('Nombre de mutation')\n",
    "\n",
    "plt.figure(figsize=(5,5))\n",
    "df['sign_month'] = df.date_mutation.map(lambda x: x.month-3)\n",
    "ax = sns.countplot(x=df.sign_month)\n",
    "ax.set_title('Nombre de mutation par mois (promesse de vente)')\n",
    "ax.set_xlabel('Mois (-2 = Novembre)')\n",
    "ax.set_ylabel('Nombre de mutation')\n",
    "\n",
    "plt.figure(figsize=(5,5))\n",
    "df['dayofweek'] = df.date_mutation.map(lambda x: x.dayofweek)\n",
    "ax = sns.countplot(x=df.dayofweek)\n",
    "ax.set_title('Nombre de mutation par jour de semaine')\n",
    "ax.set_xlabel('Jour de semaine')\n",
    "ax.set_xticklabels(['Lundi','Mardi','Mercredi','Jeudi','Vendredi','Samedi','Dimanche'],rotation=45)\n",
    "ax.set_ylabel('Nombre de mutation')"
   ]
  },
  {
   "cell_type": "markdown",
   "metadata": {},
   "source": [
    "Nombre de signature signée le dimanche:"
   ]
  },
  {
   "cell_type": "code",
   "execution_count": 96,
   "metadata": {},
   "outputs": [
    {
     "data": {
      "text/plain": [
       "927"
      ]
     },
     "execution_count": 96,
     "metadata": {},
     "output_type": "execute_result"
    }
   ],
   "source": [
    "len(df[df['dayofweek']==6])"
   ]
  },
  {
   "cell_type": "markdown",
   "metadata": {},
   "source": [
    "#### Nature de mutation"
   ]
  },
  {
   "cell_type": "code",
   "execution_count": 111,
   "metadata": {},
   "outputs": [
    {
     "data": {
      "text/plain": [
       "dtype('O')"
      ]
     },
     "execution_count": 111,
     "metadata": {},
     "output_type": "execute_result"
    }
   ],
   "source": [
    "df.nature_mutation.dtype"
   ]
  },
  {
   "cell_type": "code",
   "execution_count": 112,
   "metadata": {},
   "outputs": [
    {
     "data": {
      "text/plain": [
       "array(['Vente', \"Vente en l'état futur d'achèvement\", 'Echange',\n",
       "       'Vente terrain à bâtir', 'Adjudication', 'Expropriation'],\n",
       "      dtype=object)"
      ]
     },
     "execution_count": 112,
     "metadata": {},
     "output_type": "execute_result"
    }
   ],
   "source": [
    "df.nature_mutation.unique()"
   ]
  },
  {
   "cell_type": "code",
   "execution_count": 28,
   "metadata": {},
   "outputs": [
    {
     "data": {
      "text/plain": [
       "Vente                                 2649843\n",
       "Vente en l'état futur d'achèvement     236054\n",
       "Echange                                 41697\n",
       "Vente terrain à bâtir                   12253\n",
       "Adjudication                             9437\n",
       "Expropriation                            1566\n",
       "Name: nature_mutation, dtype: int64"
      ]
     },
     "execution_count": 28,
     "metadata": {},
     "output_type": "execute_result"
    }
   ],
   "source": [
    "df.nature_mutation.value_counts()"
   ]
  },
  {
   "cell_type": "code",
   "execution_count": 154,
   "metadata": {},
   "outputs": [
    {
     "data": {
      "text/plain": [
       "<seaborn.axisgrid.FacetGrid at 0x1a3f23f690>"
      ]
     },
     "execution_count": 154,
     "metadata": {},
     "output_type": "execute_result"
    },
    {
     "data": {
      "image/png": "[encoded data removed]",
      "text/plain": [
       "<Figure size 432x288 with 1 Axes>"
      ]
     },
     "metadata": {
      "needs_background": "light"
     },
     "output_type": "display_data"
    },
    {
     "data": {
      "image/png": "[encoded data removed]",
      "text/plain": [
       "<Figure size 360x360 with 1 Axes>"
      ]
     },
     "metadata": {
      "needs_background": "light"
     },
     "output_type": "display_data"
    }
   ],
   "source": [
    "ax = sns.boxplot(x=\"nature_mutation\", y=\"valeur_fonciere\", data=df);\n",
    "ax.set_yscale('log', basey=2)\n",
    "ax.set_xticklabels(labels=df.nature_mutation.unique(), rotation=90)\n",
    "ax.set_title('Valeurs foncières par nature de mutation')\n",
    "\n",
    "ax = sns.catplot(x=\"nature_mutation\", y=\"valeur_fonciere\", data=df);\n",
    "ax.set_xticklabels(rotation=90)"
   ]
  },
  {
   "cell_type": "markdown",
   "metadata": {},
   "source": [
    "##### Etude des expropriations"
   ]
  },
  {
   "cell_type": "code",
   "execution_count": 159,
   "metadata": {},
   "outputs": [
    {
     "data": {
      "text/html": [
       "<div>\n",
       "<style scoped>\n",
       "    .dataframe tbody tr th:only-of-type {\n",
       "        vertical-align: middle;\n",
       "    }\n",
       "\n",
       "    .dataframe tbody tr th {\n",
       "        vertical-align: top;\n",
       "    }\n",
       "\n",
       "    .dataframe thead th {\n",
       "        text-align: right;\n",
       "    }\n",
       "</style>\n",
       "<table border=\"1\" class=\"dataframe\">\n",
       "  <thead>\n",
       "    <tr style=\"text-align: right;\">\n",
       "      <th></th>\n",
       "      <th>no_disposition</th>\n",
       "      <th>date_mutation</th>\n",
       "      <th>nature_mutation</th>\n",
       "      <th>valeur_fonciere</th>\n",
       "      <th>no_voie</th>\n",
       "      <th>b/t/q</th>\n",
       "      <th>type_de_voie</th>\n",
       "      <th>code_voie</th>\n",
       "      <th>voie</th>\n",
       "      <th>code_postal</th>\n",
       "      <th>commune</th>\n",
       "      <th>code_departement</th>\n",
       "      <th>code_commune</th>\n",
       "      <th>prefixe_de_section</th>\n",
       "      <th>section</th>\n",
       "      <th>no_plan</th>\n",
       "      <th>no_volume</th>\n",
       "      <th>1er_lot</th>\n",
       "      <th>surface_carrez_du_1er_lot</th>\n",
       "      <th>2eme_lot</th>\n",
       "      <th>surface_carrez_du_2eme_lot</th>\n",
       "      <th>3eme_lot</th>\n",
       "      <th>surface_carrez_du_3eme_lot</th>\n",
       "      <th>4eme_lot</th>\n",
       "      <th>surface_carrez_du_4eme_lot</th>\n",
       "      <th>5eme_lot</th>\n",
       "      <th>surface_carrez_du_5eme_lot</th>\n",
       "      <th>nombre_de_lots</th>\n",
       "      <th>code_type_local</th>\n",
       "      <th>type_local</th>\n",
       "      <th>surface_reelle_bati</th>\n",
       "      <th>nombre_pieces_principales</th>\n",
       "      <th>nature_culture</th>\n",
       "      <th>nature_culture_speciale</th>\n",
       "      <th>surface_terrain</th>\n",
       "      <th>month</th>\n",
       "      <th>sign_month</th>\n",
       "      <th>dayofweek</th>\n",
       "    </tr>\n",
       "  </thead>\n",
       "  <tbody>\n",
       "    <tr>\n",
       "      <th>23907</th>\n",
       "      <td>28</td>\n",
       "      <td>2018-09-12</td>\n",
       "      <td>Expropriation</td>\n",
       "      <td>10455340.0</td>\n",
       "      <td>NaN</td>\n",
       "      <td>NaN</td>\n",
       "      <td>NaN</td>\n",
       "      <td>B014</td>\n",
       "      <td>TRES LA GRANGE</td>\n",
       "      <td>1210.0</td>\n",
       "      <td>FERNEY-VOLTAIRE</td>\n",
       "      <td>1</td>\n",
       "      <td>160</td>\n",
       "      <td>NaN</td>\n",
       "      <td>A</td>\n",
       "      <td>365</td>\n",
       "      <td>NaN</td>\n",
       "      <td>NaN</td>\n",
       "      <td>NaN</td>\n",
       "      <td>NaN</td>\n",
       "      <td>NaN</td>\n",
       "      <td>NaN</td>\n",
       "      <td>NaN</td>\n",
       "      <td>NaN</td>\n",
       "      <td>NaN</td>\n",
       "      <td>NaN</td>\n",
       "      <td>NaN</td>\n",
       "      <td>0</td>\n",
       "      <td>NaN</td>\n",
       "      <td>NaN</td>\n",
       "      <td>NaN</td>\n",
       "      <td>NaN</td>\n",
       "      <td>T</td>\n",
       "      <td>NaN</td>\n",
       "      <td>7407.0</td>\n",
       "      <td>9</td>\n",
       "      <td>6</td>\n",
       "      <td>2</td>\n",
       "    </tr>\n",
       "  </tbody>\n",
       "</table>\n",
       "</div>"
      ],
      "text/plain": [
       "       no_disposition date_mutation nature_mutation  valeur_fonciere  no_voie b/t/q type_de_voie code_voie            voie  code_postal          commune code_departement  code_commune  prefixe_de_section section  no_plan no_volume 1er_lot  surface_carrez_du_1er_lot 2eme_lot  surface_carrez_du_2eme_lot 3eme_lot  surface_carrez_du_3eme_lot  4eme_lot  surface_carrez_du_4eme_lot 5eme_lot  surface_carrez_du_5eme_lot  nombre_de_lots  code_type_local type_local  surface_reelle_bati  nombre_pieces_principales nature_culture nature_culture_speciale  surface_terrain  month  sign_month  dayofweek\n",
       "23907              28    2018-09-12   Expropriation       10455340.0      NaN   NaN          NaN      B014  TRES LA GRANGE       1210.0  FERNEY-VOLTAIRE                1           160                 NaN       A      365       NaN     NaN                        NaN      NaN                         NaN      NaN                         NaN       NaN                         NaN      NaN                         NaN               0              NaN        NaN                  NaN                        NaN              T                     NaN           7407.0      9           6          2"
      ]
     },
     "execution_count": 159,
     "metadata": {},
     "output_type": "execute_result"
    }
   ],
   "source": [
    "df_ex = df[df['nature_mutation']=='Expropriation'].sort_values(by='valeur_fonciere', ascending=False)\n",
    "df_ex.head(1)"
   ]
  },
  {
   "cell_type": "markdown",
   "metadata": {},
   "source": [
    "L'expropriation la plus chère est à - code postal 01210 - Ferney-Voltaire dans l'Ain. Une ville à la frontière de la Suisse, avec l'aéroport Genevois à quelques centaines de mètres."
   ]
  },
  {
   "cell_type": "code",
   "execution_count": 149,
   "metadata": {
    "scrolled": true
   },
   "outputs": [
    {
     "data": {
      "text/plain": [
       "VIEVILLE            718\n",
       "FERNEY-VOLTAIRE     106\n",
       "MASSY               100\n",
       "CACHAN               44\n",
       "CLICHY SOUS BOIS     40\n",
       "Name: commune, dtype: int64"
      ]
     },
     "execution_count": 149,
     "metadata": {},
     "output_type": "execute_result"
    }
   ],
   "source": [
    "df_ex.commune.value_counts().head()"
   ]
  },
  {
   "cell_type": "code",
   "execution_count": 151,
   "metadata": {},
   "outputs": [
    {
     "data": {
      "text/plain": [
       "Text(0.5, 1.0, \"Nombre d'expropriation par ville\")"
      ]
     },
     "execution_count": 151,
     "metadata": {},
     "output_type": "execute_result"
    },
    {
     "data": {
      "image/png": "[encoded data removed]",
      "text/plain": [
       "<Figure size 432x288 with 1 Axes>"
      ]
     },
     "metadata": {
      "needs_background": "light"
     },
     "output_type": "display_data"
    }
   ],
   "source": [
    "ax = df_ex.commune.value_counts().head().plot.bar(rot=75)\n",
    "ax.set_title('Nombre d\\'expropriation par ville')"
   ]
  },
  {
   "cell_type": "code",
   "execution_count": 135,
   "metadata": {},
   "outputs": [
    {
     "data": {
      "image/png": "[encoded data removed]",
      "text/plain": [
       "<Figure size 432x288 with 1 Axes>"
      ]
     },
     "metadata": {
      "needs_background": "light"
     },
     "output_type": "display_data"
    }
   ],
   "source": [
    "ax = df_ex.commune.value_counts().plot.box()\n",
    "ax.set_yscale('log', basey=2)"
   ]
  },
  {
   "cell_type": "markdown",
   "metadata": {},
   "source": [
    "Toutefois, la ville de Vieville - code postal 52310 - a enregistré le plus grand nombre d'expropriation en 2018."
   ]
  },
  {
   "cell_type": "markdown",
   "metadata": {},
   "source": [
    "##### Etude des ventes"
   ]
  },
  {
   "cell_type": "code",
   "execution_count": 158,
   "metadata": {},
   "outputs": [
    {
     "data": {
      "text/html": [
       "<div>\n",
       "<style scoped>\n",
       "    .dataframe tbody tr th:only-of-type {\n",
       "        vertical-align: middle;\n",
       "    }\n",
       "\n",
       "    .dataframe tbody tr th {\n",
       "        vertical-align: top;\n",
       "    }\n",
       "\n",
       "    .dataframe thead th {\n",
       "        text-align: right;\n",
       "    }\n",
       "</style>\n",
       "<table border=\"1\" class=\"dataframe\">\n",
       "  <thead>\n",
       "    <tr style=\"text-align: right;\">\n",
       "      <th></th>\n",
       "      <th>no_disposition</th>\n",
       "      <th>date_mutation</th>\n",
       "      <th>nature_mutation</th>\n",
       "      <th>valeur_fonciere</th>\n",
       "      <th>no_voie</th>\n",
       "      <th>b/t/q</th>\n",
       "      <th>type_de_voie</th>\n",
       "      <th>code_voie</th>\n",
       "      <th>voie</th>\n",
       "      <th>code_postal</th>\n",
       "      <th>commune</th>\n",
       "      <th>code_departement</th>\n",
       "      <th>code_commune</th>\n",
       "      <th>prefixe_de_section</th>\n",
       "      <th>section</th>\n",
       "      <th>no_plan</th>\n",
       "      <th>no_volume</th>\n",
       "      <th>1er_lot</th>\n",
       "      <th>surface_carrez_du_1er_lot</th>\n",
       "      <th>2eme_lot</th>\n",
       "      <th>surface_carrez_du_2eme_lot</th>\n",
       "      <th>3eme_lot</th>\n",
       "      <th>surface_carrez_du_3eme_lot</th>\n",
       "      <th>4eme_lot</th>\n",
       "      <th>surface_carrez_du_4eme_lot</th>\n",
       "      <th>5eme_lot</th>\n",
       "      <th>surface_carrez_du_5eme_lot</th>\n",
       "      <th>nombre_de_lots</th>\n",
       "      <th>code_type_local</th>\n",
       "      <th>type_local</th>\n",
       "      <th>surface_reelle_bati</th>\n",
       "      <th>nombre_pieces_principales</th>\n",
       "      <th>nature_culture</th>\n",
       "      <th>nature_culture_speciale</th>\n",
       "      <th>surface_terrain</th>\n",
       "      <th>month</th>\n",
       "      <th>sign_month</th>\n",
       "      <th>dayofweek</th>\n",
       "    </tr>\n",
       "  </thead>\n",
       "  <tbody>\n",
       "    <tr>\n",
       "      <th>2826340</th>\n",
       "      <td>1</td>\n",
       "      <td>2018-09-18</td>\n",
       "      <td>Vente</td>\n",
       "      <td>1.256966e+09</td>\n",
       "      <td>44.0</td>\n",
       "      <td>NaN</td>\n",
       "      <td>AV</td>\n",
       "      <td>7121</td>\n",
       "      <td>DE PARIS</td>\n",
       "      <td>92320.0</td>\n",
       "      <td>CHATILLON</td>\n",
       "      <td>92</td>\n",
       "      <td>20</td>\n",
       "      <td>NaN</td>\n",
       "      <td>I</td>\n",
       "      <td>250</td>\n",
       "      <td>NaN</td>\n",
       "      <td>319</td>\n",
       "      <td>NaN</td>\n",
       "      <td>NaN</td>\n",
       "      <td>NaN</td>\n",
       "      <td>NaN</td>\n",
       "      <td>NaN</td>\n",
       "      <td>NaN</td>\n",
       "      <td>NaN</td>\n",
       "      <td>NaN</td>\n",
       "      <td>NaN</td>\n",
       "      <td>1</td>\n",
       "      <td>3.0</td>\n",
       "      <td>Dépendance</td>\n",
       "      <td>0.0</td>\n",
       "      <td>0.0</td>\n",
       "      <td>NaN</td>\n",
       "      <td>NaN</td>\n",
       "      <td>NaN</td>\n",
       "      <td>9</td>\n",
       "      <td>6</td>\n",
       "      <td>1</td>\n",
       "    </tr>\n",
       "  </tbody>\n",
       "</table>\n",
       "</div>"
      ],
      "text/plain": [
       "         no_disposition date_mutation nature_mutation  valeur_fonciere  no_voie b/t/q type_de_voie code_voie      voie  code_postal    commune code_departement  code_commune  prefixe_de_section section  no_plan no_volume 1er_lot  surface_carrez_du_1er_lot 2eme_lot  surface_carrez_du_2eme_lot 3eme_lot  surface_carrez_du_3eme_lot  4eme_lot  surface_carrez_du_4eme_lot 5eme_lot  surface_carrez_du_5eme_lot  nombre_de_lots  code_type_local  type_local  surface_reelle_bati  nombre_pieces_principales nature_culture nature_culture_speciale  surface_terrain  month  sign_month  dayofweek\n",
       "2826340               1    2018-09-18           Vente     1.256966e+09     44.0   NaN           AV      7121  DE PARIS      92320.0  CHATILLON               92            20                 NaN       I      250       NaN     319                        NaN      NaN                         NaN      NaN                         NaN       NaN                         NaN      NaN                         NaN               1              3.0  Dépendance                  0.0                        0.0            NaN                     NaN              NaN      9           6          1"
      ]
     },
     "execution_count": 158,
     "metadata": {},
     "output_type": "execute_result"
    }
   ],
   "source": [
    "pd.options.display.max_columns = None\n",
    "df_ve = df[df['nature_mutation']=='Vente'].sort_values(by='valeur_fonciere', ascending=False)\n",
    "df_ve.head(1)"
   ]
  },
  {
   "cell_type": "markdown",
   "metadata": {},
   "source": [
    "La vente la plus chère a été réalisé dans la commune de Châtillon - code postal 92320 - pour un montant de 1.256.966.000€ au 44 avenue de Paris.\n",
    "La ville de Chatillon a réalisé plusieurs transactions du même montant, le même jour. Cela semble plus être la vente d'un lot d'immeuble entre plusieurs organisations."
   ]
  },
  {
   "cell_type": "code",
   "execution_count": 130,
   "metadata": {},
   "outputs": [
    {
     "data": {
      "text/plain": [
       "<matplotlib.axes._subplots.AxesSubplot at 0x1a37823290>"
      ]
     },
     "execution_count": 130,
     "metadata": {},
     "output_type": "execute_result"
    },
    {
     "data": {
      "image/png": "[encoded data removed]",
      "text/plain": [
       "<Figure size 432x288 with 1 Axes>"
      ]
     },
     "metadata": {
      "needs_background": "light"
     },
     "output_type": "display_data"
    }
   ],
   "source": [
    "df_vente_par_jour = df[df['nature_mutation']=='Vente'].groupby(['date_mutation','commune'])['commune'].count().sort_values(ascending=False)\n",
    "#df_vente_par_jour[0:5]\n",
    "df_vente_par_jour[0:5].head(10).plot.bar(x='Commune', rot=75)"
   ]
  },
  {
   "cell_type": "markdown",
   "metadata": {},
   "source": [
    "La ville d'Argenteuil est la commune qui a enregistré le plus de vente le même jour: 1030 ventes le 30 Juillet 2018. Suivi par la commune de Soissons avec 749 ventes le 20 Avril 2018."
   ]
  },
  {
   "cell_type": "code",
   "execution_count": 120,
   "metadata": {},
   "outputs": [
    {
     "name": "stdout",
     "output_type": "stream",
     "text": [
      "Vente par habitant à ARGENTEUIL le 2018-07-30 00:00:00: 10.88\n",
      "Vente par habitant à SOISSONS le 2018-04-20 00:00:00: 38.09\n"
     ]
    }
   ],
   "source": [
    "hab_argenteuil = 11210 # source Wikipedia\n",
    "print(\"Vente par habitant à {} le {}: {}\".format(df_vente_par_jour.index[0][1],df_vente_par_jour.index[0][0],round(hab_argenteuil/df_vente_par_jour[0],2)))\n",
    "hab_soissons = 28530 # source Wikipedia\n",
    "print(\"Vente par habitant à {} le {}: {}\".format(df_vente_par_jour.index[1][1],df_vente_par_jour.index[1][0], round(hab_soissons/df_vente_par_jour[1],2)))"
   ]
  },
  {
   "cell_type": "code",
   "execution_count": 153,
   "metadata": {},
   "outputs": [
    {
     "data": {
      "text/plain": [
       "Text(0.5, 1.0, 'Nombre de vente par ville')"
      ]
     },
     "execution_count": 153,
     "metadata": {},
     "output_type": "execute_result"
    },
    {
     "data": {
      "image/png": "[encoded data removed]",
      "text/plain": [
       "<Figure size 432x288 with 1 Axes>"
      ]
     },
     "metadata": {
      "needs_background": "light"
     },
     "output_type": "display_data"
    }
   ],
   "source": [
    "se_vente_commune = df_ve.commune.value_counts()\n",
    "ax = se_vente_commune.head(10).plot.bar(x='Commune', rot=45)\n",
    "ax.set_title('Nombre de vente par ville')"
   ]
  },
  {
   "cell_type": "markdown",
   "metadata": {},
   "source": [
    "La ville de Toulouse a enregistré le plus grand nombre de vente en 2018, suivi par Nice et Nantes."
   ]
  },
  {
   "cell_type": "code",
   "execution_count": 132,
   "metadata": {},
   "outputs": [
    {
     "data": {
      "text/plain": [
       "<matplotlib.axes._subplots.AxesSubplot at 0x1a45ab2e50>"
      ]
     },
     "execution_count": 132,
     "metadata": {},
     "output_type": "execute_result"
    },
    {
     "data": {
      "image/png": "[encoded data removed]",
      "text/plain": [
       "<Figure size 432x288 with 1 Axes>"
      ]
     },
     "metadata": {
      "needs_background": "light"
     },
     "output_type": "display_data"
    }
   ],
   "source": [
    "se_vente_commune.plot.box()"
   ]
  },
  {
   "cell_type": "markdown",
   "metadata": {},
   "source": [
    "##### Etude des vente en l'état futur d'achèvement"
   ]
  },
  {
   "cell_type": "code",
   "execution_count": 161,
   "metadata": {},
   "outputs": [
    {
     "data": {
      "text/html": [
       "<div>\n",
       "<style scoped>\n",
       "    .dataframe tbody tr th:only-of-type {\n",
       "        vertical-align: middle;\n",
       "    }\n",
       "\n",
       "    .dataframe tbody tr th {\n",
       "        vertical-align: top;\n",
       "    }\n",
       "\n",
       "    .dataframe thead th {\n",
       "        text-align: right;\n",
       "    }\n",
       "</style>\n",
       "<table border=\"1\" class=\"dataframe\">\n",
       "  <thead>\n",
       "    <tr style=\"text-align: right;\">\n",
       "      <th></th>\n",
       "      <th>no_disposition</th>\n",
       "      <th>date_mutation</th>\n",
       "      <th>nature_mutation</th>\n",
       "      <th>valeur_fonciere</th>\n",
       "      <th>no_voie</th>\n",
       "      <th>b/t/q</th>\n",
       "      <th>type_de_voie</th>\n",
       "      <th>code_voie</th>\n",
       "      <th>voie</th>\n",
       "      <th>code_postal</th>\n",
       "      <th>commune</th>\n",
       "      <th>code_departement</th>\n",
       "      <th>code_commune</th>\n",
       "      <th>prefixe_de_section</th>\n",
       "      <th>section</th>\n",
       "      <th>no_plan</th>\n",
       "      <th>no_volume</th>\n",
       "      <th>1er_lot</th>\n",
       "      <th>surface_carrez_du_1er_lot</th>\n",
       "      <th>2eme_lot</th>\n",
       "      <th>surface_carrez_du_2eme_lot</th>\n",
       "      <th>3eme_lot</th>\n",
       "      <th>surface_carrez_du_3eme_lot</th>\n",
       "      <th>4eme_lot</th>\n",
       "      <th>surface_carrez_du_4eme_lot</th>\n",
       "      <th>5eme_lot</th>\n",
       "      <th>surface_carrez_du_5eme_lot</th>\n",
       "      <th>nombre_de_lots</th>\n",
       "      <th>code_type_local</th>\n",
       "      <th>type_local</th>\n",
       "      <th>surface_reelle_bati</th>\n",
       "      <th>nombre_pieces_principales</th>\n",
       "      <th>nature_culture</th>\n",
       "      <th>nature_culture_speciale</th>\n",
       "      <th>surface_terrain</th>\n",
       "      <th>month</th>\n",
       "      <th>sign_month</th>\n",
       "      <th>dayofweek</th>\n",
       "    </tr>\n",
       "  </thead>\n",
       "  <tbody>\n",
       "    <tr>\n",
       "      <th>3058426</th>\n",
       "      <td>1</td>\n",
       "      <td>2018-08-01</td>\n",
       "      <td>Vente en l'état futur d'achèvement</td>\n",
       "      <td>161633440.0</td>\n",
       "      <td>6.0</td>\n",
       "      <td>NaN</td>\n",
       "      <td>RUE</td>\n",
       "      <td>0092</td>\n",
       "      <td>AGRIPPA D AUBIGNE</td>\n",
       "      <td>75004.0</td>\n",
       "      <td>PARIS 04</td>\n",
       "      <td>75</td>\n",
       "      <td>104</td>\n",
       "      <td>NaN</td>\n",
       "      <td>AT</td>\n",
       "      <td>23</td>\n",
       "      <td>3001</td>\n",
       "      <td>NaN</td>\n",
       "      <td>NaN</td>\n",
       "      <td>NaN</td>\n",
       "      <td>NaN</td>\n",
       "      <td>NaN</td>\n",
       "      <td>NaN</td>\n",
       "      <td>NaN</td>\n",
       "      <td>NaN</td>\n",
       "      <td>NaN</td>\n",
       "      <td>NaN</td>\n",
       "      <td>0</td>\n",
       "      <td>NaN</td>\n",
       "      <td>NaN</td>\n",
       "      <td>NaN</td>\n",
       "      <td>NaN</td>\n",
       "      <td>NaN</td>\n",
       "      <td>NaN</td>\n",
       "      <td>NaN</td>\n",
       "      <td>8</td>\n",
       "      <td>5</td>\n",
       "      <td>2</td>\n",
       "    </tr>\n",
       "  </tbody>\n",
       "</table>\n",
       "</div>"
      ],
      "text/plain": [
       "         no_disposition date_mutation                     nature_mutation  valeur_fonciere  no_voie b/t/q type_de_voie code_voie               voie  code_postal   commune code_departement  code_commune  prefixe_de_section section  no_plan no_volume 1er_lot  surface_carrez_du_1er_lot 2eme_lot  surface_carrez_du_2eme_lot 3eme_lot  surface_carrez_du_3eme_lot  4eme_lot  surface_carrez_du_4eme_lot 5eme_lot  surface_carrez_du_5eme_lot  nombre_de_lots  code_type_local type_local  surface_reelle_bati  nombre_pieces_principales nature_culture nature_culture_speciale  surface_terrain  month  sign_month  dayofweek\n",
       "3058426               1    2018-08-01  Vente en l'état futur d'achèvement      161633440.0      6.0   NaN          RUE      0092  AGRIPPA D AUBIGNE      75004.0  PARIS 04               75           104                 NaN      AT       23      3001     NaN                        NaN      NaN                         NaN      NaN                         NaN       NaN                         NaN      NaN                         NaN               0              NaN        NaN                  NaN                        NaN            NaN                     NaN              NaN      8           5          2"
      ]
     },
     "execution_count": 161,
     "metadata": {},
     "output_type": "execute_result"
    }
   ],
   "source": [
    "df_vefa = df[df['nature_mutation']=='Vente en l\\'état futur d\\'achèvement'].sort_values(by='valeur_fonciere', ascending=False)\n",
    "df_vefa.head(1)"
   ]
  },
  {
   "cell_type": "markdown",
   "metadata": {},
   "source": [
    "La vente en l'état futur d'achèvement la plus chère est de 161.633.440€ réalisée le 1er Août 2018. L'adresse correspond à la mairie du 4éme arrondissement de Paris."
   ]
  },
  {
   "cell_type": "code",
   "execution_count": 162,
   "metadata": {},
   "outputs": [
    {
     "data": {
      "text/plain": [
       "Text(0.5, 1.0, 'Nombre de vefa par ville')"
      ]
     },
     "execution_count": 162,
     "metadata": {},
     "output_type": "execute_result"
    },
    {
     "data": {
      "image/png": "[encoded data removed]",
      "text/plain": [
       "<Figure size 432x288 with 1 Axes>"
      ]
     },
     "metadata": {
      "needs_background": "light"
     },
     "output_type": "display_data"
    }
   ],
   "source": [
    "se_vefa_commune = df_vefa.commune.value_counts()\n",
    "ax = se_vefa_commune.head(10).plot.bar(x='Commune', rot=45)\n",
    "ax.set_title('Nombre de vefa par ville')"
   ]
  },
  {
   "cell_type": "markdown",
   "metadata": {},
   "source": [
    "La ville de Toulouse est aussi la ville qui a enregistré le plus grand nombre de Vefa en 2018. Suivi par la ville de Nantes (2éme dans le classement des Ventes). Nice, 3éme dans le classement des ventes, reste dans le top 10 des villes avec le plus de Vefa."
   ]
  },
  {
   "cell_type": "code",
   "execution_count": 163,
   "metadata": {},
   "outputs": [
    {
     "data": {
      "text/plain": [
       "<matplotlib.axes._subplots.AxesSubplot at 0x1a41a644d0>"
      ]
     },
     "execution_count": 163,
     "metadata": {},
     "output_type": "execute_result"
    },
    {
     "data": {
      "image/png": "[encoded data removed]",
      "text/plain": [
       "<Figure size 432x288 with 1 Axes>"
      ]
     },
     "metadata": {
      "needs_background": "light"
     },
     "output_type": "display_data"
    }
   ],
   "source": [
    "se_vefa_commune.plot.box()"
   ]
  },
  {
   "cell_type": "markdown",
   "metadata": {},
   "source": [
    "##### Etude des ventes de terrain à bâtir"
   ]
  },
  {
   "cell_type": "code",
   "execution_count": 166,
   "metadata": {},
   "outputs": [
    {
     "data": {
      "text/html": [
       "<div>\n",
       "<style scoped>\n",
       "    .dataframe tbody tr th:only-of-type {\n",
       "        vertical-align: middle;\n",
       "    }\n",
       "\n",
       "    .dataframe tbody tr th {\n",
       "        vertical-align: top;\n",
       "    }\n",
       "\n",
       "    .dataframe thead th {\n",
       "        text-align: right;\n",
       "    }\n",
       "</style>\n",
       "<table border=\"1\" class=\"dataframe\">\n",
       "  <thead>\n",
       "    <tr style=\"text-align: right;\">\n",
       "      <th></th>\n",
       "      <th>no_disposition</th>\n",
       "      <th>date_mutation</th>\n",
       "      <th>nature_mutation</th>\n",
       "      <th>valeur_fonciere</th>\n",
       "      <th>no_voie</th>\n",
       "      <th>b/t/q</th>\n",
       "      <th>type_de_voie</th>\n",
       "      <th>code_voie</th>\n",
       "      <th>voie</th>\n",
       "      <th>code_postal</th>\n",
       "      <th>commune</th>\n",
       "      <th>code_departement</th>\n",
       "      <th>code_commune</th>\n",
       "      <th>prefixe_de_section</th>\n",
       "      <th>section</th>\n",
       "      <th>no_plan</th>\n",
       "      <th>no_volume</th>\n",
       "      <th>1er_lot</th>\n",
       "      <th>surface_carrez_du_1er_lot</th>\n",
       "      <th>2eme_lot</th>\n",
       "      <th>surface_carrez_du_2eme_lot</th>\n",
       "      <th>3eme_lot</th>\n",
       "      <th>surface_carrez_du_3eme_lot</th>\n",
       "      <th>4eme_lot</th>\n",
       "      <th>surface_carrez_du_4eme_lot</th>\n",
       "      <th>5eme_lot</th>\n",
       "      <th>surface_carrez_du_5eme_lot</th>\n",
       "      <th>nombre_de_lots</th>\n",
       "      <th>code_type_local</th>\n",
       "      <th>type_local</th>\n",
       "      <th>surface_reelle_bati</th>\n",
       "      <th>nombre_pieces_principales</th>\n",
       "      <th>nature_culture</th>\n",
       "      <th>nature_culture_speciale</th>\n",
       "      <th>surface_terrain</th>\n",
       "      <th>month</th>\n",
       "      <th>sign_month</th>\n",
       "      <th>dayofweek</th>\n",
       "    </tr>\n",
       "  </thead>\n",
       "  <tbody>\n",
       "    <tr>\n",
       "      <th>326512</th>\n",
       "      <td>1</td>\n",
       "      <td>2018-04-18</td>\n",
       "      <td>Vente terrain à bâtir</td>\n",
       "      <td>32760000.0</td>\n",
       "      <td>9259.0</td>\n",
       "      <td>NaN</td>\n",
       "      <td>LOT</td>\n",
       "      <td>A564</td>\n",
       "      <td>LA FEUILLANE</td>\n",
       "      <td>13270.0</td>\n",
       "      <td>FOS-SUR-MER</td>\n",
       "      <td>13</td>\n",
       "      <td>39</td>\n",
       "      <td>NaN</td>\n",
       "      <td>AH</td>\n",
       "      <td>259</td>\n",
       "      <td>NaN</td>\n",
       "      <td>NaN</td>\n",
       "      <td>NaN</td>\n",
       "      <td>NaN</td>\n",
       "      <td>NaN</td>\n",
       "      <td>NaN</td>\n",
       "      <td>NaN</td>\n",
       "      <td>NaN</td>\n",
       "      <td>NaN</td>\n",
       "      <td>NaN</td>\n",
       "      <td>NaN</td>\n",
       "      <td>0</td>\n",
       "      <td>4.0</td>\n",
       "      <td>Local industriel. commercial ou assimilé</td>\n",
       "      <td>42753.0</td>\n",
       "      <td>0.0</td>\n",
       "      <td>S</td>\n",
       "      <td>NaN</td>\n",
       "      <td>110057.0</td>\n",
       "      <td>4</td>\n",
       "      <td>1</td>\n",
       "      <td>2</td>\n",
       "    </tr>\n",
       "    <tr>\n",
       "      <th>1148782</th>\n",
       "      <td>1</td>\n",
       "      <td>2018-12-21</td>\n",
       "      <td>Vente terrain à bâtir</td>\n",
       "      <td>22070696.0</td>\n",
       "      <td>12.0</td>\n",
       "      <td>NaN</td>\n",
       "      <td>RUE</td>\n",
       "      <td>3610</td>\n",
       "      <td>NATIONALE</td>\n",
       "      <td>37000.0</td>\n",
       "      <td>TOURS</td>\n",
       "      <td>37</td>\n",
       "      <td>261</td>\n",
       "      <td>NaN</td>\n",
       "      <td>DY</td>\n",
       "      <td>222</td>\n",
       "      <td>8</td>\n",
       "      <td>NaN</td>\n",
       "      <td>NaN</td>\n",
       "      <td>NaN</td>\n",
       "      <td>NaN</td>\n",
       "      <td>NaN</td>\n",
       "      <td>NaN</td>\n",
       "      <td>NaN</td>\n",
       "      <td>NaN</td>\n",
       "      <td>NaN</td>\n",
       "      <td>NaN</td>\n",
       "      <td>0</td>\n",
       "      <td>NaN</td>\n",
       "      <td>NaN</td>\n",
       "      <td>NaN</td>\n",
       "      <td>NaN</td>\n",
       "      <td>NaN</td>\n",
       "      <td>NaN</td>\n",
       "      <td>NaN</td>\n",
       "      <td>12</td>\n",
       "      <td>9</td>\n",
       "      <td>4</td>\n",
       "    </tr>\n",
       "    <tr>\n",
       "      <th>1148783</th>\n",
       "      <td>1</td>\n",
       "      <td>2018-12-21</td>\n",
       "      <td>Vente terrain à bâtir</td>\n",
       "      <td>22070696.0</td>\n",
       "      <td>NaN</td>\n",
       "      <td>NaN</td>\n",
       "      <td>PL</td>\n",
       "      <td>0210</td>\n",
       "      <td>ANATOLE FRANCE</td>\n",
       "      <td>37000.0</td>\n",
       "      <td>TOURS</td>\n",
       "      <td>37</td>\n",
       "      <td>261</td>\n",
       "      <td>NaN</td>\n",
       "      <td>DZ</td>\n",
       "      <td>18</td>\n",
       "      <td>6</td>\n",
       "      <td>NaN</td>\n",
       "      <td>NaN</td>\n",
       "      <td>NaN</td>\n",
       "      <td>NaN</td>\n",
       "      <td>NaN</td>\n",
       "      <td>NaN</td>\n",
       "      <td>NaN</td>\n",
       "      <td>NaN</td>\n",
       "      <td>NaN</td>\n",
       "      <td>NaN</td>\n",
       "      <td>0</td>\n",
       "      <td>NaN</td>\n",
       "      <td>NaN</td>\n",
       "      <td>NaN</td>\n",
       "      <td>NaN</td>\n",
       "      <td>NaN</td>\n",
       "      <td>NaN</td>\n",
       "      <td>NaN</td>\n",
       "      <td>12</td>\n",
       "      <td>9</td>\n",
       "      <td>4</td>\n",
       "    </tr>\n",
       "  </tbody>\n",
       "</table>\n",
       "</div>"
      ],
      "text/plain": [
       "         no_disposition date_mutation        nature_mutation  valeur_fonciere  no_voie b/t/q type_de_voie code_voie            voie  code_postal      commune code_departement  code_commune  prefixe_de_section section  no_plan no_volume 1er_lot  surface_carrez_du_1er_lot 2eme_lot  surface_carrez_du_2eme_lot 3eme_lot  surface_carrez_du_3eme_lot  4eme_lot  surface_carrez_du_4eme_lot 5eme_lot  surface_carrez_du_5eme_lot  nombre_de_lots  code_type_local                                type_local  surface_reelle_bati  nombre_pieces_principales nature_culture nature_culture_speciale  surface_terrain  month  sign_month  dayofweek\n",
       "326512                1    2018-04-18  Vente terrain à bâtir       32760000.0   9259.0   NaN          LOT      A564    LA FEUILLANE      13270.0  FOS-SUR-MER               13            39                 NaN      AH      259       NaN     NaN                        NaN      NaN                         NaN      NaN                         NaN       NaN                         NaN      NaN                         NaN               0              4.0  Local industriel. commercial ou assimilé              42753.0                        0.0              S                     NaN         110057.0      4           1          2\n",
       "1148782               1    2018-12-21  Vente terrain à bâtir       22070696.0     12.0   NaN          RUE      3610       NATIONALE      37000.0        TOURS               37           261                 NaN      DY      222         8     NaN                        NaN      NaN                         NaN      NaN                         NaN       NaN                         NaN      NaN                         NaN               0              NaN                                       NaN                  NaN                        NaN            NaN                     NaN              NaN     12           9          4\n",
       "1148783               1    2018-12-21  Vente terrain à bâtir       22070696.0      NaN   NaN           PL      0210  ANATOLE FRANCE      37000.0        TOURS               37           261                 NaN      DZ       18         6     NaN                        NaN      NaN                         NaN      NaN                         NaN       NaN                         NaN      NaN                         NaN               0              NaN                                       NaN                  NaN                        NaN            NaN                     NaN              NaN     12           9          4"
      ]
     },
     "execution_count": 166,
     "metadata": {},
     "output_type": "execute_result"
    }
   ],
   "source": [
    "df_vtb = df[df['nature_mutation']=='Vente terrain à bâtir'].sort_values(by='valeur_fonciere', ascending=False)\n",
    "df_vtb.head(3)"
   ]
  },
  {
   "cell_type": "markdown",
   "metadata": {},
   "source": [
    "La vente de terrain la plus chère a été réalisé à la Fos-Sur-Mer pour un montant de 32.760.000€ pour une surface de terrain à bâtir de 42.753 m2"
   ]
  },
  {
   "cell_type": "code",
   "execution_count": 170,
   "metadata": {},
   "outputs": [
    {
     "data": {
      "text/plain": [
       "Text(0.5, 1.0, 'Nombre de vtb par ville')"
      ]
     },
     "execution_count": 170,
     "metadata": {},
     "output_type": "execute_result"
    },
    {
     "data": {
      "image/png": "[encoded data removed]",
      "text/plain": [
       "<Figure size 432x288 with 1 Axes>"
      ]
     },
     "metadata": {
      "needs_background": "light"
     },
     "output_type": "display_data"
    }
   ],
   "source": [
    "se_vtb_commune = df_vtb.commune.value_counts()\n",
    "ax = se_vtb_commune.head(10).plot.bar(x='Commune', rot=75)\n",
    "ax.set_title('Nombre de vtb par ville')"
   ]
  },
  {
   "cell_type": "markdown",
   "metadata": {},
   "source": [
    "La ville des Castelnau-le-lez enregistre le plus grand nombre de vente de terrain à bâtir."
   ]
  },
  {
   "cell_type": "code",
   "execution_count": null,
   "metadata": {},
   "outputs": [],
   "source": []
  },
  {
   "cell_type": "code",
   "execution_count": null,
   "metadata": {},
   "outputs": [],
   "source": []
  },
  {
   "cell_type": "code",
   "execution_count": null,
   "metadata": {},
   "outputs": [],
   "source": []
  },
  {
   "cell_type": "code",
   "execution_count": null,
   "metadata": {},
   "outputs": [],
   "source": []
  },
  {
   "cell_type": "code",
   "execution_count": null,
   "metadata": {},
   "outputs": [],
   "source": []
  },
  {
   "cell_type": "code",
   "execution_count": null,
   "metadata": {},
   "outputs": [],
   "source": []
  },
  {
   "cell_type": "code",
   "execution_count": null,
   "metadata": {},
   "outputs": [],
   "source": []
  },
  {
   "cell_type": "code",
   "execution_count": null,
   "metadata": {},
   "outputs": [],
   "source": []
  },
  {
   "cell_type": "code",
   "execution_count": null,
   "metadata": {},
   "outputs": [],
   "source": []
  },
  {
   "cell_type": "code",
   "execution_count": null,
   "metadata": {},
   "outputs": [],
   "source": []
  },
  {
   "cell_type": "code",
   "execution_count": null,
   "metadata": {},
   "outputs": [],
   "source": []
  },
  {
   "cell_type": "code",
   "execution_count": null,
   "metadata": {},
   "outputs": [],
   "source": []
  },
  {
   "cell_type": "code",
   "execution_count": null,
   "metadata": {},
   "outputs": [],
   "source": [
    "df.select_dtypes(exclude=['object']).describe()"
   ]
  },
  {
   "cell_type": "code",
   "execution_count": null,
   "metadata": {},
   "outputs": [],
   "source": [
    "# Suppression des lignes où il n'y a pas de 'valeurs foncières'\n",
    "indexNames = df[df.valeur_fonciere.isnull()].index\n",
    "df.drop(indexNames, inplace=True)"
   ]
  },
  {
   "cell_type": "markdown",
   "metadata": {},
   "source": [
    "### Supprime les données aberrantes"
   ]
  },
  {
   "cell_type": "code",
   "execution_count": null,
   "metadata": {},
   "outputs": [],
   "source": [
    "def outliers(df, min_qtl, max_qtl):\n",
    "    q_inf = df.valeur_fonciere.quantile(min_qtl)\n",
    "    q_sup = df.valeur_fonciere.quantile(max_qtl)\n",
    "    df_no_out = df[(df.valeur_fonciere>q_inf) &\n",
    "                  (df.valeur_fonciere<q_sup)\n",
    "                  ]\n",
    "    return df_no_out"
   ]
  },
  {
   "cell_type": "markdown",
   "metadata": {},
   "source": [
    "##### Découpe les données entre 'Appartement' et 'Maison'"
   ]
  },
  {
   "cell_type": "code",
   "execution_count": null,
   "metadata": {},
   "outputs": [],
   "source": [
    "# Maison\n",
    "maison_df = df[df.code_type_local==1]\n",
    "print('Nb de maison: {}'.format(len(maison_df)))\n",
    "# Appartement\n",
    "appart_df = df[df.code_type_local==2]\n",
    "print('Nb d\\'appartement: {}'.format(len(appart_df)))"
   ]
  },
  {
   "cell_type": "markdown",
   "metadata": {},
   "source": [
    "####  Recherche de données aberrantes"
   ]
  },
  {
   "cell_type": "code",
   "execution_count": null,
   "metadata": {
    "scrolled": false
   },
   "outputs": [],
   "source": [
    "# Suppression des valeurs foncières avec un quantile inférieur à 5% et supérieur à 95%\n",
    "appart_no_out = outliers(appart_df,.05,.95)\n",
    "print('Appartement:\\n{}'.format(appart_no_out.valeur_fonciere.describe().apply(lambda x: format(x, 'f'))))\n",
    "\n",
    "maison_no_out = outliers(maison_df,.05,.95)\n",
    "print('\\nMaison:\\n{}'.format(maison_no_out.valeur_fonciere.describe().apply(lambda x: format(x, 'f'))))"
   ]
  },
  {
   "cell_type": "markdown",
   "metadata": {},
   "source": [
    "On a gardé les quantiles entre 5% et 95% pour éviter les données aberrantes (ex.: un appartement à 1 Milliard)"
   ]
  },
  {
   "cell_type": "code",
   "execution_count": null,
   "metadata": {},
   "outputs": [],
   "source": [
    "plt.figure(figsize=(10,10))\n",
    "plt.boxplot([appart_no_out.valeur_fonciere, maison_no_out.valeur_fonciere])\n",
    "plt.ylabel('Valeurs foncières')\n",
    "plt.xticks([1,2],['Appartement','Maison'])\n",
    "plt.show();"
   ]
  },
  {
   "cell_type": "markdown",
   "metadata": {},
   "source": [
    "#### Calcul du prix au m2"
   ]
  },
  {
   "cell_type": "markdown",
   "metadata": {},
   "source": [
    "Pour continuer la recherche de données aberrantes sur le prix et la surface, on créé un nouvel attribut du prix au mètre carré."
   ]
  },
  {
   "cell_type": "code",
   "execution_count": null,
   "metadata": {},
   "outputs": [],
   "source": [
    "appart_no_out['total_m2'] = np.maximum((appart_no_out.surface_carrez_du_1er_lot.fillna(0) + \\\n",
    "    appart_no_out.surface_carrez_du_2eme_lot.fillna(0) + \\\n",
    "    appart_no_out.surface_carrez_du_3eme_lot.fillna(0) + \\\n",
    "    appart_no_out.surface_carrez_du_4eme_lot.fillna(0) + \\\n",
    "    appart_no_out.surface_carrez_du_5eme_lot.fillna(0)),appart_no_out.surface_reelle_bati)\n",
    "\n",
    "appart_no_out = appart_no_out[appart_no_out.total_m2>0]\n",
    "appart_no_out['prix_m2'] = round(appart_no_out.valeur_fonciere/appart_no_out.total_m2,2)"
   ]
  },
  {
   "cell_type": "code",
   "execution_count": null,
   "metadata": {
    "scrolled": true
   },
   "outputs": [],
   "source": [
    "appart_no_out.prix_m2.describe().apply(lambda x: format(x, 'f'))"
   ]
  },
  {
   "cell_type": "markdown",
   "metadata": {},
   "source": [
    "On voit qu'il y a un appartement avec un prix à 690.000€ le m2 qui est de toute évidence une donnée aberrante.\n",
    "Donc on garde les quantiles entre 5% et 95%"
   ]
  },
  {
   "cell_type": "code",
   "execution_count": null,
   "metadata": {
    "scrolled": true
   },
   "outputs": [],
   "source": [
    "q_inf = appart_no_out.prix_m2.quantile(.05)\n",
    "q_sup = appart_no_out.prix_m2.quantile(.95)\n",
    "appart_no_out = appart_no_out[(appart_no_out.prix_m2>q_inf) & (appart_no_out.prix_m2<q_sup) ]\n",
    "print('Appartement:\\n{}'.format(appart_no_out.prix_m2.describe().apply(lambda x: format(x, 'f'))))"
   ]
  },
  {
   "cell_type": "markdown",
   "metadata": {},
   "source": [
    "Maintenant le prix au m2 maximum est de 10759€. Le minimum est de 1041€. Nous n'avons pas gardé des valeurs plus extrêmes car nous avons peu de biens pour en déduire un prix."
   ]
  },
  {
   "cell_type": "code",
   "execution_count": null,
   "metadata": {},
   "outputs": [],
   "source": [
    "plt.figure(figsize=(10,10))\n",
    "plt.boxplot(appart_no_out.prix_m2)\n",
    "plt.ylabel('Prix m2')\n",
    "plt.show();"
   ]
  },
  {
   "cell_type": "markdown",
   "metadata": {},
   "source": [
    "#### Nombre de pièces principales"
   ]
  },
  {
   "cell_type": "markdown",
   "metadata": {},
   "source": [
    "Suppression des biens avec des nombres de pièces hors-norme (ex:63)"
   ]
  },
  {
   "cell_type": "code",
   "execution_count": null,
   "metadata": {},
   "outputs": [],
   "source": [
    "#q_inf = appart_no_out.nombre_pieces_principales.quantile(.05)\n",
    "q_sup = appart_no_out.nombre_pieces_principales.quantile(.999)\n",
    "appart_no_out = appart_no_out[appart_no_out.nombre_pieces_principales<q_sup]\n",
    "print('Appartement:\\n{}'.format(appart_no_out.nombre_pieces_principales.describe().apply(lambda x: format(x, 'f'))))"
   ]
  },
  {
   "cell_type": "code",
   "execution_count": null,
   "metadata": {},
   "outputs": [],
   "source": [
    "plt.figure(figsize=(10,10))\n",
    "plt.boxplot(appart_no_out.nombre_pieces_principales)\n",
    "plt.ylabel('Nombre de pièces principales')\n",
    "plt.show();"
   ]
  },
  {
   "cell_type": "code",
   "execution_count": 59,
   "metadata": {},
   "outputs": [
    {
     "data": {
      "text/plain": [
       "<seaborn.axisgrid.FacetGrid at 0x1a62f08050>"
      ]
     },
     "execution_count": 59,
     "metadata": {},
     "output_type": "execute_result"
    },
    {
     "data": {
      "image/png": "[encoded data removed]",
      "text/plain": [
       "<Figure size 360x360 with 1 Axes>"
      ]
     },
     "metadata": {
      "needs_background": "light"
     },
     "output_type": "display_data"
    }
   ],
   "source": [
    "ax = sns.catplot(x=\"nature_mutation\", y=\"no_disposition\", data=df);\n",
    "ax.set_xticklabels(rotation=90)"
   ]
  },
  {
   "cell_type": "code",
   "execution_count": null,
   "metadata": {},
   "outputs": [],
   "source": []
  }
 ],
 "metadata": {
  "kernelspec": {
   "display_name": "Python 3",
   "language": "python",
   "name": "python3"
  },
  "language_info": {
   "codemirror_mode": {
    "name": "ipython",
    "version": 3
   },
   "file_extension": ".py",
   "mimetype": "text/x-python",
   "name": "python",
   "nbconvert_exporter": "python",
   "pygments_lexer": "ipython3",
   "version": "3.7.5"
  }
 },
 "nbformat": 4,
 "nbformat_minor": 2
}
