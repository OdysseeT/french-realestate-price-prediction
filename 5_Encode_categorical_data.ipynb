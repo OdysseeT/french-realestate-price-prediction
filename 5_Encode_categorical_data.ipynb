{
 "cells": [
  {
   "cell_type": "code",
   "execution_count": 1,
   "metadata": {
    "ExecuteTime": {
     "end_time": "2020-04-16T12:23:19.738568Z",
     "start_time": "2020-04-16T12:23:17.781126Z"
    }
   },
   "outputs": [],
   "source": [
    "import numpy as np\n",
    "import pandas as pd\n",
    "import glob\n",
    "from datetime import datetime\n",
    "import xgboost as xgb\n",
    "import lightgbm as lgb\n",
    "pd.options.display.max_columns = None\n",
    "\n",
    "from sklearn.model_selection import train_test_split"
   ]
  },
  {
   "cell_type": "code",
   "execution_count": 2,
   "metadata": {
    "ExecuteTime": {
     "end_time": "2020-04-16T12:23:20.678438Z",
     "start_time": "2020-04-16T12:23:19.768797Z"
    }
   },
   "outputs": [],
   "source": [
    "df = pd.read_csv('data/biens_2015-19.csv')\n"
   ]
  },
  {
   "cell_type": "code",
   "execution_count": 3,
   "metadata": {
    "ExecuteTime": {
     "end_time": "2020-04-16T12:23:20.897354Z",
     "start_time": "2020-04-16T12:23:20.718739Z"
    }
   },
   "outputs": [
    {
     "name": "stdout",
     "output_type": "stream",
     "text": [
      "<class 'pandas.core.frame.DataFrame'>\n",
      "RangeIndex: 765694 entries, 0 to 765693\n",
      "Data columns (total 10 columns):\n",
      "valeur_fonciere              765694 non-null float64\n",
      "code_postal                  765694 non-null float64\n",
      "commune                      765694 non-null object\n",
      "code_departement             765694 non-null int64\n",
      "type_local                   765694 non-null object\n",
      "surface_reelle_bati          765694 non-null float64\n",
      "nombre_pieces_principales    765694 non-null int64\n",
      "surface_terrain              765694 non-null float64\n",
      "year                         765694 non-null int64\n",
      "month                        765694 non-null int64\n",
      "dtypes: float64(4), int64(4), object(2)\n",
      "memory usage: 58.4+ MB\n"
     ]
    }
   ],
   "source": [
    "df.info()"
   ]
  },
  {
   "cell_type": "markdown",
   "metadata": {},
   "source": [
    "## Encode categorical data"
   ]
  },
  {
   "cell_type": "code",
   "execution_count": 4,
   "metadata": {
    "ExecuteTime": {
     "end_time": "2020-04-16T12:23:22.265531Z",
     "start_time": "2020-04-16T12:23:22.262831Z"
    }
   },
   "outputs": [],
   "source": [
    "categories = ['code_departement', 'code_postal', 'type_local'] #, 'month', 'year'"
   ]
  },
  {
   "cell_type": "code",
   "execution_count": 5,
   "metadata": {
    "ExecuteTime": {
     "end_time": "2020-04-16T12:23:22.690578Z",
     "start_time": "2020-04-16T12:23:22.631958Z"
    }
   },
   "outputs": [
    {
     "name": "stdout",
     "output_type": "stream",
     "text": [
      "code_departement (97):\n",
      "[  1   2   3   4   5   6   7   8   9  10  11  12  13  14  15  16  17  18\n",
      "  19  21  22  23  24  25  26  27  28  29 120 121  30  31  32  33  34  35\n",
      "  36  37  38  39  40  41  42  43  44  45  46  47  48  49  50  51  52  53\n",
      "  54  55  56  58  59  60  61  62  63  64  65  66  69  70  71  72  73  74\n",
      "  76  77  78  79  80  81  82  83  84  85  86  87  88  89  90  91  92  93\n",
      "  94  95 971 972 973 974  75]\n",
      "\n",
      "code_postal (5832):\n",
      "[ 1160.  1960.  1290. ... 42111. 77157. 97116.]\n",
      "\n",
      "type_local (2):\n",
      "['Maison' 'Appartement']\n",
      "\n"
     ]
    }
   ],
   "source": [
    "for cat in categories:\n",
    "    cat_val = df[cat].unique()\n",
    "    print('{} ({}):'.format(cat,len(cat_val)))\n",
    "    print('{}\\n'.format(cat_val))"
   ]
  },
  {
   "cell_type": "code",
   "execution_count": 6,
   "metadata": {
    "ExecuteTime": {
     "end_time": "2020-04-16T12:24:53.782138Z",
     "start_time": "2020-04-16T12:23:24.704948Z"
    }
   },
   "outputs": [],
   "source": [
    "df.drop('commune', axis=1, inplace=True)\n",
    "df = pd.get_dummies(df, columns=categories)"
   ]
  },
  {
   "cell_type": "code",
   "execution_count": 7,
   "metadata": {
    "ExecuteTime": {
     "end_time": "2020-04-16T12:25:11.107697Z",
     "start_time": "2020-04-16T12:24:59.884132Z"
    }
   },
   "outputs": [
    {
     "name": "stdout",
     "output_type": "stream",
     "text": [
      "<class 'pandas.core.frame.DataFrame'>\n",
      "RangeIndex: 765694 entries, 0 to 765693\n",
      "Columns: 5937 entries, valeur_fonciere to type_local_Maison\n",
      "dtypes: float64(3), int64(3), uint8(5931)\n",
      "memory usage: 4.3 GB\n"
     ]
    }
   ],
   "source": [
    "df.info()"
   ]
  },
  {
   "cell_type": "code",
   "execution_count": 8,
   "metadata": {
    "ExecuteTime": {
     "end_time": "2020-04-16T12:25:17.539064Z",
     "start_time": "2020-04-16T12:25:17.535957Z"
    }
   },
   "outputs": [],
   "source": [
    "#df.to_csv(r'data/ml_data.csv', index = None, header=True)"
   ]
  },
  {
   "cell_type": "code",
   "execution_count": 9,
   "metadata": {
    "ExecuteTime": {
     "end_time": "2020-04-16T12:31:22.956851Z",
     "start_time": "2020-04-16T12:25:23.178237Z"
    }
   },
   "outputs": [],
   "source": [
    "y = df['valeur_fonciere']\n",
    "X = df.drop(['valeur_fonciere'],axis=1)\n",
    "\n",
    "X_train, X_test, y_train, y_test = train_test_split(X.values, y.values, test_size=0.33, random_state=42, shuffle=True)\n"
   ]
  },
  {
   "cell_type": "markdown",
   "metadata": {},
   "source": [
    "## XGBoost"
   ]
  },
  {
   "cell_type": "code",
   "execution_count": null,
   "metadata": {
    "ExecuteTime": {
     "start_time": "2020-04-16T10:59:11.776Z"
    }
   },
   "outputs": [],
   "source": [
    "model = xgb.XGBRegressor()\n",
    "model.fit(X_train,y_train, eval_metric='rmse', verbose = True, eval_set = [(X_test, y_test)])"
   ]
  },
  {
   "cell_type": "code",
   "execution_count": 51,
   "metadata": {
    "ExecuteTime": {
     "end_time": "2020-04-16T12:59:42.305062Z",
     "start_time": "2020-04-16T12:59:42.301651Z"
    }
   },
   "outputs": [
    {
     "data": {
      "text/plain": [
       "array([355050., 128400.,  99350., ..., 336000., 180305.,  94200.])"
      ]
     },
     "execution_count": 51,
     "metadata": {},
     "output_type": "execute_result"
    }
   ],
   "source": [
    "y_train"
   ]
  },
  {
   "cell_type": "code",
   "execution_count": null,
   "metadata": {
    "ExecuteTime": {
     "start_time": "2020-04-16T10:59:11.780Z"
    }
   },
   "outputs": [],
   "source": [
    "preds = xlf.predict(X_test)\n",
    "\n",
    "print('\\nMean Square error\" ', mean_squared_error(y_test,preds))"
   ]
  },
  {
   "cell_type": "markdown",
   "metadata": {},
   "source": [
    "## LightGBM"
   ]
  },
  {
   "cell_type": "code",
   "execution_count": 28,
   "metadata": {
    "ExecuteTime": {
     "end_time": "2020-04-16T12:48:33.251088Z",
     "start_time": "2020-04-16T12:48:33.207793Z"
    }
   },
   "outputs": [],
   "source": [
    "median_price = np.median(df['valeur_fonciere'].values)"
   ]
  },
  {
   "cell_type": "code",
   "execution_count": 75,
   "metadata": {
    "ExecuteTime": {
     "end_time": "2020-04-16T13:27:50.072449Z",
     "start_time": "2020-04-16T13:27:50.061902Z"
    }
   },
   "outputs": [],
   "source": [
    "params = {\n",
    "    'boosting': 'dart',\n",
    "#    'objective': 'regression',\n",
    "    'metric': 'l2',\n",
    "    #'max_depth': 12, \n",
    "    'learning_rate': 0.1,\n",
    "    'num_iterations': 1000,\n",
    "#    'verbose': 0,\n",
    "    #'eval_metric'='l2',\n",
    "#    'early_stopping_round': 20,\n",
    "    'num_leaves':80,\n",
    "    'max_depth':7,\n",
    "    #'min_data_in_leaf':\n",
    "}\n",
    "n_estimators = 5000\n"
   ]
  },
  {
   "cell_type": "code",
   "execution_count": 71,
   "metadata": {
    "ExecuteTime": {
     "end_time": "2020-04-16T13:11:49.840676Z",
     "start_time": "2020-04-16T13:11:49.809690Z"
    }
   },
   "outputs": [],
   "source": [
    "d_train = lgb.Dataset(X_train, label=y_train)\n",
    "d_test = lgb.Dataset(X_test, label=y_test)\n",
    "watchlist = [d_test]"
   ]
  },
  {
   "cell_type": "code",
   "execution_count": 76,
   "metadata": {
    "ExecuteTime": {
     "end_time": "2020-04-16T13:33:02.968746Z",
     "start_time": "2020-04-16T13:28:01.072136Z"
    },
    "scrolled": true
   },
   "outputs": [
    {
     "name": "stderr",
     "output_type": "stream",
     "text": [
      "/Users/odyssee/opt/anaconda3/envs/tensorflow/lib/python3.7/site-packages/lightgbm/engine.py:148: UserWarning: Found `num_iterations` in params. Will use it instead of argument\n",
      "  warnings.warn(\"Found `{}` in params. Will use it instead of argument\".format(alias))\n"
     ]
    },
    {
     "name": "stdout",
     "output_type": "stream",
     "text": [
      "[50]\tvalid_0's l2: 2.14997e+10\n",
      "[100]\tvalid_0's l2: 2.0723e+10\n",
      "[150]\tvalid_0's l2: 1.9877e+10\n",
      "[200]\tvalid_0's l2: 1.85158e+10\n",
      "[250]\tvalid_0's l2: 1.78384e+10\n",
      "[300]\tvalid_0's l2: 1.7281e+10\n",
      "[350]\tvalid_0's l2: 1.69813e+10\n",
      "[400]\tvalid_0's l2: 1.64769e+10\n",
      "[450]\tvalid_0's l2: 1.6087e+10\n",
      "[500]\tvalid_0's l2: 1.58433e+10\n",
      "[550]\tvalid_0's l2: 1.5684e+10\n",
      "[600]\tvalid_0's l2: 1.57053e+10\n",
      "[650]\tvalid_0's l2: 1.54749e+10\n",
      "[700]\tvalid_0's l2: 1.53587e+10\n",
      "[750]\tvalid_0's l2: 1.52438e+10\n",
      "[800]\tvalid_0's l2: 1.52031e+10\n",
      "[850]\tvalid_0's l2: 1.50287e+10\n",
      "[900]\tvalid_0's l2: 1.49435e+10\n",
      "[950]\tvalid_0's l2: 1.4905e+10\n",
      "[1000]\tvalid_0's l2: 1.48276e+10\n"
     ]
    }
   ],
   "source": [
    "model = lgb.train(params, d_train, n_estimators, watchlist, verbose_eval=50)"
   ]
  },
  {
   "cell_type": "code",
   "execution_count": 77,
   "metadata": {
    "ExecuteTime": {
     "end_time": "2020-04-16T13:35:34.554614Z",
     "start_time": "2020-04-16T13:35:23.908575Z"
    }
   },
   "outputs": [],
   "source": [
    "preds = model.predict(X_test)\n",
    "#preds = np.exp(preds)"
   ]
  },
  {
   "cell_type": "code",
   "execution_count": 78,
   "metadata": {
    "ExecuteTime": {
     "end_time": "2020-04-16T13:35:46.254422Z",
     "start_time": "2020-04-16T13:35:46.243180Z"
    }
   },
   "outputs": [
    {
     "data": {
      "text/plain": [
       "14827596918.597847"
      ]
     },
     "execution_count": 78,
     "metadata": {},
     "output_type": "execute_result"
    }
   ],
   "source": [
    "from sklearn.metrics import mean_squared_error\n",
    "mean_squared_error(y_test, preds)"
   ]
  },
  {
   "cell_type": "code",
   "execution_count": 65,
   "metadata": {
    "ExecuteTime": {
     "end_time": "2020-04-16T13:06:31.331348Z",
     "start_time": "2020-04-16T13:06:31.327943Z"
    }
   },
   "outputs": [],
   "source": [
    "def rmsle(y_true, y_pred):\n",
    "    assert len(y_true) == len(y_pred)\n",
    "    return np.sqrt(np.mean(np.power(np.log1p(y_true + 1) - np.log1p(y_pred + 1), 2)))"
   ]
  },
  {
   "cell_type": "code",
   "execution_count": 46,
   "metadata": {
    "ExecuteTime": {
     "end_time": "2020-04-16T12:58:38.877616Z",
     "start_time": "2020-04-16T12:58:38.860930Z"
    }
   },
   "outputs": [
    {
     "name": "stdout",
     "output_type": "stream",
     "text": [
      "RMSLE = nan\n"
     ]
    },
    {
     "name": "stderr",
     "output_type": "stream",
     "text": [
      "/Users/odyssee/opt/anaconda3/envs/tensorflow/lib/python3.7/site-packages/ipykernel_launcher.py:2: RuntimeWarning: overflow encountered in exp\n",
      "  \n",
      "/Users/odyssee/opt/anaconda3/envs/tensorflow/lib/python3.7/site-packages/ipykernel_launcher.py:3: RuntimeWarning: invalid value encountered in subtract\n",
      "  This is separate from the ipykernel package so we can avoid doing imports until\n"
     ]
    }
   ],
   "source": [
    "preds[preds < 0] = median_price\n",
    "err = rmsle(np.exp(y_test), preds)\n",
    "#err_buf.append(err)\n",
    "print('RMSLE = ' + str(err))"
   ]
  },
  {
   "cell_type": "code",
   "execution_count": null,
   "metadata": {},
   "outputs": [],
   "source": []
  }
 ],
 "metadata": {
  "kernelspec": {
   "display_name": "Python 3",
   "language": "python",
   "name": "python3"
  },
  "language_info": {
   "codemirror_mode": {
    "name": "ipython",
    "version": 3
   },
   "file_extension": ".py",
   "mimetype": "text/x-python",
   "name": "python",
   "nbconvert_exporter": "python",
   "pygments_lexer": "ipython3",
   "version": "3.7.6"
  },
  "toc": {
   "base_numbering": 1,
   "nav_menu": {},
   "number_sections": true,
   "sideBar": true,
   "skip_h1_title": false,
   "title_cell": "Table of Contents",
   "title_sidebar": "Contents",
   "toc_cell": false,
   "toc_position": {},
   "toc_section_display": true,
   "toc_window_display": false
  },
  "varInspector": {
   "cols": {
    "lenName": 16,
    "lenType": 16,
    "lenVar": 40
   },
   "kernels_config": {
    "python": {
     "delete_cmd_postfix": "",
     "delete_cmd_prefix": "del ",
     "library": "var_list.py",
     "varRefreshCmd": "print(var_dic_list())"
    },
    "r": {
     "delete_cmd_postfix": ") ",
     "delete_cmd_prefix": "rm(",
     "library": "var_list.r",
     "varRefreshCmd": "cat(var_dic_list()) "
    }
   },
   "types_to_exclude": [
    "module",
    "function",
    "builtin_function_or_method",
    "instance",
    "_Feature"
   ],
   "window_display": false
  }
 },
 "nbformat": 4,
 "nbformat_minor": 2
}
