{
 "cells": [
  {
   "cell_type": "code",
   "execution_count": 1,
   "metadata": {
    "ExecuteTime": {
     "end_time": "2020-04-16T10:59:14.192600Z",
     "start_time": "2020-04-16T10:59:11.741400Z"
    }
   },
   "outputs": [],
   "source": [
    "import numpy as np\n",
    "import pandas as pd\n",
    "import glob\n",
    "from datetime import datetime\n",
    "import xgboost as xgb\n",
    "pd.options.display.max_columns = None\n",
    "\n",
    "from sklearn.model_selection import train_test_split"
   ]
  },
  {
   "cell_type": "code",
   "execution_count": 2,
   "metadata": {
    "ExecuteTime": {
     "end_time": "2020-04-16T10:59:15.112884Z",
     "start_time": "2020-04-16T10:59:14.194992Z"
    }
   },
   "outputs": [],
   "source": [
    "df = pd.read_csv('data/biens_2015-19.csv')\n"
   ]
  },
  {
   "cell_type": "code",
   "execution_count": 3,
   "metadata": {
    "ExecuteTime": {
     "end_time": "2020-04-16T10:59:15.293275Z",
     "start_time": "2020-04-16T10:59:15.115462Z"
    }
   },
   "outputs": [
    {
     "name": "stdout",
     "output_type": "stream",
     "text": [
      "<class 'pandas.core.frame.DataFrame'>\n",
      "RangeIndex: 765694 entries, 0 to 765693\n",
      "Data columns (total 10 columns):\n",
      "valeur_fonciere              765694 non-null float64\n",
      "code_postal                  765694 non-null float64\n",
      "commune                      765694 non-null object\n",
      "code_departement             765694 non-null int64\n",
      "type_local                   765694 non-null object\n",
      "surface_reelle_bati          765694 non-null float64\n",
      "nombre_pieces_principales    765694 non-null int64\n",
      "surface_terrain              765694 non-null float64\n",
      "year                         765694 non-null int64\n",
      "month                        765694 non-null int64\n",
      "dtypes: float64(4), int64(4), object(2)\n",
      "memory usage: 58.4+ MB\n"
     ]
    }
   ],
   "source": [
    "df.info()"
   ]
  },
  {
   "cell_type": "markdown",
   "metadata": {},
   "source": [
    "## Encode categorical data"
   ]
  },
  {
   "cell_type": "code",
   "execution_count": 4,
   "metadata": {
    "ExecuteTime": {
     "end_time": "2020-04-16T10:59:15.298074Z",
     "start_time": "2020-04-16T10:59:15.295504Z"
    }
   },
   "outputs": [],
   "source": [
    "categories = ['code_departement', 'code_postal', 'type_local'] #, 'month', 'year'"
   ]
  },
  {
   "cell_type": "code",
   "execution_count": 5,
   "metadata": {
    "ExecuteTime": {
     "end_time": "2020-04-16T10:59:15.369073Z",
     "start_time": "2020-04-16T10:59:15.300070Z"
    }
   },
   "outputs": [
    {
     "name": "stdout",
     "output_type": "stream",
     "text": [
      "code_departement (97):\n",
      "[  1   2   3   4   5   6   7   8   9  10  11  12  13  14  15  16  17  18\n",
      "  19  21  22  23  24  25  26  27  28  29 120 121  30  31  32  33  34  35\n",
      "  36  37  38  39  40  41  42  43  44  45  46  47  48  49  50  51  52  53\n",
      "  54  55  56  58  59  60  61  62  63  64  65  66  69  70  71  72  73  74\n",
      "  76  77  78  79  80  81  82  83  84  85  86  87  88  89  90  91  92  93\n",
      "  94  95 971 972 973 974  75]\n",
      "\n",
      "code_postal (5832):\n",
      "[ 1160.  1960.  1290. ... 42111. 77157. 97116.]\n",
      "\n",
      "type_local (2):\n",
      "['Maison' 'Appartement']\n",
      "\n"
     ]
    }
   ],
   "source": [
    "for cat in categories:\n",
    "    cat_val = df[cat].unique()\n",
    "    print('{} ({}):'.format(cat,len(cat_val)))\n",
    "    print('{}\\n'.format(cat_val))"
   ]
  },
  {
   "cell_type": "code",
   "execution_count": 6,
   "metadata": {
    "ExecuteTime": {
     "end_time": "2020-04-16T11:00:40.220887Z",
     "start_time": "2020-04-16T10:59:15.372423Z"
    }
   },
   "outputs": [],
   "source": [
    "df.drop('commune', axis=1, inplace=True)\n",
    "df = pd.get_dummies(df, columns=categories)"
   ]
  },
  {
   "cell_type": "code",
   "execution_count": 7,
   "metadata": {
    "ExecuteTime": {
     "end_time": "2020-04-16T11:00:52.185696Z",
     "start_time": "2020-04-16T11:00:40.225750Z"
    }
   },
   "outputs": [
    {
     "name": "stdout",
     "output_type": "stream",
     "text": [
      "<class 'pandas.core.frame.DataFrame'>\n",
      "RangeIndex: 765694 entries, 0 to 765693\n",
      "Columns: 5937 entries, valeur_fonciere to type_local_Maison\n",
      "dtypes: float64(3), int64(3), uint8(5931)\n",
      "memory usage: 4.3 GB\n"
     ]
    }
   ],
   "source": [
    "df.info()"
   ]
  },
  {
   "cell_type": "code",
   "execution_count": 8,
   "metadata": {
    "ExecuteTime": {
     "end_time": "2020-04-16T11:00:52.196747Z",
     "start_time": "2020-04-16T11:00:52.192041Z"
    }
   },
   "outputs": [],
   "source": [
    "#df.to_csv(r'data/ml_data.csv', index = None, header=True)"
   ]
  },
  {
   "cell_type": "markdown",
   "metadata": {},
   "source": [
    "## XGBoost"
   ]
  },
  {
   "cell_type": "code",
   "execution_count": 9,
   "metadata": {
    "ExecuteTime": {
     "end_time": "2020-04-16T11:07:33.216721Z",
     "start_time": "2020-04-16T11:00:52.201303Z"
    }
   },
   "outputs": [],
   "source": [
    "y = df['valeur_fonciere']\n",
    "X = df.drop(['valeur_fonciere'],axis=1)\n",
    "\n",
    "X_train, X_test, y_train, y_test = train_test_split(X.values, y.values, test_size=0.33, random_state=42, shuffle=True)\n"
   ]
  },
  {
   "cell_type": "code",
   "execution_count": null,
   "metadata": {
    "ExecuteTime": {
     "start_time": "2020-04-16T10:59:11.776Z"
    }
   },
   "outputs": [],
   "source": [
    "model = xgb.XGBRegressor()\n",
    "model.fit(X_train,y_train, eval_metric='rmse', verbose = True, eval_set = [(X_test, y_test)])"
   ]
  },
  {
   "cell_type": "code",
   "execution_count": null,
   "metadata": {
    "ExecuteTime": {
     "start_time": "2020-04-16T10:59:11.780Z"
    }
   },
   "outputs": [],
   "source": [
    "preds = xlf.predict(X_test)\n",
    "\n",
    "print('\\nMean Square error\" ', mean_squared_error(y_test,preds))"
   ]
  },
  {
   "cell_type": "code",
   "execution_count": null,
   "metadata": {},
   "outputs": [],
   "source": []
  }
 ],
 "metadata": {
  "kernelspec": {
   "display_name": "Python 3",
   "language": "python",
   "name": "python3"
  },
  "language_info": {
   "codemirror_mode": {
    "name": "ipython",
    "version": 3
   },
   "file_extension": ".py",
   "mimetype": "text/x-python",
   "name": "python",
   "nbconvert_exporter": "python",
   "pygments_lexer": "ipython3",
   "version": "3.7.7"
  },
  "toc": {
   "base_numbering": 1,
   "nav_menu": {},
   "number_sections": true,
   "sideBar": true,
   "skip_h1_title": false,
   "title_cell": "Table of Contents",
   "title_sidebar": "Contents",
   "toc_cell": false,
   "toc_position": {},
   "toc_section_display": true,
   "toc_window_display": false
  },
  "varInspector": {
   "cols": {
    "lenName": 16,
    "lenType": 16,
    "lenVar": 40
   },
   "kernels_config": {
    "python": {
     "delete_cmd_postfix": "",
     "delete_cmd_prefix": "del ",
     "library": "var_list.py",
     "varRefreshCmd": "print(var_dic_list())"
    },
    "r": {
     "delete_cmd_postfix": ") ",
     "delete_cmd_prefix": "rm(",
     "library": "var_list.r",
     "varRefreshCmd": "cat(var_dic_list()) "
    }
   },
   "types_to_exclude": [
    "module",
    "function",
    "builtin_function_or_method",
    "instance",
    "_Feature"
   ],
   "window_display": false
  }
 },
 "nbformat": 4,
 "nbformat_minor": 2
}
